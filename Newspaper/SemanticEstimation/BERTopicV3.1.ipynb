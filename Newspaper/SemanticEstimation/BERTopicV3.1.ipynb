{
 "cells": [
  {
   "cell_type": "markdown",
   "id": "35db3036",
   "metadata": {},
   "source": [
    "### PostInstalls\n",
    "Do these first by navigating to [POSTINSTALLS](http://ec2-54-210-238-172.compute-1.amazonaws.com/notebooks/Notebooks/PostInstall/PostInstalls.ipynb)\n",
    "\n",
    "Then come on back! and continue with the next cell in this notebook\n",
    "##### Author: dana\n",
    "##### email: dana.e.moore@leidos.com"
   ]
  },
  {
   "cell_type": "code",
   "execution_count": 1,
   "id": "21e97afb",
   "metadata": {},
   "outputs": [
    {
     "name": "stdout",
     "output_type": "stream",
     "text": [
      "\n",
      "Cell imports done @ 2023-01-25 16:13:52\n"
     ]
    }
   ],
   "source": [
    "#import packages\n",
    "import pandas as pd \n",
    "import numpy as np\n",
    "import nltk\n",
    "import re\n",
    "\n",
    "import hdbscan\n",
    "import umap\n",
    "import contractions\n",
    "\n",
    "from bertopic import BERTopic\n",
    "from nltk.stem import WordNetLemmatizer\n",
    "from nltk.corpus import stopwords\n",
    "from sentence_transformers import SentenceTransformer\n",
    "\n",
    "from flair.embeddings import TransformerDocumentEmbeddings\n",
    "\n",
    "import boto3\n",
    "import logging\n",
    "import uuid\n",
    "\n",
    "# setup widget import\n",
    "from ipywidgets import widgets,Layout\n",
    "from IPython.display import display\n",
    "\n",
    "import time\n",
    "from datetime import date, datetime \n",
    "import datetime\n",
    "from datetime import timedelta\n",
    "\n",
    "## LOCAL \n",
    "CSVPath = \"/home/deleidos/Notebooks/CSVData\"\n",
    "JSONPath = \"/home/deleidos/Notebooks/JSONData\"\n",
    "from APIutils import *\n",
    "\n",
    "def complete(state=\"complete\"):\n",
    "#     print(f\"Now: {datetime.datetime.now()}\")\n",
    "    print(f\"\\nCell {state} @ {(datetime.datetime.fromtimestamp(time.time()).strftime('%Y-%m-%d %H:%M:%S'))}\")\n",
    "complete(state=\"imports done\")"
   ]
  },
  {
   "cell_type": "code",
   "execution_count": 2,
   "id": "1b071a10",
   "metadata": {},
   "outputs": [],
   "source": [
    "# # create a new dataframe from existing data (if available). If not then skip this step\n",
    "# # get an inventory of the potential CSV files:\n",
    "# csvfiles = [f for f in listdir(CSVPath) if isfile(join(CSVPath, f))]\n",
    "# csvfiles.sort()\n",
    "\n",
    "# csvfiles = [x for x in csvfiles if (os.path.splitext(x)[1][1:]).lower() == \"csv\"]\n",
    "# complete(state='csvfiles done')"
   ]
  },
  {
   "cell_type": "code",
   "execution_count": 6,
   "id": "1fca58f8",
   "metadata": {},
   "outputs": [
    {
     "data": {
      "application/vnd.jupyter.widget-view+json": {
       "model_id": "26c53dca2ad146f4a4f08855640bd291",
       "version_major": 2,
       "version_minor": 0
      },
      "text/plain": [
       "Select(description='Choose ID:', layout=Layout(height='256px', width='50%'), options=('2000CWE.json', 'NOTsema…"
      ]
     },
     "metadata": {},
     "output_type": "display_data"
    }
   ],
   "source": [
    "# csvsWD = widgets.Select(\n",
    "#     options=csvfiles,\n",
    "#     value=csvfiles[0],\n",
    "#     description='Choose CSV:',\n",
    "#     disabled=False,\n",
    "#     button_style='success', # 'success', 'info', 'warning', 'danger' or ''\n",
    "#         layout=Layout(width='50%', height='256px')\n",
    "# )\n",
    "# def on_change(change):\n",
    "#     if change['type'] == 'change' and change['name'] == 'value':\n",
    "# #         print (\"changed to %s\" % change['new'])\n",
    "#         selection = change['new']\n",
    "\n",
    "# csvsWD.observe(on_change)\n",
    "# display(csvsWD)\n",
    "\n",
    "jsonfiles = [f for f in listdir(JSONPath) if isfile(join(JSONPath, f))]\n",
    "jsonfiles.sort()\n",
    "jsonfiles = [x for x in jsonfiles if (os.path.splitext(x)[1][1:]).lower() == \"json\"]\n",
    "jsnWD = widgets.Select(\n",
    "    options=jsonfiles,\n",
    "    value=jsonfiles[0],\n",
    "    description='Choose ID:',\n",
    "    disabled=False,\n",
    "    button_style='success', # 'success', 'info', 'warning', 'danger' or ''\n",
    "        layout=Layout(width='50%', height='256px')\n",
    ")\n",
    "def on_change(change):\n",
    "    if change['type'] == 'change' and change['name'] == 'value':\n",
    "#         print (\"changed to %s\" % change['new'])\n",
    "        selection = change['new']\n",
    "\n",
    "jsnWD.observe(on_change)\n",
    "display(jsnWD)"
   ]
  },
  {
   "cell_type": "code",
   "execution_count": 7,
   "id": "bd9dc05b",
   "metadata": {},
   "outputs": [
    {
     "name": "stdout",
     "output_type": "stream",
     "text": [
      "jsnf='semanticSimArticlesTestingDF.json' \n"
     ]
    }
   ],
   "source": [
    "# csvfilename = osp.join (CSVPath,csvsWD.value)\n",
    "# csvfilename\n",
    "# iWD.value\n",
    "jsnf = jsnWD.value\n",
    "print (f\"{jsnf=} \")"
   ]
  },
  {
   "cell_type": "code",
   "execution_count": 10,
   "id": "5ee84220",
   "metadata": {},
   "outputs": [
    {
     "data": {
      "text/html": [
       "<div>\n",
       "<style scoped>\n",
       "    .dataframe tbody tr th:only-of-type {\n",
       "        vertical-align: middle;\n",
       "    }\n",
       "\n",
       "    .dataframe tbody tr th {\n",
       "        vertical-align: top;\n",
       "    }\n",
       "\n",
       "    .dataframe thead th {\n",
       "        text-align: right;\n",
       "    }\n",
       "</style>\n",
       "<table border=\"1\" class=\"dataframe\">\n",
       "  <thead>\n",
       "    <tr style=\"text-align: right;\">\n",
       "      <th></th>\n",
       "      <th>article</th>\n",
       "      <th>summary</th>\n",
       "      <th>hf1</th>\n",
       "      <th>hf2</th>\n",
       "      <th>hf3</th>\n",
       "      <th>hf4</th>\n",
       "      <th>hf5</th>\n",
       "      <th>hfAvg</th>\n",
       "      <th>kb1</th>\n",
       "      <th>kb2</th>\n",
       "      <th>kb3</th>\n",
       "      <th>kb4</th>\n",
       "      <th>kb5</th>\n",
       "      <th>kbAvg</th>\n",
       "    </tr>\n",
       "  </thead>\n",
       "  <tbody>\n",
       "    <tr>\n",
       "      <th>0</th>\n",
       "      <td>https://datainnovation.org...</td>\n",
       "      <td>economist created visualiz...</td>\n",
       "      <td>0.5627</td>\n",
       "      <td>0.5556</td>\n",
       "      <td>0.5153</td>\n",
       "      <td>0.5132</td>\n",
       "      <td>0.4939</td>\n",
       "      <td>0.528140</td>\n",
       "      <td>0.429117</td>\n",
       "      <td>0.425113</td>\n",
       "      <td>0.410665</td>\n",
       "      <td>0.408926</td>\n",
       "      <td>0.408615</td>\n",
       "      <td>0.416487</td>\n",
       "    </tr>\n",
       "    <tr>\n",
       "      <th>1</th>\n",
       "      <td>https://venturebeat.com/ai...</td>\n",
       "      <td>among organization buildin...</td>\n",
       "      <td>0.9986</td>\n",
       "      <td>0.6797</td>\n",
       "      <td>0.6685</td>\n",
       "      <td>0.6572</td>\n",
       "      <td>0.6319</td>\n",
       "      <td>0.659325</td>\n",
       "      <td>0.515490</td>\n",
       "      <td>0.502411</td>\n",
       "      <td>0.485434</td>\n",
       "      <td>0.473214</td>\n",
       "      <td>0.469388</td>\n",
       "      <td>0.489188</td>\n",
       "    </tr>\n",
       "    <tr>\n",
       "      <th>2</th>\n",
       "      <td>https://venturebeat.com/ai...</td>\n",
       "      <td>watch demand session today...</td>\n",
       "      <td>0.5767</td>\n",
       "      <td>0.5576</td>\n",
       "      <td>0.5529</td>\n",
       "      <td>0.5504</td>\n",
       "      <td>0.5455</td>\n",
       "      <td>0.551600</td>\n",
       "      <td>0.534699</td>\n",
       "      <td>0.533749</td>\n",
       "      <td>0.485653</td>\n",
       "      <td>0.485376</td>\n",
       "      <td>0.470144</td>\n",
       "      <td>0.501924</td>\n",
       "    </tr>\n",
       "    <tr>\n",
       "      <th>3</th>\n",
       "      <td>https://venturebeat.com/ai...</td>\n",
       "      <td>generative going completel...</td>\n",
       "      <td>0.7521</td>\n",
       "      <td>0.7365</td>\n",
       "      <td>0.7272</td>\n",
       "      <td>0.7240</td>\n",
       "      <td>0.7216</td>\n",
       "      <td>0.732280</td>\n",
       "      <td>0.530356</td>\n",
       "      <td>0.528229</td>\n",
       "      <td>0.519292</td>\n",
       "      <td>0.488997</td>\n",
       "      <td>0.482039</td>\n",
       "      <td>0.509782</td>\n",
       "    </tr>\n",
       "    <tr>\n",
       "      <th>4</th>\n",
       "      <td>https://www.businessinside...</td>\n",
       "      <td>personalized cancer vaccin...</td>\n",
       "      <td>0.5688</td>\n",
       "      <td>0.5227</td>\n",
       "      <td>0.4532</td>\n",
       "      <td>0.4527</td>\n",
       "      <td>0.4452</td>\n",
       "      <td>0.488520</td>\n",
       "      <td>0.438377</td>\n",
       "      <td>0.427320</td>\n",
       "      <td>0.422924</td>\n",
       "      <td>0.419798</td>\n",
       "      <td>0.414401</td>\n",
       "      <td>0.424564</td>\n",
       "    </tr>\n",
       "    <tr>\n",
       "      <th>...</th>\n",
       "      <td>...</td>\n",
       "      <td>...</td>\n",
       "      <td>...</td>\n",
       "      <td>...</td>\n",
       "      <td>...</td>\n",
       "      <td>...</td>\n",
       "      <td>...</td>\n",
       "      <td>...</td>\n",
       "      <td>...</td>\n",
       "      <td>...</td>\n",
       "      <td>...</td>\n",
       "      <td>...</td>\n",
       "      <td>...</td>\n",
       "      <td>...</td>\n",
       "    </tr>\n",
       "    <tr>\n",
       "      <th>111</th>\n",
       "      <td>https://www.foxbusiness.co...</td>\n",
       "      <td>struggling current economy...</td>\n",
       "      <td>0.5382</td>\n",
       "      <td>0.5022</td>\n",
       "      <td>0.4537</td>\n",
       "      <td>0.4530</td>\n",
       "      <td>0.4166</td>\n",
       "      <td>0.472740</td>\n",
       "      <td>0.421236</td>\n",
       "      <td>0.419552</td>\n",
       "      <td>0.417580</td>\n",
       "      <td>0.389859</td>\n",
       "      <td>0.387455</td>\n",
       "      <td>0.407136</td>\n",
       "    </tr>\n",
       "    <tr>\n",
       "      <th>112</th>\n",
       "      <td>https://www.foxbusiness.co...</td>\n",
       "      <td>latest take varney host st...</td>\n",
       "      <td>0.5482</td>\n",
       "      <td>0.4926</td>\n",
       "      <td>0.4814</td>\n",
       "      <td>0.4076</td>\n",
       "      <td>0.4005</td>\n",
       "      <td>0.466060</td>\n",
       "      <td>0.443807</td>\n",
       "      <td>0.422615</td>\n",
       "      <td>0.377209</td>\n",
       "      <td>0.352440</td>\n",
       "      <td>0.342977</td>\n",
       "      <td>0.387810</td>\n",
       "    </tr>\n",
       "    <tr>\n",
       "      <th>113</th>\n",
       "      <td>https://www.foxbusiness.co...</td>\n",
       "      <td>famed serial killer john w...</td>\n",
       "      <td>0.2994</td>\n",
       "      <td>0.2344</td>\n",
       "      <td>0.2231</td>\n",
       "      <td>0.2163</td>\n",
       "      <td>0.2147</td>\n",
       "      <td>0.222125</td>\n",
       "      <td>0.277694</td>\n",
       "      <td>0.273635</td>\n",
       "      <td>0.253718</td>\n",
       "      <td>0.246481</td>\n",
       "      <td>0.240336</td>\n",
       "      <td>0.258373</td>\n",
       "    </tr>\n",
       "    <tr>\n",
       "      <th>114</th>\n",
       "      <td>https://www.foxbusiness.co...</td>\n",
       "      <td>housing market experiencin...</td>\n",
       "      <td>0.6052</td>\n",
       "      <td>0.5847</td>\n",
       "      <td>0.5802</td>\n",
       "      <td>0.5490</td>\n",
       "      <td>0.5490</td>\n",
       "      <td>0.573620</td>\n",
       "      <td>0.493047</td>\n",
       "      <td>0.464461</td>\n",
       "      <td>0.457469</td>\n",
       "      <td>0.449820</td>\n",
       "      <td>0.444688</td>\n",
       "      <td>0.454109</td>\n",
       "    </tr>\n",
       "    <tr>\n",
       "      <th>115</th>\n",
       "      <td>https://www.foxbusiness.co...</td>\n",
       "      <td>nasa awarded maryland firm...</td>\n",
       "      <td>0.8797</td>\n",
       "      <td>0.7357</td>\n",
       "      <td>0.6085</td>\n",
       "      <td>0.5983</td>\n",
       "      <td>0.5596</td>\n",
       "      <td>0.676360</td>\n",
       "      <td>0.577393</td>\n",
       "      <td>0.548640</td>\n",
       "      <td>0.536985</td>\n",
       "      <td>0.533308</td>\n",
       "      <td>0.520491</td>\n",
       "      <td>0.534856</td>\n",
       "    </tr>\n",
       "  </tbody>\n",
       "</table>\n",
       "<p>116 rows × 14 columns</p>\n",
       "</div>"
      ],
      "text/plain": [
       "                           article                        summary     hf1  \\\n",
       "0    https://datainnovation.org...  economist created visualiz...  0.5627   \n",
       "1    https://venturebeat.com/ai...  among organization buildin...  0.9986   \n",
       "2    https://venturebeat.com/ai...  watch demand session today...  0.5767   \n",
       "3    https://venturebeat.com/ai...  generative going completel...  0.7521   \n",
       "4    https://www.businessinside...  personalized cancer vaccin...  0.5688   \n",
       "..                             ...                            ...     ...   \n",
       "111  https://www.foxbusiness.co...  struggling current economy...  0.5382   \n",
       "112  https://www.foxbusiness.co...  latest take varney host st...  0.5482   \n",
       "113  https://www.foxbusiness.co...  famed serial killer john w...  0.2994   \n",
       "114  https://www.foxbusiness.co...  housing market experiencin...  0.6052   \n",
       "115  https://www.foxbusiness.co...  nasa awarded maryland firm...  0.8797   \n",
       "\n",
       "        hf2     hf3     hf4     hf5     hfAvg       kb1       kb2       kb3  \\\n",
       "0    0.5556  0.5153  0.5132  0.4939  0.528140  0.429117  0.425113  0.410665   \n",
       "1    0.6797  0.6685  0.6572  0.6319  0.659325  0.515490  0.502411  0.485434   \n",
       "2    0.5576  0.5529  0.5504  0.5455  0.551600  0.534699  0.533749  0.485653   \n",
       "3    0.7365  0.7272  0.7240  0.7216  0.732280  0.530356  0.528229  0.519292   \n",
       "4    0.5227  0.4532  0.4527  0.4452  0.488520  0.438377  0.427320  0.422924   \n",
       "..      ...     ...     ...     ...       ...       ...       ...       ...   \n",
       "111  0.5022  0.4537  0.4530  0.4166  0.472740  0.421236  0.419552  0.417580   \n",
       "112  0.4926  0.4814  0.4076  0.4005  0.466060  0.443807  0.422615  0.377209   \n",
       "113  0.2344  0.2231  0.2163  0.2147  0.222125  0.277694  0.273635  0.253718   \n",
       "114  0.5847  0.5802  0.5490  0.5490  0.573620  0.493047  0.464461  0.457469   \n",
       "115  0.7357  0.6085  0.5983  0.5596  0.676360  0.577393  0.548640  0.536985   \n",
       "\n",
       "          kb4       kb5     kbAvg  \n",
       "0    0.408926  0.408615  0.416487  \n",
       "1    0.473214  0.469388  0.489188  \n",
       "2    0.485376  0.470144  0.501924  \n",
       "3    0.488997  0.482039  0.509782  \n",
       "4    0.419798  0.414401  0.424564  \n",
       "..        ...       ...       ...  \n",
       "111  0.389859  0.387455  0.407136  \n",
       "112  0.352440  0.342977  0.387810  \n",
       "113  0.246481  0.240336  0.258373  \n",
       "114  0.449820  0.444688  0.454109  \n",
       "115  0.533308  0.520491  0.534856  \n",
       "\n",
       "[116 rows x 14 columns]"
      ]
     },
     "execution_count": 10,
     "metadata": {},
     "output_type": "execute_result"
    }
   ],
   "source": [
    "# df = pd.read_csv(csvfilename)\n",
    "# # print(df.head())\n",
    "# df\n",
    "pd.set_option(\"max_colwidth\", 30)\n",
    "pd.set_option(\"expand_frame_repr\", True)\n",
    "jsnfile = osp.join (JSONPath,jsnf)\n",
    "df = pd.read_json(jsnfile)\n",
    "df"
   ]
  },
  {
   "cell_type": "code",
   "execution_count": 11,
   "id": "0e7c48a0",
   "metadata": {},
   "outputs": [
    {
     "data": {
      "text/plain": [
       "[['https://datainnovation.org/2022/11/visualizing-changes-to-politicians-followers-on-twitter/',\n",
       "  'economist created visualization showing politician twitter follower changed elon musk acquired platform visualization show percent change individual account party average october october according visualization republican gained around follower musk acquired twitter democrat lost follower take look',\n",
       "  0.5627,\n",
       "  0.5556,\n",
       "  0.5153,\n",
       "  0.5132,\n",
       "  0.4939,\n",
       "  0.52814,\n",
       "  0.4291173518,\n",
       "  0.42511266470000003,\n",
       "  0.4106646776,\n",
       "  0.40892553330000003,\n",
       "  0.4086146653,\n",
       "  0.4164869785],\n",
       " ['https://venturebeat.com/ai/stability-ai-looks-to-aws-cloud-to-power-the-next-generation-of-generative-ai/',\n",
       "  'among organization building generative technology stability raised million funding october building generative model like stable diffusion requires significant amount computing power training inference aws invent conference week la vega stability formally announced chosen aws preferred cloud platform building generative tool watch herethe cloud generative hand handstability generative vendor relies public cloud help build foundation model stable diffusion us cloud generate image fasterbuilding stable diffusion exercise involves multiple step component',\n",
       "  0.9986,\n",
       "  0.6797000000000001,\n",
       "  0.6685,\n",
       "  0.6572,\n",
       "  0.6319,\n",
       "  0.6593249999999999,\n",
       "  0.5154899359,\n",
       "  0.5024112463,\n",
       "  0.4854343534,\n",
       "  0.47321361300000003,\n",
       "  0.46938836570000003,\n",
       "  0.4891875029],\n",
       " ['https://venturebeat.com/ai/openai-ceo-admits-chatgpt-risks-what-now-the-ai-beat/',\n",
       "  'watch demand session today watch herealtman latest cautionary note probably responding last week beat column seems chatgpt horse fully barn running main street zero sign popularity slowing fact openai seems trouble keeping capacity laion one creator stable diffusion say already actively working wait',\n",
       "  0.5767,\n",
       "  0.5576,\n",
       "  0.5529000000000001,\n",
       "  0.5504,\n",
       "  0.5455,\n",
       "  0.5516,\n",
       "  0.5346992016000001,\n",
       "  0.5337486863,\n",
       "  0.48565259580000003,\n",
       "  0.4853757322,\n",
       "  0.47014415260000003,\n",
       "  0.5019240737],\n",
       " ['https://venturebeat.com/ai/generative-ai-may-be-the-magic-potion-small-marketing-agencies-have-been-waiting-for/',\n",
       "  'generative going completely alter marketing landscape among many area generative come rescue linguistically minded product like jasper copy use generative help get marketing copy idea flowing rowan curran forrester data science analyst cite speed constraint reason adopting generative example marketing lead writer create generative image designer bring visual mind work assisted copy',\n",
       "  0.7521,\n",
       "  0.7365,\n",
       "  0.7272000000000001,\n",
       "  0.724,\n",
       "  0.7216,\n",
       "  0.73228,\n",
       "  0.5303557515,\n",
       "  0.528228581,\n",
       "  0.5192921162,\n",
       "  0.4889966846,\n",
       "  0.4820388854,\n",
       "  0.5097824037],\n",
       " ['https://www.businessinsider.com/moderna-ceo-interview-on-mrnas-future-in-cancer-care-2022-12',\n",
       "  'personalized cancer vaccine could provide new way fight early cancer case moderna ceo phane bancel told insider think cancer vaccine upend cancer care interview bancel shared vision personalized cancer vaccine could transform cancer care based blood work moderna would design vaccine target genetic mutation cancerous cell stand healthy cell blood test could find cancer grows much mrna vaccine could squash',\n",
       "  0.5688,\n",
       "  0.5227,\n",
       "  0.45320000000000005,\n",
       "  0.45270000000000005,\n",
       "  0.44520000000000004,\n",
       "  0.48852000000000007,\n",
       "  0.43837684390000003,\n",
       "  0.42731985450000004,\n",
       "  0.4229238629,\n",
       "  0.4197983742,\n",
       "  0.4144007564,\n",
       "  0.4245639384],\n",
       " ['https://www.digitaltrends.com/space/astronaut-spots-spacexs-starbase-facility-from-space/',\n",
       "  'astronaut gazing international space station i managed spot spacex starbase spaceflight facility boca chica texas mile posting image twitter wakata asked follower could spot spacex facility far unless live locally tracking spacex work site extremely closely safe bet able spot starbase let help image red circle show spacex starbase launch control center building well starbase tracking station green circle show launch site upcoming maiden test spacex next generation rocket super heavy',\n",
       "  0.5394,\n",
       "  0.44480000000000003,\n",
       "  0.4349,\n",
       "  0.4308,\n",
       "  0.42850000000000005,\n",
       "  0.43475,\n",
       "  0.4424939752,\n",
       "  0.42853000760000004,\n",
       "  0.3993671536,\n",
       "  0.394044131,\n",
       "  0.3885483444,\n",
       "  0.4105967224],\n",
       " ['https://executivegov.com/2022/12/dod-announces-integration-of-fapiis-with-system-for-award-management/',\n",
       "  'office undersecretary acquisition sustainment department defense released memorandum announcing integration federal awardee performance integrity information system system award management part ongoing modernization integrated award environment general service administration federal acquisition service oversees iae unifies manages federal award process government acquisition workforce business partner seek modernize award experience use innovative platform user download report sam showing entity basic identification information well entity information additionally proceeding data available via new entity management application program interface api memo read according document government employee continue encode non responsibility determination required data fapiis input module contractor performance assessment reporting system',\n",
       "  0.5135000000000001,\n",
       "  0.5012,\n",
       "  0.498,\n",
       "  0.4909,\n",
       "  0.4802,\n",
       "  0.49676000000000003,\n",
       "  0.5749901533,\n",
       "  0.5232952833,\n",
       "  0.5129418969,\n",
       "  0.5063616037,\n",
       "  0.49537894130000004,\n",
       "  0.5094944313],\n",
       " ['https://gcn.com/cloud-infrastructure/2022/12/cyber-digital-services-workforce-primary-focus-state-cios-2023/380887/',\n",
       "  'cooky used way constitutes sale data ccpa cooky used way constitutes sale data ccpa cooky used way constitutes sale data ccpa may opt use cooky associated sale personal information using toggle switch may opt use cooky associated sale personal information using toggle switch',\n",
       "  0.6864,\n",
       "  0.5793,\n",
       "  0.4747,\n",
       "  0.44210000000000005,\n",
       "  0.44210000000000005,\n",
       "  0.52492,\n",
       "  0.2732308209,\n",
       "  0.2614496946,\n",
       "  0.2603895366,\n",
       "  0.2603548169,\n",
       "  0.2589393854,\n",
       "  0.2602833584],\n",
       " ['https://gcn.com/cloud-infrastructure/2022/12/funding-infrastructure-act-tackle-digital-discrimination-state-local-government/381059/',\n",
       "  'suggestion fcc could adopt include idea like giving broadband company permit unless address disparity providing subsidy help lower income people get broadband service one issue angela siefer executive director national digital inclusion alliance would like see addressed called digital redlining lower income minority neighborhood likely poor broadband service still said recommendation significant draw attention state local government cause inequitable broadband service ultimately city town village need isps table involved solution make progress preventing eliminating digital discrimination geraghty said report association noted household earning le year broadband service compared earning',\n",
       "  0.5384,\n",
       "  0.5271,\n",
       "  0.5228,\n",
       "  0.5042,\n",
       "  0.48350000000000004,\n",
       "  0.5152,\n",
       "  0.44879969950000004,\n",
       "  0.4415365458,\n",
       "  0.4366306663,\n",
       "  0.41571742300000003,\n",
       "  0.41183170680000003,\n",
       "  0.4309032083],\n",
       " ['https://gcn.com/cloud-infrastructure/2022/12/how-one-state-pays-down-technical-debt/381072/?oref=gcn-skybox-lander',\n",
       "  'begin paying million technical debt colorado starting million state general fund additionally agency said full time employee time allocated technical debt october nascio vmware released application modernization imperative state government report stressed application modernization defined transformation improvement migration existing system critical reducing technical debt make decision addressing technical debt know scope robinson said colorado oit face yet another challenge avoiding creating accruing technical debt making change',\n",
       "  0.46890000000000004,\n",
       "  0.46680000000000005,\n",
       "  0.46140000000000003,\n",
       "  0.4587,\n",
       "  0.45680000000000004,\n",
       "  0.46252000000000004,\n",
       "  0.4241626263,\n",
       "  0.4184226394,\n",
       "  0.4169604182,\n",
       "  0.41638302800000004,\n",
       "  0.41593444350000003,\n",
       "  0.4169251323],\n",
       " ['https://newatlas.com/space/news-near-and-far-the-year-in-space-2022/',\n",
       "  'beginning ending new discovery space busy place james webb space telescope completes deployment mirror opensartists depiction jwst showing huge layered sunshield nasa gsfc cil adriana manrique gutierrezthe year began optimistic note nasa billion james webb space telescope completed final deployment without mishap russia walk away international space station international space station lose russian support nasain major upset space exploration international cooperation roscosmos chief yury borisov announced meeting july russian president vladimir putin russia formally withdraw international space station i putting future space lab jeopardy pagan stsci full operation james webb space telescope snapped incredible image one turned doozy robotic craft touched nasa kennedy space center florida record breaking day orbit',\n",
       "  0.5346000000000001,\n",
       "  0.5053,\n",
       "  0.464,\n",
       "  0.4615,\n",
       "  0.43170000000000003,\n",
       "  0.47942,\n",
       "  0.437722683,\n",
       "  0.4368900657,\n",
       "  0.4306014776,\n",
       "  0.4298189878,\n",
       "  0.4283755422,\n",
       "  0.43268175130000003],\n",
       " ['https://www.govpilot.com/gis-mapping-software-geographic-information-system',\n",
       "  'property level detail datageographic information system critical providing accurate actionable data govpilot color coded gi map data layer depict property specific record tax assessment data ownership information district zone detail interest department resident departmental data record tied single property profile govpilot ensuring data easily accessible date informative make map available public simply posting hyperlink website govpilot need acquire third party gi license',\n",
       "  0.5028,\n",
       "  0.5021,\n",
       "  0.48950000000000005,\n",
       "  0.4883,\n",
       "  0.4717,\n",
       "  0.49088000000000004,\n",
       "  0.4855906963,\n",
       "  0.4775778651,\n",
       "  0.47514796260000003,\n",
       "  0.46135282520000004,\n",
       "  0.46051788330000004,\n",
       "  0.4720374465],\n",
       " ['https://www.techrepublic.com/article/aws-vs-azure-industrial-iot/',\n",
       "  'azure industry solution cut different product line azure iot hub azure iot central azure iot edge azure digital twin aws iot platform span major iiot offering aws iot core aws iot device management aws iot greengrass aws iot expresslink although azure iot edge consists edge runtime certified iot edge hardware cloud interface edge module still lack flexibility aws azure relies azure sphere azure defender opc vault microservice within azure iot core secure maintain industrial asset choosing microsoft azure aws iiot platformsmicrosoft azure aws great iiot solution provider impressive offering iiot market',\n",
       "  0.7992,\n",
       "  0.6526000000000001,\n",
       "  0.6333000000000001,\n",
       "  0.6175,\n",
       "  0.5871000000000001,\n",
       "  0.622625,\n",
       "  0.690980196,\n",
       "  0.6468093395,\n",
       "  0.5466887951,\n",
       "  0.5327714682,\n",
       "  0.5226808190000001,\n",
       "  0.5879861236],\n",
       " ['https://www.technology-in-business.net/quantum-computers-are-making-classical-ones-faster-heres-how/',\n",
       "  'quantum computer making classical one faster howquantum computing may rage turn classic computer use today may trick sleeve',\n",
       "  0.6621,\n",
       "  0.5933,\n",
       "  0.5914,\n",
       "  0.5913,\n",
       "  0.5779000000000001,\n",
       "  0.592,\n",
       "  0.6156619191,\n",
       "  0.614133656,\n",
       "  0.584172368,\n",
       "  0.5278505087,\n",
       "  0.520159483,\n",
       "  0.572395587],\n",
       " ['https://www.technology-in-business.net/scientists-newdiscovery-at-the-center-of-the-galaxy-just-shocked-the-entire-space-industry/',\n",
       "  'space technologyscientists new discovery center galaxy shocked entire space industrycredit tech revolution',\n",
       "  0.5645,\n",
       "  0.5605,\n",
       "  0.5559000000000001,\n",
       "  0.5153,\n",
       "  0.5097,\n",
       "  0.54118,\n",
       "  0.5228297114,\n",
       "  0.5167323351,\n",
       "  0.5115866661,\n",
       "  0.5111527443,\n",
       "  0.4981431961,\n",
       "  0.5155753642],\n",
       " ['https://www.thedailybeast.com/this-new-variant-could-make-you-pay-for-skipping-the-booster',\n",
       "  'also may prove variant come back bite american failed get bivalent omicron specific booster shot imperative get bivalent booster maximize probability become seriously ill xbb covid several piece evidence early epidemiological study study laboratory point importance getting bivalent booster although study need repeated specifically xbb data could mean better chance fighting xbb variant get bivalent booster bottom line wait get bivalent booster far',\n",
       "  0.6789000000000001,\n",
       "  0.6515000000000001,\n",
       "  0.6438,\n",
       "  0.6138,\n",
       "  0.6051000000000001,\n",
       "  0.6386200000000001,\n",
       "  0.5819525123,\n",
       "  0.5664041042,\n",
       "  0.5649111867000001,\n",
       "  0.5486011505,\n",
       "  0.5481892824,\n",
       "  0.5620116472000001],\n",
       " ['https://www.thedailybeast.com/princeton-student-edward-tian-built-gptzero-to-detect-ai-written-essays',\n",
       "  'expecting dozen people trying app tian told daily beast example human writing tends sentence vary complexity tian would use essay mcphee new yorker part demo gptzero despite building tool tian anti hell even used program like copilot support much coding opposed using writing make sense said beautiful quality human written prose computer never opt',\n",
       "  0.5324,\n",
       "  0.5295,\n",
       "  0.5123,\n",
       "  0.5086,\n",
       "  0.4958,\n",
       "  0.5157200000000001,\n",
       "  0.4585676193,\n",
       "  0.4452997446,\n",
       "  0.4429270625,\n",
       "  0.43441990020000004,\n",
       "  0.429872185,\n",
       "  0.4422173023],\n",
       " ['https://www.thedailybeast.com/cybersecurity-may-be-the-one-issue-that-unites-a-deeply-divided-congress',\n",
       "  'la vega nevada despite divided congress influential senate democrat say legislation addressing technology arm race china issue related social medium could passed current two year term prospect legislation tightening social medium regulation le clear could tie national security examination said popular video sharing app tiktok driving conversation warner indicated favor broad brush approach said action address tiktok controversy likely senator mark warner warner lamented congress acted shore privacy protection address concern related social medium one possible exception said warner would legislation increase protection kid address social medium impact mental health',\n",
       "  0.6534,\n",
       "  0.6128,\n",
       "  0.5994,\n",
       "  0.5917,\n",
       "  0.5794,\n",
       "  0.5958249999999999,\n",
       "  0.5291107297000001,\n",
       "  0.5268138647,\n",
       "  0.505867064,\n",
       "  0.4849723279,\n",
       "  0.4831309319,\n",
       "  0.5059789836],\n",
       " ['https://www.washingtonpost.com/technology/2023/01/07/ai-2023-predictions/',\n",
       "  'chatbotslast year chatbots including chatgpt took internet storm ability answer question posed human lifelike quality year multiple expert said people probably see public facing product come business plan altman said lab openai still attempt release product widely run headlong issue namely chatbots still wrong racist sexist time require new training method would help avoid racism sexism accurate said',\n",
       "  0.7724000000000001,\n",
       "  0.7546,\n",
       "  0.7377,\n",
       "  0.7341000000000001,\n",
       "  0.7335,\n",
       "  0.74646,\n",
       "  0.6842844486,\n",
       "  0.6840087175,\n",
       "  0.6798457503,\n",
       "  0.6614201069,\n",
       "  0.6586339474,\n",
       "  0.6736385942],\n",
       " ['https://www.washingtonpost.com/technology/2022/12/28/ai-chatgpt-dalle-year-in-review/',\n",
       "  'text image generatorscraving photo dachsund puppy space style painted glass might needed commission artist get simply type request text image generator pop generated photo thin air high quality even doubter conceded impressive though still note many concern dall created openai named painter salvador dali disney pixar wall shook internet launching july august start stable diffusion launched version essentially anti dall fewer restriction used model new expert said causing sharp increase image quality',\n",
       "  0.6442,\n",
       "  0.6414000000000001,\n",
       "  0.5668000000000001,\n",
       "  0.5551,\n",
       "  0.5351,\n",
       "  0.58852,\n",
       "  0.5702999234,\n",
       "  0.5266357660000001,\n",
       "  0.5090031624,\n",
       "  0.4969964921,\n",
       "  0.49632745980000004,\n",
       "  0.5198525608],\n",
       " ['https://www.washingtonpost.com/technology/2022/06/17/plastic-eating-superworm-garbage-crisis/',\n",
       "  'article said plastic foam foam styrofoam trademark construction material plump larva length paper clip survive material make plastic foam organism commonly called superworm could transform way waste manager dispose one common component landfill researcher said potentially slowing mounting garbage crisis exacerbating climate change cannot really escape plastic anymore plastic waste everywhere said christian rinke study author garbage crisis escalates scientist across world trying find bacteria living organism naturally dispose plastic waste',\n",
       "  0.48050000000000004,\n",
       "  0.393,\n",
       "  0.3816,\n",
       "  0.3568,\n",
       "  0.3536,\n",
       "  0.37125,\n",
       "  0.44334936140000003,\n",
       "  0.3939248323,\n",
       "  0.3454887867,\n",
       "  0.3139193058,\n",
       "  0.30521094800000004,\n",
       "  0.3603786469],\n",
       " ['https://www.washingtonpost.com/technology/2022/11/11/cop27-climate-change-solutions/',\n",
       "  'nuclear powerfor year idea large nuclear power plant powering world drawn concern many worry danger reactor present community near well radioactive waste generate high construction cost nuclear energy clean energy source important role play help get net zero faster said statement advertisementnuclear trade association conference saying nuclear power already world second largest source low carbon power providing roughly percent world electricity roughly reactor twenty year ago belgium decided nuclear bad shut rep john curtis utah told washington post',\n",
       "  0.5995,\n",
       "  0.5664,\n",
       "  0.5367000000000001,\n",
       "  0.513,\n",
       "  0.5076,\n",
       "  0.54464,\n",
       "  0.5179281831,\n",
       "  0.4821215868,\n",
       "  0.4697978795,\n",
       "  0.46638363600000005,\n",
       "  0.4560340941,\n",
       "  0.4685842991],\n",
       " ['https://www.washingtonpost.com/technology/interactive/2023/nasa-sls-spacex-starship-rockets/?itid=mr_technology_3',\n",
       "  'skip way manufactured way financed way supposed work two ship represent starkly differing approach getting earth skip nasa rocket sl rocket stage expended splashed ocean never recovered skip skip appearance functionality starship elon musk venture spacex sharp contrast nasa tried true approach story continues advertisement advertisement story continues advertisement advertisementskip divergent approach space travel nasa spacex seen engine powering rocket skip perhaps biggest innovation raptor engine spacex plan use',\n",
       "  0.5363,\n",
       "  0.5049,\n",
       "  0.4783,\n",
       "  0.47300000000000003,\n",
       "  0.4687,\n",
       "  0.49224000000000007,\n",
       "  0.3968922198,\n",
       "  0.3806805313,\n",
       "  0.3742915392,\n",
       "  0.3521872163,\n",
       "  0.34802901740000003,\n",
       "  0.37041610480000003],\n",
       " ['https://www.washingtonpost.com/technology/interactive/2023/new-space-age/',\n",
       "  'big powerful full fiery thrust space launch system rocket nasa want use propel astronaut moon orbit monster taller statue liberty spacex starship nasa plan use ferry astronaut lunar surface back rocket represent one element grand ambition possessed united state international space agency many private company set sight space past two decade space travel booming creating energy around exploration solar system seen since day apollo leading shortage question toll space travel take human body',\n",
       "  0.482,\n",
       "  0.4582,\n",
       "  0.4259,\n",
       "  0.419,\n",
       "  0.4126,\n",
       "  0.43954000000000004,\n",
       "  0.4423532486,\n",
       "  0.4355124235,\n",
       "  0.4326194525,\n",
       "  0.4233240783,\n",
       "  0.4121986032,\n",
       "  0.4292015612],\n",
       " ['https://www.washingtonpost.com/politics/2023/01/09/what-speaker-mccarthy-means-silicon-valley/',\n",
       "  'choose plan arrowright speaker mccarthy mean silicon valley kevin mccarthy calif clinching speakership house guarantee tech company like facebook google face added pressure allegation censorship could spare aggressive regulation issue like data privacy competition house republican said also plan probe communication tech company biden administration advertisement need national level regulation state state going privacy mccarthy told wall street journal mccarthy seemingly bipartisan antitrust billsmccarthy critical bipartisan tech antitrust proposal advanced house judiciary committee last congress significantly dimming prospect passage expert argue limiting ability post social medium platform would major online restriction imposed political candidate office',\n",
       "  0.7187,\n",
       "  0.5831000000000001,\n",
       "  0.5615,\n",
       "  0.5485,\n",
       "  0.5478000000000001,\n",
       "  0.560225,\n",
       "  0.6548248529,\n",
       "  0.6181648374000001,\n",
       "  0.5546331406,\n",
       "  0.5279531479,\n",
       "  0.5071656704,\n",
       "  0.5725483298],\n",
       " ['https://www.washingtonpost.com/technology/2023/01/05/qualcomm-iridium-snapdragon-satellite-smartphones/',\n",
       "  'push satellite communication powered partnership iridium communication operates constellation satellite new concept qualcomm iridium vision little different phone maker buy former premium chipsets device pay little extra connect latter satellite time qualcomm aim bake satellite connectivity moderately priced chipsets phone amon would say cost involved however set stone qualcomm grilli said emergency message expensive cost anything talked phone reason laptop amon said turning attention another crucial class product',\n",
       "  0.5843,\n",
       "  0.5536,\n",
       "  0.5472,\n",
       "  0.5443,\n",
       "  0.5431,\n",
       "  0.54705,\n",
       "  0.6115981340000001,\n",
       "  0.47493129970000003,\n",
       "  0.470489651,\n",
       "  0.4662112892,\n",
       "  0.4526512623,\n",
       "  0.4705440799],\n",
       " ['https://www.washingtonpost.com/climate-solutions/2023/01/09/ozone-layer-recovery-study-2023/',\n",
       "  'source nasa earth observationsthe scale thickness ozone layer range dobson unit source nasa earth observationsthe scale thickness ozone layer range dobson unit source nasa earth observationsthe scale thickness ozone layer range dobson unit ozone loss dramatic south pole ozone hole appearing every spring antarctic ozone hole poster child ozone depletion newman said',\n",
       "  0.22890000000000002,\n",
       "  0.22760000000000002,\n",
       "  0.2247,\n",
       "  0.2247,\n",
       "  0.22340000000000002,\n",
       "  0.22586,\n",
       "  0.3690041304,\n",
       "  0.3326203227,\n",
       "  0.3096299171,\n",
       "  0.28638237710000003,\n",
       "  0.2851687372,\n",
       "  0.3165610969],\n",
       " ['https://www.wired.com/story/what-the-west-doesnt-know-about-chinas-silicon-valley/',\n",
       "  'window amid field ning saw campus china prestigious research institution birthed china nuclear program hydroelectric dam today stretch road heart china technology industry busy neighborhood subway stop glass tower housing chinese western tech company neighborhood transformation mirror dramatic change china economy culture past four decade west coverage china tech industry often focus restricted controlled government today many celebrated role opening china economy advancing technology industry',\n",
       "  0.5764,\n",
       "  0.5211,\n",
       "  0.5156000000000001,\n",
       "  0.5109,\n",
       "  0.5069,\n",
       "  0.513625,\n",
       "  0.5019135475000001,\n",
       "  0.4497275054,\n",
       "  0.4476782382,\n",
       "  0.4415543675,\n",
       "  0.4384821057,\n",
       "  0.44436055420000004],\n",
       " ['https://www.wired.com/story/psychology-artificial-intelligence',\n",
       "  'machine learning hand typically take different path see reasoning categorization task fixed set predetermined label exploring marvelous feature evolved human brain finally allow make machine learning smart one feature psychological explainable case flu prediction illustrates robust simple psychological algorithm often give accurate prediction complex algorithm psychological open new vision explainable instead trying explain opaque complex system check first psychological offer transparent equally accurate solution',\n",
       "  0.5529000000000001,\n",
       "  0.5321,\n",
       "  0.5115000000000001,\n",
       "  0.4995,\n",
       "  0.4884,\n",
       "  0.51688,\n",
       "  0.46535855530000003,\n",
       "  0.43896949290000004,\n",
       "  0.43653431530000003,\n",
       "  0.4315057993,\n",
       "  0.4257677794,\n",
       "  0.4331943467],\n",
       " ['https://www.wired.com/story/how-your-brain-distinguishes-memories-from-perceptions',\n",
       "  'memory perception seem like entirely distinct experience neuroscientist used confident brain produced differently neuroimaging study revealed part brain thought active sensory perception also active recall memory team work identified least one way memory perception image assembled differently neurological level participant perceived remembered location pattern researcher recorded brain activity effect visual processing perception matter small crisp dot evolving larger blurrier meaningful blob',\n",
       "  0.4656,\n",
       "  0.3791,\n",
       "  0.3385,\n",
       "  0.3255,\n",
       "  0.32,\n",
       "  0.340775,\n",
       "  0.2870593667,\n",
       "  0.2815891802,\n",
       "  0.28114461900000004,\n",
       "  0.2653895617,\n",
       "  0.2648693323,\n",
       "  0.27601041200000004],\n",
       " ['https://www.wired.com/story/gadget-lab-podcast-580/',\n",
       "  'light flash different pattern like car angry drive red car car feeling mildly introspective julian chokkattu saw guy demoing many question came head saw walk around show floor doubled walking speed worked asked said well living paris want get around fast definitely funniest thing saw far',\n",
       "  0.3745,\n",
       "  0.37010000000000004,\n",
       "  0.35750000000000004,\n",
       "  0.34690000000000004,\n",
       "  0.34240000000000004,\n",
       "  0.35828000000000004,\n",
       "  0.35615420340000004,\n",
       "  0.3549460173,\n",
       "  0.34717261790000004,\n",
       "  0.32588309050000003,\n",
       "  0.3224177659,\n",
       "  0.34131473900000003],\n",
       " ['https://www.wired.com/story/platform-work-labor-economy-ai',\n",
       "  'european union expected finalize platform work directive new legislation regulate digital labor platform month designed carefully algorithmic management could reduce bias hiring evaluation promotion improve employee well detecting need training support current regulatory situation regarding algorithmic management complex hand welter already existing law creates unnecessary complexity organization trying use algorithmic management responsibly confusing matter algorithmic management provision new platform work directive mean platform worker long underprotected law likely protection intrusive monitoring error prone algorithmic management traditional employee',\n",
       "  0.5383,\n",
       "  0.5085000000000001,\n",
       "  0.4708,\n",
       "  0.46840000000000004,\n",
       "  0.465,\n",
       "  0.4902,\n",
       "  0.4693993926,\n",
       "  0.4312213361,\n",
       "  0.4306237102,\n",
       "  0.4263138771,\n",
       "  0.4251138568,\n",
       "  0.428318195],\n",
       " ['https://www.wired.com/story/digital-warfare',\n",
       "  'war ukraine shock surprise clear present danger ever since russian invasion crimea also surprise world watched russia assemble force ukraine border month digital technology transform confrontation conflict transparency precision merge advance robotics autonomy connectivity data secure cloud combination lead armed force longer people operating equipment rapidly evolving team inhabited uninhabited autonomous capability digital age drive profound transformation state confront conflict',\n",
       "  0.726,\n",
       "  0.6033000000000001,\n",
       "  0.5961000000000001,\n",
       "  0.5775,\n",
       "  0.56,\n",
       "  0.584225,\n",
       "  0.5749120712,\n",
       "  0.5723423958,\n",
       "  0.5320690274000001,\n",
       "  0.5162718892,\n",
       "  0.5107802153000001,\n",
       "  0.5412751198],\n",
       " ['https://www.wired.com/story/russia-turla-fsb-usb-infection',\n",
       "  'year later group appears trying new twist trick hijacking usb infection hacker piggyback infection stealthily choose spying target hijacking technique appears designed let turla stay undetected hiding inside hacker footprint combing vast collection network malware already proliferated usb turla leverage without exposing looking andromeda sample command control domain mandiant saw least two expired domain reregistered total domain connected hundred andromeda infection turla could sort find subject worthy spying',\n",
       "  0.5407000000000001,\n",
       "  0.5383,\n",
       "  0.5374,\n",
       "  0.513,\n",
       "  0.4768,\n",
       "  0.52124,\n",
       "  0.5403295755,\n",
       "  0.5306807756,\n",
       "  0.510237515,\n",
       "  0.5022603273,\n",
       "  0.4999088645,\n",
       "  0.5166834116],\n",
       " ['https://www.wired.com/story/amazon-investors-demand-answers-about-its-clouds-human-rights-record',\n",
       "  'investor fear contract include project see company technology contribute human right violation today nonprofit american baptist home mission society filed proposal asking amazon shareholder force company investigate possible human right violation government client group member investor advocate social justice us shareholder right campaign change corporate governance resolution argues company perform due diligence human right implication clientele supply chain might evaluate thing like environmental impact privacy similar resolution received roughly percent shareholder vote version percent shareholder support',\n",
       "  0.8602000000000001,\n",
       "  0.5017,\n",
       "  0.496,\n",
       "  0.47550000000000003,\n",
       "  0.45430000000000004,\n",
       "  0.481875,\n",
       "  0.4933889806,\n",
       "  0.4749212265,\n",
       "  0.46572053430000004,\n",
       "  0.4645087719,\n",
       "  0.4567844272,\n",
       "  0.46548374000000003],\n",
       " ['https://www.wired.com/story/3d-printing-tabletop-games-wargaming',\n",
       "  'printing begun disrupt economy tabletop miniature entrepreneur try democratize expensive somewhat monopolistic market printing changed game printing new much easier get used see lot misconception labor intensity modern printing wilson admits people watch viral video easy printing get impression come loading program pushing button',\n",
       "  0.5232,\n",
       "  0.5149,\n",
       "  0.44070000000000004,\n",
       "  0.4303,\n",
       "  0.4157,\n",
       "  0.46496000000000004,\n",
       "  0.40871232750000003,\n",
       "  0.40608847140000004,\n",
       "  0.3959537745,\n",
       "  0.3854543567,\n",
       "  0.38180595640000003,\n",
       "  0.3956029773],\n",
       " ['https://www.wired.com/story/2022-was-the-year-that-electric-vehicles-took-off/',\n",
       "  'year technologist promised age electric vehicle cometh false start early century electric short time accounted third vehicle thanks gas crisis early two american engineer founded company called tesla motor electric vehicle going mainstream first half percent worldwide passenger vehicle sale battery electric plug hybrid fuel cell vehicle according data bloombergnef percent passenger vehicle sold first half year zero emission end decade top global automaker pledged spend astronomical trillion produce million electric vehicle according reuters analysis',\n",
       "  0.6674,\n",
       "  0.6428,\n",
       "  0.6286,\n",
       "  0.6251,\n",
       "  0.6222,\n",
       "  0.63722,\n",
       "  0.5889676809000001,\n",
       "  0.5842030644,\n",
       "  0.5773745179,\n",
       "  0.5523510575,\n",
       "  0.5520335436,\n",
       "  0.5709859729],\n",
       " ['https://www.wired.com/2012/03/ff-nsadatacenter/',\n",
       "  'today bluffdale home one nation largest sect polygamist apostolic united brother upwards member nsa become largest covert potentially intrusive intelligence agency ever construction contractor top secret clearance blandly named utah data center built national security agency data center say one senior intelligence official recently involved program mammoth bluffdale center another important far secret role gone unrevealed',\n",
       "  0.5464,\n",
       "  0.5377000000000001,\n",
       "  0.5377000000000001,\n",
       "  0.5256000000000001,\n",
       "  0.5065000000000001,\n",
       "  0.53685,\n",
       "  0.46030157800000004,\n",
       "  0.4495477974,\n",
       "  0.449172616,\n",
       "  0.4473705888,\n",
       "  0.44307541850000004,\n",
       "  0.4486970007],\n",
       " ['https://www.wired.co.uk/article/encrochat-phone-police-hacking-encryption-drugs',\n",
       "  'every person german criminal defense lawyer spoke using encrypted phone network encrochat worried device hacked potentially exposing crime may committed realized gosh flood coming month earlier police across europe led french dutch force revealed compromised encrochat network fast forward two year thousand encrochat user across europe including germany france netherlands jail defending right accused people hacking encrochataround people signed encrochat phone network founded busted cop police hacked phone network appear break encryption instead compromised encrochat server roubaix france ultimately pushed malware device',\n",
       "  0.5776,\n",
       "  0.5558000000000001,\n",
       "  0.5186000000000001,\n",
       "  0.5157,\n",
       "  0.5057,\n",
       "  0.53468,\n",
       "  0.5139033198,\n",
       "  0.5049726963,\n",
       "  0.49868190290000003,\n",
       "  0.49404022100000006,\n",
       "  0.4898175597,\n",
       "  0.5002831399000001],\n",
       " ['https://www.wired.co.uk/article/mrna-medicine-technology',\n",
       "  'successful development first mrna vaccine covid unprecedented achievement history medicine progress allowed create effective mrna vaccine administered small amount human elicit powerful immune response potential mrna vaccine go beyond coronavirus one beauty mrna technology enables rapidly test hundred vaccine target innovation could support decentralized scalable vaccine production worldwide leapfrogging toward automated digitized scalable mrna manufacturing capability',\n",
       "  0.5982000000000001,\n",
       "  0.5715,\n",
       "  0.5295,\n",
       "  0.5082,\n",
       "  0.4959,\n",
       "  0.54066,\n",
       "  0.5800405145,\n",
       "  0.48039558530000004,\n",
       "  0.47796183820000004,\n",
       "  0.46474748850000003,\n",
       "  0.4629543424,\n",
       "  0.4715148136],\n",
       " ['https://www.techradar.com/news/microsoft-now-wants-to-add-chatgpt-to-word-email',\n",
       "  'audio player loading microsoft reportedly discussion bring openai writer chatgpt microsoft office part effort modernise office software suite news courtesy information open new tab via two insider microsoft come techradar pro recently reported company looking bring openai chatgpt bing search engine web browser plan bring chatgpt text generation capability word powerpoint outlook apps follow another stalled attempt implement tool use openai machine learned language model office generate email document entirely possible microsoft may big plan mind chatgpt product driven openai gpt language model yet fixed estimate might become reality reason chatgpt currently marked free research preview peppered warning may occasionally generate incorrect information harmful instruction biased content',\n",
       "  0.7888000000000001,\n",
       "  0.7658,\n",
       "  0.7338,\n",
       "  0.7205,\n",
       "  0.7187,\n",
       "  0.7455200000000001,\n",
       "  0.6809722185,\n",
       "  0.6782670021,\n",
       "  0.6748327017,\n",
       "  0.6731724739,\n",
       "  0.6700720787000001,\n",
       "  0.675463295],\n",
       " ['https://www.techradar.com/news/amds-rocky-ride-continues-as-ryzen-7600x-cpu-firmware-goes-seriously-wrong',\n",
       "  'msi asrock removed agesa smu bios website pic twitter com wnryyxggjanuary see morehere get even thornier apparently ryzen chip affected dual ccds two chiplets word motherboard maker pulled beta firmware download portal good news grab longer anyway install beta firmware hit trouble recourse revert previous version hopefully problem pertaining ryzen solved near future amd push revised agesa release',\n",
       "  0.4908,\n",
       "  0.486,\n",
       "  0.47190000000000004,\n",
       "  0.4716,\n",
       "  0.4696,\n",
       "  0.47798,\n",
       "  0.4121028185,\n",
       "  0.4103627205,\n",
       "  0.4027970433,\n",
       "  0.4025975466,\n",
       "  0.39307856560000004,\n",
       "  0.40418773890000004],\n",
       " ['https://www.techradar.com/news/the-web3-industry-lost-billions-to-crypto-fraud-last-year',\n",
       "  'audio player loading business individual working web industry lost almost billion last year fraud cybercrime new report shown web idea behind possible next version internet built decentralized solution blockchain token based economics web still brand new world full unknown path said mitchell amador founder ceo immunefi education beyond endpoint protection open new tab phishing social engineering thing like cryptocurrency wallet private key common defi decentralized finance application best identity theft protection open new tab solution right nowvia venturebeat open new tab',\n",
       "  0.6827000000000001,\n",
       "  0.6498,\n",
       "  0.641,\n",
       "  0.6336,\n",
       "  0.6066,\n",
       "  0.6414666667000001,\n",
       "  0.5706878901,\n",
       "  0.5601846576,\n",
       "  0.5599405766000001,\n",
       "  0.5548332930000001,\n",
       "  0.5400959849,\n",
       "  0.558319509],\n",
       " ['https://www.techradar.com/news/adobe-is-almost-definitely-using-your-content-to-train-ai',\n",
       "  'social medium user highlighted photoshop developer us content saved server appears adobe may using train adobe content analysisthe online pushback began adobe added content analysis data collection permission forcing user opt controversial plan circulated screenshot new option explains adobe may analyze content using technique machine learning develop improve product service company explains adobe primarily us machine learning creative cloud document cloud analyze content includes adobe stock adobe express lightroom submission beta participation improvement program processing structural element pdfs',\n",
       "  0.578,\n",
       "  0.5691,\n",
       "  0.5591,\n",
       "  0.5578000000000001,\n",
       "  0.5042,\n",
       "  0.5660000000000001,\n",
       "  0.5059462786,\n",
       "  0.46749040480000004,\n",
       "  0.4573185742,\n",
       "  0.43975302580000003,\n",
       "  0.43524819610000004,\n",
       "  0.46115129590000004],\n",
       " ['https://www.techradar.com/news/microsoft-teams-could-soon-be-coming-to-a-massive-screen-near-you',\n",
       "  'audio player loading microsoft partnered chinese electronics company hisense new large screen display designed specifically use video conferencing platform update microsoft china news site open new tab announced microsoft team would available hisense range android powered touch panel available inch configuration user seeking ultimate customizability may want consider dedicated video bar hisense display equipped camera sound system provide one solution meeting room hisense microsoft teamsthis move see chinese company move one step closer expanding business display global audience intention provide product europe middle east africa asia pacific using team hisense display made possible hiteams app promise range login type including authenticated client access anonymous participation',\n",
       "  0.6825,\n",
       "  0.6499,\n",
       "  0.645,\n",
       "  0.6335000000000001,\n",
       "  0.6197,\n",
       "  0.637025,\n",
       "  0.611545682,\n",
       "  0.5726677775,\n",
       "  0.5595760345,\n",
       "  0.5542013645,\n",
       "  0.5516297817,\n",
       "  0.5595187396],\n",
       " ['https://www.springwise.com/innovation/computing-tech/the-first-fully-recyclable-computer-chip-substrate/',\n",
       "  'spotted waste huge growing problem one common type waste computer printed circuit board pcb made fibreglass commercial method recycling pcbs involves shredding incinerating extract precious metal inefficient energy intensive recovers precious metal allows precious metal component easily safely recovered remaining solution disposed using standard domestic wastewater system',\n",
       "  0.4913,\n",
       "  0.41400000000000003,\n",
       "  0.3816,\n",
       "  0.3753,\n",
       "  0.3678,\n",
       "  0.384675,\n",
       "  0.3801858723,\n",
       "  0.3628860712,\n",
       "  0.35268837210000004,\n",
       "  0.33020618560000004,\n",
       "  0.29837572570000004,\n",
       "  0.3448684454],\n",
       " ['https://www.npr.org/2023/01/09/1145040599/ppp-loan-forgiveness',\n",
       "  'paycheck protection program went good intention huge free allenlarge image toggle caption getty image mark harris npr getty image mark harris nprwhen paycheck protection program launched pandemic shutdown spring immediately became chaotic free enlarge image toggle caption mandel ngan afp via getty image mandel ngan afp via getty imagescongress also expanded way loan money could spent hearing mnuchin pledged government official would stricter ppp loan forgiveness loan approval ultimately talerman said would still say term awful lot small business ppp saved day ppp loan kept worker payroll far loan remains unforgiven',\n",
       "  0.46480000000000005,\n",
       "  0.40840000000000004,\n",
       "  0.40440000000000004,\n",
       "  0.4037,\n",
       "  0.4027,\n",
       "  0.4048,\n",
       "  0.4258283973,\n",
       "  0.42110240460000004,\n",
       "  0.4207891226,\n",
       "  0.4102617502,\n",
       "  0.4072882235,\n",
       "  0.4170539796],\n",
       " ['https://www.npr.org/2023/01/09/1147549845/gptzero-ai-chatgpt-edward-tian-plagiarism',\n",
       "  'motivation create bot fight see increase plagiarism gptzero worksto determine whether excerpt written bot gptzero us two indicator perplexity burstiness designing app shed light separate human tool help work toward core mission tian bringing transparency quest curb plagiarismthe college senior alone race rein plagiarism forgery open source community hugging face put tool detect whether text created gpt earlier version model used make chatgpt',\n",
       "  0.6143000000000001,\n",
       "  0.608,\n",
       "  0.6018,\n",
       "  0.5931000000000001,\n",
       "  0.5929,\n",
       "  0.60202,\n",
       "  0.5574005842,\n",
       "  0.5521302223,\n",
       "  0.5519046783,\n",
       "  0.5436525941,\n",
       "  0.5270450115,\n",
       "  0.5512720197000001],\n",
       " ['https://www.npr.org/2023/01/08/1147757260/bolsonaro-supporters-storm-brazil-congress-lula',\n",
       "  'security force regain control bolsonaro supporter storm brazil congressenlarge image toggle caption sergio lima afp via getty image sergio lima afp via getty imagessupporters former brazilian president jair bolsonaro stormed congress building capital bra lia sunday calling military take brazil government evening security force retaken control breached building said vio dino minister justice public security swarm bolsonaro supporter known bolsonaristas seen charging past security barrier clashing police appeared using pepper spray enlarge image toggle caption eraldo peres eraldo peres apdino said federal government sent reinforcement addition available force said already work former brazilian president left country florida late last month',\n",
       "  0.4978,\n",
       "  0.3689,\n",
       "  0.35250000000000004,\n",
       "  0.3305,\n",
       "  0.32530000000000003,\n",
       "  0.3443,\n",
       "  0.3422955871,\n",
       "  0.3379192948,\n",
       "  0.3271276057,\n",
       "  0.31369993090000003,\n",
       "  0.3070091009,\n",
       "  0.3256103039],\n",
       " ['https://www.npr.org/2023/01/07/1147452719/historic-house-speaker-showdown-highlighted-matters-of-race-and-representation',\n",
       "  'historic house speaker showdown highlighted matter race representationenlarge image toggle caption chip somodevilla getty image chip somodevilla getty imagesas protracted voting speaker house ground congress standstill multiple day week race history permeated debate best reflect american electorate hill though caucus struggled unite behind california rep kevin mccarthy multiple vote nearly week ultimately elected house speaker early saturday round voting earlier week deadlock saw byron donalds black representative florida emerge potential spoiler candidate amid house speaker debate week missouri democrat cori bush pushed back idea donalds historic candidate speaker regardless motivation underlying donalds nomination candidacy little hamstring mccarthy bid',\n",
       "  0.5456,\n",
       "  0.48350000000000004,\n",
       "  0.4767,\n",
       "  0.4677,\n",
       "  0.4667,\n",
       "  0.47365,\n",
       "  0.5048256516,\n",
       "  0.4891751707,\n",
       "  0.4814423323,\n",
       "  0.4162948728,\n",
       "  0.392780304,\n",
       "  0.4569036663],\n",
       " ['https://www.npr.org/2023/01/08/1147733802/california-braces-for-more-storms-as-thousands-are-still-without-power',\n",
       "  'national weather service warned relentless parade atmospheric river coming week producing heavy rain mountain snow atmospheric river storm long plume moisture stretching pacific capable dropping staggering amount rain snow wet weather come day rain california pacific storm series recent weather system knocked power thousand flooded street battered coastline caused least six death high surf expected tuesday large wave west facing beach national weather service said',\n",
       "  0.436,\n",
       "  0.43210000000000004,\n",
       "  0.4273,\n",
       "  0.4071,\n",
       "  0.3854,\n",
       "  0.41758,\n",
       "  0.35477191210000003,\n",
       "  0.34517806770000004,\n",
       "  0.34517806770000004,\n",
       "  0.34251454470000003,\n",
       "  0.3398317695,\n",
       "  0.3431756124],\n",
       " ['https://www.npr.org/2023/01/08/1147735477/seattles-schools-are-suing-tech-giants-for-harming-young-peoples-mental-health',\n",
       "  'seattle school suing tech giant harming young people mental healthenlarge image toggle caption apseattle public school district seattle filed novel lawsuit tech giant behind tiktok instagram facebook youtube snapchat seeking hold accountable mental health crisis among youth seattle public school filed lawsuit friday district court page complaint say social medium company created public nuisance targeting product child defendant successfully exploited vulnerable brain youth hooking ten million student across country positive feedback loop excessive use abuse defendant social medium platform complaint said alleged platform prioritized profit safety hid research investor public',\n",
       "  0.5949,\n",
       "  0.5429,\n",
       "  0.534,\n",
       "  0.5291,\n",
       "  0.5272,\n",
       "  0.5333,\n",
       "  0.8644266725,\n",
       "  0.8287718296000001,\n",
       "  0.7246912718,\n",
       "  0.6610531807000001,\n",
       "  0.49508771300000004,\n",
       "  0.7148061335],\n",
       " ['https://www.npr.org/2022/12/27/1144390761/why-republican-elites-backed-trump-power-belonging-and-voter-pressure',\n",
       "  'republican elite backed trump power belonging voter pressureenlarge image toggle caption han pennink han pennink apit easy forget many donald trump loudest ally nothing insult man majority republican voter want someone else nominee end winning really really close race kind got hooked politics also political director republican voter trump project aimed getting republican vote joe biden animosity among republican voter towards democrat among many democrat towards republican huge',\n",
       "  0.47500000000000003,\n",
       "  0.46780000000000005,\n",
       "  0.44830000000000003,\n",
       "  0.4349,\n",
       "  0.43060000000000004,\n",
       "  0.45132000000000005,\n",
       "  0.4098859727,\n",
       "  0.40254282950000003,\n",
       "  0.384660691,\n",
       "  0.3793870211,\n",
       "  0.3654870689,\n",
       "  0.3883927166],\n",
       " ['https://www.nextgov.com/analytics-data/2023/01/nasa-science-directorate-wants-help-prioritizing-what-digital-resources-it-should-open-source-first/381501/?oref=ng-skybox-hp',\n",
       "  'cooky used way constitutes sale data ccpa cooky used way constitutes sale data ccpa cooky used way constitutes sale data ccpa may opt use cooky associated sale personal information using toggle switch may opt use cooky associated sale personal information using toggle switch',\n",
       "  0.6864,\n",
       "  0.5793,\n",
       "  0.4747,\n",
       "  0.44210000000000005,\n",
       "  0.44210000000000005,\n",
       "  0.52492,\n",
       "  0.2732308209,\n",
       "  0.2614496946,\n",
       "  0.2603895366,\n",
       "  0.2603548169,\n",
       "  0.2589393854,\n",
       "  0.2602833584],\n",
       " ['https://www.nextgov.com/emerging-tech/2023/01/fda-set-issue-final-rule-classifying-vr-therapy-device-pain-relief/381504/?oref=ng-skybox-hp',\n",
       "  'cooky used way constitutes sale data ccpa set browser block alert cooky part site work intended cooky used way constitutes sale data ccpa may opt use cooky associated sale personal information using toggle switch track across different device browser gemg property selection take effect browser device website',\n",
       "  0.6997,\n",
       "  0.6667000000000001,\n",
       "  0.5474,\n",
       "  0.5243,\n",
       "  0.5243,\n",
       "  0.59248,\n",
       "  0.35470223430000003,\n",
       "  0.3464422226,\n",
       "  0.33946129680000003,\n",
       "  0.3381547332,\n",
       "  0.33246052270000004,\n",
       "  0.3422442019],\n",
       " ['https://www.nextgov.com/emerging-tech/2023/01/fcc-releases-proposed-rule-give-drones-more-spectrum-access/381513/?oref=ng-skybox-hp',\n",
       "  'cooky used way constitutes sale data ccpa cooky used way constitutes sale data ccpa cooky used way constitutes sale data ccpa may opt use cooky associated sale personal information using toggle switch may opt use cooky associated sale personal information using toggle switch',\n",
       "  0.6864,\n",
       "  0.5793,\n",
       "  0.4747,\n",
       "  0.44210000000000005,\n",
       "  0.44210000000000005,\n",
       "  0.52492,\n",
       "  0.2732308209,\n",
       "  0.2614496946,\n",
       "  0.2603895366,\n",
       "  0.2603548169,\n",
       "  0.2589393854,\n",
       "  0.2602833584],\n",
       " ['https://www.nextgov.com/emerging-tech/2023/01/air-force-wants-add-facial-recognition-automated-base-entrance/381591/',\n",
       "  'cooky used way constitutes sale data ccpa cooky used way constitutes sale data ccpa cooky used way constitutes sale data ccpa may opt use cooky associated sale personal information using toggle switch may opt use cooky associated sale personal information using toggle switch',\n",
       "  0.6864,\n",
       "  0.5793,\n",
       "  0.4747,\n",
       "  0.44210000000000005,\n",
       "  0.44210000000000005,\n",
       "  0.52492,\n",
       "  0.2732308209,\n",
       "  0.2614496946,\n",
       "  0.2603895366,\n",
       "  0.2603548169,\n",
       "  0.2589393854,\n",
       "  0.2602833584],\n",
       " ['https://www.nextgov.com/it-modernization/2023/01/defense-logistics-agency-shift-warehouse-management-commercial-software/381544/?oref=ng-home-top-story',\n",
       "  'cooky used way constitutes sale data ccpa cooky used way constitutes sale data ccpa cooky used way constitutes sale data ccpa may opt use cooky associated sale personal information using toggle switch may opt use cooky associated sale personal information using toggle switch',\n",
       "  0.6864,\n",
       "  0.5793,\n",
       "  0.4747,\n",
       "  0.44210000000000005,\n",
       "  0.44210000000000005,\n",
       "  0.52492,\n",
       "  0.2732308209,\n",
       "  0.2614496946,\n",
       "  0.2603895366,\n",
       "  0.2603548169,\n",
       "  0.2589393854,\n",
       "  0.2602833584],\n",
       " ['https://www.nextgov.com/emerging-tech/2023/01/state-department-creates-first-office-devoted-emerging-technology-diplomacy/381459/',\n",
       "  'cooky used way constitutes sale data ccpa cooky used way constitutes sale data ccpa cooky used way constitutes sale data ccpa may opt use cooky associated sale personal information using toggle switch may opt use cooky associated sale personal information using toggle switch',\n",
       "  0.6864,\n",
       "  0.5793,\n",
       "  0.4747,\n",
       "  0.44210000000000005,\n",
       "  0.44210000000000005,\n",
       "  0.52492,\n",
       "  0.2732308209,\n",
       "  0.2614496946,\n",
       "  0.2603895366,\n",
       "  0.2603548169,\n",
       "  0.2589393854,\n",
       "  0.2602833584],\n",
       " ['https://www.nextgov.com/technology-news/2023/01/biden-renominates-sohn-serve-5th-fcc-commissioner/381451/',\n",
       "  'cooky used way constitutes sale data ccpa cooky used way constitutes sale data ccpa cooky used way constitutes sale data ccpa may opt use cooky associated sale personal information using toggle switch may opt use cooky associated sale personal information using toggle switch',\n",
       "  0.6864,\n",
       "  0.5793,\n",
       "  0.4747,\n",
       "  0.44210000000000005,\n",
       "  0.44210000000000005,\n",
       "  0.52492,\n",
       "  0.2732308209,\n",
       "  0.2614496946,\n",
       "  0.2603895366,\n",
       "  0.2603548169,\n",
       "  0.2589393854,\n",
       "  0.2602833584],\n",
       " ['https://www.nextgov.com/cxo-briefing/2023/01/cdc-wants-real-time-data-covid-flu-vaccine-effectiveness/381390/',\n",
       "  'cooky used way constitutes sale data ccpa cooky used way constitutes sale data ccpa cooky used way constitutes sale data ccpa may opt use cooky associated sale personal information using toggle switch may opt use cooky associated sale personal information using toggle switch',\n",
       "  0.6864,\n",
       "  0.5793,\n",
       "  0.4747,\n",
       "  0.44210000000000005,\n",
       "  0.44210000000000005,\n",
       "  0.52492,\n",
       "  0.2732308209,\n",
       "  0.2614496946,\n",
       "  0.2603895366,\n",
       "  0.2603548169,\n",
       "  0.2589393854,\n",
       "  0.2602833584],\n",
       " ['https://www.nextgov.com/emerging-tech/2022/12/wireless-intelligence-community-horizon-official-says/381065/',\n",
       "  'wireless device phone tablet maybe even smart watch could soon welcome inside secure facility according intel official think inevitable term incorporation wireless community facility douglas cossa chief information officer defense intelligence agency said thursday think really horizon going start incorporating norm opposed exception cossa said allowing wireless tech secure facility would love scenario could fly wireless type capability said agency worked national security agency get commercial device built classified system provide mobile phone tablet laptop employee need',\n",
       "  0.6094,\n",
       "  0.5969,\n",
       "  0.5756,\n",
       "  0.5715,\n",
       "  0.5711,\n",
       "  0.5849,\n",
       "  0.5590730906,\n",
       "  0.5555059910000001,\n",
       "  0.5451630354,\n",
       "  0.5424382687,\n",
       "  0.5314128995,\n",
       "  0.546718657],\n",
       " ['https://www.nextgov.com/emerging-tech/2022/12/evs-building-emissions-among-bidens-sustainable-energy-priorities/380956/',\n",
       "  'cooky used way constitutes sale data ccpa cooky used way constitutes sale data ccpa cooky used way constitutes sale data ccpa may opt use cooky associated sale personal information using toggle switch may opt use cooky associated sale personal information using toggle switch',\n",
       "  0.6864,\n",
       "  0.5793,\n",
       "  0.4747,\n",
       "  0.44210000000000005,\n",
       "  0.44210000000000005,\n",
       "  0.52492,\n",
       "  0.2732308209,\n",
       "  0.2614496946,\n",
       "  0.2603895366,\n",
       "  0.2603548169,\n",
       "  0.2589393854,\n",
       "  0.2602833584],\n",
       " ['https://www.nextgov.com/cybersecurity/2022/12/federal-government-moving-memory-safety-cybersecurity/381275/',\n",
       "  'cooky used way constitutes sale data ccpa cooky used way constitutes sale data ccpa cooky used way constitutes sale data ccpa may opt use cooky associated sale personal information using toggle switch may opt use cooky associated sale personal information using toggle switch',\n",
       "  0.6864,\n",
       "  0.5793,\n",
       "  0.4747,\n",
       "  0.44210000000000005,\n",
       "  0.44210000000000005,\n",
       "  0.52492,\n",
       "  0.2732308209,\n",
       "  0.2614496946,\n",
       "  0.2603895366,\n",
       "  0.2603548169,\n",
       "  0.2589393854,\n",
       "  0.2602833584],\n",
       " ['https://www.nextgov.com/cxo-briefing/2022/12/ukraine-tech-chief-cloud-migration-saved-ukrainian-government-and-economy/380328/',\n",
       "  'cooky used way constitutes sale data ccpa cooky used way constitutes sale data ccpa cooky used way constitutes sale data ccpa may opt use cooky associated sale personal information using toggle switch may opt use cooky associated sale personal information using toggle switch',\n",
       "  0.6864,\n",
       "  0.5793,\n",
       "  0.4747,\n",
       "  0.44210000000000005,\n",
       "  0.44210000000000005,\n",
       "  0.52492,\n",
       "  0.2732308209,\n",
       "  0.2614496946,\n",
       "  0.2603895366,\n",
       "  0.2603548169,\n",
       "  0.2589393854,\n",
       "  0.2602833584],\n",
       " ['https://www.nextgov.com/technology-news/2022/11/va-has-plan-attract-workers-displaced-widespread-tech-industry-layoffs/380127/',\n",
       "  'cooky used way constitutes sale data ccpa cooky used way constitutes sale data ccpa cooky used way constitutes sale data ccpa may opt use cooky associated sale personal information using toggle switch may opt use cooky associated sale personal information using toggle switch',\n",
       "  0.6864,\n",
       "  0.5793,\n",
       "  0.4747,\n",
       "  0.44210000000000005,\n",
       "  0.44210000000000005,\n",
       "  0.52492,\n",
       "  0.2732308209,\n",
       "  0.2614496946,\n",
       "  0.2603895366,\n",
       "  0.2603548169,\n",
       "  0.2589393854,\n",
       "  0.2602833584],\n",
       " ['https://www.morningstar.com/articles/859045/a-tax-and-ira-guide-for-procrastinators',\n",
       "  'tax day tuesday april year meaning precious little time left make ira contribution tax year submit return pulled together collection recent content tax ira matter help make thing little easier kinnel favorite ira picksruss kinnel share core noncore actively managed stock fund idea ira contribution favorite stock pick ira contributionsmorningstar dan rohr say compass mineral dominion resource good pick learn tax returndespite new tax law recently completed tax document yield valuable intelligence financial investment life',\n",
       "  0.4501,\n",
       "  0.3554,\n",
       "  0.34140000000000004,\n",
       "  0.33680000000000004,\n",
       "  0.32180000000000003,\n",
       "  0.33885000000000004,\n",
       "  0.3746958375,\n",
       "  0.3586795926,\n",
       "  0.3470337391,\n",
       "  0.34245166180000003,\n",
       "  0.3413881361,\n",
       "  0.3528497934],\n",
       " ['https://www.morningstar.com/news/dow-jones/202301097392/sonnet-biotherapeutics-shares-up-8-on-roche-collaboration',\n",
       "  'josh beckermanshares sonnet biotherapeutics holding inc announced clinical collaboration agreement roche holding sonnet first combination clinical study sonnet son roche atezolizumab evaluated patient platinum resistant ovarian cancer october sonnet announced collaboration agreement janssen biotech inc part johnson johnson said son son son would evaluated combination certain janssen proprietary cell therapy asset write josh beckerman josh beckerman wsj com end dow jones newswiresjanuary gmt copyright dow jones company inc',\n",
       "  0.47950000000000004,\n",
       "  0.4385,\n",
       "  0.4333,\n",
       "  0.4214,\n",
       "  0.391,\n",
       "  0.4310666667,\n",
       "  0.41324239970000004,\n",
       "  0.3778163195,\n",
       "  0.37244018910000004,\n",
       "  0.34992641210000003,\n",
       "  0.3360052407,\n",
       "  0.3698861122],\n",
       " ['https://www.morningstar.com/articles/1131485/this-globe-trotting-smid-cap-fund-earns-an-upgrade-to-gold',\n",
       "  'pillar change resulted newly minted morningstar analyst rating gold seven cheapest share class silver pricier share portfolio manager helm american fund smallcap world small army guiding portfolio portfolio manager split responsibility overseeing billion billion sleeve portfolio manager least year industry experience year unexpected change drove process pillar downgrade average average subsequent morningstar analyst rating decline neutral silver',\n",
       "  0.5119,\n",
       "  0.4637,\n",
       "  0.4567,\n",
       "  0.44320000000000004,\n",
       "  0.42060000000000003,\n",
       "  0.44605000000000006,\n",
       "  0.4443231225,\n",
       "  0.4306540191,\n",
       "  0.4264580905,\n",
       "  0.41941344740000003,\n",
       "  0.4031994641,\n",
       "  0.4248096287],\n",
       " ['https://www.morningstar.com/articles/1129359/why-vanguard-total-international-stock-etf-has-an-advantage-in-2023-and-beyond',\n",
       "  'vanguard total international stock index capture nearly international stock market low fee final portfolio weight holding market cap harness market collective wisdom stock intrinsic value low fee superior diversification put fund position expand long term advantage key proprietary morningstar metric vanguard total international stock etfmorningstar analyst rating goldprocess pillar highpeople pillar averageparent pillar highuncover top mutual fund exchange traded fund pick source investor trust morningstar investor mutual fund etf rating analysis insight backed transparent meticulous methodology',\n",
       "  0.48950000000000005,\n",
       "  0.4635,\n",
       "  0.43370000000000003,\n",
       "  0.43270000000000003,\n",
       "  0.426,\n",
       "  0.44908000000000003,\n",
       "  0.4273175299,\n",
       "  0.4173912406,\n",
       "  0.39800760150000003,\n",
       "  0.3868221343,\n",
       "  0.3868221343,\n",
       "  0.4032721281],\n",
       " ['https://www.meritalk.com/articles/biden-signs-bill-to-punish-ip-theft/',\n",
       "  'president biden jan signed law protecting american intellectual property act aim prevent china based corporation foreign company stealing intellectual property chris van hollen ben sasse neb introduced legislation mandate economic penalty firm individual involved stealing american intellectual property president biden signature bill seek steal american technology officially notice added individual president impose property blocking sanction must prohibit individual entry united state van hollen sasse first introduced legislation june later reintroduced bill april',\n",
       "  0.5609000000000001,\n",
       "  0.5454,\n",
       "  0.5383,\n",
       "  0.5288,\n",
       "  0.5262,\n",
       "  0.5399200000000001,\n",
       "  0.4806026816,\n",
       "  0.47365623710000004,\n",
       "  0.4734990597,\n",
       "  0.45828753710000003,\n",
       "  0.4496200681,\n",
       "  0.4671331167],\n",
       " ['https://www.meritalk.com/articles/ferc-undertaking-review-of-power-grid-security-reliability-standards/',\n",
       "  'gunfire damaged two electrical substation moore county leaving people without power early december team federal energy sector regulator taken action conduct review electric grid security protocol federal energy regulatory commission ferc dec issued order directing north american electric reliability corporation nerc create report detailing effectiveness current power grid security guideline along cybersecurity concern physical security vulnerability central critical infrastructure protection utility sector mark hegerle director ferc division operation planning standard talked importance looking power grid security protocol agency public meeting dec order task nerc looking adequacy applicability criterion set forth existing physical security reliability standard cip physical security reliability standard required risk assessment set forth physical security reliability standard andwhether minimum level physical security protection required bulk power system transmission station substation primary control center',\n",
       "  0.8048000000000001,\n",
       "  0.7705000000000001,\n",
       "  0.6428,\n",
       "  0.5886,\n",
       "  0.5828,\n",
       "  0.6779000000000001,\n",
       "  0.6416445971,\n",
       "  0.6311177015,\n",
       "  0.6049355268000001,\n",
       "  0.5804218054,\n",
       "  0.5692433119,\n",
       "  0.6054725885000001],\n",
       " ['https://www.meritalk.com/articles/u-s-army-cio-raj-iyer-to-step-down/',\n",
       "  'raj iyer chief information officer cio army plan step position coming week transitioning department defense dod private industry according linkedin post iyer first civilian hold cio position army year history tenure iyer spearheaded many project catapulted army technological ability next generation addition iyer tackled challenge outlining army key zero trust objective role iyer led army handling cybersecurity zero trust challenge',\n",
       "  0.655,\n",
       "  0.5935,\n",
       "  0.5743,\n",
       "  0.55,\n",
       "  0.5454,\n",
       "  0.58364,\n",
       "  0.5734009743,\n",
       "  0.5521855950000001,\n",
       "  0.5446660519000001,\n",
       "  0.5257464647,\n",
       "  0.522747159,\n",
       "  0.543749249],\n",
       " ['https://www.meritalk.com/articles/house-republicans-prioritize-slashing-80b-irs-funding/',\n",
       "  'congressional budget office report found irs would double workforce multi billion dollar spending plan report congress irs said fewer employee decade ago house republican planned bill would take aim agency plan hire nearly employee coming year proposed legislation house republican leader attempting keep promise made midterm election make defunding irs top priority however neither side aisle proceed political agenda new speaker house decided',\n",
       "  0.5654,\n",
       "  0.5301,\n",
       "  0.5223,\n",
       "  0.5066,\n",
       "  0.5002,\n",
       "  0.5148,\n",
       "  0.4707021713,\n",
       "  0.4676587284,\n",
       "  0.45830750470000003,\n",
       "  0.4572030306,\n",
       "  0.45121321080000004,\n",
       "  0.46101692910000003],\n",
       " ['https://www.meritalk.com/study/ai-poised-to-help-federal-cyber-missions/',\n",
       "  'poised help federal cyber missionsthe federal cybersecurity landscape perilous also promising data pouring manager scrambling ward increasingly sophisticated cyberattacks fact estimated percent cyber data today left floor never collected analyzed special report examine artificial intelligence help federal agency employing machine learning exponential speed make sense threat data guard threat download understand',\n",
       "  0.7028,\n",
       "  0.6974,\n",
       "  0.6954,\n",
       "  0.6865,\n",
       "  0.6763,\n",
       "  0.6916800000000001,\n",
       "  0.6434821486,\n",
       "  0.6386870146,\n",
       "  0.6345938444,\n",
       "  0.6317306161,\n",
       "  0.625387013,\n",
       "  0.6347761273],\n",
       " ['https://innovationmanagement.se/2020/03/24/coronavirus-crisis-only-heightens-the-need-for-innovation-and-co-creation/',\n",
       "  'coronavirus crisis heightens need innovation creationthose work innovation management sector need convincing benefit bring business government department world one disruption taking place right across world coronavirus coronavirus collaborationsome language used around coronavirus already counter intuitive idea collaboration innovation creation never truer right coronavirus crisis innovation industry already understands advantage creation innovation bring coronavirus crisis heightened need innovative approach elsewhere',\n",
       "  1.0,\n",
       "  0.5509000000000001,\n",
       "  0.5375,\n",
       "  0.53,\n",
       "  0.5202,\n",
       "  0.5346500000000001,\n",
       "  0.5283148289,\n",
       "  0.5035794377,\n",
       "  0.5026097298000001,\n",
       "  0.4999327958,\n",
       "  0.4971610904,\n",
       "  0.5008207634],\n",
       " ['https://hbr.org/2019/11/what-companies-that-are-good-at-innovation-get-right',\n",
       "  'company innovation leader fielded survey earlier year collaboration kpmg llp try find set successful innovator apart like company survey model company told acutely aware company demand near term result confidence spring envision enact innovation strategy long term model company innovation muscle get built long haul unfortunately many company innovation like treadmill purchased january represents idealized future vision abandoned quickly',\n",
       "  0.5865,\n",
       "  0.5442,\n",
       "  0.5388000000000001,\n",
       "  0.5369,\n",
       "  0.5247,\n",
       "  0.5399666667,\n",
       "  0.4988984168,\n",
       "  0.4936737418,\n",
       "  0.4936585724,\n",
       "  0.4864268899,\n",
       "  0.4851309955,\n",
       "  0.4915577233],\n",
       " ['https://innovationmanagement.se/2019/11/06/how-can-you-use-gamification-to-boost-innovation/',\n",
       "  'use gamification boost innovation serious game based innovation methodology extremely useful tool different phrase implementing innovation company gamification help different phase innovation processcompanies becoming increasingly aware benefit gamification short serious game based innovation methodology extremely useful tool different phrase implementing innovation company authorceo founder binnakle innovation game organizer gamification daydegree management mba solvay business school belgium',\n",
       "  0.6731,\n",
       "  0.4985,\n",
       "  0.4793,\n",
       "  0.4621,\n",
       "  0.4602,\n",
       "  0.475025,\n",
       "  0.45808801050000003,\n",
       "  0.42381003500000003,\n",
       "  0.396106571,\n",
       "  0.3918257952,\n",
       "  0.3915180862,\n",
       "  0.41226969960000004],\n",
       " ['https://hbr.org/2019/08/what-people-hate-about-being-managed-by-algorithms-according-to-a-study-of-uber-drivers',\n",
       "  'together lior zalmanson tel aviv university robert gregory university virginia conducted multi method study uber driver new york london found uber driver three area consistent complaint working algorithm concern also seen company using algorithmic management constant surveillance soon log onto uber app driver watched scrutinized platform algorithm app track gps location speed acceptance rate customer request believe may amplify uber driver negative feeling constant surveillance additional layer technology mediated attention app learning lot uber driver find frustrating little know app',\n",
       "  0.5246000000000001,\n",
       "  0.49810000000000004,\n",
       "  0.48950000000000005,\n",
       "  0.4772,\n",
       "  0.46900000000000003,\n",
       "  0.49168000000000006,\n",
       "  0.4262378812,\n",
       "  0.4085124135,\n",
       "  0.4074236453,\n",
       "  0.3879958391,\n",
       "  0.3874894083,\n",
       "  0.4035318375],\n",
       " ['https://www.digitaltonto.com/2019/is-artificial-intelligence-the-new-productivity-paradox/',\n",
       "  'artificial intelligence new productivity paradox economist found turn event strange called productivity paradox underline confusion juncture expert would debate whether digital technology produced real value merely mirage one thing digital technology focus company customer sutton continues getting startedone salient least discussed aspect artificial intelligence inherently digital technology',\n",
       "  1.0,\n",
       "  0.6916,\n",
       "  0.5826,\n",
       "  0.5672,\n",
       "  0.5635,\n",
       "  0.601225,\n",
       "  0.5363003612,\n",
       "  0.5333877802,\n",
       "  0.5249727964,\n",
       "  0.5231454372000001,\n",
       "  0.5195434093,\n",
       "  0.5274699569],\n",
       " ['https://www.ibm.com/blogs/blockchain/2022/02/digital-transformation-sustainability-ibv/',\n",
       "  'digital business transformation could hand hand sustainability transformation study found integrating sustainability digital transformation effort small group transformative trailblazer emerged executive cite mobile internet thing iot cloud technology essential achieving sustainability goal integrating sustainability digital transformation effort firm using sustainability differentiate marketplace create business value understand sustainability business transformation hand hand well positioned become leader within industry',\n",
       "  0.6246,\n",
       "  0.5807,\n",
       "  0.5807,\n",
       "  0.5807,\n",
       "  0.5758,\n",
       "  0.5807,\n",
       "  0.5640870333,\n",
       "  0.5417355895,\n",
       "  0.5105946064,\n",
       "  0.5094711781,\n",
       "  0.5083081722,\n",
       "  0.5268393159],\n",
       " ['https://www.health.com/shingles-long-term-risk-heart-attack-stroke-6835403',\n",
       "  'people shingle may increased risk heart attack stroke long term availability safe effective shingle vaccine help reduce risk shingle well cardiovascular complication expert believe damage often due inflammation increase person risk stroke heart attack shingle live shingle vaccine called zostavax longer available since shingrix vaccine safer effective preventing shingle cardiovascular disease death account death according cdc',\n",
       "  0.5412,\n",
       "  0.5074000000000001,\n",
       "  0.4973,\n",
       "  0.4894,\n",
       "  0.4687,\n",
       "  0.4907,\n",
       "  0.5036773682,\n",
       "  0.5012460351,\n",
       "  0.4861643016,\n",
       "  0.484462738,\n",
       "  0.47955432530000003,\n",
       "  0.49102095370000004],\n",
       " ['https://www.health.com/cdc-invasive-group-a-strep-infections-7091163',\n",
       "  'cdc investigating rise invasive group strep infection among child left untreated invasive group strep infection lead serious illness require immediate medical attention center disease control prevention investigating increase invasive group streptococcal iga infection among child agency announced last month invasive group strep infection explainedbacteria called streptococcus pyogenes also known group streptococcus group strep wide range condition including invasive noninvasive disease prevent major symptom influenza reduce risk see invasive group strep infection well said flores',\n",
       "  0.8312,\n",
       "  0.7902,\n",
       "  0.4892,\n",
       "  0.4872,\n",
       "  0.48560000000000003,\n",
       "  0.61668,\n",
       "  0.6963523030000001,\n",
       "  0.5132858753,\n",
       "  0.4816712737,\n",
       "  0.4713243246,\n",
       "  0.46435594560000004,\n",
       "  0.4826593548],\n",
       " ['https://www.govpilot.com/blog/local-government-endangered-species-act-strategy',\n",
       "  'local government responsibility protect local specie loss endangered specie effect local governmentsthe loss endangered specie affect every aspect government public health agriculture economy endangered specie concerned aboutlocal government devote focus endangered specie specific area endangered specie faq show government technology help managing endangered specie endangered specie act federal legislation requires local government protect endangered specie',\n",
       "  0.42460000000000003,\n",
       "  0.4073,\n",
       "  0.36460000000000004,\n",
       "  0.3468,\n",
       "  0.3433,\n",
       "  0.37732000000000004,\n",
       "  0.38713139300000005,\n",
       "  0.37050276990000003,\n",
       "  0.3485230803,\n",
       "  0.3366211653,\n",
       "  0.3346425891,\n",
       "  0.3554841995],\n",
       " ['https://www.govtech.com/biz/gov-tech-market-gains-steam-breaks-records-in-2021',\n",
       "  'adobe stockspecific pain pointsthe market going big change crossing chasm cloud software service big way acquirer active continue active buyer gov tech along investor lookout new class rise speak government responding demand investing digital solution none mean ongoing growth gov tech market every area perfectly covered public agency much like startup much without right people security also stand prime concern public agency gov tech landscape expands take startup true state several mandatory law place make business state government challenging',\n",
       "  1.0,\n",
       "  0.6991,\n",
       "  0.583,\n",
       "  0.5795,\n",
       "  0.5756,\n",
       "  0.6093000000000001,\n",
       "  0.5204632282,\n",
       "  0.5178056955,\n",
       "  0.5076057911,\n",
       "  0.49705314640000003,\n",
       "  0.4899362922,\n",
       "  0.5065728307],\n",
       " ['https://www.govexec.com/management/2022/12/here-are-major-takeaways-17-trillion-omnibus-spending-bill/381162/?oref=ge-skybox-lander',\n",
       "  'cooky used way constitutes sale data ccpa cooky used way constitutes sale data ccpa cooky used way constitutes sale data ccpa may opt use cooky associated sale personal information using toggle switch may opt use cooky associated sale personal information using toggle switch',\n",
       "  0.6864,\n",
       "  0.5793,\n",
       "  0.4747,\n",
       "  0.44210000000000005,\n",
       "  0.44210000000000005,\n",
       "  0.52492,\n",
       "  0.2732308209,\n",
       "  0.2614496946,\n",
       "  0.2603895366,\n",
       "  0.2603548169,\n",
       "  0.2589393854,\n",
       "  0.2602833584],\n",
       " ['https://www.govexec.com/feature/scaling-federal-innovation/?oref=ge-skybox',\n",
       "  'aws offer range free program initiative help upskill workforce aws skill center skillbuilder number notable example showcase aws helping federal civilian agency enable digital transformation deliver mission initial launch household eligible order four free test kit per address million household placed order free test kit first two week million first phase census data website us aws lambda amazon simple storage service amazon cloudfront provide capacity million visitor',\n",
       "  0.5828,\n",
       "  0.5402,\n",
       "  0.5391,\n",
       "  0.5209,\n",
       "  0.5192,\n",
       "  0.52985,\n",
       "  0.5687346458,\n",
       "  0.5588781238,\n",
       "  0.5547767282,\n",
       "  0.5527115464,\n",
       "  0.5497658849,\n",
       "  0.5540330708],\n",
       " ['https://www.govexec.com/technology/2022/12/cms-subcontractor-breach-potentially-exposes-sensitive-data-254000-customers/381002/',\n",
       "  'cooky used way constitutes sale data ccpa cooky used way constitutes sale data ccpa cooky used way constitutes sale data ccpa may opt use cooky associated sale personal information using toggle switch may opt use cooky associated sale personal information using toggle switch',\n",
       "  0.6864,\n",
       "  0.5793,\n",
       "  0.4747,\n",
       "  0.44210000000000005,\n",
       "  0.44210000000000005,\n",
       "  0.52492,\n",
       "  0.2732308209,\n",
       "  0.2614496946,\n",
       "  0.2603895366,\n",
       "  0.2603548169,\n",
       "  0.2589393854,\n",
       "  0.2602833584],\n",
       " ['https://www.govexec.com/technology/2022/12/lawmakers-intro-bill-ban-tiktok-us/380820/',\n",
       "  'cooky used way constitutes sale data ccpa cooky used way constitutes sale data ccpa cooky used way constitutes sale data ccpa may opt use cooky associated sale personal information using toggle switch may opt use cooky associated sale personal information using toggle switch',\n",
       "  0.6864,\n",
       "  0.5793,\n",
       "  0.4747,\n",
       "  0.44210000000000005,\n",
       "  0.44210000000000005,\n",
       "  0.52492,\n",
       "  0.2732308209,\n",
       "  0.2614496946,\n",
       "  0.2603895366,\n",
       "  0.2603548169,\n",
       "  0.2589393854,\n",
       "  0.2602833584],\n",
       " ['https://www.govexec.com/technology/2022/12/improved-data-sharing-between-ssa-and-usda-could-streamline-benefits-delivery/380808/',\n",
       "  'cooky used way constitutes sale data ccpa cooky used way constitutes sale data ccpa cooky used way constitutes sale data ccpa may opt use cooky associated sale personal information using toggle switch may opt use cooky associated sale personal information using toggle switch',\n",
       "  0.6864,\n",
       "  0.5793,\n",
       "  0.4747,\n",
       "  0.44210000000000005,\n",
       "  0.44210000000000005,\n",
       "  0.52492,\n",
       "  0.2732308209,\n",
       "  0.2614496946,\n",
       "  0.2603895366,\n",
       "  0.2603548169,\n",
       "  0.2589393854,\n",
       "  0.2602833584],\n",
       " ['https://www.govexec.com/technology/2022/12/amazon-google-microsoft-oracle-awarded-9b-pentagon-cloud-contract/380621/',\n",
       "  'pentagon wednesday announced awardees joint warfighting cloud capability jwcc contract amazon web service google microsoft oracle receiving award last year defense department named four company contender multi cloud multi vendor contract proud selected approved cloud vendor jwcc contract karen dahut ceo google public sector said statement late cia awarded commercial cloud enterprise contract five company aws microsoft google oracle ibm last april national security agency awarded billion cloud contract codenamed wild stormy aws following protest losing bidder microsoft',\n",
       "  0.8582000000000001,\n",
       "  0.7969,\n",
       "  0.7907000000000001,\n",
       "  0.7847000000000001,\n",
       "  0.781,\n",
       "  0.7883249999999999,\n",
       "  0.787499547,\n",
       "  0.777962029,\n",
       "  0.7631313801,\n",
       "  0.7591122389,\n",
       "  0.7319487333,\n",
       "  0.7639307857000001],\n",
       " ['https://www.govexec.com/technology/2022/12/tsa-wants-automate-id-verification-checkpoint-security/380515/',\n",
       "  'cooky used way constitutes sale data ccpa cooky used way constitutes sale data ccpa cooky used way constitutes sale data ccpa may opt use cooky associated sale personal information using toggle switch may opt use cooky associated sale personal information using toggle switch',\n",
       "  0.6864,\n",
       "  0.5793,\n",
       "  0.4747,\n",
       "  0.44210000000000005,\n",
       "  0.44210000000000005,\n",
       "  0.52492,\n",
       "  0.2732308209,\n",
       "  0.2614496946,\n",
       "  0.2603895366,\n",
       "  0.2603548169,\n",
       "  0.2589393854,\n",
       "  0.2602833584],\n",
       " ['https://www.govexec.com/technology/2022/11/move-digital-government-requires-more-just-technology/380277/',\n",
       "  'beeck center digital response coordinating new peer learning network people working digital government digital service network dsn growing network connects support digital service team professional government responsive open accessible everyone process system technology enabler digital end katherine benjaminpeople underestimate amount organizational change needed digital work government question modern digital service team answer include legally allowed user research partnership principle canadian digital service code canada code america digital service others compiled shared help government digital service team overcome hurdle',\n",
       "  0.6413,\n",
       "  0.5981000000000001,\n",
       "  0.5791000000000001,\n",
       "  0.5588000000000001,\n",
       "  0.5548000000000001,\n",
       "  0.58642,\n",
       "  0.5096896887,\n",
       "  0.4988979995,\n",
       "  0.4930765629,\n",
       "  0.4856313169,\n",
       "  0.48136180640000004,\n",
       "  0.4937314749],\n",
       " ['https://www.route-fifty.com/sponsors/2023/01/put-yourself-your-constituents-shoes-using-analytics-map-constituent-journey/381462/',\n",
       "  'cookie preference cookie listdo sell personal informationwhen visit website store cooky browser collect information information first third party cooky used please follow link may exercise right opt sale personal information using toggle switch opt able offer personalised ad hand personal information third party store directly personal information based uniquely identifying browser internet device',\n",
       "  1.0,\n",
       "  0.8165,\n",
       "  0.5724,\n",
       "  0.5398000000000001,\n",
       "  0.5325,\n",
       "  0.6922400000000001,\n",
       "  0.5578772426,\n",
       "  0.5048112869,\n",
       "  0.5009480715,\n",
       "  0.47943925860000003,\n",
       "  0.4355257154,\n",
       "  0.49506620570000004],\n",
       " ['https://www.govexec.com/sponsors/2023/01/insights-platforms-scalable-foundation-data-driven-decision/381415/',\n",
       "  'cookie preference cookie listdo sell personal informationwhen visit website store cooky browser collect information information first third party cooky used please follow link may exercise right opt sale personal information using toggle switch opt able offer personalised ad hand personal information third party store directly personal information based uniquely identifying browser internet device',\n",
       "  1.0,\n",
       "  0.8165,\n",
       "  0.5724,\n",
       "  0.5398000000000001,\n",
       "  0.5325,\n",
       "  0.6922400000000001,\n",
       "  0.5578772426,\n",
       "  0.5048112869,\n",
       "  0.5009480715,\n",
       "  0.47943925860000003,\n",
       "  0.4355257154,\n",
       "  0.49506620570000004],\n",
       " ['https://www.govexec.com/oversight/2023/01/va-much-slower-setting-appointments-when-sending-vets-private-sector-care/381562/',\n",
       "  'cooky used way constitutes sale data ccpa cooky used way constitutes sale data ccpa cooky used way constitutes sale data ccpa may opt use cooky associated sale personal information using toggle switch may opt use cooky associated sale personal information using toggle switch',\n",
       "  0.6864,\n",
       "  0.5793,\n",
       "  0.4747,\n",
       "  0.44210000000000005,\n",
       "  0.44210000000000005,\n",
       "  0.52492,\n",
       "  0.2732308209,\n",
       "  0.2614496946,\n",
       "  0.2603895366,\n",
       "  0.2603548169,\n",
       "  0.2589393854,\n",
       "  0.2602833584],\n",
       " ['https://www.gartner.com/en/podcasts/thinkcast/these-emerging-technologies-propel-innovation-and-digital-transformation',\n",
       "  'nfts cloud sustainability autonomic system represent various stage hype cycle framework innovation trigger trough disillusionment beyond gartner expect technology significantly affect business society people next two year organization prepare next wave digital transformation leader also navigating talent shortage esg environmental social governance challenge rapidly shifting cybersecurity landscape episode feature two segment dive theme first melissa davis analyst advises gartner client use customer analytics share detail gartner hype cycle emerging technology drive massive transformation public private sector whole lot consumer attention dig deeper discover gartner conference calendarwebinar gartner hype cycle emerging technology',\n",
       "  0.731,\n",
       "  0.6762,\n",
       "  0.676,\n",
       "  0.6648000000000001,\n",
       "  0.6546000000000001,\n",
       "  0.6679,\n",
       "  0.5444410443000001,\n",
       "  0.539891541,\n",
       "  0.5266592503,\n",
       "  0.5237694979,\n",
       "  0.5144780278000001,\n",
       "  0.5298478723],\n",
       " ['https://www.gartner.com/en/information-technology/customer-success-stories/digital-transformation-boosts-global-market-expansion',\n",
       "  'driven increasingly global economy hexing journey going global journey come need accelerate digital transformation competent creating inner value improve management consolidate core competitiveness expand share foreign market promote update product harnessing digital technology boost product development competitiveness raise brand awareness among top player global market excellent product build reputation national brand',\n",
       "  0.5219,\n",
       "  0.49870000000000003,\n",
       "  0.4842,\n",
       "  0.47190000000000004,\n",
       "  0.46790000000000004,\n",
       "  0.48892,\n",
       "  0.4981919527,\n",
       "  0.49284422400000005,\n",
       "  0.4889051318,\n",
       "  0.4823558331,\n",
       "  0.4772143364,\n",
       "  0.48790229560000004],\n",
       " ['https://www.freecodecamp.org/news/synthetic-identity-theft/',\n",
       "  'fact according figure published federal reserve bank boston august loss synthetic identity theft estimated around billion rising billion five year agobut synthetic identity theft two example synthetic theft newsthere many news recently highlighted growing prevalence synthetic identity theft commonly affected target synthetic identity theft include childrenseniorsnew immigrantsinmatescollege studentsmilitary personnel deployed abroadhow common synthetic type theft developer also take step protect company synthetic identity theft protect synthetic identity theft consumer important regularly track check credit report',\n",
       "  0.5552,\n",
       "  0.5121,\n",
       "  0.511,\n",
       "  0.5075000000000001,\n",
       "  0.4912,\n",
       "  0.5102,\n",
       "  0.42153000830000004,\n",
       "  0.42149877550000003,\n",
       "  0.4074375033,\n",
       "  0.40382996200000004,\n",
       "  0.4005263746,\n",
       "  0.4109645247],\n",
       " ['https://www.freecodecamp.org/news/how-to-become-a-better-web-developer/',\n",
       "  'become better web developer shahan web development divided three category frontend developer code frontend website direct connection userbackend developer work behind scene make sure technology power frontend run smoothlyfull stack developer know frontend backend development become better web developer determine area interestif want become expert front end back end programming goal could become full stack web developer essential trait web developer curiosity well open mind develop discipline dedication worka web developer productive requires dedication discipline conclusiona web developer created every website piece software use today good idea get headfirst considering changing job becoming web developer right away',\n",
       "  0.6638000000000001,\n",
       "  0.594,\n",
       "  0.5576,\n",
       "  0.47950000000000004,\n",
       "  0.44270000000000004,\n",
       "  0.54752,\n",
       "  0.4798108935,\n",
       "  0.459177494,\n",
       "  0.44958615300000004,\n",
       "  0.44019359350000004,\n",
       "  0.40713483100000003,\n",
       "  0.45719203350000004],\n",
       " ['https://www.foxbusiness.com/economy/goldman-sachs-lay-off-3200-people-this-week',\n",
       "  'goldman sachs planning lay many employee week source familiar matter said wall street contends uncertain economy volatile market mark latest sign cut accelerating across wall street dealmaking dry goldman sachs planning lay thousand employeesinvestment banking revenue plunged year amid slowdown merger share offering face blockbuster banker received big pay bump firm like goldman ramped hiring goldman sachs declined comment matter firm already laid employee september economy continued hammer financial sector',\n",
       "  0.6441,\n",
       "  0.6126,\n",
       "  0.5986,\n",
       "  0.5959,\n",
       "  0.585,\n",
       "  0.5980249999999999,\n",
       "  0.5938428640000001,\n",
       "  0.5710058212,\n",
       "  0.5664131641,\n",
       "  0.5542885065,\n",
       "  0.5541692376,\n",
       "  0.5679439187],\n",
       " ['https://www.foxbusiness.com/economy/jerome-powell-warns-feds-inflation-fight-could-spark-political-opposition',\n",
       "  'federal reserve chairman jerome powell tuesday stressed central bank policymakers remain committed wrestling high inflation control even though method prove politically unpopular price stability bedrock healthy economy provides public immeasurable benefit time powell said tuesday remark prepared delivery conference held sweden central bank restoring price stability inflation high require measure popular short term raise interest rate slow economy speech powell largely stuck topic central bank independence comment monetary policy may headed coming month policymakers last year voted raise interest rate seven straight time range well restrictive territory',\n",
       "  0.6565000000000001,\n",
       "  0.5690000000000001,\n",
       "  0.5456,\n",
       "  0.5414,\n",
       "  0.5317000000000001,\n",
       "  0.546925,\n",
       "  0.49189391730000004,\n",
       "  0.47932094340000003,\n",
       "  0.4684357643,\n",
       "  0.4684314728,\n",
       "  0.4652879238,\n",
       "  0.4746740043],\n",
       " ['https://www.foxbusiness.com/markets/bed-bath-beyond-sales-sink-will-close-150-stores',\n",
       "  'bed bath beyond reported loss third quarter tuesday made mention shutting business following week rumor swirling around possible bankruptcy net sale billion slipped primarily driven comparable sale decline drop customer traffic bed bath beyondthe stock lost value past month trading range sue gove president ceo bed bath beyond said release retailer implemented turnaround plan beginning third quarter following period merchandise strategy veered away get fox business clicking implementing plan expeditiously managing financial position changing landscape added',\n",
       "  0.49520000000000003,\n",
       "  0.4878,\n",
       "  0.4782,\n",
       "  0.4736,\n",
       "  0.4716,\n",
       "  0.48128000000000004,\n",
       "  0.4520237446,\n",
       "  0.4512310028,\n",
       "  0.441886127,\n",
       "  0.440564096,\n",
       "  0.4403255582,\n",
       "  0.4452061057],\n",
       " ['https://www.foxbusiness.com/lifestyle/mega-millions-jackpot-tops-1b-what-know-win',\n",
       "  'odds winning mega million billion jackpot tuesday night may slim none rare chance lucky number drawn wealth management adviser emily irwin shared need know strike gold winning number drawn friday mega million lottery soared billion fourth time little one year jackpot exceeded billion tax cash prize set estimated million third largest pot game history jackpot larger tuesday billion record billion south carolina billion illinois last july',\n",
       "  0.492,\n",
       "  0.4404,\n",
       "  0.424,\n",
       "  0.4138,\n",
       "  0.38480000000000003,\n",
       "  0.41575,\n",
       "  0.4439212978,\n",
       "  0.41699442270000003,\n",
       "  0.3887357712,\n",
       "  0.3857058585,\n",
       "  0.3818415999,\n",
       "  0.40343979],\n",
       " ['https://www.foxbusiness.com/technology/musk-drops-hints-several-upcoming-twitter-enhancements',\n",
       "  'elon musk turned twitter past day unveil new feature expected rolled early next week twitter enhanced several feature expected improve user interface social medium application enhancement include able swipe recommended followed tweet create long form tweet bookmark tweet touch button twitter bring back political advertisingaccording musk word tweet would appear like tweet timeline giving user ability click read get fox business clicking hereas long form tweet musk said early february',\n",
       "  0.645,\n",
       "  0.6198,\n",
       "  0.6109,\n",
       "  0.6038,\n",
       "  0.5883,\n",
       "  0.6057,\n",
       "  0.5651415586,\n",
       "  0.5355272293000001,\n",
       "  0.5137380958000001,\n",
       "  0.5116869211,\n",
       "  0.4917628169,\n",
       "  0.5235713243],\n",
       " ['https://www.foxbusiness.com/lifestyle/prince-harrys-spare-already-ranking-among-bestsellers',\n",
       "  'prince harry memoir spare appears raking sale ahead upcoming release monday afternoon duke sussex tell book ranked first amazon bestseller list book barnes noble top book bestseller also put spare slated release tuesday prince harry meghan markle docuseries book publisher worried memoir sale suffer royal expertpenguin random house announced tuesday global release date harry book back october harry memoir life priced full insight revelation self examination hard wisdom eternal power love grief according publisher',\n",
       "  0.41400000000000003,\n",
       "  0.38770000000000004,\n",
       "  0.3803,\n",
       "  0.37460000000000004,\n",
       "  0.3715,\n",
       "  0.378525,\n",
       "  0.4391300976,\n",
       "  0.4075312018,\n",
       "  0.4003827572,\n",
       "  0.3769379854,\n",
       "  0.3687814176,\n",
       "  0.39855269190000003],\n",
       " ['https://www.foxbusiness.com/entertainment/avatar-way-of-water-becomes-seventh-highest-grossing-film-all-time-1-7-billion-ticket-sales',\n",
       "  'avatar way water dominating box office fourth consecutive weekend earning billion taking number seven spot highest grossing movie time global ticket sale james cameron directed film surpassed billion according deadline original avatar film released became highest grossing movie history cinema global ticket sale billion three hour sci blockbuster officially overtaken film lion king jurassic world highest grossing movie release chart moreover way water profitable movie since start pandemic ravaged box office attendance sale',\n",
       "  0.8177000000000001,\n",
       "  0.4199,\n",
       "  0.4169,\n",
       "  0.4127,\n",
       "  0.3876,\n",
       "  0.41650000000000004,\n",
       "  0.3725968599,\n",
       "  0.3632479608,\n",
       "  0.3529925942,\n",
       "  0.35248062010000003,\n",
       "  0.34958696370000003,\n",
       "  0.3581809998],\n",
       " ['https://www.foxbusiness.com/technology/facebook-parent-company-meta-says-censoring-content-supports-pro-bolsonaro-raids',\n",
       "  'meta parent company facebook said monday taking post support raid brazilian government building supporter former president jair bolsonaro also designating violating event mean remove content support praise action statement continued actively following situation continue removing content violates policy brazil democratic institution full support brazilian people must undermined look forward continuing work president lula',\n",
       "  0.5522,\n",
       "  0.5304,\n",
       "  0.48650000000000004,\n",
       "  0.48260000000000003,\n",
       "  0.4661,\n",
       "  0.50356,\n",
       "  0.43710282440000003,\n",
       "  0.4312797487,\n",
       "  0.42887794970000004,\n",
       "  0.4180850983,\n",
       "  0.4119430184,\n",
       "  0.4254577279],\n",
       " ['https://www.foxbusiness.com/media/portnoy-rips-ftx-founder-bankman-fried-scam-artist-blasts-crying-left-musk-doxxing-rule',\n",
       "  'outspoken unapologetic barstool sport founder dave portnoy weighed disgraced ftx founder sam bankman fried downfall twitter file debate friday blasting scam artist cry left respectively barstool founder president claimed understand bankman fried lost track thing portnoy personally experienced business dealing private company barstool founder president said emily steel new york time article never going say anything remotely nice come learn part medium business portnoy said',\n",
       "  0.5815,\n",
       "  0.58,\n",
       "  0.544,\n",
       "  0.5223,\n",
       "  0.5193,\n",
       "  0.54942,\n",
       "  0.5038723350000001,\n",
       "  0.4972423911,\n",
       "  0.4420726299,\n",
       "  0.3804425001,\n",
       "  0.3702895641,\n",
       "  0.438783884],\n",
       " ['https://www.foxbusiness.com/economy/pandemic-learning-loss-could-cost-students-70000-lifetime-earnings',\n",
       "  'learning loss could shave lifetime earnings child school pandemic according new study stanford economist sobering forecast based analysis sharp decline score eighth grader national math test taken economic cost learning loss swamp business cycle loss said hanushek previous disruption offer insight loss could portend indicate learning loss suffered pandemic may permanent finding follow similar income drop economist studied connected learning loss natural disaster political interruption around world',\n",
       "  0.5045000000000001,\n",
       "  0.47890000000000005,\n",
       "  0.4561,\n",
       "  0.4415,\n",
       "  0.43520000000000003,\n",
       "  0.46324000000000004,\n",
       "  0.37990331650000003,\n",
       "  0.3782573044,\n",
       "  0.3606694043,\n",
       "  0.3584794402,\n",
       "  0.3538749814,\n",
       "  0.3662368894],\n",
       " ['https://www.foxbusiness.com/technology/mit-researchers-creating-self-replicating-robots-intelligence',\n",
       "  'massachusetts institute technology mit researcher building swarm tiny robot built intelligence allowing build structure vehicle even larger version building structure build intelligence mit professor cba director neil gershenfeld said statement emerged idea structural electronics making voxels transmit power data well force could build structure could build another robot size could build bigger robot cba doctoral student amira abdel rahman said statement research promising likely year see self replicating robot swarm according gershenfeld',\n",
       "  1.0,\n",
       "  0.7625000000000001,\n",
       "  0.5720000000000001,\n",
       "  0.5637,\n",
       "  0.5604,\n",
       "  0.69172,\n",
       "  0.5161787271,\n",
       "  0.4778627157,\n",
       "  0.47597011920000004,\n",
       "  0.4713379741,\n",
       "  0.4450825453,\n",
       "  0.4750569363],\n",
       " ['https://www.foxbusiness.com/personal-finance/half-workers-dont-have-401k-retirement-savings',\n",
       "  'struggling current economy consider paying high interest debt personal loan lower interest rate credit card debt burden nearly half american survey say pay downinvesting iradespite harsh market condition lack access workplace retirement plan many way people start saving retirement visit credible compare loan multiple lender find interest rate best someone facing saving shortfall retirement back give time lost opportunity start saving early never regained financial obligation preventing saving much retirement consider refinancing mortgage lower interest rate',\n",
       "  0.5382,\n",
       "  0.5022,\n",
       "  0.45370000000000005,\n",
       "  0.453,\n",
       "  0.4166,\n",
       "  0.47274000000000005,\n",
       "  0.421235919,\n",
       "  0.4195519686,\n",
       "  0.4175797999,\n",
       "  0.3898588717,\n",
       "  0.3874545693,\n",
       "  0.4071362257],\n",
       " ['https://www.foxbusiness.com/politics/stuart-varney-theres-a-demand-for-a-new-generation-of-political-leaders',\n",
       "  'latest take varney host stuart varney discussed california gov ron desantis potential presidential candidate arguing demand new generation politician stuart varney party demand new generation political leader desantis leading hypothetical presidential primary race deep red state trump twicefor republican florida governor desantis front runner let see america wanted new generation politician californian floridian',\n",
       "  0.5482,\n",
       "  0.49260000000000004,\n",
       "  0.48140000000000005,\n",
       "  0.4076,\n",
       "  0.4005,\n",
       "  0.46606000000000003,\n",
       "  0.44380670790000004,\n",
       "  0.4226148129,\n",
       "  0.3772093058,\n",
       "  0.3524404466,\n",
       "  0.3429769874,\n",
       "  0.3878096521],\n",
       " ['https://www.foxbusiness.com/lifestyle/serial-killer-john-wayne-gacys-clown-painting-sells-10k-spooky-auction',\n",
       "  'famed serial killer john wayne gacy creepy clown painting sold spooky themed auction halloween dark shadow auction held material culture live auctioneer ran day halloween public exhibition prior weekend gacy creepy clown self portrait called pogo clown fetched one higher end price unusual murderer executed lethal injection found guilty killing people painting completed gacy sat death row painted oil canvas board signed dated piece print king charles balmoral castle painting sell exceeded estimate much passed time death row painting self portrait clown producing around painting nearly year death row according crime museum',\n",
       "  0.2994,\n",
       "  0.23440000000000003,\n",
       "  0.22310000000000002,\n",
       "  0.21630000000000002,\n",
       "  0.2147,\n",
       "  0.222125,\n",
       "  0.2776936293,\n",
       "  0.27363473180000003,\n",
       "  0.2537184954,\n",
       "  0.24648122490000002,\n",
       "  0.2403359264,\n",
       "  0.2583728015],\n",
       " ['https://www.foxbusiness.com/real-estate/us-suffering-second-biggest-home-price-correction-post-wwii-era',\n",
       "  'housing market experiencing second biggest home price correction post world war era explained varney friday shoe drop would nation start see rise unemployment could leg housing market couple thing going turn opposite direction meaning home price going according fortune com housing price united state october march level roschelle predicts average home price drop peak',\n",
       "  0.6052000000000001,\n",
       "  0.5847,\n",
       "  0.5802,\n",
       "  0.549,\n",
       "  0.549,\n",
       "  0.57362,\n",
       "  0.49304714800000005,\n",
       "  0.4644608498,\n",
       "  0.4574692547,\n",
       "  0.4498200417,\n",
       "  0.44468760490000003,\n",
       "  0.4541094378],\n",
       " ['https://www.foxbusiness.com/technology/nasa-awards-adnet-systems-468m-contract',\n",
       "  'nasa awarded maryland firm adnet system inc contract worth million provide research development goddard space flight center maryland five year deal begin april mark fourth consecutive time adnet space earth science data analysis sesda contract agency nasa said announcement contract small business set aside federal regulation purpose provide array service support goddard science exploration directorate get fox business clicking herethe bethesda maryland company contract involve scientist professional education outreach specialist company said federal contractor operates nationwide agency including nasa noaa dot',\n",
       "  0.8797,\n",
       "  0.7357,\n",
       "  0.6085,\n",
       "  0.5983,\n",
       "  0.5596,\n",
       "  0.6763600000000001,\n",
       "  0.5773934722,\n",
       "  0.5486402512,\n",
       "  0.5369852781000001,\n",
       "  0.5333076715,\n",
       "  0.5204905272,\n",
       "  0.534855932]]"
      ]
     },
     "execution_count": 11,
     "metadata": {},
     "output_type": "execute_result"
    }
   ],
   "source": [
    "articleslist = df['article'].tolist()\n",
    "articleslist = df.values.tolist()\n",
    "\n",
    "articleslist"
   ]
  },
  {
   "cell_type": "code",
   "execution_count": 16,
   "id": "8f29482a",
   "metadata": {},
   "outputs": [],
   "source": [
    "# for each article URL in the dataframe:\n",
    "#     read the summary\n",
    "#     do BERTopic scoring for the article\n",
    "#     add the top-n columns to the dataframe\n",
    "#     re-serialise in JSON format\n",
    "sum_list = []\n",
    "for article in articleslist:\n",
    "    summary = article[1]\n",
    "    sum_list.append(summary)\n",
    "#     print (f\"Summary: {summary}\", end=\"\\n\\n\")\n",
    "    "
   ]
  },
  {
   "cell_type": "code",
   "execution_count": 17,
   "id": "e3c1dbc8",
   "metadata": {},
   "outputs": [
    {
     "name": "stdout",
     "output_type": "stream",
     "text": [
      "['economist created visualization showing politician twitter follower changed elon musk acquired platform visualization show percent change individual account party average october october according visualization republican gained around follower musk acquired twitter democrat lost follower take look', 'among organization building generative technology stability raised million funding october building generative model like stable diffusion requires significant amount computing power training inference aws invent conference week la vega stability formally announced chosen aws preferred cloud platform building generative tool watch herethe cloud generative hand handstability generative vendor relies public cloud help build foundation model stable diffusion us cloud generate image fasterbuilding stable diffusion exercise involves multiple step component', 'watch demand session today watch herealtman latest cautionary note probably responding last week beat column seems chatgpt horse fully barn running main street zero sign popularity slowing fact openai seems trouble keeping capacity laion one creator stable diffusion say already actively working wait', 'generative going completely alter marketing landscape among many area generative come rescue linguistically minded product like jasper copy use generative help get marketing copy idea flowing rowan curran forrester data science analyst cite speed constraint reason adopting generative example marketing lead writer create generative image designer bring visual mind work assisted copy', 'personalized cancer vaccine could provide new way fight early cancer case moderna ceo phane bancel told insider think cancer vaccine upend cancer care interview bancel shared vision personalized cancer vaccine could transform cancer care based blood work moderna would design vaccine target genetic mutation cancerous cell stand healthy cell blood test could find cancer grows much mrna vaccine could squash', 'astronaut gazing international space station i managed spot spacex starbase spaceflight facility boca chica texas mile posting image twitter wakata asked follower could spot spacex facility far unless live locally tracking spacex work site extremely closely safe bet able spot starbase let help image red circle show spacex starbase launch control center building well starbase tracking station green circle show launch site upcoming maiden test spacex next generation rocket super heavy', 'office undersecretary acquisition sustainment department defense released memorandum announcing integration federal awardee performance integrity information system system award management part ongoing modernization integrated award environment general service administration federal acquisition service oversees iae unifies manages federal award process government acquisition workforce business partner seek modernize award experience use innovative platform user download report sam showing entity basic identification information well entity information additionally proceeding data available via new entity management application program interface api memo read according document government employee continue encode non responsibility determination required data fapiis input module contractor performance assessment reporting system', 'cooky used way constitutes sale data ccpa cooky used way constitutes sale data ccpa cooky used way constitutes sale data ccpa may opt use cooky associated sale personal information using toggle switch may opt use cooky associated sale personal information using toggle switch', 'suggestion fcc could adopt include idea like giving broadband company permit unless address disparity providing subsidy help lower income people get broadband service one issue angela siefer executive director national digital inclusion alliance would like see addressed called digital redlining lower income minority neighborhood likely poor broadband service still said recommendation significant draw attention state local government cause inequitable broadband service ultimately city town village need isps table involved solution make progress preventing eliminating digital discrimination geraghty said report association noted household earning le year broadband service compared earning', 'begin paying million technical debt colorado starting million state general fund additionally agency said full time employee time allocated technical debt october nascio vmware released application modernization imperative state government report stressed application modernization defined transformation improvement migration existing system critical reducing technical debt make decision addressing technical debt know scope robinson said colorado oit face yet another challenge avoiding creating accruing technical debt making change', 'beginning ending new discovery space busy place james webb space telescope completes deployment mirror opensartists depiction jwst showing huge layered sunshield nasa gsfc cil adriana manrique gutierrezthe year began optimistic note nasa billion james webb space telescope completed final deployment without mishap russia walk away international space station international space station lose russian support nasain major upset space exploration international cooperation roscosmos chief yury borisov announced meeting july russian president vladimir putin russia formally withdraw international space station i putting future space lab jeopardy pagan stsci full operation james webb space telescope snapped incredible image one turned doozy robotic craft touched nasa kennedy space center florida record breaking day orbit', 'property level detail datageographic information system critical providing accurate actionable data govpilot color coded gi map data layer depict property specific record tax assessment data ownership information district zone detail interest department resident departmental data record tied single property profile govpilot ensuring data easily accessible date informative make map available public simply posting hyperlink website govpilot need acquire third party gi license', 'azure industry solution cut different product line azure iot hub azure iot central azure iot edge azure digital twin aws iot platform span major iiot offering aws iot core aws iot device management aws iot greengrass aws iot expresslink although azure iot edge consists edge runtime certified iot edge hardware cloud interface edge module still lack flexibility aws azure relies azure sphere azure defender opc vault microservice within azure iot core secure maintain industrial asset choosing microsoft azure aws iiot platformsmicrosoft azure aws great iiot solution provider impressive offering iiot market', 'quantum computer making classical one faster howquantum computing may rage turn classic computer use today may trick sleeve', 'space technologyscientists new discovery center galaxy shocked entire space industrycredit tech revolution', 'also may prove variant come back bite american failed get bivalent omicron specific booster shot imperative get bivalent booster maximize probability become seriously ill xbb covid several piece evidence early epidemiological study study laboratory point importance getting bivalent booster although study need repeated specifically xbb data could mean better chance fighting xbb variant get bivalent booster bottom line wait get bivalent booster far', 'expecting dozen people trying app tian told daily beast example human writing tends sentence vary complexity tian would use essay mcphee new yorker part demo gptzero despite building tool tian anti hell even used program like copilot support much coding opposed using writing make sense said beautiful quality human written prose computer never opt', 'la vega nevada despite divided congress influential senate democrat say legislation addressing technology arm race china issue related social medium could passed current two year term prospect legislation tightening social medium regulation le clear could tie national security examination said popular video sharing app tiktok driving conversation warner indicated favor broad brush approach said action address tiktok controversy likely senator mark warner warner lamented congress acted shore privacy protection address concern related social medium one possible exception said warner would legislation increase protection kid address social medium impact mental health', 'chatbotslast year chatbots including chatgpt took internet storm ability answer question posed human lifelike quality year multiple expert said people probably see public facing product come business plan altman said lab openai still attempt release product widely run headlong issue namely chatbots still wrong racist sexist time require new training method would help avoid racism sexism accurate said', 'text image generatorscraving photo dachsund puppy space style painted glass might needed commission artist get simply type request text image generator pop generated photo thin air high quality even doubter conceded impressive though still note many concern dall created openai named painter salvador dali disney pixar wall shook internet launching july august start stable diffusion launched version essentially anti dall fewer restriction used model new expert said causing sharp increase image quality', 'article said plastic foam foam styrofoam trademark construction material plump larva length paper clip survive material make plastic foam organism commonly called superworm could transform way waste manager dispose one common component landfill researcher said potentially slowing mounting garbage crisis exacerbating climate change cannot really escape plastic anymore plastic waste everywhere said christian rinke study author garbage crisis escalates scientist across world trying find bacteria living organism naturally dispose plastic waste', 'nuclear powerfor year idea large nuclear power plant powering world drawn concern many worry danger reactor present community near well radioactive waste generate high construction cost nuclear energy clean energy source important role play help get net zero faster said statement advertisementnuclear trade association conference saying nuclear power already world second largest source low carbon power providing roughly percent world electricity roughly reactor twenty year ago belgium decided nuclear bad shut rep john curtis utah told washington post', 'skip way manufactured way financed way supposed work two ship represent starkly differing approach getting earth skip nasa rocket sl rocket stage expended splashed ocean never recovered skip skip appearance functionality starship elon musk venture spacex sharp contrast nasa tried true approach story continues advertisement advertisement story continues advertisement advertisementskip divergent approach space travel nasa spacex seen engine powering rocket skip perhaps biggest innovation raptor engine spacex plan use', 'big powerful full fiery thrust space launch system rocket nasa want use propel astronaut moon orbit monster taller statue liberty spacex starship nasa plan use ferry astronaut lunar surface back rocket represent one element grand ambition possessed united state international space agency many private company set sight space past two decade space travel booming creating energy around exploration solar system seen since day apollo leading shortage question toll space travel take human body', 'choose plan arrowright speaker mccarthy mean silicon valley kevin mccarthy calif clinching speakership house guarantee tech company like facebook google face added pressure allegation censorship could spare aggressive regulation issue like data privacy competition house republican said also plan probe communication tech company biden administration advertisement need national level regulation state state going privacy mccarthy told wall street journal mccarthy seemingly bipartisan antitrust billsmccarthy critical bipartisan tech antitrust proposal advanced house judiciary committee last congress significantly dimming prospect passage expert argue limiting ability post social medium platform would major online restriction imposed political candidate office', 'push satellite communication powered partnership iridium communication operates constellation satellite new concept qualcomm iridium vision little different phone maker buy former premium chipsets device pay little extra connect latter satellite time qualcomm aim bake satellite connectivity moderately priced chipsets phone amon would say cost involved however set stone qualcomm grilli said emergency message expensive cost anything talked phone reason laptop amon said turning attention another crucial class product', 'source nasa earth observationsthe scale thickness ozone layer range dobson unit source nasa earth observationsthe scale thickness ozone layer range dobson unit source nasa earth observationsthe scale thickness ozone layer range dobson unit ozone loss dramatic south pole ozone hole appearing every spring antarctic ozone hole poster child ozone depletion newman said', 'window amid field ning saw campus china prestigious research institution birthed china nuclear program hydroelectric dam today stretch road heart china technology industry busy neighborhood subway stop glass tower housing chinese western tech company neighborhood transformation mirror dramatic change china economy culture past four decade west coverage china tech industry often focus restricted controlled government today many celebrated role opening china economy advancing technology industry', 'machine learning hand typically take different path see reasoning categorization task fixed set predetermined label exploring marvelous feature evolved human brain finally allow make machine learning smart one feature psychological explainable case flu prediction illustrates robust simple psychological algorithm often give accurate prediction complex algorithm psychological open new vision explainable instead trying explain opaque complex system check first psychological offer transparent equally accurate solution', 'memory perception seem like entirely distinct experience neuroscientist used confident brain produced differently neuroimaging study revealed part brain thought active sensory perception also active recall memory team work identified least one way memory perception image assembled differently neurological level participant perceived remembered location pattern researcher recorded brain activity effect visual processing perception matter small crisp dot evolving larger blurrier meaningful blob', 'light flash different pattern like car angry drive red car car feeling mildly introspective julian chokkattu saw guy demoing many question came head saw walk around show floor doubled walking speed worked asked said well living paris want get around fast definitely funniest thing saw far', 'european union expected finalize platform work directive new legislation regulate digital labor platform month designed carefully algorithmic management could reduce bias hiring evaluation promotion improve employee well detecting need training support current regulatory situation regarding algorithmic management complex hand welter already existing law creates unnecessary complexity organization trying use algorithmic management responsibly confusing matter algorithmic management provision new platform work directive mean platform worker long underprotected law likely protection intrusive monitoring error prone algorithmic management traditional employee', 'war ukraine shock surprise clear present danger ever since russian invasion crimea also surprise world watched russia assemble force ukraine border month digital technology transform confrontation conflict transparency precision merge advance robotics autonomy connectivity data secure cloud combination lead armed force longer people operating equipment rapidly evolving team inhabited uninhabited autonomous capability digital age drive profound transformation state confront conflict', 'year later group appears trying new twist trick hijacking usb infection hacker piggyback infection stealthily choose spying target hijacking technique appears designed let turla stay undetected hiding inside hacker footprint combing vast collection network malware already proliferated usb turla leverage without exposing looking andromeda sample command control domain mandiant saw least two expired domain reregistered total domain connected hundred andromeda infection turla could sort find subject worthy spying', 'investor fear contract include project see company technology contribute human right violation today nonprofit american baptist home mission society filed proposal asking amazon shareholder force company investigate possible human right violation government client group member investor advocate social justice us shareholder right campaign change corporate governance resolution argues company perform due diligence human right implication clientele supply chain might evaluate thing like environmental impact privacy similar resolution received roughly percent shareholder vote version percent shareholder support', 'printing begun disrupt economy tabletop miniature entrepreneur try democratize expensive somewhat monopolistic market printing changed game printing new much easier get used see lot misconception labor intensity modern printing wilson admits people watch viral video easy printing get impression come loading program pushing button', 'year technologist promised age electric vehicle cometh false start early century electric short time accounted third vehicle thanks gas crisis early two american engineer founded company called tesla motor electric vehicle going mainstream first half percent worldwide passenger vehicle sale battery electric plug hybrid fuel cell vehicle according data bloombergnef percent passenger vehicle sold first half year zero emission end decade top global automaker pledged spend astronomical trillion produce million electric vehicle according reuters analysis', 'today bluffdale home one nation largest sect polygamist apostolic united brother upwards member nsa become largest covert potentially intrusive intelligence agency ever construction contractor top secret clearance blandly named utah data center built national security agency data center say one senior intelligence official recently involved program mammoth bluffdale center another important far secret role gone unrevealed', 'every person german criminal defense lawyer spoke using encrypted phone network encrochat worried device hacked potentially exposing crime may committed realized gosh flood coming month earlier police across europe led french dutch force revealed compromised encrochat network fast forward two year thousand encrochat user across europe including germany france netherlands jail defending right accused people hacking encrochataround people signed encrochat phone network founded busted cop police hacked phone network appear break encryption instead compromised encrochat server roubaix france ultimately pushed malware device', 'successful development first mrna vaccine covid unprecedented achievement history medicine progress allowed create effective mrna vaccine administered small amount human elicit powerful immune response potential mrna vaccine go beyond coronavirus one beauty mrna technology enables rapidly test hundred vaccine target innovation could support decentralized scalable vaccine production worldwide leapfrogging toward automated digitized scalable mrna manufacturing capability', 'audio player loading microsoft reportedly discussion bring openai writer chatgpt microsoft office part effort modernise office software suite news courtesy information open new tab via two insider microsoft come techradar pro recently reported company looking bring openai chatgpt bing search engine web browser plan bring chatgpt text generation capability word powerpoint outlook apps follow another stalled attempt implement tool use openai machine learned language model office generate email document entirely possible microsoft may big plan mind chatgpt product driven openai gpt language model yet fixed estimate might become reality reason chatgpt currently marked free research preview peppered warning may occasionally generate incorrect information harmful instruction biased content', 'msi asrock removed agesa smu bios website pic twitter com wnryyxggjanuary see morehere get even thornier apparently ryzen chip affected dual ccds two chiplets word motherboard maker pulled beta firmware download portal good news grab longer anyway install beta firmware hit trouble recourse revert previous version hopefully problem pertaining ryzen solved near future amd push revised agesa release', 'audio player loading business individual working web industry lost almost billion last year fraud cybercrime new report shown web idea behind possible next version internet built decentralized solution blockchain token based economics web still brand new world full unknown path said mitchell amador founder ceo immunefi education beyond endpoint protection open new tab phishing social engineering thing like cryptocurrency wallet private key common defi decentralized finance application best identity theft protection open new tab solution right nowvia venturebeat open new tab', 'social medium user highlighted photoshop developer us content saved server appears adobe may using train adobe content analysisthe online pushback began adobe added content analysis data collection permission forcing user opt controversial plan circulated screenshot new option explains adobe may analyze content using technique machine learning develop improve product service company explains adobe primarily us machine learning creative cloud document cloud analyze content includes adobe stock adobe express lightroom submission beta participation improvement program processing structural element pdfs', 'audio player loading microsoft partnered chinese electronics company hisense new large screen display designed specifically use video conferencing platform update microsoft china news site open new tab announced microsoft team would available hisense range android powered touch panel available inch configuration user seeking ultimate customizability may want consider dedicated video bar hisense display equipped camera sound system provide one solution meeting room hisense microsoft teamsthis move see chinese company move one step closer expanding business display global audience intention provide product europe middle east africa asia pacific using team hisense display made possible hiteams app promise range login type including authenticated client access anonymous participation', 'spotted waste huge growing problem one common type waste computer printed circuit board pcb made fibreglass commercial method recycling pcbs involves shredding incinerating extract precious metal inefficient energy intensive recovers precious metal allows precious metal component easily safely recovered remaining solution disposed using standard domestic wastewater system', 'paycheck protection program went good intention huge free allenlarge image toggle caption getty image mark harris npr getty image mark harris nprwhen paycheck protection program launched pandemic shutdown spring immediately became chaotic free enlarge image toggle caption mandel ngan afp via getty image mandel ngan afp via getty imagescongress also expanded way loan money could spent hearing mnuchin pledged government official would stricter ppp loan forgiveness loan approval ultimately talerman said would still say term awful lot small business ppp saved day ppp loan kept worker payroll far loan remains unforgiven', 'motivation create bot fight see increase plagiarism gptzero worksto determine whether excerpt written bot gptzero us two indicator perplexity burstiness designing app shed light separate human tool help work toward core mission tian bringing transparency quest curb plagiarismthe college senior alone race rein plagiarism forgery open source community hugging face put tool detect whether text created gpt earlier version model used make chatgpt', 'security force regain control bolsonaro supporter storm brazil congressenlarge image toggle caption sergio lima afp via getty image sergio lima afp via getty imagessupporters former brazilian president jair bolsonaro stormed congress building capital bra lia sunday calling military take brazil government evening security force retaken control breached building said vio dino minister justice public security swarm bolsonaro supporter known bolsonaristas seen charging past security barrier clashing police appeared using pepper spray enlarge image toggle caption eraldo peres eraldo peres apdino said federal government sent reinforcement addition available force said already work former brazilian president left country florida late last month', 'historic house speaker showdown highlighted matter race representationenlarge image toggle caption chip somodevilla getty image chip somodevilla getty imagesas protracted voting speaker house ground congress standstill multiple day week race history permeated debate best reflect american electorate hill though caucus struggled unite behind california rep kevin mccarthy multiple vote nearly week ultimately elected house speaker early saturday round voting earlier week deadlock saw byron donalds black representative florida emerge potential spoiler candidate amid house speaker debate week missouri democrat cori bush pushed back idea donalds historic candidate speaker regardless motivation underlying donalds nomination candidacy little hamstring mccarthy bid', 'national weather service warned relentless parade atmospheric river coming week producing heavy rain mountain snow atmospheric river storm long plume moisture stretching pacific capable dropping staggering amount rain snow wet weather come day rain california pacific storm series recent weather system knocked power thousand flooded street battered coastline caused least six death high surf expected tuesday large wave west facing beach national weather service said', 'seattle school suing tech giant harming young people mental healthenlarge image toggle caption apseattle public school district seattle filed novel lawsuit tech giant behind tiktok instagram facebook youtube snapchat seeking hold accountable mental health crisis among youth seattle public school filed lawsuit friday district court page complaint say social medium company created public nuisance targeting product child defendant successfully exploited vulnerable brain youth hooking ten million student across country positive feedback loop excessive use abuse defendant social medium platform complaint said alleged platform prioritized profit safety hid research investor public', 'republican elite backed trump power belonging voter pressureenlarge image toggle caption han pennink han pennink apit easy forget many donald trump loudest ally nothing insult man majority republican voter want someone else nominee end winning really really close race kind got hooked politics also political director republican voter trump project aimed getting republican vote joe biden animosity among republican voter towards democrat among many democrat towards republican huge', 'cooky used way constitutes sale data ccpa cooky used way constitutes sale data ccpa cooky used way constitutes sale data ccpa may opt use cooky associated sale personal information using toggle switch may opt use cooky associated sale personal information using toggle switch', 'cooky used way constitutes sale data ccpa set browser block alert cooky part site work intended cooky used way constitutes sale data ccpa may opt use cooky associated sale personal information using toggle switch track across different device browser gemg property selection take effect browser device website', 'cooky used way constitutes sale data ccpa cooky used way constitutes sale data ccpa cooky used way constitutes sale data ccpa may opt use cooky associated sale personal information using toggle switch may opt use cooky associated sale personal information using toggle switch', 'cooky used way constitutes sale data ccpa cooky used way constitutes sale data ccpa cooky used way constitutes sale data ccpa may opt use cooky associated sale personal information using toggle switch may opt use cooky associated sale personal information using toggle switch', 'cooky used way constitutes sale data ccpa cooky used way constitutes sale data ccpa cooky used way constitutes sale data ccpa may opt use cooky associated sale personal information using toggle switch may opt use cooky associated sale personal information using toggle switch', 'cooky used way constitutes sale data ccpa cooky used way constitutes sale data ccpa cooky used way constitutes sale data ccpa may opt use cooky associated sale personal information using toggle switch may opt use cooky associated sale personal information using toggle switch', 'cooky used way constitutes sale data ccpa cooky used way constitutes sale data ccpa cooky used way constitutes sale data ccpa may opt use cooky associated sale personal information using toggle switch may opt use cooky associated sale personal information using toggle switch', 'cooky used way constitutes sale data ccpa cooky used way constitutes sale data ccpa cooky used way constitutes sale data ccpa may opt use cooky associated sale personal information using toggle switch may opt use cooky associated sale personal information using toggle switch', 'wireless device phone tablet maybe even smart watch could soon welcome inside secure facility according intel official think inevitable term incorporation wireless community facility douglas cossa chief information officer defense intelligence agency said thursday think really horizon going start incorporating norm opposed exception cossa said allowing wireless tech secure facility would love scenario could fly wireless type capability said agency worked national security agency get commercial device built classified system provide mobile phone tablet laptop employee need', 'cooky used way constitutes sale data ccpa cooky used way constitutes sale data ccpa cooky used way constitutes sale data ccpa may opt use cooky associated sale personal information using toggle switch may opt use cooky associated sale personal information using toggle switch', 'cooky used way constitutes sale data ccpa cooky used way constitutes sale data ccpa cooky used way constitutes sale data ccpa may opt use cooky associated sale personal information using toggle switch may opt use cooky associated sale personal information using toggle switch', 'cooky used way constitutes sale data ccpa cooky used way constitutes sale data ccpa cooky used way constitutes sale data ccpa may opt use cooky associated sale personal information using toggle switch may opt use cooky associated sale personal information using toggle switch', 'cooky used way constitutes sale data ccpa cooky used way constitutes sale data ccpa cooky used way constitutes sale data ccpa may opt use cooky associated sale personal information using toggle switch may opt use cooky associated sale personal information using toggle switch', 'tax day tuesday april year meaning precious little time left make ira contribution tax year submit return pulled together collection recent content tax ira matter help make thing little easier kinnel favorite ira picksruss kinnel share core noncore actively managed stock fund idea ira contribution favorite stock pick ira contributionsmorningstar dan rohr say compass mineral dominion resource good pick learn tax returndespite new tax law recently completed tax document yield valuable intelligence financial investment life', 'josh beckermanshares sonnet biotherapeutics holding inc announced clinical collaboration agreement roche holding sonnet first combination clinical study sonnet son roche atezolizumab evaluated patient platinum resistant ovarian cancer october sonnet announced collaboration agreement janssen biotech inc part johnson johnson said son son son would evaluated combination certain janssen proprietary cell therapy asset write josh beckerman josh beckerman wsj com end dow jones newswiresjanuary gmt copyright dow jones company inc', 'pillar change resulted newly minted morningstar analyst rating gold seven cheapest share class silver pricier share portfolio manager helm american fund smallcap world small army guiding portfolio portfolio manager split responsibility overseeing billion billion sleeve portfolio manager least year industry experience year unexpected change drove process pillar downgrade average average subsequent morningstar analyst rating decline neutral silver', 'vanguard total international stock index capture nearly international stock market low fee final portfolio weight holding market cap harness market collective wisdom stock intrinsic value low fee superior diversification put fund position expand long term advantage key proprietary morningstar metric vanguard total international stock etfmorningstar analyst rating goldprocess pillar highpeople pillar averageparent pillar highuncover top mutual fund exchange traded fund pick source investor trust morningstar investor mutual fund etf rating analysis insight backed transparent meticulous methodology', 'president biden jan signed law protecting american intellectual property act aim prevent china based corporation foreign company stealing intellectual property chris van hollen ben sasse neb introduced legislation mandate economic penalty firm individual involved stealing american intellectual property president biden signature bill seek steal american technology officially notice added individual president impose property blocking sanction must prohibit individual entry united state van hollen sasse first introduced legislation june later reintroduced bill april', 'gunfire damaged two electrical substation moore county leaving people without power early december team federal energy sector regulator taken action conduct review electric grid security protocol federal energy regulatory commission ferc dec issued order directing north american electric reliability corporation nerc create report detailing effectiveness current power grid security guideline along cybersecurity concern physical security vulnerability central critical infrastructure protection utility sector mark hegerle director ferc division operation planning standard talked importance looking power grid security protocol agency public meeting dec order task nerc looking adequacy applicability criterion set forth existing physical security reliability standard cip physical security reliability standard required risk assessment set forth physical security reliability standard andwhether minimum level physical security protection required bulk power system transmission station substation primary control center', 'raj iyer chief information officer cio army plan step position coming week transitioning department defense dod private industry according linkedin post iyer first civilian hold cio position army year history tenure iyer spearheaded many project catapulted army technological ability next generation addition iyer tackled challenge outlining army key zero trust objective role iyer led army handling cybersecurity zero trust challenge', 'congressional budget office report found irs would double workforce multi billion dollar spending plan report congress irs said fewer employee decade ago house republican planned bill would take aim agency plan hire nearly employee coming year proposed legislation house republican leader attempting keep promise made midterm election make defunding irs top priority however neither side aisle proceed political agenda new speaker house decided', 'poised help federal cyber missionsthe federal cybersecurity landscape perilous also promising data pouring manager scrambling ward increasingly sophisticated cyberattacks fact estimated percent cyber data today left floor never collected analyzed special report examine artificial intelligence help federal agency employing machine learning exponential speed make sense threat data guard threat download understand', 'coronavirus crisis heightens need innovation creationthose work innovation management sector need convincing benefit bring business government department world one disruption taking place right across world coronavirus coronavirus collaborationsome language used around coronavirus already counter intuitive idea collaboration innovation creation never truer right coronavirus crisis innovation industry already understands advantage creation innovation bring coronavirus crisis heightened need innovative approach elsewhere', 'company innovation leader fielded survey earlier year collaboration kpmg llp try find set successful innovator apart like company survey model company told acutely aware company demand near term result confidence spring envision enact innovation strategy long term model company innovation muscle get built long haul unfortunately many company innovation like treadmill purchased january represents idealized future vision abandoned quickly', 'use gamification boost innovation serious game based innovation methodology extremely useful tool different phrase implementing innovation company gamification help different phase innovation processcompanies becoming increasingly aware benefit gamification short serious game based innovation methodology extremely useful tool different phrase implementing innovation company authorceo founder binnakle innovation game organizer gamification daydegree management mba solvay business school belgium', 'together lior zalmanson tel aviv university robert gregory university virginia conducted multi method study uber driver new york london found uber driver three area consistent complaint working algorithm concern also seen company using algorithmic management constant surveillance soon log onto uber app driver watched scrutinized platform algorithm app track gps location speed acceptance rate customer request believe may amplify uber driver negative feeling constant surveillance additional layer technology mediated attention app learning lot uber driver find frustrating little know app', 'artificial intelligence new productivity paradox economist found turn event strange called productivity paradox underline confusion juncture expert would debate whether digital technology produced real value merely mirage one thing digital technology focus company customer sutton continues getting startedone salient least discussed aspect artificial intelligence inherently digital technology', 'digital business transformation could hand hand sustainability transformation study found integrating sustainability digital transformation effort small group transformative trailblazer emerged executive cite mobile internet thing iot cloud technology essential achieving sustainability goal integrating sustainability digital transformation effort firm using sustainability differentiate marketplace create business value understand sustainability business transformation hand hand well positioned become leader within industry', 'people shingle may increased risk heart attack stroke long term availability safe effective shingle vaccine help reduce risk shingle well cardiovascular complication expert believe damage often due inflammation increase person risk stroke heart attack shingle live shingle vaccine called zostavax longer available since shingrix vaccine safer effective preventing shingle cardiovascular disease death account death according cdc', 'cdc investigating rise invasive group strep infection among child left untreated invasive group strep infection lead serious illness require immediate medical attention center disease control prevention investigating increase invasive group streptococcal iga infection among child agency announced last month invasive group strep infection explainedbacteria called streptococcus pyogenes also known group streptococcus group strep wide range condition including invasive noninvasive disease prevent major symptom influenza reduce risk see invasive group strep infection well said flores', 'local government responsibility protect local specie loss endangered specie effect local governmentsthe loss endangered specie affect every aspect government public health agriculture economy endangered specie concerned aboutlocal government devote focus endangered specie specific area endangered specie faq show government technology help managing endangered specie endangered specie act federal legislation requires local government protect endangered specie', 'adobe stockspecific pain pointsthe market going big change crossing chasm cloud software service big way acquirer active continue active buyer gov tech along investor lookout new class rise speak government responding demand investing digital solution none mean ongoing growth gov tech market every area perfectly covered public agency much like startup much without right people security also stand prime concern public agency gov tech landscape expands take startup true state several mandatory law place make business state government challenging', 'cooky used way constitutes sale data ccpa cooky used way constitutes sale data ccpa cooky used way constitutes sale data ccpa may opt use cooky associated sale personal information using toggle switch may opt use cooky associated sale personal information using toggle switch', 'aws offer range free program initiative help upskill workforce aws skill center skillbuilder number notable example showcase aws helping federal civilian agency enable digital transformation deliver mission initial launch household eligible order four free test kit per address million household placed order free test kit first two week million first phase census data website us aws lambda amazon simple storage service amazon cloudfront provide capacity million visitor', 'cooky used way constitutes sale data ccpa cooky used way constitutes sale data ccpa cooky used way constitutes sale data ccpa may opt use cooky associated sale personal information using toggle switch may opt use cooky associated sale personal information using toggle switch', 'cooky used way constitutes sale data ccpa cooky used way constitutes sale data ccpa cooky used way constitutes sale data ccpa may opt use cooky associated sale personal information using toggle switch may opt use cooky associated sale personal information using toggle switch', 'cooky used way constitutes sale data ccpa cooky used way constitutes sale data ccpa cooky used way constitutes sale data ccpa may opt use cooky associated sale personal information using toggle switch may opt use cooky associated sale personal information using toggle switch', 'pentagon wednesday announced awardees joint warfighting cloud capability jwcc contract amazon web service google microsoft oracle receiving award last year defense department named four company contender multi cloud multi vendor contract proud selected approved cloud vendor jwcc contract karen dahut ceo google public sector said statement late cia awarded commercial cloud enterprise contract five company aws microsoft google oracle ibm last april national security agency awarded billion cloud contract codenamed wild stormy aws following protest losing bidder microsoft', 'cooky used way constitutes sale data ccpa cooky used way constitutes sale data ccpa cooky used way constitutes sale data ccpa may opt use cooky associated sale personal information using toggle switch may opt use cooky associated sale personal information using toggle switch', 'beeck center digital response coordinating new peer learning network people working digital government digital service network dsn growing network connects support digital service team professional government responsive open accessible everyone process system technology enabler digital end katherine benjaminpeople underestimate amount organizational change needed digital work government question modern digital service team answer include legally allowed user research partnership principle canadian digital service code canada code america digital service others compiled shared help government digital service team overcome hurdle', 'cookie preference cookie listdo sell personal informationwhen visit website store cooky browser collect information information first third party cooky used please follow link may exercise right opt sale personal information using toggle switch opt able offer personalised ad hand personal information third party store directly personal information based uniquely identifying browser internet device', 'cookie preference cookie listdo sell personal informationwhen visit website store cooky browser collect information information first third party cooky used please follow link may exercise right opt sale personal information using toggle switch opt able offer personalised ad hand personal information third party store directly personal information based uniquely identifying browser internet device', 'cooky used way constitutes sale data ccpa cooky used way constitutes sale data ccpa cooky used way constitutes sale data ccpa may opt use cooky associated sale personal information using toggle switch may opt use cooky associated sale personal information using toggle switch', 'nfts cloud sustainability autonomic system represent various stage hype cycle framework innovation trigger trough disillusionment beyond gartner expect technology significantly affect business society people next two year organization prepare next wave digital transformation leader also navigating talent shortage esg environmental social governance challenge rapidly shifting cybersecurity landscape episode feature two segment dive theme first melissa davis analyst advises gartner client use customer analytics share detail gartner hype cycle emerging technology drive massive transformation public private sector whole lot consumer attention dig deeper discover gartner conference calendarwebinar gartner hype cycle emerging technology', 'driven increasingly global economy hexing journey going global journey come need accelerate digital transformation competent creating inner value improve management consolidate core competitiveness expand share foreign market promote update product harnessing digital technology boost product development competitiveness raise brand awareness among top player global market excellent product build reputation national brand', 'fact according figure published federal reserve bank boston august loss synthetic identity theft estimated around billion rising billion five year agobut synthetic identity theft two example synthetic theft newsthere many news recently highlighted growing prevalence synthetic identity theft commonly affected target synthetic identity theft include childrenseniorsnew immigrantsinmatescollege studentsmilitary personnel deployed abroadhow common synthetic type theft developer also take step protect company synthetic identity theft protect synthetic identity theft consumer important regularly track check credit report', 'become better web developer shahan web development divided three category frontend developer code frontend website direct connection userbackend developer work behind scene make sure technology power frontend run smoothlyfull stack developer know frontend backend development become better web developer determine area interestif want become expert front end back end programming goal could become full stack web developer essential trait web developer curiosity well open mind develop discipline dedication worka web developer productive requires dedication discipline conclusiona web developer created every website piece software use today good idea get headfirst considering changing job becoming web developer right away', 'goldman sachs planning lay many employee week source familiar matter said wall street contends uncertain economy volatile market mark latest sign cut accelerating across wall street dealmaking dry goldman sachs planning lay thousand employeesinvestment banking revenue plunged year amid slowdown merger share offering face blockbuster banker received big pay bump firm like goldman ramped hiring goldman sachs declined comment matter firm already laid employee september economy continued hammer financial sector', 'federal reserve chairman jerome powell tuesday stressed central bank policymakers remain committed wrestling high inflation control even though method prove politically unpopular price stability bedrock healthy economy provides public immeasurable benefit time powell said tuesday remark prepared delivery conference held sweden central bank restoring price stability inflation high require measure popular short term raise interest rate slow economy speech powell largely stuck topic central bank independence comment monetary policy may headed coming month policymakers last year voted raise interest rate seven straight time range well restrictive territory', 'bed bath beyond reported loss third quarter tuesday made mention shutting business following week rumor swirling around possible bankruptcy net sale billion slipped primarily driven comparable sale decline drop customer traffic bed bath beyondthe stock lost value past month trading range sue gove president ceo bed bath beyond said release retailer implemented turnaround plan beginning third quarter following period merchandise strategy veered away get fox business clicking implementing plan expeditiously managing financial position changing landscape added', 'odds winning mega million billion jackpot tuesday night may slim none rare chance lucky number drawn wealth management adviser emily irwin shared need know strike gold winning number drawn friday mega million lottery soared billion fourth time little one year jackpot exceeded billion tax cash prize set estimated million third largest pot game history jackpot larger tuesday billion record billion south carolina billion illinois last july', 'elon musk turned twitter past day unveil new feature expected rolled early next week twitter enhanced several feature expected improve user interface social medium application enhancement include able swipe recommended followed tweet create long form tweet bookmark tweet touch button twitter bring back political advertisingaccording musk word tweet would appear like tweet timeline giving user ability click read get fox business clicking hereas long form tweet musk said early february', 'prince harry memoir spare appears raking sale ahead upcoming release monday afternoon duke sussex tell book ranked first amazon bestseller list book barnes noble top book bestseller also put spare slated release tuesday prince harry meghan markle docuseries book publisher worried memoir sale suffer royal expertpenguin random house announced tuesday global release date harry book back october harry memoir life priced full insight revelation self examination hard wisdom eternal power love grief according publisher', 'avatar way water dominating box office fourth consecutive weekend earning billion taking number seven spot highest grossing movie time global ticket sale james cameron directed film surpassed billion according deadline original avatar film released became highest grossing movie history cinema global ticket sale billion three hour sci blockbuster officially overtaken film lion king jurassic world highest grossing movie release chart moreover way water profitable movie since start pandemic ravaged box office attendance sale', 'meta parent company facebook said monday taking post support raid brazilian government building supporter former president jair bolsonaro also designating violating event mean remove content support praise action statement continued actively following situation continue removing content violates policy brazil democratic institution full support brazilian people must undermined look forward continuing work president lula', 'outspoken unapologetic barstool sport founder dave portnoy weighed disgraced ftx founder sam bankman fried downfall twitter file debate friday blasting scam artist cry left respectively barstool founder president claimed understand bankman fried lost track thing portnoy personally experienced business dealing private company barstool founder president said emily steel new york time article never going say anything remotely nice come learn part medium business portnoy said', 'learning loss could shave lifetime earnings child school pandemic according new study stanford economist sobering forecast based analysis sharp decline score eighth grader national math test taken economic cost learning loss swamp business cycle loss said hanushek previous disruption offer insight loss could portend indicate learning loss suffered pandemic may permanent finding follow similar income drop economist studied connected learning loss natural disaster political interruption around world', 'massachusetts institute technology mit researcher building swarm tiny robot built intelligence allowing build structure vehicle even larger version building structure build intelligence mit professor cba director neil gershenfeld said statement emerged idea structural electronics making voxels transmit power data well force could build structure could build another robot size could build bigger robot cba doctoral student amira abdel rahman said statement research promising likely year see self replicating robot swarm according gershenfeld', 'struggling current economy consider paying high interest debt personal loan lower interest rate credit card debt burden nearly half american survey say pay downinvesting iradespite harsh market condition lack access workplace retirement plan many way people start saving retirement visit credible compare loan multiple lender find interest rate best someone facing saving shortfall retirement back give time lost opportunity start saving early never regained financial obligation preventing saving much retirement consider refinancing mortgage lower interest rate', 'latest take varney host stuart varney discussed california gov ron desantis potential presidential candidate arguing demand new generation politician stuart varney party demand new generation political leader desantis leading hypothetical presidential primary race deep red state trump twicefor republican florida governor desantis front runner let see america wanted new generation politician californian floridian', 'famed serial killer john wayne gacy creepy clown painting sold spooky themed auction halloween dark shadow auction held material culture live auctioneer ran day halloween public exhibition prior weekend gacy creepy clown self portrait called pogo clown fetched one higher end price unusual murderer executed lethal injection found guilty killing people painting completed gacy sat death row painted oil canvas board signed dated piece print king charles balmoral castle painting sell exceeded estimate much passed time death row painting self portrait clown producing around painting nearly year death row according crime museum', 'housing market experiencing second biggest home price correction post world war era explained varney friday shoe drop would nation start see rise unemployment could leg housing market couple thing going turn opposite direction meaning home price going according fortune com housing price united state october march level roschelle predicts average home price drop peak', 'nasa awarded maryland firm adnet system inc contract worth million provide research development goddard space flight center maryland five year deal begin april mark fourth consecutive time adnet space earth science data analysis sesda contract agency nasa said announcement contract small business set aside federal regulation purpose provide array service support goddard science exploration directorate get fox business clicking herethe bethesda maryland company contract involve scientist professional education outreach specialist company said federal contractor operates nationwide agency including nasa noaa dot']\n"
     ]
    }
   ],
   "source": [
    "print(sum_list)"
   ]
  },
  {
   "cell_type": "code",
   "execution_count": 18,
   "id": "dc30ff81",
   "metadata": {},
   "outputs": [
    {
     "name": "stdout",
     "output_type": "stream",
     "text": [
      "\n",
      "Cell dataframe data massage @ 2023-01-25 16:20:06\n"
     ]
    }
   ],
   "source": [
    "# sum_list=[]\n",
    "\n",
    "# # for i in articles['Items']:\n",
    "# #     sum_list.append({i['summary']})\n",
    "\n",
    "# for article in articleslist:\n",
    "#     summary = article[2]\n",
    "#     sum_list.append(summary)    \n",
    "\n",
    "df = pd.DataFrame(sum_list, columns =['text'])\n",
    "\n",
    "# remove protocols\n",
    "df.text = df.apply(lambda row: re.sub(r\"http\\S+\", \"\", row.text).lower(), 1)\n",
    "\n",
    "# remove non-letters\n",
    "df.text = df.apply(lambda row: \" \".join(re.sub(\"[^a-zA-Z]+\", \" \", row.text).split()), 1)\n",
    "\n",
    "# convert to lowercase\n",
    "df.text = df.text.apply(lambda x: ' '.join([w.lower() for w in x.split()]))\n",
    "\n",
    "# expand contractions  \n",
    "df.text = df.text.apply(lambda x: ' '.join([contractions.fix(w) for w in x.split()]))\n",
    "\n",
    "# remove stopwords\n",
    "stop_words = stopwords.words('english')\n",
    "df.text = df.text.apply(lambda x: ' '.join([w for w in x.split() if w not in stop_words]))\n",
    "\n",
    "# remove short words\n",
    "df.text = df.text.apply(lambda x: ' '.join([w.strip() for w in x.split() if len(w.strip()) >= 3]))\n",
    "\n",
    "# lemmatize\n",
    "df.text = df.text.apply(lambda x: ' '.join([WordNetLemmatizer().lemmatize(w) for w in x.split()]))\n",
    "\n",
    "docs = df.text.to_list()\n",
    "\n",
    "complete(state=\"dataframe data massage\")"
   ]
  },
  {
   "cell_type": "code",
   "execution_count": 19,
   "id": "bc2536a4",
   "metadata": {},
   "outputs": [
    {
     "name": "stdout",
     "output_type": "stream",
     "text": [
      "\n",
      "Cell models @ 2023-01-25 16:20:30\n",
      "CPU times: user 4.43 s, sys: 2.95 s, total: 7.38 s\n",
      "Wall time: 7.21 s\n"
     ]
    }
   ],
   "source": [
    "%%time\n",
    "# create model\n",
    "\n",
    "# # Load sentence transformer model\n",
    "# sentence_model = SentenceTransformer(\"all-distilroberta-v1\")\n",
    "\n",
    "# # Create documents embeddings\n",
    "# embeddings = sentence_model.encode(docs, show_progress_bar=True)\n",
    "roberta = TransformerDocumentEmbeddings('roberta-large')\n",
    "\n",
    "# Define UMAP model to reduce embeddings dimension\n",
    "umap_model = umap.UMAP(n_neighbors=9,\n",
    "                       n_components=5,\n",
    "                       min_dist=0.0,\n",
    "                       metric='cosine',\n",
    "                       low_memory=False)\n",
    "\n",
    "# Define HDBSCAN model to perform documents clustering\n",
    "hdbscan_model = hdbscan.HDBSCAN(min_cluster_size=3,\n",
    "                                min_samples=1,\n",
    "                                metric='euclidean',\n",
    "                                cluster_selection_method='eom',\n",
    "                                prediction_data=True)\n",
    "\n",
    "# Create BERTopic model\n",
    "topic_model = BERTopic(embedding_model=roberta,\n",
    "#                        nr_topics=1,\n",
    "                       top_n_words=5,\n",
    "                       n_gram_range=(1,3), \n",
    "                       calculate_probabilities=True,\n",
    "                       umap_model= umap_model,\n",
    "                       hdbscan_model=hdbscan_model,\n",
    "                       verbose=True)\n",
    "\n",
    "\n",
    "complete(state=\"models\")"
   ]
  },
  {
   "cell_type": "code",
   "execution_count": 20,
   "id": "cf89582e",
   "metadata": {},
   "outputs": [
    {
     "name": "stderr",
     "output_type": "stream",
     "text": [
      "116it [00:04, 25.51it/s]\n",
      "2023-01-25 16:20:42,466 - BERTopic - Transformed documents to Embeddings\n",
      "2023-01-25 16:20:51,225 - BERTopic - Reduced dimensionality\n",
      "2023-01-25 16:20:51,253 - BERTopic - Clustered reduced embeddings\n"
     ]
    },
    {
     "name": "stdout",
     "output_type": "stream",
     "text": [
      "\n",
      "Cell topics, probabilities done @ 2023-01-25 16:20:52\n",
      "CPU times: user 15.3 s, sys: 198 ms, total: 15.5 s\n",
      "Wall time: 14.9 s\n"
     ]
    }
   ],
   "source": [
    "%%time\n",
    "# Train model, extract topics and probabilities\n",
    "topics, probabilities = topic_model.fit_transform(docs)\n",
    "\n",
    "complete(state=\"topics, probabilities done\")"
   ]
  },
  {
   "cell_type": "code",
   "execution_count": 29,
   "id": "e4ae74f6",
   "metadata": {},
   "outputs": [
    {
     "data": {
      "text/html": [
       "<div>\n",
       "<style scoped>\n",
       "    .dataframe tbody tr th:only-of-type {\n",
       "        vertical-align: middle;\n",
       "    }\n",
       "\n",
       "    .dataframe tbody tr th {\n",
       "        vertical-align: top;\n",
       "    }\n",
       "\n",
       "    .dataframe thead th {\n",
       "        text-align: right;\n",
       "    }\n",
       "</style>\n",
       "<table border=\"1\" class=\"dataframe\">\n",
       "  <thead>\n",
       "    <tr style=\"text-align: right;\">\n",
       "      <th></th>\n",
       "      <th>Topic</th>\n",
       "      <th>Count</th>\n",
       "      <th>Name</th>\n",
       "    </tr>\n",
       "  </thead>\n",
       "  <tbody>\n",
       "    <tr>\n",
       "      <th>0</th>\n",
       "      <td>-1</td>\n",
       "      <td>4</td>\n",
       "      <td>-1_build_hisense_aws_building</td>\n",
       "    </tr>\n",
       "    <tr>\n",
       "      <th>1</th>\n",
       "      <td>0</td>\n",
       "      <td>18</td>\n",
       "      <td>0_cooky_sale_way constitut...</td>\n",
       "    </tr>\n",
       "    <tr>\n",
       "      <th>2</th>\n",
       "      <td>1</td>\n",
       "      <td>18</td>\n",
       "      <td>1_said_republican_image_house</td>\n",
       "    </tr>\n",
       "    <tr>\n",
       "      <th>3</th>\n",
       "      <td>2</td>\n",
       "      <td>16</td>\n",
       "      <td>2_billion_synthetic_theft_...</td>\n",
       "    </tr>\n",
       "    <tr>\n",
       "      <th>4</th>\n",
       "      <td>3</td>\n",
       "      <td>15</td>\n",
       "      <td>3_digital_innovation_techn...</td>\n",
       "    </tr>\n",
       "    <tr>\n",
       "      <th>5</th>\n",
       "      <td>4</td>\n",
       "      <td>10</td>\n",
       "      <td>4_developer_web_web develo...</td>\n",
       "    </tr>\n",
       "    <tr>\n",
       "      <th>6</th>\n",
       "      <td>5</td>\n",
       "      <td>7</td>\n",
       "      <td>5_space_nasa_spacex_ozone</td>\n",
       "    </tr>\n",
       "    <tr>\n",
       "      <th>7</th>\n",
       "      <td>6</td>\n",
       "      <td>7</td>\n",
       "      <td>6_azure_iot_aws_contract</td>\n",
       "    </tr>\n",
       "    <tr>\n",
       "      <th>8</th>\n",
       "      <td>7</td>\n",
       "      <td>6</td>\n",
       "      <td>7_vehicle_waste_nuclear_china</td>\n",
       "    </tr>\n",
       "    <tr>\n",
       "      <th>9</th>\n",
       "      <td>8</td>\n",
       "      <td>5</td>\n",
       "      <td>8_vaccine_cancer_group_shi...</td>\n",
       "    </tr>\n",
       "    <tr>\n",
       "      <th>10</th>\n",
       "      <td>9</td>\n",
       "      <td>4</td>\n",
       "      <td>9_painting_encrochat_netwo...</td>\n",
       "    </tr>\n",
       "    <tr>\n",
       "      <th>11</th>\n",
       "      <td>10</td>\n",
       "      <td>3</td>\n",
       "      <td>10_information_browser_per...</td>\n",
       "    </tr>\n",
       "    <tr>\n",
       "      <th>12</th>\n",
       "      <td>11</td>\n",
       "      <td>3</td>\n",
       "      <td>11_specie_endangered_endan...</td>\n",
       "    </tr>\n",
       "  </tbody>\n",
       "</table>\n",
       "</div>"
      ],
      "text/plain": [
       "    Topic  Count                           Name\n",
       "0      -1      4  -1_build_hisense_aws_building\n",
       "1       0     18  0_cooky_sale_way constitut...\n",
       "2       1     18  1_said_republican_image_house\n",
       "3       2     16  2_billion_synthetic_theft_...\n",
       "4       3     15  3_digital_innovation_techn...\n",
       "5       4     10  4_developer_web_web develo...\n",
       "6       5      7      5_space_nasa_spacex_ozone\n",
       "7       6      7       6_azure_iot_aws_contract\n",
       "8       7      6  7_vehicle_waste_nuclear_china\n",
       "9       8      5  8_vaccine_cancer_group_shi...\n",
       "10      9      4  9_painting_encrochat_netwo...\n",
       "11     10      3  10_information_browser_per...\n",
       "12     11      3  11_specie_endangered_endan..."
      ]
     },
     "execution_count": 29,
     "metadata": {},
     "output_type": "execute_result"
    }
   ],
   "source": [
    "# info = topic_model.get_topic_info()\n",
    "topic_model.get_topic_info()\n",
    "# print (f\"topic model info : {info};\\n# topics :{len(info)}\", end=\"\\n\\n\")\n",
    "# for topic in range(0,len(info)):\n",
    "#     print (f\" Topic (topic) : \\n\\t{topic_model.get_topic(topic)}\")\n"
   ]
  },
  {
   "cell_type": "code",
   "execution_count": 23,
   "id": "15a2d432",
   "metadata": {
    "scrolled": true
   },
   "outputs": [
    {
     "data": {
      "text/html": [
       "<div>\n",
       "<style scoped>\n",
       "    .dataframe tbody tr th:only-of-type {\n",
       "        vertical-align: middle;\n",
       "    }\n",
       "\n",
       "    .dataframe tbody tr th {\n",
       "        vertical-align: top;\n",
       "    }\n",
       "\n",
       "    .dataframe thead th {\n",
       "        text-align: right;\n",
       "    }\n",
       "</style>\n",
       "<table border=\"1\" class=\"dataframe\">\n",
       "  <thead>\n",
       "    <tr style=\"text-align: right;\">\n",
       "      <th></th>\n",
       "      <th>topic</th>\n",
       "      <th>document</th>\n",
       "    </tr>\n",
       "  </thead>\n",
       "  <tbody>\n",
       "    <tr>\n",
       "      <th>0</th>\n",
       "      <td>1</td>\n",
       "      <td>economist created visualiz...</td>\n",
       "    </tr>\n",
       "    <tr>\n",
       "      <th>8</th>\n",
       "      <td>1</td>\n",
       "      <td>suggestion fcc could adopt...</td>\n",
       "    </tr>\n",
       "    <tr>\n",
       "      <th>17</th>\n",
       "      <td>1</td>\n",
       "      <td>vega nevada despite divide...</td>\n",
       "    </tr>\n",
       "    <tr>\n",
       "      <th>24</th>\n",
       "      <td>1</td>\n",
       "      <td>choose plan arrowright spe...</td>\n",
       "    </tr>\n",
       "    <tr>\n",
       "      <th>25</th>\n",
       "      <td>1</td>\n",
       "      <td>push satellite communicati...</td>\n",
       "    </tr>\n",
       "    <tr>\n",
       "      <th>46</th>\n",
       "      <td>1</td>\n",
       "      <td>paycheck protection progra...</td>\n",
       "    </tr>\n",
       "    <tr>\n",
       "      <th>48</th>\n",
       "      <td>1</td>\n",
       "      <td>security force regain cont...</td>\n",
       "    </tr>\n",
       "    <tr>\n",
       "      <th>49</th>\n",
       "      <td>1</td>\n",
       "      <td>historic house speaker sho...</td>\n",
       "    </tr>\n",
       "    <tr>\n",
       "      <th>51</th>\n",
       "      <td>1</td>\n",
       "      <td>seattle school suing tech ...</td>\n",
       "    </tr>\n",
       "    <tr>\n",
       "      <th>52</th>\n",
       "      <td>1</td>\n",
       "      <td>republican elite backed tr...</td>\n",
       "    </tr>\n",
       "    <tr>\n",
       "      <th>61</th>\n",
       "      <td>1</td>\n",
       "      <td>wireless device phone tabl...</td>\n",
       "    </tr>\n",
       "    <tr>\n",
       "      <th>70</th>\n",
       "      <td>1</td>\n",
       "      <td>president biden jan signed...</td>\n",
       "    </tr>\n",
       "    <tr>\n",
       "      <th>73</th>\n",
       "      <td>1</td>\n",
       "      <td>congressional budget offic...</td>\n",
       "    </tr>\n",
       "    <tr>\n",
       "      <th>101</th>\n",
       "      <td>1</td>\n",
       "      <td>federal reserve chairman j...</td>\n",
       "    </tr>\n",
       "    <tr>\n",
       "      <th>104</th>\n",
       "      <td>1</td>\n",
       "      <td>elon musk turned twitter p...</td>\n",
       "    </tr>\n",
       "    <tr>\n",
       "      <th>107</th>\n",
       "      <td>1</td>\n",
       "      <td>meta parent company facebo...</td>\n",
       "    </tr>\n",
       "    <tr>\n",
       "      <th>108</th>\n",
       "      <td>1</td>\n",
       "      <td>outspoken unapologetic bar...</td>\n",
       "    </tr>\n",
       "    <tr>\n",
       "      <th>112</th>\n",
       "      <td>1</td>\n",
       "      <td>latest take varney host st...</td>\n",
       "    </tr>\n",
       "  </tbody>\n",
       "</table>\n",
       "</div>"
      ],
      "text/plain": [
       "     topic                       document\n",
       "0        1  economist created visualiz...\n",
       "8        1  suggestion fcc could adopt...\n",
       "17       1  vega nevada despite divide...\n",
       "24       1  choose plan arrowright spe...\n",
       "25       1  push satellite communicati...\n",
       "46       1  paycheck protection progra...\n",
       "48       1  security force regain cont...\n",
       "49       1  historic house speaker sho...\n",
       "51       1  seattle school suing tech ...\n",
       "52       1  republican elite backed tr...\n",
       "61       1  wireless device phone tabl...\n",
       "70       1  president biden jan signed...\n",
       "73       1  congressional budget offic...\n",
       "101      1  federal reserve chairman j...\n",
       "104      1  elon musk turned twitter p...\n",
       "107      1  meta parent company facebo...\n",
       "108      1  outspoken unapologetic bar...\n",
       "112      1  latest take varney host st..."
      ]
     },
     "execution_count": 23,
     "metadata": {},
     "output_type": "execute_result"
    }
   ],
   "source": [
    "# get docs from topic\n",
    "\n",
    "df = pd.DataFrame({'topic': topics, 'document': docs})\n",
    "docs_in_topic = df[df.topic == 1]\n",
    "docs_in_topic\n"
   ]
  },
  {
   "cell_type": "code",
   "execution_count": 26,
   "id": "4de52886",
   "metadata": {},
   "outputs": [
    {
     "name": "stdout",
     "output_type": "stream",
     "text": [
      "[('said', 0.01959022792058907), ('republican', 0.013655351159498738), ('image', 0.013011737746390922), ('house', 0.012413955599544307), ('medium', 0.011381536426707669)]\n"
     ]
    }
   ],
   "source": [
    "topic_words = topic_model.get_topic(1)\n",
    "\n",
    "print(topic_words)"
   ]
  },
  {
   "cell_type": "code",
   "execution_count": 27,
   "id": "443dc0b1",
   "metadata": {
    "scrolled": false
   },
   "outputs": [
    {
     "data": {
      "application/vnd.plotly.v1+json": {
       "config": {
        "plotlyServerURL": "https://plot.ly"
       },
       "data": [
        {
         "marker": {
          "color": "#D55E00"
         },
         "orientation": "h",
         "type": "bar",
         "x": [
          0.08063771389345023,
          0.08063771389345023,
          0.08063771389345023,
          0.11175390677568334,
          0.11357919158034774
         ],
         "xaxis": "x",
         "y": [
          "way constitutes  ",
          "constitutes sale  ",
          "way constitutes sale  ",
          "sale  ",
          "cooky  "
         ],
         "yaxis": "y"
        },
        {
         "marker": {
          "color": "#0072B2"
         },
         "orientation": "h",
         "type": "bar",
         "x": [
          0.011381536426707669,
          0.012413955599544307,
          0.013011737746390922,
          0.013655351159498738,
          0.01959022792058907
         ],
         "xaxis": "x2",
         "y": [
          "medium  ",
          "house  ",
          "image  ",
          "republican  ",
          "said  "
         ],
         "yaxis": "y2"
        },
        {
         "marker": {
          "color": "#CC79A7"
         },
         "orientation": "h",
         "type": "bar",
         "x": [
          0.012120774713230736,
          0.013037049896046532,
          0.0135506198581013,
          0.013852313957977985,
          0.020614539266317285
         ],
         "xaxis": "x3",
         "y": [
          "stock  ",
          "loss  ",
          "theft  ",
          "synthetic  ",
          "billion  "
         ],
         "yaxis": "y3"
        },
        {
         "marker": {
          "color": "#E69F00"
         },
         "orientation": "h",
         "type": "bar",
         "x": [
          0.015771245181833225,
          0.018206551135622435,
          0.018686339318998577,
          0.02706435955359698,
          0.03351876571451396
         ],
         "xaxis": "x4",
         "y": [
          "transformation  ",
          "company  ",
          "technology  ",
          "innovation  ",
          "digital  "
         ],
         "yaxis": "y4"
        },
        {
         "marker": {
          "color": "#56B4E9"
         },
         "orientation": "h",
         "type": "bar",
         "x": [
          0.018331565843659917,
          0.018331565843659917,
          0.01878445795493439,
          0.021455418600032358,
          0.026648671704648286
         ],
         "xaxis": "x5",
         "y": [
          "chatgpt  ",
          "adobe  ",
          "web developer  ",
          "web  ",
          "developer  "
         ],
         "yaxis": "y5"
        },
        {
         "marker": {
          "color": "#009E73"
         },
         "orientation": "h",
         "type": "bar",
         "x": [
          0.025135943667463637,
          0.02853071773643028,
          0.03501828701688928,
          0.03923132117903471,
          0.061480256614704694
         ],
         "xaxis": "x6",
         "y": [
          "rocket  ",
          "ozone  ",
          "spacex  ",
          "nasa  ",
          "space  "
         ],
         "yaxis": "y6"
        },
        {
         "marker": {
          "color": "#F0E442"
         },
         "orientation": "h",
         "type": "bar",
         "x": [
          0.024600075462792553,
          0.027396264673137043,
          0.02768770848315207,
          0.03230856657997182,
          0.03524570899633289
         ],
         "xaxis": "x7",
         "y": [
          "security  ",
          "contract  ",
          "aws  ",
          "iot  ",
          "azure  "
         ],
         "yaxis": "y7"
        },
        {
         "marker": {
          "color": "#D55E00"
         },
         "orientation": "h",
         "type": "bar",
         "x": [
          0.024935639312814135,
          0.026927958132339416,
          0.028993121723851923,
          0.028993121723851923,
          0.0321154030764886
         ],
         "xaxis": "x8",
         "y": [
          "plastic  ",
          "china  ",
          "nuclear  ",
          "waste  ",
          "vehicle  "
         ],
         "yaxis": "y8"
        }
       ],
       "layout": {
        "annotations": [
         {
          "font": {
           "size": 16
          },
          "showarrow": false,
          "text": "Topic 0",
          "x": 0.0875,
          "xanchor": "center",
          "xref": "paper",
          "y": 1,
          "yanchor": "bottom",
          "yref": "paper"
         },
         {
          "font": {
           "size": 16
          },
          "showarrow": false,
          "text": "Topic 1",
          "x": 0.36250000000000004,
          "xanchor": "center",
          "xref": "paper",
          "y": 1,
          "yanchor": "bottom",
          "yref": "paper"
         },
         {
          "font": {
           "size": 16
          },
          "showarrow": false,
          "text": "Topic 2",
          "x": 0.6375000000000001,
          "xanchor": "center",
          "xref": "paper",
          "y": 1,
          "yanchor": "bottom",
          "yref": "paper"
         },
         {
          "font": {
           "size": 16
          },
          "showarrow": false,
          "text": "Topic 3",
          "x": 0.9125,
          "xanchor": "center",
          "xref": "paper",
          "y": 1,
          "yanchor": "bottom",
          "yref": "paper"
         },
         {
          "font": {
           "size": 16
          },
          "showarrow": false,
          "text": "Topic 4",
          "x": 0.0875,
          "xanchor": "center",
          "xref": "paper",
          "y": 0.4,
          "yanchor": "bottom",
          "yref": "paper"
         },
         {
          "font": {
           "size": 16
          },
          "showarrow": false,
          "text": "Topic 5",
          "x": 0.36250000000000004,
          "xanchor": "center",
          "xref": "paper",
          "y": 0.4,
          "yanchor": "bottom",
          "yref": "paper"
         },
         {
          "font": {
           "size": 16
          },
          "showarrow": false,
          "text": "Topic 6",
          "x": 0.6375000000000001,
          "xanchor": "center",
          "xref": "paper",
          "y": 0.4,
          "yanchor": "bottom",
          "yref": "paper"
         },
         {
          "font": {
           "size": 16
          },
          "showarrow": false,
          "text": "Topic 7",
          "x": 0.9125,
          "xanchor": "center",
          "xref": "paper",
          "y": 0.4,
          "yanchor": "bottom",
          "yref": "paper"
         }
        ],
        "height": 500,
        "hoverlabel": {
         "bgcolor": "white",
         "font": {
          "family": "Rockwell",
          "size": 16
         }
        },
        "showlegend": false,
        "template": {
         "data": {
          "bar": [
           {
            "error_x": {
             "color": "#2a3f5f"
            },
            "error_y": {
             "color": "#2a3f5f"
            },
            "marker": {
             "line": {
              "color": "white",
              "width": 0.5
             },
             "pattern": {
              "fillmode": "overlay",
              "size": 10,
              "solidity": 0.2
             }
            },
            "type": "bar"
           }
          ],
          "barpolar": [
           {
            "marker": {
             "line": {
              "color": "white",
              "width": 0.5
             },
             "pattern": {
              "fillmode": "overlay",
              "size": 10,
              "solidity": 0.2
             }
            },
            "type": "barpolar"
           }
          ],
          "carpet": [
           {
            "aaxis": {
             "endlinecolor": "#2a3f5f",
             "gridcolor": "#C8D4E3",
             "linecolor": "#C8D4E3",
             "minorgridcolor": "#C8D4E3",
             "startlinecolor": "#2a3f5f"
            },
            "baxis": {
             "endlinecolor": "#2a3f5f",
             "gridcolor": "#C8D4E3",
             "linecolor": "#C8D4E3",
             "minorgridcolor": "#C8D4E3",
             "startlinecolor": "#2a3f5f"
            },
            "type": "carpet"
           }
          ],
          "choropleth": [
           {
            "colorbar": {
             "outlinewidth": 0,
             "ticks": ""
            },
            "type": "choropleth"
           }
          ],
          "contour": [
           {
            "colorbar": {
             "outlinewidth": 0,
             "ticks": ""
            },
            "colorscale": [
             [
              0,
              "#0d0887"
             ],
             [
              0.1111111111111111,
              "#46039f"
             ],
             [
              0.2222222222222222,
              "#7201a8"
             ],
             [
              0.3333333333333333,
              "#9c179e"
             ],
             [
              0.4444444444444444,
              "#bd3786"
             ],
             [
              0.5555555555555556,
              "#d8576b"
             ],
             [
              0.6666666666666666,
              "#ed7953"
             ],
             [
              0.7777777777777778,
              "#fb9f3a"
             ],
             [
              0.8888888888888888,
              "#fdca26"
             ],
             [
              1,
              "#f0f921"
             ]
            ],
            "type": "contour"
           }
          ],
          "contourcarpet": [
           {
            "colorbar": {
             "outlinewidth": 0,
             "ticks": ""
            },
            "type": "contourcarpet"
           }
          ],
          "heatmap": [
           {
            "colorbar": {
             "outlinewidth": 0,
             "ticks": ""
            },
            "colorscale": [
             [
              0,
              "#0d0887"
             ],
             [
              0.1111111111111111,
              "#46039f"
             ],
             [
              0.2222222222222222,
              "#7201a8"
             ],
             [
              0.3333333333333333,
              "#9c179e"
             ],
             [
              0.4444444444444444,
              "#bd3786"
             ],
             [
              0.5555555555555556,
              "#d8576b"
             ],
             [
              0.6666666666666666,
              "#ed7953"
             ],
             [
              0.7777777777777778,
              "#fb9f3a"
             ],
             [
              0.8888888888888888,
              "#fdca26"
             ],
             [
              1,
              "#f0f921"
             ]
            ],
            "type": "heatmap"
           }
          ],
          "heatmapgl": [
           {
            "colorbar": {
             "outlinewidth": 0,
             "ticks": ""
            },
            "colorscale": [
             [
              0,
              "#0d0887"
             ],
             [
              0.1111111111111111,
              "#46039f"
             ],
             [
              0.2222222222222222,
              "#7201a8"
             ],
             [
              0.3333333333333333,
              "#9c179e"
             ],
             [
              0.4444444444444444,
              "#bd3786"
             ],
             [
              0.5555555555555556,
              "#d8576b"
             ],
             [
              0.6666666666666666,
              "#ed7953"
             ],
             [
              0.7777777777777778,
              "#fb9f3a"
             ],
             [
              0.8888888888888888,
              "#fdca26"
             ],
             [
              1,
              "#f0f921"
             ]
            ],
            "type": "heatmapgl"
           }
          ],
          "histogram": [
           {
            "marker": {
             "pattern": {
              "fillmode": "overlay",
              "size": 10,
              "solidity": 0.2
             }
            },
            "type": "histogram"
           }
          ],
          "histogram2d": [
           {
            "colorbar": {
             "outlinewidth": 0,
             "ticks": ""
            },
            "colorscale": [
             [
              0,
              "#0d0887"
             ],
             [
              0.1111111111111111,
              "#46039f"
             ],
             [
              0.2222222222222222,
              "#7201a8"
             ],
             [
              0.3333333333333333,
              "#9c179e"
             ],
             [
              0.4444444444444444,
              "#bd3786"
             ],
             [
              0.5555555555555556,
              "#d8576b"
             ],
             [
              0.6666666666666666,
              "#ed7953"
             ],
             [
              0.7777777777777778,
              "#fb9f3a"
             ],
             [
              0.8888888888888888,
              "#fdca26"
             ],
             [
              1,
              "#f0f921"
             ]
            ],
            "type": "histogram2d"
           }
          ],
          "histogram2dcontour": [
           {
            "colorbar": {
             "outlinewidth": 0,
             "ticks": ""
            },
            "colorscale": [
             [
              0,
              "#0d0887"
             ],
             [
              0.1111111111111111,
              "#46039f"
             ],
             [
              0.2222222222222222,
              "#7201a8"
             ],
             [
              0.3333333333333333,
              "#9c179e"
             ],
             [
              0.4444444444444444,
              "#bd3786"
             ],
             [
              0.5555555555555556,
              "#d8576b"
             ],
             [
              0.6666666666666666,
              "#ed7953"
             ],
             [
              0.7777777777777778,
              "#fb9f3a"
             ],
             [
              0.8888888888888888,
              "#fdca26"
             ],
             [
              1,
              "#f0f921"
             ]
            ],
            "type": "histogram2dcontour"
           }
          ],
          "mesh3d": [
           {
            "colorbar": {
             "outlinewidth": 0,
             "ticks": ""
            },
            "type": "mesh3d"
           }
          ],
          "parcoords": [
           {
            "line": {
             "colorbar": {
              "outlinewidth": 0,
              "ticks": ""
             }
            },
            "type": "parcoords"
           }
          ],
          "pie": [
           {
            "automargin": true,
            "type": "pie"
           }
          ],
          "scatter": [
           {
            "fillpattern": {
             "fillmode": "overlay",
             "size": 10,
             "solidity": 0.2
            },
            "type": "scatter"
           }
          ],
          "scatter3d": [
           {
            "line": {
             "colorbar": {
              "outlinewidth": 0,
              "ticks": ""
             }
            },
            "marker": {
             "colorbar": {
              "outlinewidth": 0,
              "ticks": ""
             }
            },
            "type": "scatter3d"
           }
          ],
          "scattercarpet": [
           {
            "marker": {
             "colorbar": {
              "outlinewidth": 0,
              "ticks": ""
             }
            },
            "type": "scattercarpet"
           }
          ],
          "scattergeo": [
           {
            "marker": {
             "colorbar": {
              "outlinewidth": 0,
              "ticks": ""
             }
            },
            "type": "scattergeo"
           }
          ],
          "scattergl": [
           {
            "marker": {
             "colorbar": {
              "outlinewidth": 0,
              "ticks": ""
             }
            },
            "type": "scattergl"
           }
          ],
          "scattermapbox": [
           {
            "marker": {
             "colorbar": {
              "outlinewidth": 0,
              "ticks": ""
             }
            },
            "type": "scattermapbox"
           }
          ],
          "scatterpolar": [
           {
            "marker": {
             "colorbar": {
              "outlinewidth": 0,
              "ticks": ""
             }
            },
            "type": "scatterpolar"
           }
          ],
          "scatterpolargl": [
           {
            "marker": {
             "colorbar": {
              "outlinewidth": 0,
              "ticks": ""
             }
            },
            "type": "scatterpolargl"
           }
          ],
          "scatterternary": [
           {
            "marker": {
             "colorbar": {
              "outlinewidth": 0,
              "ticks": ""
             }
            },
            "type": "scatterternary"
           }
          ],
          "surface": [
           {
            "colorbar": {
             "outlinewidth": 0,
             "ticks": ""
            },
            "colorscale": [
             [
              0,
              "#0d0887"
             ],
             [
              0.1111111111111111,
              "#46039f"
             ],
             [
              0.2222222222222222,
              "#7201a8"
             ],
             [
              0.3333333333333333,
              "#9c179e"
             ],
             [
              0.4444444444444444,
              "#bd3786"
             ],
             [
              0.5555555555555556,
              "#d8576b"
             ],
             [
              0.6666666666666666,
              "#ed7953"
             ],
             [
              0.7777777777777778,
              "#fb9f3a"
             ],
             [
              0.8888888888888888,
              "#fdca26"
             ],
             [
              1,
              "#f0f921"
             ]
            ],
            "type": "surface"
           }
          ],
          "table": [
           {
            "cells": {
             "fill": {
              "color": "#EBF0F8"
             },
             "line": {
              "color": "white"
             }
            },
            "header": {
             "fill": {
              "color": "#C8D4E3"
             },
             "line": {
              "color": "white"
             }
            },
            "type": "table"
           }
          ]
         },
         "layout": {
          "annotationdefaults": {
           "arrowcolor": "#2a3f5f",
           "arrowhead": 0,
           "arrowwidth": 1
          },
          "autotypenumbers": "strict",
          "coloraxis": {
           "colorbar": {
            "outlinewidth": 0,
            "ticks": ""
           }
          },
          "colorscale": {
           "diverging": [
            [
             0,
             "#8e0152"
            ],
            [
             0.1,
             "#c51b7d"
            ],
            [
             0.2,
             "#de77ae"
            ],
            [
             0.3,
             "#f1b6da"
            ],
            [
             0.4,
             "#fde0ef"
            ],
            [
             0.5,
             "#f7f7f7"
            ],
            [
             0.6,
             "#e6f5d0"
            ],
            [
             0.7,
             "#b8e186"
            ],
            [
             0.8,
             "#7fbc41"
            ],
            [
             0.9,
             "#4d9221"
            ],
            [
             1,
             "#276419"
            ]
           ],
           "sequential": [
            [
             0,
             "#0d0887"
            ],
            [
             0.1111111111111111,
             "#46039f"
            ],
            [
             0.2222222222222222,
             "#7201a8"
            ],
            [
             0.3333333333333333,
             "#9c179e"
            ],
            [
             0.4444444444444444,
             "#bd3786"
            ],
            [
             0.5555555555555556,
             "#d8576b"
            ],
            [
             0.6666666666666666,
             "#ed7953"
            ],
            [
             0.7777777777777778,
             "#fb9f3a"
            ],
            [
             0.8888888888888888,
             "#fdca26"
            ],
            [
             1,
             "#f0f921"
            ]
           ],
           "sequentialminus": [
            [
             0,
             "#0d0887"
            ],
            [
             0.1111111111111111,
             "#46039f"
            ],
            [
             0.2222222222222222,
             "#7201a8"
            ],
            [
             0.3333333333333333,
             "#9c179e"
            ],
            [
             0.4444444444444444,
             "#bd3786"
            ],
            [
             0.5555555555555556,
             "#d8576b"
            ],
            [
             0.6666666666666666,
             "#ed7953"
            ],
            [
             0.7777777777777778,
             "#fb9f3a"
            ],
            [
             0.8888888888888888,
             "#fdca26"
            ],
            [
             1,
             "#f0f921"
            ]
           ]
          },
          "colorway": [
           "#636efa",
           "#EF553B",
           "#00cc96",
           "#ab63fa",
           "#FFA15A",
           "#19d3f3",
           "#FF6692",
           "#B6E880",
           "#FF97FF",
           "#FECB52"
          ],
          "font": {
           "color": "#2a3f5f"
          },
          "geo": {
           "bgcolor": "white",
           "lakecolor": "white",
           "landcolor": "white",
           "showlakes": true,
           "showland": true,
           "subunitcolor": "#C8D4E3"
          },
          "hoverlabel": {
           "align": "left"
          },
          "hovermode": "closest",
          "mapbox": {
           "style": "light"
          },
          "paper_bgcolor": "white",
          "plot_bgcolor": "white",
          "polar": {
           "angularaxis": {
            "gridcolor": "#EBF0F8",
            "linecolor": "#EBF0F8",
            "ticks": ""
           },
           "bgcolor": "white",
           "radialaxis": {
            "gridcolor": "#EBF0F8",
            "linecolor": "#EBF0F8",
            "ticks": ""
           }
          },
          "scene": {
           "xaxis": {
            "backgroundcolor": "white",
            "gridcolor": "#DFE8F3",
            "gridwidth": 2,
            "linecolor": "#EBF0F8",
            "showbackground": true,
            "ticks": "",
            "zerolinecolor": "#EBF0F8"
           },
           "yaxis": {
            "backgroundcolor": "white",
            "gridcolor": "#DFE8F3",
            "gridwidth": 2,
            "linecolor": "#EBF0F8",
            "showbackground": true,
            "ticks": "",
            "zerolinecolor": "#EBF0F8"
           },
           "zaxis": {
            "backgroundcolor": "white",
            "gridcolor": "#DFE8F3",
            "gridwidth": 2,
            "linecolor": "#EBF0F8",
            "showbackground": true,
            "ticks": "",
            "zerolinecolor": "#EBF0F8"
           }
          },
          "shapedefaults": {
           "line": {
            "color": "#2a3f5f"
           }
          },
          "ternary": {
           "aaxis": {
            "gridcolor": "#DFE8F3",
            "linecolor": "#A2B1C6",
            "ticks": ""
           },
           "baxis": {
            "gridcolor": "#DFE8F3",
            "linecolor": "#A2B1C6",
            "ticks": ""
           },
           "bgcolor": "white",
           "caxis": {
            "gridcolor": "#DFE8F3",
            "linecolor": "#A2B1C6",
            "ticks": ""
           }
          },
          "title": {
           "x": 0.05
          },
          "xaxis": {
           "automargin": true,
           "gridcolor": "#EBF0F8",
           "linecolor": "#EBF0F8",
           "ticks": "",
           "title": {
            "standoff": 15
           },
           "zerolinecolor": "#EBF0F8",
           "zerolinewidth": 2
          },
          "yaxis": {
           "automargin": true,
           "gridcolor": "#EBF0F8",
           "linecolor": "#EBF0F8",
           "ticks": "",
           "title": {
            "standoff": 15
           },
           "zerolinecolor": "#EBF0F8",
           "zerolinewidth": 2
          }
         }
        },
        "title": {
         "font": {
          "color": "Black",
          "size": 22
         },
         "text": "<b>Topic Word Scores",
         "x": 0.5,
         "xanchor": "center",
         "yanchor": "top"
        },
        "width": 1000,
        "xaxis": {
         "anchor": "y",
         "domain": [
          0,
          0.175
         ],
         "showgrid": true
        },
        "xaxis2": {
         "anchor": "y2",
         "domain": [
          0.275,
          0.45
         ],
         "showgrid": true
        },
        "xaxis3": {
         "anchor": "y3",
         "domain": [
          0.55,
          0.7250000000000001
         ],
         "showgrid": true
        },
        "xaxis4": {
         "anchor": "y4",
         "domain": [
          0.825,
          1
         ],
         "showgrid": true
        },
        "xaxis5": {
         "anchor": "y5",
         "domain": [
          0,
          0.175
         ],
         "showgrid": true
        },
        "xaxis6": {
         "anchor": "y6",
         "domain": [
          0.275,
          0.45
         ],
         "showgrid": true
        },
        "xaxis7": {
         "anchor": "y7",
         "domain": [
          0.55,
          0.7250000000000001
         ],
         "showgrid": true
        },
        "xaxis8": {
         "anchor": "y8",
         "domain": [
          0.825,
          1
         ],
         "showgrid": true
        },
        "yaxis": {
         "anchor": "x",
         "domain": [
          0.6000000000000001,
          1
         ],
         "showgrid": true
        },
        "yaxis2": {
         "anchor": "x2",
         "domain": [
          0.6000000000000001,
          1
         ],
         "showgrid": true
        },
        "yaxis3": {
         "anchor": "x3",
         "domain": [
          0.6000000000000001,
          1
         ],
         "showgrid": true
        },
        "yaxis4": {
         "anchor": "x4",
         "domain": [
          0.6000000000000001,
          1
         ],
         "showgrid": true
        },
        "yaxis5": {
         "anchor": "x5",
         "domain": [
          0,
          0.4
         ],
         "showgrid": true
        },
        "yaxis6": {
         "anchor": "x6",
         "domain": [
          0,
          0.4
         ],
         "showgrid": true
        },
        "yaxis7": {
         "anchor": "x7",
         "domain": [
          0,
          0.4
         ],
         "showgrid": true
        },
        "yaxis8": {
         "anchor": "x8",
         "domain": [
          0,
          0.4
         ],
         "showgrid": true
        }
       }
      },
      "text/html": [
       "<div>                            <div id=\"d668b6af-59e1-45d2-b9c0-7ca6ce0e158a\" class=\"plotly-graph-div\" style=\"height:500px; width:1000px;\"></div>            <script type=\"text/javascript\">                require([\"plotly\"], function(Plotly) {                    window.PLOTLYENV=window.PLOTLYENV || {};                                    if (document.getElementById(\"d668b6af-59e1-45d2-b9c0-7ca6ce0e158a\")) {                    Plotly.newPlot(                        \"d668b6af-59e1-45d2-b9c0-7ca6ce0e158a\",                        [{\"marker\":{\"color\":\"#D55E00\"},\"orientation\":\"h\",\"x\":[0.08063771389345023,0.08063771389345023,0.08063771389345023,0.11175390677568334,0.11357919158034774],\"y\":[\"way constitutes  \",\"constitutes sale  \",\"way constitutes sale  \",\"sale  \",\"cooky  \"],\"type\":\"bar\",\"xaxis\":\"x\",\"yaxis\":\"y\"},{\"marker\":{\"color\":\"#0072B2\"},\"orientation\":\"h\",\"x\":[0.011381536426707669,0.012413955599544307,0.013011737746390922,0.013655351159498738,0.01959022792058907],\"y\":[\"medium  \",\"house  \",\"image  \",\"republican  \",\"said  \"],\"type\":\"bar\",\"xaxis\":\"x2\",\"yaxis\":\"y2\"},{\"marker\":{\"color\":\"#CC79A7\"},\"orientation\":\"h\",\"x\":[0.012120774713230736,0.013037049896046532,0.0135506198581013,0.013852313957977985,0.020614539266317285],\"y\":[\"stock  \",\"loss  \",\"theft  \",\"synthetic  \",\"billion  \"],\"type\":\"bar\",\"xaxis\":\"x3\",\"yaxis\":\"y3\"},{\"marker\":{\"color\":\"#E69F00\"},\"orientation\":\"h\",\"x\":[0.015771245181833225,0.018206551135622435,0.018686339318998577,0.02706435955359698,0.03351876571451396],\"y\":[\"transformation  \",\"company  \",\"technology  \",\"innovation  \",\"digital  \"],\"type\":\"bar\",\"xaxis\":\"x4\",\"yaxis\":\"y4\"},{\"marker\":{\"color\":\"#56B4E9\"},\"orientation\":\"h\",\"x\":[0.018331565843659917,0.018331565843659917,0.01878445795493439,0.021455418600032358,0.026648671704648286],\"y\":[\"chatgpt  \",\"adobe  \",\"web developer  \",\"web  \",\"developer  \"],\"type\":\"bar\",\"xaxis\":\"x5\",\"yaxis\":\"y5\"},{\"marker\":{\"color\":\"#009E73\"},\"orientation\":\"h\",\"x\":[0.025135943667463637,0.02853071773643028,0.03501828701688928,0.03923132117903471,0.061480256614704694],\"y\":[\"rocket  \",\"ozone  \",\"spacex  \",\"nasa  \",\"space  \"],\"type\":\"bar\",\"xaxis\":\"x6\",\"yaxis\":\"y6\"},{\"marker\":{\"color\":\"#F0E442\"},\"orientation\":\"h\",\"x\":[0.024600075462792553,0.027396264673137043,0.02768770848315207,0.03230856657997182,0.03524570899633289],\"y\":[\"security  \",\"contract  \",\"aws  \",\"iot  \",\"azure  \"],\"type\":\"bar\",\"xaxis\":\"x7\",\"yaxis\":\"y7\"},{\"marker\":{\"color\":\"#D55E00\"},\"orientation\":\"h\",\"x\":[0.024935639312814135,0.026927958132339416,0.028993121723851923,0.028993121723851923,0.0321154030764886],\"y\":[\"plastic  \",\"china  \",\"nuclear  \",\"waste  \",\"vehicle  \"],\"type\":\"bar\",\"xaxis\":\"x8\",\"yaxis\":\"y8\"}],                        {\"template\":{\"data\":{\"barpolar\":[{\"marker\":{\"line\":{\"color\":\"white\",\"width\":0.5},\"pattern\":{\"fillmode\":\"overlay\",\"size\":10,\"solidity\":0.2}},\"type\":\"barpolar\"}],\"bar\":[{\"error_x\":{\"color\":\"#2a3f5f\"},\"error_y\":{\"color\":\"#2a3f5f\"},\"marker\":{\"line\":{\"color\":\"white\",\"width\":0.5},\"pattern\":{\"fillmode\":\"overlay\",\"size\":10,\"solidity\":0.2}},\"type\":\"bar\"}],\"carpet\":[{\"aaxis\":{\"endlinecolor\":\"#2a3f5f\",\"gridcolor\":\"#C8D4E3\",\"linecolor\":\"#C8D4E3\",\"minorgridcolor\":\"#C8D4E3\",\"startlinecolor\":\"#2a3f5f\"},\"baxis\":{\"endlinecolor\":\"#2a3f5f\",\"gridcolor\":\"#C8D4E3\",\"linecolor\":\"#C8D4E3\",\"minorgridcolor\":\"#C8D4E3\",\"startlinecolor\":\"#2a3f5f\"},\"type\":\"carpet\"}],\"choropleth\":[{\"colorbar\":{\"outlinewidth\":0,\"ticks\":\"\"},\"type\":\"choropleth\"}],\"contourcarpet\":[{\"colorbar\":{\"outlinewidth\":0,\"ticks\":\"\"},\"type\":\"contourcarpet\"}],\"contour\":[{\"colorbar\":{\"outlinewidth\":0,\"ticks\":\"\"},\"colorscale\":[[0.0,\"#0d0887\"],[0.1111111111111111,\"#46039f\"],[0.2222222222222222,\"#7201a8\"],[0.3333333333333333,\"#9c179e\"],[0.4444444444444444,\"#bd3786\"],[0.5555555555555556,\"#d8576b\"],[0.6666666666666666,\"#ed7953\"],[0.7777777777777778,\"#fb9f3a\"],[0.8888888888888888,\"#fdca26\"],[1.0,\"#f0f921\"]],\"type\":\"contour\"}],\"heatmapgl\":[{\"colorbar\":{\"outlinewidth\":0,\"ticks\":\"\"},\"colorscale\":[[0.0,\"#0d0887\"],[0.1111111111111111,\"#46039f\"],[0.2222222222222222,\"#7201a8\"],[0.3333333333333333,\"#9c179e\"],[0.4444444444444444,\"#bd3786\"],[0.5555555555555556,\"#d8576b\"],[0.6666666666666666,\"#ed7953\"],[0.7777777777777778,\"#fb9f3a\"],[0.8888888888888888,\"#fdca26\"],[1.0,\"#f0f921\"]],\"type\":\"heatmapgl\"}],\"heatmap\":[{\"colorbar\":{\"outlinewidth\":0,\"ticks\":\"\"},\"colorscale\":[[0.0,\"#0d0887\"],[0.1111111111111111,\"#46039f\"],[0.2222222222222222,\"#7201a8\"],[0.3333333333333333,\"#9c179e\"],[0.4444444444444444,\"#bd3786\"],[0.5555555555555556,\"#d8576b\"],[0.6666666666666666,\"#ed7953\"],[0.7777777777777778,\"#fb9f3a\"],[0.8888888888888888,\"#fdca26\"],[1.0,\"#f0f921\"]],\"type\":\"heatmap\"}],\"histogram2dcontour\":[{\"colorbar\":{\"outlinewidth\":0,\"ticks\":\"\"},\"colorscale\":[[0.0,\"#0d0887\"],[0.1111111111111111,\"#46039f\"],[0.2222222222222222,\"#7201a8\"],[0.3333333333333333,\"#9c179e\"],[0.4444444444444444,\"#bd3786\"],[0.5555555555555556,\"#d8576b\"],[0.6666666666666666,\"#ed7953\"],[0.7777777777777778,\"#fb9f3a\"],[0.8888888888888888,\"#fdca26\"],[1.0,\"#f0f921\"]],\"type\":\"histogram2dcontour\"}],\"histogram2d\":[{\"colorbar\":{\"outlinewidth\":0,\"ticks\":\"\"},\"colorscale\":[[0.0,\"#0d0887\"],[0.1111111111111111,\"#46039f\"],[0.2222222222222222,\"#7201a8\"],[0.3333333333333333,\"#9c179e\"],[0.4444444444444444,\"#bd3786\"],[0.5555555555555556,\"#d8576b\"],[0.6666666666666666,\"#ed7953\"],[0.7777777777777778,\"#fb9f3a\"],[0.8888888888888888,\"#fdca26\"],[1.0,\"#f0f921\"]],\"type\":\"histogram2d\"}],\"histogram\":[{\"marker\":{\"pattern\":{\"fillmode\":\"overlay\",\"size\":10,\"solidity\":0.2}},\"type\":\"histogram\"}],\"mesh3d\":[{\"colorbar\":{\"outlinewidth\":0,\"ticks\":\"\"},\"type\":\"mesh3d\"}],\"parcoords\":[{\"line\":{\"colorbar\":{\"outlinewidth\":0,\"ticks\":\"\"}},\"type\":\"parcoords\"}],\"pie\":[{\"automargin\":true,\"type\":\"pie\"}],\"scatter3d\":[{\"line\":{\"colorbar\":{\"outlinewidth\":0,\"ticks\":\"\"}},\"marker\":{\"colorbar\":{\"outlinewidth\":0,\"ticks\":\"\"}},\"type\":\"scatter3d\"}],\"scattercarpet\":[{\"marker\":{\"colorbar\":{\"outlinewidth\":0,\"ticks\":\"\"}},\"type\":\"scattercarpet\"}],\"scattergeo\":[{\"marker\":{\"colorbar\":{\"outlinewidth\":0,\"ticks\":\"\"}},\"type\":\"scattergeo\"}],\"scattergl\":[{\"marker\":{\"colorbar\":{\"outlinewidth\":0,\"ticks\":\"\"}},\"type\":\"scattergl\"}],\"scattermapbox\":[{\"marker\":{\"colorbar\":{\"outlinewidth\":0,\"ticks\":\"\"}},\"type\":\"scattermapbox\"}],\"scatterpolargl\":[{\"marker\":{\"colorbar\":{\"outlinewidth\":0,\"ticks\":\"\"}},\"type\":\"scatterpolargl\"}],\"scatterpolar\":[{\"marker\":{\"colorbar\":{\"outlinewidth\":0,\"ticks\":\"\"}},\"type\":\"scatterpolar\"}],\"scatter\":[{\"fillpattern\":{\"fillmode\":\"overlay\",\"size\":10,\"solidity\":0.2},\"type\":\"scatter\"}],\"scatterternary\":[{\"marker\":{\"colorbar\":{\"outlinewidth\":0,\"ticks\":\"\"}},\"type\":\"scatterternary\"}],\"surface\":[{\"colorbar\":{\"outlinewidth\":0,\"ticks\":\"\"},\"colorscale\":[[0.0,\"#0d0887\"],[0.1111111111111111,\"#46039f\"],[0.2222222222222222,\"#7201a8\"],[0.3333333333333333,\"#9c179e\"],[0.4444444444444444,\"#bd3786\"],[0.5555555555555556,\"#d8576b\"],[0.6666666666666666,\"#ed7953\"],[0.7777777777777778,\"#fb9f3a\"],[0.8888888888888888,\"#fdca26\"],[1.0,\"#f0f921\"]],\"type\":\"surface\"}],\"table\":[{\"cells\":{\"fill\":{\"color\":\"#EBF0F8\"},\"line\":{\"color\":\"white\"}},\"header\":{\"fill\":{\"color\":\"#C8D4E3\"},\"line\":{\"color\":\"white\"}},\"type\":\"table\"}]},\"layout\":{\"annotationdefaults\":{\"arrowcolor\":\"#2a3f5f\",\"arrowhead\":0,\"arrowwidth\":1},\"autotypenumbers\":\"strict\",\"coloraxis\":{\"colorbar\":{\"outlinewidth\":0,\"ticks\":\"\"}},\"colorscale\":{\"diverging\":[[0,\"#8e0152\"],[0.1,\"#c51b7d\"],[0.2,\"#de77ae\"],[0.3,\"#f1b6da\"],[0.4,\"#fde0ef\"],[0.5,\"#f7f7f7\"],[0.6,\"#e6f5d0\"],[0.7,\"#b8e186\"],[0.8,\"#7fbc41\"],[0.9,\"#4d9221\"],[1,\"#276419\"]],\"sequential\":[[0.0,\"#0d0887\"],[0.1111111111111111,\"#46039f\"],[0.2222222222222222,\"#7201a8\"],[0.3333333333333333,\"#9c179e\"],[0.4444444444444444,\"#bd3786\"],[0.5555555555555556,\"#d8576b\"],[0.6666666666666666,\"#ed7953\"],[0.7777777777777778,\"#fb9f3a\"],[0.8888888888888888,\"#fdca26\"],[1.0,\"#f0f921\"]],\"sequentialminus\":[[0.0,\"#0d0887\"],[0.1111111111111111,\"#46039f\"],[0.2222222222222222,\"#7201a8\"],[0.3333333333333333,\"#9c179e\"],[0.4444444444444444,\"#bd3786\"],[0.5555555555555556,\"#d8576b\"],[0.6666666666666666,\"#ed7953\"],[0.7777777777777778,\"#fb9f3a\"],[0.8888888888888888,\"#fdca26\"],[1.0,\"#f0f921\"]]},\"colorway\":[\"#636efa\",\"#EF553B\",\"#00cc96\",\"#ab63fa\",\"#FFA15A\",\"#19d3f3\",\"#FF6692\",\"#B6E880\",\"#FF97FF\",\"#FECB52\"],\"font\":{\"color\":\"#2a3f5f\"},\"geo\":{\"bgcolor\":\"white\",\"lakecolor\":\"white\",\"landcolor\":\"white\",\"showlakes\":true,\"showland\":true,\"subunitcolor\":\"#C8D4E3\"},\"hoverlabel\":{\"align\":\"left\"},\"hovermode\":\"closest\",\"mapbox\":{\"style\":\"light\"},\"paper_bgcolor\":\"white\",\"plot_bgcolor\":\"white\",\"polar\":{\"angularaxis\":{\"gridcolor\":\"#EBF0F8\",\"linecolor\":\"#EBF0F8\",\"ticks\":\"\"},\"bgcolor\":\"white\",\"radialaxis\":{\"gridcolor\":\"#EBF0F8\",\"linecolor\":\"#EBF0F8\",\"ticks\":\"\"}},\"scene\":{\"xaxis\":{\"backgroundcolor\":\"white\",\"gridcolor\":\"#DFE8F3\",\"gridwidth\":2,\"linecolor\":\"#EBF0F8\",\"showbackground\":true,\"ticks\":\"\",\"zerolinecolor\":\"#EBF0F8\"},\"yaxis\":{\"backgroundcolor\":\"white\",\"gridcolor\":\"#DFE8F3\",\"gridwidth\":2,\"linecolor\":\"#EBF0F8\",\"showbackground\":true,\"ticks\":\"\",\"zerolinecolor\":\"#EBF0F8\"},\"zaxis\":{\"backgroundcolor\":\"white\",\"gridcolor\":\"#DFE8F3\",\"gridwidth\":2,\"linecolor\":\"#EBF0F8\",\"showbackground\":true,\"ticks\":\"\",\"zerolinecolor\":\"#EBF0F8\"}},\"shapedefaults\":{\"line\":{\"color\":\"#2a3f5f\"}},\"ternary\":{\"aaxis\":{\"gridcolor\":\"#DFE8F3\",\"linecolor\":\"#A2B1C6\",\"ticks\":\"\"},\"baxis\":{\"gridcolor\":\"#DFE8F3\",\"linecolor\":\"#A2B1C6\",\"ticks\":\"\"},\"bgcolor\":\"white\",\"caxis\":{\"gridcolor\":\"#DFE8F3\",\"linecolor\":\"#A2B1C6\",\"ticks\":\"\"}},\"title\":{\"x\":0.05},\"xaxis\":{\"automargin\":true,\"gridcolor\":\"#EBF0F8\",\"linecolor\":\"#EBF0F8\",\"ticks\":\"\",\"title\":{\"standoff\":15},\"zerolinecolor\":\"#EBF0F8\",\"zerolinewidth\":2},\"yaxis\":{\"automargin\":true,\"gridcolor\":\"#EBF0F8\",\"linecolor\":\"#EBF0F8\",\"ticks\":\"\",\"title\":{\"standoff\":15},\"zerolinecolor\":\"#EBF0F8\",\"zerolinewidth\":2}}},\"xaxis\":{\"anchor\":\"y\",\"domain\":[0.0,0.175],\"showgrid\":true},\"yaxis\":{\"anchor\":\"x\",\"domain\":[0.6000000000000001,1.0],\"showgrid\":true},\"xaxis2\":{\"anchor\":\"y2\",\"domain\":[0.275,0.45],\"showgrid\":true},\"yaxis2\":{\"anchor\":\"x2\",\"domain\":[0.6000000000000001,1.0],\"showgrid\":true},\"xaxis3\":{\"anchor\":\"y3\",\"domain\":[0.55,0.7250000000000001],\"showgrid\":true},\"yaxis3\":{\"anchor\":\"x3\",\"domain\":[0.6000000000000001,1.0],\"showgrid\":true},\"xaxis4\":{\"anchor\":\"y4\",\"domain\":[0.825,1.0],\"showgrid\":true},\"yaxis4\":{\"anchor\":\"x4\",\"domain\":[0.6000000000000001,1.0],\"showgrid\":true},\"xaxis5\":{\"anchor\":\"y5\",\"domain\":[0.0,0.175],\"showgrid\":true},\"yaxis5\":{\"anchor\":\"x5\",\"domain\":[0.0,0.4],\"showgrid\":true},\"xaxis6\":{\"anchor\":\"y6\",\"domain\":[0.275,0.45],\"showgrid\":true},\"yaxis6\":{\"anchor\":\"x6\",\"domain\":[0.0,0.4],\"showgrid\":true},\"xaxis7\":{\"anchor\":\"y7\",\"domain\":[0.55,0.7250000000000001],\"showgrid\":true},\"yaxis7\":{\"anchor\":\"x7\",\"domain\":[0.0,0.4],\"showgrid\":true},\"xaxis8\":{\"anchor\":\"y8\",\"domain\":[0.825,1.0],\"showgrid\":true},\"yaxis8\":{\"anchor\":\"x8\",\"domain\":[0.0,0.4],\"showgrid\":true},\"annotations\":[{\"font\":{\"size\":16},\"showarrow\":false,\"text\":\"Topic 0\",\"x\":0.0875,\"xanchor\":\"center\",\"xref\":\"paper\",\"y\":1.0,\"yanchor\":\"bottom\",\"yref\":\"paper\"},{\"font\":{\"size\":16},\"showarrow\":false,\"text\":\"Topic 1\",\"x\":0.36250000000000004,\"xanchor\":\"center\",\"xref\":\"paper\",\"y\":1.0,\"yanchor\":\"bottom\",\"yref\":\"paper\"},{\"font\":{\"size\":16},\"showarrow\":false,\"text\":\"Topic 2\",\"x\":0.6375000000000001,\"xanchor\":\"center\",\"xref\":\"paper\",\"y\":1.0,\"yanchor\":\"bottom\",\"yref\":\"paper\"},{\"font\":{\"size\":16},\"showarrow\":false,\"text\":\"Topic 3\",\"x\":0.9125,\"xanchor\":\"center\",\"xref\":\"paper\",\"y\":1.0,\"yanchor\":\"bottom\",\"yref\":\"paper\"},{\"font\":{\"size\":16},\"showarrow\":false,\"text\":\"Topic 4\",\"x\":0.0875,\"xanchor\":\"center\",\"xref\":\"paper\",\"y\":0.4,\"yanchor\":\"bottom\",\"yref\":\"paper\"},{\"font\":{\"size\":16},\"showarrow\":false,\"text\":\"Topic 5\",\"x\":0.36250000000000004,\"xanchor\":\"center\",\"xref\":\"paper\",\"y\":0.4,\"yanchor\":\"bottom\",\"yref\":\"paper\"},{\"font\":{\"size\":16},\"showarrow\":false,\"text\":\"Topic 6\",\"x\":0.6375000000000001,\"xanchor\":\"center\",\"xref\":\"paper\",\"y\":0.4,\"yanchor\":\"bottom\",\"yref\":\"paper\"},{\"font\":{\"size\":16},\"showarrow\":false,\"text\":\"Topic 7\",\"x\":0.9125,\"xanchor\":\"center\",\"xref\":\"paper\",\"y\":0.4,\"yanchor\":\"bottom\",\"yref\":\"paper\"}],\"title\":{\"font\":{\"size\":22,\"color\":\"Black\"},\"text\":\"<b>Topic Word Scores\",\"x\":0.5,\"xanchor\":\"center\",\"yanchor\":\"top\"},\"hoverlabel\":{\"font\":{\"size\":16,\"family\":\"Rockwell\"},\"bgcolor\":\"white\"},\"showlegend\":false,\"width\":1000,\"height\":500},                        {\"responsive\": true}                    ).then(function(){\n",
       "                            \n",
       "var gd = document.getElementById('d668b6af-59e1-45d2-b9c0-7ca6ce0e158a');\n",
       "var x = new MutationObserver(function (mutations, observer) {{\n",
       "        var display = window.getComputedStyle(gd).display;\n",
       "        if (!display || display === 'none') {{\n",
       "            console.log([gd, 'removed!']);\n",
       "            Plotly.purge(gd);\n",
       "            observer.disconnect();\n",
       "        }}\n",
       "}});\n",
       "\n",
       "// Listen for the removal of the full notebook cells\n",
       "var notebookContainer = gd.closest('#notebook-container');\n",
       "if (notebookContainer) {{\n",
       "    x.observe(notebookContainer, {childList: true});\n",
       "}}\n",
       "\n",
       "// Listen for the clearing of the current output cell\n",
       "var outputEl = gd.closest('.output');\n",
       "if (outputEl) {{\n",
       "    x.observe(outputEl, {childList: true});\n",
       "}}\n",
       "\n",
       "                        })                };                });            </script>        </div>"
      ]
     },
     "metadata": {},
     "output_type": "display_data"
    }
   ],
   "source": [
    "topic_model.visualize_barchart(top_n_topics=8)"
   ]
  },
  {
   "cell_type": "code",
   "execution_count": 30,
   "id": "29c9037e",
   "metadata": {},
   "outputs": [
    {
     "data": {
      "application/vnd.plotly.v1+json": {
       "config": {
        "plotlyServerURL": "https://plot.ly"
       },
       "data": [
        {
         "customdata": [
          [
           0,
           "cooky | sale | way constitutes sale | constitutes sale | way constitutes",
           18
          ],
          [
           1,
           "said | republican | image | house | medium",
           18
          ],
          [
           2,
           "billion | synthetic | theft | loss | stock",
           16
          ],
          [
           3,
           "digital | innovation | technology | company | transformation",
           15
          ],
          [
           4,
           "developer | web | web developer | adobe | chatgpt",
           10
          ],
          [
           5,
           "space | nasa | spacex | ozone | rocket",
           7
          ],
          [
           6,
           "azure | iot | aws | contract | security",
           7
          ],
          [
           7,
           "vehicle | waste | nuclear | china | plastic",
           6
          ],
          [
           8,
           "vaccine | cancer | group | shingle | invasive",
           5
          ],
          [
           9,
           "painting | encrochat | network | clown | new",
           4
          ],
          [
           10,
           "information | browser | personal | personal information | store",
           3
          ],
          [
           11,
           "specie | endangered | endangered specie | government | award",
           3
          ]
         ],
         "hovertemplate": "<b>Topic %{customdata[0]}</b><br>Words: %{customdata[1]}<br>Size: %{customdata[2]}",
         "legendgroup": "",
         "marker": {
          "color": "#B0BEC5",
          "line": {
           "color": "DarkSlateGrey",
           "width": 2
          },
          "size": [
           18,
           18,
           16,
           15,
           10,
           7,
           7,
           6,
           5,
           4,
           3,
           3
          ],
          "sizemode": "area",
          "sizeref": 0.01125,
          "symbol": "circle"
         },
         "mode": "markers",
         "name": "",
         "orientation": "v",
         "showlegend": false,
         "type": "scatter",
         "x": [
          0.1026303842663765,
          3.1620776653289795,
          3.386317491531372,
          2.267627000808716,
          2.453458070755005,
          2.4905152320861816,
          -3.6147730350494385,
          -3.732362985610962,
          2.2072973251342773,
          2.7579739093780518,
          0.26806309819221497,
          -3.2424087524414062
         ],
         "xaxis": "x",
         "y": [
          -8.178916931152344,
          21.86829376220703,
          22.11981201171875,
          1.067758560180664,
          1.6747896671295166,
          -0.007958228699862957,
          13.809287071228027,
          13.2013521194458,
          0.44006749987602234,
          1.951257586479187,
          -8.344186782836914,
          13.50859260559082
         ],
         "yaxis": "y"
        }
       ],
       "layout": {
        "annotations": [
         {
          "showarrow": false,
          "text": "D1",
          "x": -4.292217433452606,
          "y": 7.9209845066070566,
          "yshift": 10
         },
         {
          "showarrow": false,
          "text": "D2",
          "x": -0.19897615909576416,
          "xshift": 10,
          "y": 25.437783813476564
         }
        ],
        "height": 650,
        "hoverlabel": {
         "bgcolor": "white",
         "font": {
          "family": "Rockwell",
          "size": 16
         }
        },
        "legend": {
         "itemsizing": "constant",
         "tracegroupgap": 0
        },
        "margin": {
         "t": 60
        },
        "shapes": [
         {
          "line": {
           "color": "#CFD8DC",
           "width": 2
          },
          "type": "line",
          "x0": -0.19897615909576416,
          "x1": -0.19897615909576416,
          "y0": -9.59581480026245,
          "y1": 25.437783813476564
         },
         {
          "line": {
           "color": "#9E9E9E",
           "width": 2
          },
          "type": "line",
          "x0": -4.292217433452606,
          "x1": 3.894265115261078,
          "y0": 7.9209845066070566,
          "y1": 7.9209845066070566
         }
        ],
        "sliders": [
         {
          "active": 0,
          "pad": {
           "t": 50
          },
          "steps": [
           {
            "args": [
             {
              "marker.color": [
               [
                "red",
                "#B0BEC5",
                "#B0BEC5",
                "#B0BEC5",
                "#B0BEC5",
                "#B0BEC5",
                "#B0BEC5",
                "#B0BEC5",
                "#B0BEC5",
                "#B0BEC5",
                "#B0BEC5",
                "#B0BEC5"
               ]
              ]
             }
            ],
            "label": "Topic 0",
            "method": "update"
           },
           {
            "args": [
             {
              "marker.color": [
               [
                "#B0BEC5",
                "red",
                "#B0BEC5",
                "#B0BEC5",
                "#B0BEC5",
                "#B0BEC5",
                "#B0BEC5",
                "#B0BEC5",
                "#B0BEC5",
                "#B0BEC5",
                "#B0BEC5",
                "#B0BEC5"
               ]
              ]
             }
            ],
            "label": "Topic 1",
            "method": "update"
           },
           {
            "args": [
             {
              "marker.color": [
               [
                "#B0BEC5",
                "#B0BEC5",
                "red",
                "#B0BEC5",
                "#B0BEC5",
                "#B0BEC5",
                "#B0BEC5",
                "#B0BEC5",
                "#B0BEC5",
                "#B0BEC5",
                "#B0BEC5",
                "#B0BEC5"
               ]
              ]
             }
            ],
            "label": "Topic 2",
            "method": "update"
           },
           {
            "args": [
             {
              "marker.color": [
               [
                "#B0BEC5",
                "#B0BEC5",
                "#B0BEC5",
                "red",
                "#B0BEC5",
                "#B0BEC5",
                "#B0BEC5",
                "#B0BEC5",
                "#B0BEC5",
                "#B0BEC5",
                "#B0BEC5",
                "#B0BEC5"
               ]
              ]
             }
            ],
            "label": "Topic 3",
            "method": "update"
           },
           {
            "args": [
             {
              "marker.color": [
               [
                "#B0BEC5",
                "#B0BEC5",
                "#B0BEC5",
                "#B0BEC5",
                "red",
                "#B0BEC5",
                "#B0BEC5",
                "#B0BEC5",
                "#B0BEC5",
                "#B0BEC5",
                "#B0BEC5",
                "#B0BEC5"
               ]
              ]
             }
            ],
            "label": "Topic 4",
            "method": "update"
           },
           {
            "args": [
             {
              "marker.color": [
               [
                "#B0BEC5",
                "#B0BEC5",
                "#B0BEC5",
                "#B0BEC5",
                "#B0BEC5",
                "red",
                "#B0BEC5",
                "#B0BEC5",
                "#B0BEC5",
                "#B0BEC5",
                "#B0BEC5",
                "#B0BEC5"
               ]
              ]
             }
            ],
            "label": "Topic 5",
            "method": "update"
           },
           {
            "args": [
             {
              "marker.color": [
               [
                "#B0BEC5",
                "#B0BEC5",
                "#B0BEC5",
                "#B0BEC5",
                "#B0BEC5",
                "#B0BEC5",
                "red",
                "#B0BEC5",
                "#B0BEC5",
                "#B0BEC5",
                "#B0BEC5",
                "#B0BEC5"
               ]
              ]
             }
            ],
            "label": "Topic 6",
            "method": "update"
           },
           {
            "args": [
             {
              "marker.color": [
               [
                "#B0BEC5",
                "#B0BEC5",
                "#B0BEC5",
                "#B0BEC5",
                "#B0BEC5",
                "#B0BEC5",
                "#B0BEC5",
                "red",
                "#B0BEC5",
                "#B0BEC5",
                "#B0BEC5",
                "#B0BEC5"
               ]
              ]
             }
            ],
            "label": "Topic 7",
            "method": "update"
           },
           {
            "args": [
             {
              "marker.color": [
               [
                "#B0BEC5",
                "#B0BEC5",
                "#B0BEC5",
                "#B0BEC5",
                "#B0BEC5",
                "#B0BEC5",
                "#B0BEC5",
                "#B0BEC5",
                "red",
                "#B0BEC5",
                "#B0BEC5",
                "#B0BEC5"
               ]
              ]
             }
            ],
            "label": "Topic 8",
            "method": "update"
           },
           {
            "args": [
             {
              "marker.color": [
               [
                "#B0BEC5",
                "#B0BEC5",
                "#B0BEC5",
                "#B0BEC5",
                "#B0BEC5",
                "#B0BEC5",
                "#B0BEC5",
                "#B0BEC5",
                "#B0BEC5",
                "red",
                "#B0BEC5",
                "#B0BEC5"
               ]
              ]
             }
            ],
            "label": "Topic 9",
            "method": "update"
           },
           {
            "args": [
             {
              "marker.color": [
               [
                "#B0BEC5",
                "#B0BEC5",
                "#B0BEC5",
                "#B0BEC5",
                "#B0BEC5",
                "#B0BEC5",
                "#B0BEC5",
                "#B0BEC5",
                "#B0BEC5",
                "#B0BEC5",
                "red",
                "#B0BEC5"
               ]
              ]
             }
            ],
            "label": "Topic 10",
            "method": "update"
           },
           {
            "args": [
             {
              "marker.color": [
               [
                "#B0BEC5",
                "#B0BEC5",
                "#B0BEC5",
                "#B0BEC5",
                "#B0BEC5",
                "#B0BEC5",
                "#B0BEC5",
                "#B0BEC5",
                "#B0BEC5",
                "#B0BEC5",
                "#B0BEC5",
                "red"
               ]
              ]
             }
            ],
            "label": "Topic 11",
            "method": "update"
           }
          ]
         }
        ],
        "template": {
         "data": {
          "bar": [
           {
            "error_x": {
             "color": "rgb(36,36,36)"
            },
            "error_y": {
             "color": "rgb(36,36,36)"
            },
            "marker": {
             "line": {
              "color": "white",
              "width": 0.5
             },
             "pattern": {
              "fillmode": "overlay",
              "size": 10,
              "solidity": 0.2
             }
            },
            "type": "bar"
           }
          ],
          "barpolar": [
           {
            "marker": {
             "line": {
              "color": "white",
              "width": 0.5
             },
             "pattern": {
              "fillmode": "overlay",
              "size": 10,
              "solidity": 0.2
             }
            },
            "type": "barpolar"
           }
          ],
          "carpet": [
           {
            "aaxis": {
             "endlinecolor": "rgb(36,36,36)",
             "gridcolor": "white",
             "linecolor": "white",
             "minorgridcolor": "white",
             "startlinecolor": "rgb(36,36,36)"
            },
            "baxis": {
             "endlinecolor": "rgb(36,36,36)",
             "gridcolor": "white",
             "linecolor": "white",
             "minorgridcolor": "white",
             "startlinecolor": "rgb(36,36,36)"
            },
            "type": "carpet"
           }
          ],
          "choropleth": [
           {
            "colorbar": {
             "outlinewidth": 1,
             "tickcolor": "rgb(36,36,36)",
             "ticks": "outside"
            },
            "type": "choropleth"
           }
          ],
          "contour": [
           {
            "colorbar": {
             "outlinewidth": 1,
             "tickcolor": "rgb(36,36,36)",
             "ticks": "outside"
            },
            "colorscale": [
             [
              0,
              "#440154"
             ],
             [
              0.1111111111111111,
              "#482878"
             ],
             [
              0.2222222222222222,
              "#3e4989"
             ],
             [
              0.3333333333333333,
              "#31688e"
             ],
             [
              0.4444444444444444,
              "#26828e"
             ],
             [
              0.5555555555555556,
              "#1f9e89"
             ],
             [
              0.6666666666666666,
              "#35b779"
             ],
             [
              0.7777777777777778,
              "#6ece58"
             ],
             [
              0.8888888888888888,
              "#b5de2b"
             ],
             [
              1,
              "#fde725"
             ]
            ],
            "type": "contour"
           }
          ],
          "contourcarpet": [
           {
            "colorbar": {
             "outlinewidth": 1,
             "tickcolor": "rgb(36,36,36)",
             "ticks": "outside"
            },
            "type": "contourcarpet"
           }
          ],
          "heatmap": [
           {
            "colorbar": {
             "outlinewidth": 1,
             "tickcolor": "rgb(36,36,36)",
             "ticks": "outside"
            },
            "colorscale": [
             [
              0,
              "#440154"
             ],
             [
              0.1111111111111111,
              "#482878"
             ],
             [
              0.2222222222222222,
              "#3e4989"
             ],
             [
              0.3333333333333333,
              "#31688e"
             ],
             [
              0.4444444444444444,
              "#26828e"
             ],
             [
              0.5555555555555556,
              "#1f9e89"
             ],
             [
              0.6666666666666666,
              "#35b779"
             ],
             [
              0.7777777777777778,
              "#6ece58"
             ],
             [
              0.8888888888888888,
              "#b5de2b"
             ],
             [
              1,
              "#fde725"
             ]
            ],
            "type": "heatmap"
           }
          ],
          "heatmapgl": [
           {
            "colorbar": {
             "outlinewidth": 1,
             "tickcolor": "rgb(36,36,36)",
             "ticks": "outside"
            },
            "colorscale": [
             [
              0,
              "#440154"
             ],
             [
              0.1111111111111111,
              "#482878"
             ],
             [
              0.2222222222222222,
              "#3e4989"
             ],
             [
              0.3333333333333333,
              "#31688e"
             ],
             [
              0.4444444444444444,
              "#26828e"
             ],
             [
              0.5555555555555556,
              "#1f9e89"
             ],
             [
              0.6666666666666666,
              "#35b779"
             ],
             [
              0.7777777777777778,
              "#6ece58"
             ],
             [
              0.8888888888888888,
              "#b5de2b"
             ],
             [
              1,
              "#fde725"
             ]
            ],
            "type": "heatmapgl"
           }
          ],
          "histogram": [
           {
            "marker": {
             "line": {
              "color": "white",
              "width": 0.6
             }
            },
            "type": "histogram"
           }
          ],
          "histogram2d": [
           {
            "colorbar": {
             "outlinewidth": 1,
             "tickcolor": "rgb(36,36,36)",
             "ticks": "outside"
            },
            "colorscale": [
             [
              0,
              "#440154"
             ],
             [
              0.1111111111111111,
              "#482878"
             ],
             [
              0.2222222222222222,
              "#3e4989"
             ],
             [
              0.3333333333333333,
              "#31688e"
             ],
             [
              0.4444444444444444,
              "#26828e"
             ],
             [
              0.5555555555555556,
              "#1f9e89"
             ],
             [
              0.6666666666666666,
              "#35b779"
             ],
             [
              0.7777777777777778,
              "#6ece58"
             ],
             [
              0.8888888888888888,
              "#b5de2b"
             ],
             [
              1,
              "#fde725"
             ]
            ],
            "type": "histogram2d"
           }
          ],
          "histogram2dcontour": [
           {
            "colorbar": {
             "outlinewidth": 1,
             "tickcolor": "rgb(36,36,36)",
             "ticks": "outside"
            },
            "colorscale": [
             [
              0,
              "#440154"
             ],
             [
              0.1111111111111111,
              "#482878"
             ],
             [
              0.2222222222222222,
              "#3e4989"
             ],
             [
              0.3333333333333333,
              "#31688e"
             ],
             [
              0.4444444444444444,
              "#26828e"
             ],
             [
              0.5555555555555556,
              "#1f9e89"
             ],
             [
              0.6666666666666666,
              "#35b779"
             ],
             [
              0.7777777777777778,
              "#6ece58"
             ],
             [
              0.8888888888888888,
              "#b5de2b"
             ],
             [
              1,
              "#fde725"
             ]
            ],
            "type": "histogram2dcontour"
           }
          ],
          "mesh3d": [
           {
            "colorbar": {
             "outlinewidth": 1,
             "tickcolor": "rgb(36,36,36)",
             "ticks": "outside"
            },
            "type": "mesh3d"
           }
          ],
          "parcoords": [
           {
            "line": {
             "colorbar": {
              "outlinewidth": 1,
              "tickcolor": "rgb(36,36,36)",
              "ticks": "outside"
             }
            },
            "type": "parcoords"
           }
          ],
          "pie": [
           {
            "automargin": true,
            "type": "pie"
           }
          ],
          "scatter": [
           {
            "fillpattern": {
             "fillmode": "overlay",
             "size": 10,
             "solidity": 0.2
            },
            "type": "scatter"
           }
          ],
          "scatter3d": [
           {
            "line": {
             "colorbar": {
              "outlinewidth": 1,
              "tickcolor": "rgb(36,36,36)",
              "ticks": "outside"
             }
            },
            "marker": {
             "colorbar": {
              "outlinewidth": 1,
              "tickcolor": "rgb(36,36,36)",
              "ticks": "outside"
             }
            },
            "type": "scatter3d"
           }
          ],
          "scattercarpet": [
           {
            "marker": {
             "colorbar": {
              "outlinewidth": 1,
              "tickcolor": "rgb(36,36,36)",
              "ticks": "outside"
             }
            },
            "type": "scattercarpet"
           }
          ],
          "scattergeo": [
           {
            "marker": {
             "colorbar": {
              "outlinewidth": 1,
              "tickcolor": "rgb(36,36,36)",
              "ticks": "outside"
             }
            },
            "type": "scattergeo"
           }
          ],
          "scattergl": [
           {
            "marker": {
             "colorbar": {
              "outlinewidth": 1,
              "tickcolor": "rgb(36,36,36)",
              "ticks": "outside"
             }
            },
            "type": "scattergl"
           }
          ],
          "scattermapbox": [
           {
            "marker": {
             "colorbar": {
              "outlinewidth": 1,
              "tickcolor": "rgb(36,36,36)",
              "ticks": "outside"
             }
            },
            "type": "scattermapbox"
           }
          ],
          "scatterpolar": [
           {
            "marker": {
             "colorbar": {
              "outlinewidth": 1,
              "tickcolor": "rgb(36,36,36)",
              "ticks": "outside"
             }
            },
            "type": "scatterpolar"
           }
          ],
          "scatterpolargl": [
           {
            "marker": {
             "colorbar": {
              "outlinewidth": 1,
              "tickcolor": "rgb(36,36,36)",
              "ticks": "outside"
             }
            },
            "type": "scatterpolargl"
           }
          ],
          "scatterternary": [
           {
            "marker": {
             "colorbar": {
              "outlinewidth": 1,
              "tickcolor": "rgb(36,36,36)",
              "ticks": "outside"
             }
            },
            "type": "scatterternary"
           }
          ],
          "surface": [
           {
            "colorbar": {
             "outlinewidth": 1,
             "tickcolor": "rgb(36,36,36)",
             "ticks": "outside"
            },
            "colorscale": [
             [
              0,
              "#440154"
             ],
             [
              0.1111111111111111,
              "#482878"
             ],
             [
              0.2222222222222222,
              "#3e4989"
             ],
             [
              0.3333333333333333,
              "#31688e"
             ],
             [
              0.4444444444444444,
              "#26828e"
             ],
             [
              0.5555555555555556,
              "#1f9e89"
             ],
             [
              0.6666666666666666,
              "#35b779"
             ],
             [
              0.7777777777777778,
              "#6ece58"
             ],
             [
              0.8888888888888888,
              "#b5de2b"
             ],
             [
              1,
              "#fde725"
             ]
            ],
            "type": "surface"
           }
          ],
          "table": [
           {
            "cells": {
             "fill": {
              "color": "rgb(237,237,237)"
             },
             "line": {
              "color": "white"
             }
            },
            "header": {
             "fill": {
              "color": "rgb(217,217,217)"
             },
             "line": {
              "color": "white"
             }
            },
            "type": "table"
           }
          ]
         },
         "layout": {
          "annotationdefaults": {
           "arrowhead": 0,
           "arrowwidth": 1
          },
          "autotypenumbers": "strict",
          "coloraxis": {
           "colorbar": {
            "outlinewidth": 1,
            "tickcolor": "rgb(36,36,36)",
            "ticks": "outside"
           }
          },
          "colorscale": {
           "diverging": [
            [
             0,
             "rgb(103,0,31)"
            ],
            [
             0.1,
             "rgb(178,24,43)"
            ],
            [
             0.2,
             "rgb(214,96,77)"
            ],
            [
             0.3,
             "rgb(244,165,130)"
            ],
            [
             0.4,
             "rgb(253,219,199)"
            ],
            [
             0.5,
             "rgb(247,247,247)"
            ],
            [
             0.6,
             "rgb(209,229,240)"
            ],
            [
             0.7,
             "rgb(146,197,222)"
            ],
            [
             0.8,
             "rgb(67,147,195)"
            ],
            [
             0.9,
             "rgb(33,102,172)"
            ],
            [
             1,
             "rgb(5,48,97)"
            ]
           ],
           "sequential": [
            [
             0,
             "#440154"
            ],
            [
             0.1111111111111111,
             "#482878"
            ],
            [
             0.2222222222222222,
             "#3e4989"
            ],
            [
             0.3333333333333333,
             "#31688e"
            ],
            [
             0.4444444444444444,
             "#26828e"
            ],
            [
             0.5555555555555556,
             "#1f9e89"
            ],
            [
             0.6666666666666666,
             "#35b779"
            ],
            [
             0.7777777777777778,
             "#6ece58"
            ],
            [
             0.8888888888888888,
             "#b5de2b"
            ],
            [
             1,
             "#fde725"
            ]
           ],
           "sequentialminus": [
            [
             0,
             "#440154"
            ],
            [
             0.1111111111111111,
             "#482878"
            ],
            [
             0.2222222222222222,
             "#3e4989"
            ],
            [
             0.3333333333333333,
             "#31688e"
            ],
            [
             0.4444444444444444,
             "#26828e"
            ],
            [
             0.5555555555555556,
             "#1f9e89"
            ],
            [
             0.6666666666666666,
             "#35b779"
            ],
            [
             0.7777777777777778,
             "#6ece58"
            ],
            [
             0.8888888888888888,
             "#b5de2b"
            ],
            [
             1,
             "#fde725"
            ]
           ]
          },
          "colorway": [
           "#1F77B4",
           "#FF7F0E",
           "#2CA02C",
           "#D62728",
           "#9467BD",
           "#8C564B",
           "#E377C2",
           "#7F7F7F",
           "#BCBD22",
           "#17BECF"
          ],
          "font": {
           "color": "rgb(36,36,36)"
          },
          "geo": {
           "bgcolor": "white",
           "lakecolor": "white",
           "landcolor": "white",
           "showlakes": true,
           "showland": true,
           "subunitcolor": "white"
          },
          "hoverlabel": {
           "align": "left"
          },
          "hovermode": "closest",
          "mapbox": {
           "style": "light"
          },
          "paper_bgcolor": "white",
          "plot_bgcolor": "white",
          "polar": {
           "angularaxis": {
            "gridcolor": "rgb(232,232,232)",
            "linecolor": "rgb(36,36,36)",
            "showgrid": false,
            "showline": true,
            "ticks": "outside"
           },
           "bgcolor": "white",
           "radialaxis": {
            "gridcolor": "rgb(232,232,232)",
            "linecolor": "rgb(36,36,36)",
            "showgrid": false,
            "showline": true,
            "ticks": "outside"
           }
          },
          "scene": {
           "xaxis": {
            "backgroundcolor": "white",
            "gridcolor": "rgb(232,232,232)",
            "gridwidth": 2,
            "linecolor": "rgb(36,36,36)",
            "showbackground": true,
            "showgrid": false,
            "showline": true,
            "ticks": "outside",
            "zeroline": false,
            "zerolinecolor": "rgb(36,36,36)"
           },
           "yaxis": {
            "backgroundcolor": "white",
            "gridcolor": "rgb(232,232,232)",
            "gridwidth": 2,
            "linecolor": "rgb(36,36,36)",
            "showbackground": true,
            "showgrid": false,
            "showline": true,
            "ticks": "outside",
            "zeroline": false,
            "zerolinecolor": "rgb(36,36,36)"
           },
           "zaxis": {
            "backgroundcolor": "white",
            "gridcolor": "rgb(232,232,232)",
            "gridwidth": 2,
            "linecolor": "rgb(36,36,36)",
            "showbackground": true,
            "showgrid": false,
            "showline": true,
            "ticks": "outside",
            "zeroline": false,
            "zerolinecolor": "rgb(36,36,36)"
           }
          },
          "shapedefaults": {
           "fillcolor": "black",
           "line": {
            "width": 0
           },
           "opacity": 0.3
          },
          "ternary": {
           "aaxis": {
            "gridcolor": "rgb(232,232,232)",
            "linecolor": "rgb(36,36,36)",
            "showgrid": false,
            "showline": true,
            "ticks": "outside"
           },
           "baxis": {
            "gridcolor": "rgb(232,232,232)",
            "linecolor": "rgb(36,36,36)",
            "showgrid": false,
            "showline": true,
            "ticks": "outside"
           },
           "bgcolor": "white",
           "caxis": {
            "gridcolor": "rgb(232,232,232)",
            "linecolor": "rgb(36,36,36)",
            "showgrid": false,
            "showline": true,
            "ticks": "outside"
           }
          },
          "title": {
           "x": 0.05
          },
          "xaxis": {
           "automargin": true,
           "gridcolor": "rgb(232,232,232)",
           "linecolor": "rgb(36,36,36)",
           "showgrid": false,
           "showline": true,
           "ticks": "outside",
           "title": {
            "standoff": 15
           },
           "zeroline": false,
           "zerolinecolor": "rgb(36,36,36)"
          },
          "yaxis": {
           "automargin": true,
           "gridcolor": "rgb(232,232,232)",
           "linecolor": "rgb(36,36,36)",
           "showgrid": false,
           "showline": true,
           "ticks": "outside",
           "title": {
            "standoff": 15
           },
           "zeroline": false,
           "zerolinecolor": "rgb(36,36,36)"
          }
         }
        },
        "title": {
         "font": {
          "color": "Black",
          "size": 22
         },
         "text": "<b>Intertopic Distance Map",
         "x": 0.5,
         "xanchor": "center",
         "y": 0.95,
         "yanchor": "top"
        },
        "width": 650,
        "xaxis": {
         "anchor": "y",
         "domain": [
          0,
          1
         ],
         "range": [
          -4.292217433452606,
          3.894265115261078
         ],
         "title": {
          "text": ""
         },
         "visible": false
        },
        "yaxis": {
         "anchor": "x",
         "domain": [
          0,
          1
         ],
         "range": [
          -9.59581480026245,
          25.437783813476564
         ],
         "title": {
          "text": ""
         },
         "visible": false
        }
       }
      },
      "text/html": [
       "<div>                            <div id=\"1e3154ff-6822-4474-97da-a5ff956ac0fa\" class=\"plotly-graph-div\" style=\"height:650px; width:650px;\"></div>            <script type=\"text/javascript\">                require([\"plotly\"], function(Plotly) {                    window.PLOTLYENV=window.PLOTLYENV || {};                                    if (document.getElementById(\"1e3154ff-6822-4474-97da-a5ff956ac0fa\")) {                    Plotly.newPlot(                        \"1e3154ff-6822-4474-97da-a5ff956ac0fa\",                        [{\"customdata\":[[0,\"cooky | sale | way constitutes sale | constitutes sale | way constitutes\",18],[1,\"said | republican | image | house | medium\",18],[2,\"billion | synthetic | theft | loss | stock\",16],[3,\"digital | innovation | technology | company | transformation\",15],[4,\"developer | web | web developer | adobe | chatgpt\",10],[5,\"space | nasa | spacex | ozone | rocket\",7],[6,\"azure | iot | aws | contract | security\",7],[7,\"vehicle | waste | nuclear | china | plastic\",6],[8,\"vaccine | cancer | group | shingle | invasive\",5],[9,\"painting | encrochat | network | clown | new\",4],[10,\"information | browser | personal | personal information | store\",3],[11,\"specie | endangered | endangered specie | government | award\",3]],\"hovertemplate\":\"<b>Topic %{customdata[0]}</b><br>Words: %{customdata[1]}<br>Size: %{customdata[2]}\",\"legendgroup\":\"\",\"marker\":{\"color\":\"#B0BEC5\",\"size\":[18,18,16,15,10,7,7,6,5,4,3,3],\"sizemode\":\"area\",\"sizeref\":0.01125,\"symbol\":\"circle\",\"line\":{\"color\":\"DarkSlateGrey\",\"width\":2}},\"mode\":\"markers\",\"name\":\"\",\"orientation\":\"v\",\"showlegend\":false,\"x\":[0.1026303842663765,3.1620776653289795,3.386317491531372,2.267627000808716,2.453458070755005,2.4905152320861816,-3.6147730350494385,-3.732362985610962,2.2072973251342773,2.7579739093780518,0.26806309819221497,-3.2424087524414062],\"xaxis\":\"x\",\"y\":[-8.178916931152344,21.86829376220703,22.11981201171875,1.067758560180664,1.6747896671295166,-0.007958228699862957,13.809287071228027,13.2013521194458,0.44006749987602234,1.951257586479187,-8.344186782836914,13.50859260559082],\"yaxis\":\"y\",\"type\":\"scatter\"}],                        {\"template\":{\"data\":{\"barpolar\":[{\"marker\":{\"line\":{\"color\":\"white\",\"width\":0.5},\"pattern\":{\"fillmode\":\"overlay\",\"size\":10,\"solidity\":0.2}},\"type\":\"barpolar\"}],\"bar\":[{\"error_x\":{\"color\":\"rgb(36,36,36)\"},\"error_y\":{\"color\":\"rgb(36,36,36)\"},\"marker\":{\"line\":{\"color\":\"white\",\"width\":0.5},\"pattern\":{\"fillmode\":\"overlay\",\"size\":10,\"solidity\":0.2}},\"type\":\"bar\"}],\"carpet\":[{\"aaxis\":{\"endlinecolor\":\"rgb(36,36,36)\",\"gridcolor\":\"white\",\"linecolor\":\"white\",\"minorgridcolor\":\"white\",\"startlinecolor\":\"rgb(36,36,36)\"},\"baxis\":{\"endlinecolor\":\"rgb(36,36,36)\",\"gridcolor\":\"white\",\"linecolor\":\"white\",\"minorgridcolor\":\"white\",\"startlinecolor\":\"rgb(36,36,36)\"},\"type\":\"carpet\"}],\"choropleth\":[{\"colorbar\":{\"outlinewidth\":1,\"tickcolor\":\"rgb(36,36,36)\",\"ticks\":\"outside\"},\"type\":\"choropleth\"}],\"contourcarpet\":[{\"colorbar\":{\"outlinewidth\":1,\"tickcolor\":\"rgb(36,36,36)\",\"ticks\":\"outside\"},\"type\":\"contourcarpet\"}],\"contour\":[{\"colorbar\":{\"outlinewidth\":1,\"tickcolor\":\"rgb(36,36,36)\",\"ticks\":\"outside\"},\"colorscale\":[[0.0,\"#440154\"],[0.1111111111111111,\"#482878\"],[0.2222222222222222,\"#3e4989\"],[0.3333333333333333,\"#31688e\"],[0.4444444444444444,\"#26828e\"],[0.5555555555555556,\"#1f9e89\"],[0.6666666666666666,\"#35b779\"],[0.7777777777777778,\"#6ece58\"],[0.8888888888888888,\"#b5de2b\"],[1.0,\"#fde725\"]],\"type\":\"contour\"}],\"heatmapgl\":[{\"colorbar\":{\"outlinewidth\":1,\"tickcolor\":\"rgb(36,36,36)\",\"ticks\":\"outside\"},\"colorscale\":[[0.0,\"#440154\"],[0.1111111111111111,\"#482878\"],[0.2222222222222222,\"#3e4989\"],[0.3333333333333333,\"#31688e\"],[0.4444444444444444,\"#26828e\"],[0.5555555555555556,\"#1f9e89\"],[0.6666666666666666,\"#35b779\"],[0.7777777777777778,\"#6ece58\"],[0.8888888888888888,\"#b5de2b\"],[1.0,\"#fde725\"]],\"type\":\"heatmapgl\"}],\"heatmap\":[{\"colorbar\":{\"outlinewidth\":1,\"tickcolor\":\"rgb(36,36,36)\",\"ticks\":\"outside\"},\"colorscale\":[[0.0,\"#440154\"],[0.1111111111111111,\"#482878\"],[0.2222222222222222,\"#3e4989\"],[0.3333333333333333,\"#31688e\"],[0.4444444444444444,\"#26828e\"],[0.5555555555555556,\"#1f9e89\"],[0.6666666666666666,\"#35b779\"],[0.7777777777777778,\"#6ece58\"],[0.8888888888888888,\"#b5de2b\"],[1.0,\"#fde725\"]],\"type\":\"heatmap\"}],\"histogram2dcontour\":[{\"colorbar\":{\"outlinewidth\":1,\"tickcolor\":\"rgb(36,36,36)\",\"ticks\":\"outside\"},\"colorscale\":[[0.0,\"#440154\"],[0.1111111111111111,\"#482878\"],[0.2222222222222222,\"#3e4989\"],[0.3333333333333333,\"#31688e\"],[0.4444444444444444,\"#26828e\"],[0.5555555555555556,\"#1f9e89\"],[0.6666666666666666,\"#35b779\"],[0.7777777777777778,\"#6ece58\"],[0.8888888888888888,\"#b5de2b\"],[1.0,\"#fde725\"]],\"type\":\"histogram2dcontour\"}],\"histogram2d\":[{\"colorbar\":{\"outlinewidth\":1,\"tickcolor\":\"rgb(36,36,36)\",\"ticks\":\"outside\"},\"colorscale\":[[0.0,\"#440154\"],[0.1111111111111111,\"#482878\"],[0.2222222222222222,\"#3e4989\"],[0.3333333333333333,\"#31688e\"],[0.4444444444444444,\"#26828e\"],[0.5555555555555556,\"#1f9e89\"],[0.6666666666666666,\"#35b779\"],[0.7777777777777778,\"#6ece58\"],[0.8888888888888888,\"#b5de2b\"],[1.0,\"#fde725\"]],\"type\":\"histogram2d\"}],\"histogram\":[{\"marker\":{\"line\":{\"color\":\"white\",\"width\":0.6}},\"type\":\"histogram\"}],\"mesh3d\":[{\"colorbar\":{\"outlinewidth\":1,\"tickcolor\":\"rgb(36,36,36)\",\"ticks\":\"outside\"},\"type\":\"mesh3d\"}],\"parcoords\":[{\"line\":{\"colorbar\":{\"outlinewidth\":1,\"tickcolor\":\"rgb(36,36,36)\",\"ticks\":\"outside\"}},\"type\":\"parcoords\"}],\"pie\":[{\"automargin\":true,\"type\":\"pie\"}],\"scatter3d\":[{\"line\":{\"colorbar\":{\"outlinewidth\":1,\"tickcolor\":\"rgb(36,36,36)\",\"ticks\":\"outside\"}},\"marker\":{\"colorbar\":{\"outlinewidth\":1,\"tickcolor\":\"rgb(36,36,36)\",\"ticks\":\"outside\"}},\"type\":\"scatter3d\"}],\"scattercarpet\":[{\"marker\":{\"colorbar\":{\"outlinewidth\":1,\"tickcolor\":\"rgb(36,36,36)\",\"ticks\":\"outside\"}},\"type\":\"scattercarpet\"}],\"scattergeo\":[{\"marker\":{\"colorbar\":{\"outlinewidth\":1,\"tickcolor\":\"rgb(36,36,36)\",\"ticks\":\"outside\"}},\"type\":\"scattergeo\"}],\"scattergl\":[{\"marker\":{\"colorbar\":{\"outlinewidth\":1,\"tickcolor\":\"rgb(36,36,36)\",\"ticks\":\"outside\"}},\"type\":\"scattergl\"}],\"scattermapbox\":[{\"marker\":{\"colorbar\":{\"outlinewidth\":1,\"tickcolor\":\"rgb(36,36,36)\",\"ticks\":\"outside\"}},\"type\":\"scattermapbox\"}],\"scatterpolargl\":[{\"marker\":{\"colorbar\":{\"outlinewidth\":1,\"tickcolor\":\"rgb(36,36,36)\",\"ticks\":\"outside\"}},\"type\":\"scatterpolargl\"}],\"scatterpolar\":[{\"marker\":{\"colorbar\":{\"outlinewidth\":1,\"tickcolor\":\"rgb(36,36,36)\",\"ticks\":\"outside\"}},\"type\":\"scatterpolar\"}],\"scatter\":[{\"fillpattern\":{\"fillmode\":\"overlay\",\"size\":10,\"solidity\":0.2},\"type\":\"scatter\"}],\"scatterternary\":[{\"marker\":{\"colorbar\":{\"outlinewidth\":1,\"tickcolor\":\"rgb(36,36,36)\",\"ticks\":\"outside\"}},\"type\":\"scatterternary\"}],\"surface\":[{\"colorbar\":{\"outlinewidth\":1,\"tickcolor\":\"rgb(36,36,36)\",\"ticks\":\"outside\"},\"colorscale\":[[0.0,\"#440154\"],[0.1111111111111111,\"#482878\"],[0.2222222222222222,\"#3e4989\"],[0.3333333333333333,\"#31688e\"],[0.4444444444444444,\"#26828e\"],[0.5555555555555556,\"#1f9e89\"],[0.6666666666666666,\"#35b779\"],[0.7777777777777778,\"#6ece58\"],[0.8888888888888888,\"#b5de2b\"],[1.0,\"#fde725\"]],\"type\":\"surface\"}],\"table\":[{\"cells\":{\"fill\":{\"color\":\"rgb(237,237,237)\"},\"line\":{\"color\":\"white\"}},\"header\":{\"fill\":{\"color\":\"rgb(217,217,217)\"},\"line\":{\"color\":\"white\"}},\"type\":\"table\"}]},\"layout\":{\"annotationdefaults\":{\"arrowhead\":0,\"arrowwidth\":1},\"autotypenumbers\":\"strict\",\"coloraxis\":{\"colorbar\":{\"outlinewidth\":1,\"tickcolor\":\"rgb(36,36,36)\",\"ticks\":\"outside\"}},\"colorscale\":{\"diverging\":[[0.0,\"rgb(103,0,31)\"],[0.1,\"rgb(178,24,43)\"],[0.2,\"rgb(214,96,77)\"],[0.3,\"rgb(244,165,130)\"],[0.4,\"rgb(253,219,199)\"],[0.5,\"rgb(247,247,247)\"],[0.6,\"rgb(209,229,240)\"],[0.7,\"rgb(146,197,222)\"],[0.8,\"rgb(67,147,195)\"],[0.9,\"rgb(33,102,172)\"],[1.0,\"rgb(5,48,97)\"]],\"sequential\":[[0.0,\"#440154\"],[0.1111111111111111,\"#482878\"],[0.2222222222222222,\"#3e4989\"],[0.3333333333333333,\"#31688e\"],[0.4444444444444444,\"#26828e\"],[0.5555555555555556,\"#1f9e89\"],[0.6666666666666666,\"#35b779\"],[0.7777777777777778,\"#6ece58\"],[0.8888888888888888,\"#b5de2b\"],[1.0,\"#fde725\"]],\"sequentialminus\":[[0.0,\"#440154\"],[0.1111111111111111,\"#482878\"],[0.2222222222222222,\"#3e4989\"],[0.3333333333333333,\"#31688e\"],[0.4444444444444444,\"#26828e\"],[0.5555555555555556,\"#1f9e89\"],[0.6666666666666666,\"#35b779\"],[0.7777777777777778,\"#6ece58\"],[0.8888888888888888,\"#b5de2b\"],[1.0,\"#fde725\"]]},\"colorway\":[\"#1F77B4\",\"#FF7F0E\",\"#2CA02C\",\"#D62728\",\"#9467BD\",\"#8C564B\",\"#E377C2\",\"#7F7F7F\",\"#BCBD22\",\"#17BECF\"],\"font\":{\"color\":\"rgb(36,36,36)\"},\"geo\":{\"bgcolor\":\"white\",\"lakecolor\":\"white\",\"landcolor\":\"white\",\"showlakes\":true,\"showland\":true,\"subunitcolor\":\"white\"},\"hoverlabel\":{\"align\":\"left\"},\"hovermode\":\"closest\",\"mapbox\":{\"style\":\"light\"},\"paper_bgcolor\":\"white\",\"plot_bgcolor\":\"white\",\"polar\":{\"angularaxis\":{\"gridcolor\":\"rgb(232,232,232)\",\"linecolor\":\"rgb(36,36,36)\",\"showgrid\":false,\"showline\":true,\"ticks\":\"outside\"},\"bgcolor\":\"white\",\"radialaxis\":{\"gridcolor\":\"rgb(232,232,232)\",\"linecolor\":\"rgb(36,36,36)\",\"showgrid\":false,\"showline\":true,\"ticks\":\"outside\"}},\"scene\":{\"xaxis\":{\"backgroundcolor\":\"white\",\"gridcolor\":\"rgb(232,232,232)\",\"gridwidth\":2,\"linecolor\":\"rgb(36,36,36)\",\"showbackground\":true,\"showgrid\":false,\"showline\":true,\"ticks\":\"outside\",\"zeroline\":false,\"zerolinecolor\":\"rgb(36,36,36)\"},\"yaxis\":{\"backgroundcolor\":\"white\",\"gridcolor\":\"rgb(232,232,232)\",\"gridwidth\":2,\"linecolor\":\"rgb(36,36,36)\",\"showbackground\":true,\"showgrid\":false,\"showline\":true,\"ticks\":\"outside\",\"zeroline\":false,\"zerolinecolor\":\"rgb(36,36,36)\"},\"zaxis\":{\"backgroundcolor\":\"white\",\"gridcolor\":\"rgb(232,232,232)\",\"gridwidth\":2,\"linecolor\":\"rgb(36,36,36)\",\"showbackground\":true,\"showgrid\":false,\"showline\":true,\"ticks\":\"outside\",\"zeroline\":false,\"zerolinecolor\":\"rgb(36,36,36)\"}},\"shapedefaults\":{\"fillcolor\":\"black\",\"line\":{\"width\":0},\"opacity\":0.3},\"ternary\":{\"aaxis\":{\"gridcolor\":\"rgb(232,232,232)\",\"linecolor\":\"rgb(36,36,36)\",\"showgrid\":false,\"showline\":true,\"ticks\":\"outside\"},\"baxis\":{\"gridcolor\":\"rgb(232,232,232)\",\"linecolor\":\"rgb(36,36,36)\",\"showgrid\":false,\"showline\":true,\"ticks\":\"outside\"},\"bgcolor\":\"white\",\"caxis\":{\"gridcolor\":\"rgb(232,232,232)\",\"linecolor\":\"rgb(36,36,36)\",\"showgrid\":false,\"showline\":true,\"ticks\":\"outside\"}},\"title\":{\"x\":0.05},\"xaxis\":{\"automargin\":true,\"gridcolor\":\"rgb(232,232,232)\",\"linecolor\":\"rgb(36,36,36)\",\"showgrid\":false,\"showline\":true,\"ticks\":\"outside\",\"title\":{\"standoff\":15},\"zeroline\":false,\"zerolinecolor\":\"rgb(36,36,36)\"},\"yaxis\":{\"automargin\":true,\"gridcolor\":\"rgb(232,232,232)\",\"linecolor\":\"rgb(36,36,36)\",\"showgrid\":false,\"showline\":true,\"ticks\":\"outside\",\"title\":{\"standoff\":15},\"zeroline\":false,\"zerolinecolor\":\"rgb(36,36,36)\"}}},\"xaxis\":{\"anchor\":\"y\",\"domain\":[0.0,1.0],\"title\":{\"text\":\"\"},\"visible\":false,\"range\":[-4.292217433452606,3.894265115261078]},\"yaxis\":{\"anchor\":\"x\",\"domain\":[0.0,1.0],\"title\":{\"text\":\"\"},\"visible\":false,\"range\":[-9.59581480026245,25.437783813476564]},\"legend\":{\"tracegroupgap\":0,\"itemsizing\":\"constant\"},\"margin\":{\"t\":60},\"title\":{\"font\":{\"size\":22,\"color\":\"Black\"},\"text\":\"<b>Intertopic Distance Map\",\"y\":0.95,\"x\":0.5,\"xanchor\":\"center\",\"yanchor\":\"top\"},\"hoverlabel\":{\"font\":{\"size\":16,\"family\":\"Rockwell\"},\"bgcolor\":\"white\"},\"width\":650,\"height\":650,\"sliders\":[{\"active\":0,\"pad\":{\"t\":50},\"steps\":[{\"args\":[{\"marker.color\":[[\"red\",\"#B0BEC5\",\"#B0BEC5\",\"#B0BEC5\",\"#B0BEC5\",\"#B0BEC5\",\"#B0BEC5\",\"#B0BEC5\",\"#B0BEC5\",\"#B0BEC5\",\"#B0BEC5\",\"#B0BEC5\"]]}],\"label\":\"Topic 0\",\"method\":\"update\"},{\"args\":[{\"marker.color\":[[\"#B0BEC5\",\"red\",\"#B0BEC5\",\"#B0BEC5\",\"#B0BEC5\",\"#B0BEC5\",\"#B0BEC5\",\"#B0BEC5\",\"#B0BEC5\",\"#B0BEC5\",\"#B0BEC5\",\"#B0BEC5\"]]}],\"label\":\"Topic 1\",\"method\":\"update\"},{\"args\":[{\"marker.color\":[[\"#B0BEC5\",\"#B0BEC5\",\"red\",\"#B0BEC5\",\"#B0BEC5\",\"#B0BEC5\",\"#B0BEC5\",\"#B0BEC5\",\"#B0BEC5\",\"#B0BEC5\",\"#B0BEC5\",\"#B0BEC5\"]]}],\"label\":\"Topic 2\",\"method\":\"update\"},{\"args\":[{\"marker.color\":[[\"#B0BEC5\",\"#B0BEC5\",\"#B0BEC5\",\"red\",\"#B0BEC5\",\"#B0BEC5\",\"#B0BEC5\",\"#B0BEC5\",\"#B0BEC5\",\"#B0BEC5\",\"#B0BEC5\",\"#B0BEC5\"]]}],\"label\":\"Topic 3\",\"method\":\"update\"},{\"args\":[{\"marker.color\":[[\"#B0BEC5\",\"#B0BEC5\",\"#B0BEC5\",\"#B0BEC5\",\"red\",\"#B0BEC5\",\"#B0BEC5\",\"#B0BEC5\",\"#B0BEC5\",\"#B0BEC5\",\"#B0BEC5\",\"#B0BEC5\"]]}],\"label\":\"Topic 4\",\"method\":\"update\"},{\"args\":[{\"marker.color\":[[\"#B0BEC5\",\"#B0BEC5\",\"#B0BEC5\",\"#B0BEC5\",\"#B0BEC5\",\"red\",\"#B0BEC5\",\"#B0BEC5\",\"#B0BEC5\",\"#B0BEC5\",\"#B0BEC5\",\"#B0BEC5\"]]}],\"label\":\"Topic 5\",\"method\":\"update\"},{\"args\":[{\"marker.color\":[[\"#B0BEC5\",\"#B0BEC5\",\"#B0BEC5\",\"#B0BEC5\",\"#B0BEC5\",\"#B0BEC5\",\"red\",\"#B0BEC5\",\"#B0BEC5\",\"#B0BEC5\",\"#B0BEC5\",\"#B0BEC5\"]]}],\"label\":\"Topic 6\",\"method\":\"update\"},{\"args\":[{\"marker.color\":[[\"#B0BEC5\",\"#B0BEC5\",\"#B0BEC5\",\"#B0BEC5\",\"#B0BEC5\",\"#B0BEC5\",\"#B0BEC5\",\"red\",\"#B0BEC5\",\"#B0BEC5\",\"#B0BEC5\",\"#B0BEC5\"]]}],\"label\":\"Topic 7\",\"method\":\"update\"},{\"args\":[{\"marker.color\":[[\"#B0BEC5\",\"#B0BEC5\",\"#B0BEC5\",\"#B0BEC5\",\"#B0BEC5\",\"#B0BEC5\",\"#B0BEC5\",\"#B0BEC5\",\"red\",\"#B0BEC5\",\"#B0BEC5\",\"#B0BEC5\"]]}],\"label\":\"Topic 8\",\"method\":\"update\"},{\"args\":[{\"marker.color\":[[\"#B0BEC5\",\"#B0BEC5\",\"#B0BEC5\",\"#B0BEC5\",\"#B0BEC5\",\"#B0BEC5\",\"#B0BEC5\",\"#B0BEC5\",\"#B0BEC5\",\"red\",\"#B0BEC5\",\"#B0BEC5\"]]}],\"label\":\"Topic 9\",\"method\":\"update\"},{\"args\":[{\"marker.color\":[[\"#B0BEC5\",\"#B0BEC5\",\"#B0BEC5\",\"#B0BEC5\",\"#B0BEC5\",\"#B0BEC5\",\"#B0BEC5\",\"#B0BEC5\",\"#B0BEC5\",\"#B0BEC5\",\"red\",\"#B0BEC5\"]]}],\"label\":\"Topic 10\",\"method\":\"update\"},{\"args\":[{\"marker.color\":[[\"#B0BEC5\",\"#B0BEC5\",\"#B0BEC5\",\"#B0BEC5\",\"#B0BEC5\",\"#B0BEC5\",\"#B0BEC5\",\"#B0BEC5\",\"#B0BEC5\",\"#B0BEC5\",\"#B0BEC5\",\"red\"]]}],\"label\":\"Topic 11\",\"method\":\"update\"}]}],\"shapes\":[{\"line\":{\"color\":\"#CFD8DC\",\"width\":2},\"type\":\"line\",\"x0\":-0.19897615909576416,\"x1\":-0.19897615909576416,\"y0\":-9.59581480026245,\"y1\":25.437783813476564},{\"line\":{\"color\":\"#9E9E9E\",\"width\":2},\"type\":\"line\",\"x0\":-4.292217433452606,\"x1\":3.894265115261078,\"y0\":7.9209845066070566,\"y1\":7.9209845066070566}],\"annotations\":[{\"showarrow\":false,\"text\":\"D1\",\"x\":-4.292217433452606,\"y\":7.9209845066070566,\"yshift\":10},{\"showarrow\":false,\"text\":\"D2\",\"x\":-0.19897615909576416,\"xshift\":10,\"y\":25.437783813476564}]},                        {\"responsive\": true}                    ).then(function(){\n",
       "                            \n",
       "var gd = document.getElementById('1e3154ff-6822-4474-97da-a5ff956ac0fa');\n",
       "var x = new MutationObserver(function (mutations, observer) {{\n",
       "        var display = window.getComputedStyle(gd).display;\n",
       "        if (!display || display === 'none') {{\n",
       "            console.log([gd, 'removed!']);\n",
       "            Plotly.purge(gd);\n",
       "            observer.disconnect();\n",
       "        }}\n",
       "}});\n",
       "\n",
       "// Listen for the removal of the full notebook cells\n",
       "var notebookContainer = gd.closest('#notebook-container');\n",
       "if (notebookContainer) {{\n",
       "    x.observe(notebookContainer, {childList: true});\n",
       "}}\n",
       "\n",
       "// Listen for the clearing of the current output cell\n",
       "var outputEl = gd.closest('.output');\n",
       "if (outputEl) {{\n",
       "    x.observe(outputEl, {childList: true});\n",
       "}}\n",
       "\n",
       "                        })                };                });            </script>        </div>"
      ]
     },
     "metadata": {},
     "output_type": "display_data"
    }
   ],
   "source": [
    "topic_model.visualize_topics()"
   ]
  },
  {
   "cell_type": "code",
   "execution_count": 31,
   "id": "9c98fbb8",
   "metadata": {},
   "outputs": [
    {
     "name": "stdout",
     "output_type": "stream",
     "text": [
      "['adobe', 'award', 'aws', 'azure', 'billion', 'browser', 'build', 'building', 'cancer', 'chatgpt', 'china', 'clown', 'company', 'constitutes sale', 'contract', 'cooky', 'developer', 'digital', 'encrochat', 'endangered', 'endangered specie', 'generative', 'government', 'group', 'hisense', 'house', 'image', 'information', 'innovation', 'invasive', 'iot', 'loss', 'medium', 'nasa', 'network', 'new', 'nuclear', 'ozone', 'painting', 'personal', 'personal information', 'plastic', 'republican', 'rocket', 'said', 'sale', 'security', 'shingle', 'space', 'spacex', 'specie', 'stock', 'store', 'synthetic', 'technology', 'theft', 'transformation', 'vaccine', 'vehicle', 'waste', 'way constitutes', 'way constitutes sale', 'web', 'web developer']\n"
     ]
    }
   ],
   "source": [
    "tpcs = []\n",
    "for t in info[\"Topic\"][0:int(len(info))]: \n",
    "    tpcarray = topic_model.get_topic(t)\n",
    "    for elt in tpcarray:\n",
    "        tpcs.append(elt[0])\n",
    "tpcs = list (set(tpcs))\n",
    "tpcs.sort()\n",
    "print (tpcs)"
   ]
  },
  {
   "cell_type": "code",
   "execution_count": 36,
   "id": "d86de083",
   "metadata": {},
   "outputs": [],
   "source": [
    "# topic_model.probabilities_[7]\n",
    "# topic_model.visualize_distribution(topic_model.probabilities_[5], min_probability=0.005)"
   ]
  },
  {
   "cell_type": "code",
   "execution_count": 38,
   "id": "ec8af19f",
   "metadata": {},
   "outputs": [
    {
     "name": "stdout",
     "output_type": "stream",
     "text": [
      "key: https://datainnovation.org/2022/11/visualizing-changes-to-politicians-followers-on-twitter/\n",
      "\t\tSummary: The Economist has created a visualization showing how politicians’ Twitter followers changed after Elon Musk acquired the platform.\n",
      "The visualization shows the percent change for both individual accounts and party averages from October 24 to October 30.\n",
      "According to the visualization, Republicans gained around 470,000 followers after Musk acquired Twitter while Democrats lost 420,000 followers.\n",
      "Take a look.\n",
      "key: https://venturebeat.com/ai/stability-ai-looks-to-aws-cloud-to-power-the-next-generation-of-generative-ai/\n",
      "\t\tSummary: Among the organizations building generative AI technologies is Stability AI, which raised $101 million in funding in October.\n",
      "Building a generative AI model like Stable Diffusion requires a significant amount of computing power both for training and for inference.\n",
      "At the AWS re:Invent conference this week in Las Vegas, Stability AI formally announced that it had chosen AWS as its preferred cloud platform for building generative AI tools.\n",
      "Watch HereThe cloud and generative AI go hand in handStability AI isn’t the only generative AI vendor that relies on the public cloud to help build foundation models.\n",
      "Stable Diffusion 2.0 uses the cloud to generate AI images fasterBuilding Stable Diffusion is an exercise that involves multiple steps and components.\n",
      "key: https://venturebeat.com/ai/openai-ceo-admits-chatgpt-risks-what-now-the-ai-beat/\n",
      "\t\tSummary: Watch on-demand sessions today.\n",
      "Watch HereAltman’s latest cautionary notes probably aren’t responding to last week’s AI Beat column.\n",
      "For now, it seems the ChatGPT horse is fully out of the barn and running down Main Street.\n",
      "There are zero signs of its popularity slowing down: In fact, OpenAI seems to be having trouble keeping up with capacity.\n",
      "LAION, one of the creators of Stable Diffusion, says it is already actively working on that:So, we wait.\n",
      "key: https://venturebeat.com/ai/generative-ai-may-be-the-magic-potion-small-marketing-agencies-have-been-waiting-for/\n",
      "\t\tSummary: Generative AI is going to completely alter the marketing landscape, among many other areas.\n",
      "That’s where generative AI can come to the rescue.\n",
      "For the linguistically minded, products like Jasper and Copy.ai use generative AI to help get marketing copy ideas flowing.\n",
      "Rowan Curran, a Forrester AI/ML and data science analyst, cites speed constraints as a reason for adopting generative AI.\n",
      "For example, a marketing lead can have their writers create generative AI images, and their designers bring their visual minds to work on AI-assisted copy.\n",
      "key: https://www.businessinsider.com/moderna-ceo-interview-on-mrnas-future-in-cancer-care-2022-12\n",
      "\t\tSummary: Personalized cancer vaccines could provide a new way to fight early cancer cases.\n",
      "Moderna CEO Stéphane Bancel told Insider he thinks cancer vaccines can upend cancer care.\n",
      "In an interview, Bancel shared his vision on how these personalized cancer vaccines could transform cancer care.\n",
      "Based off the blood work, Moderna would design vaccines that target the genetic mutations in cancerous cells that stand out from healthy cells.\n",
      "The blood tests could find cancer before it grows too much, and mRNA vaccines could squash it.\n",
      "key: https://www.digitaltrends.com/space/astronaut-spots-spacexs-starbase-facility-from-space/\n",
      "\t\tSummary: An astronaut gazing out from the International Space Station (ISS) managed to spot SpaceX’s Starbase spaceflight facility in Boca Chica, Texas, some 250 miles below.\n",
      "Posting the image on Twitter, Wakata asked his followers if they could spot SpaceX’s facility far below.\n",
      "Unless you live locally, or you’ve been tracking SpaceX’s work at the site extremely closely, it’s a safe bet you won’t be able to spot Starbase.\n",
      "So let us help you out …In the image above, the red circle shows SpaceX’s Starbase Launch Control Center building, as well as the Starbase Tracking Station.\n",
      "The green circle shows the launch site for the upcoming maiden test of SpaceX’s next-generation rocket, the Super Heavy.\n",
      "key: https://executivegov.com/2022/12/dod-announces-integration-of-fapiis-with-system-for-award-management/\n",
      "\t\tSummary: The office of the undersecretary for acquisition and sustainment at the Department of Defense has released a memorandum announcing the integration of the Federal Awardee Performance and Integrity Information System with the System for Award Management as part of the ongoing modernization of the Integrated Award Environment.\n",
      "The General Services Administration’s Federal Acquisition Service oversees IAE, which unifies and manages the federal awards process for the government acquisition workforce and business partners and seeks to modernize the award experience through the use of innovative platforms.\n",
      "“Users can download a report from SAM showing the entity’s basic identification information as well as the entity’s R/Q information.\n",
      "Additionally, R/Q and proceedings data is available via a new Entity Management application program interface (API) at https://open.gsa.gov/api/entity-api/,” the memo reads.\n",
      "According to the document, government employees will continue to encode non-responsibility determination and other required data into FAPIIS through the input module the Contractor Performance Assessment Reporting System.\n",
      "key: https://gcn.com/cloud-infrastructure/2022/12/cyber-digital-services-workforce-primary-focus-state-cios-2023/380887/\n",
      "\t\tSummary: These cookies are not used in a way that constitutes a “sale” of your data under the CCPA.\n",
      "These cookies are not used in a way that constitutes a “sale” of your data under the CCPA.\n",
      "These cookies are not used in a way that constitutes a “sale” of your data under the CCPA.\n",
      "You may opt out of our use of such cookies (and the associated “sale” of your Personal Information) by using this toggle switch.\n",
      "You may opt out of our use of such cookies (and the associated “sale” of your Personal Information) by using this toggle switch.\n",
      "key: https://gcn.com/cloud-infrastructure/2022/12/funding-infrastructure-act-tackle-digital-discrimination-state-local-government/381059/\n",
      "\t\tSummary: The suggestions the FCC could adopt include ideas like not giving broadband companies permits unless they address disparities and providing subsidies to help lower-income people get broadband service.\n",
      "One of the issues that Angela Siefer, executive director of the National Digital Inclusion Alliance, would like to see addressed is so-called digital redlining, in which lower-income or minority neighborhoods are more likely to have poor or no broadband service.\n",
      "Still, she said the recommendations are significant because it will draw attention from state and local governments to the causes of inequitable broadband service.\n",
      "“Ultimately, cities, towns and villages need ISPs at the table and involved in the solutions to make progress on preventing and eliminating digital discrimination,” Geraghty said.\n",
      "A report by the association noted that only 62% of households earning less than $20,000 a year have broadband service, compared to 81.8% of those earning more than $75,000.\n",
      "key: https://gcn.com/cloud-infrastructure/2022/12/how-one-state-pays-down-technical-debt/381072/?oref=gcn-skybox-lander\n",
      "\t\tSummary: To begin paying down $465 million in technical debt, Colorado is starting with $53 million from the state’s General Fund.\n",
      "Additionally, 60% of those agencies said that 10% to 24% of their full-time employees’ time was allocated to technical debt.\n",
      "In October, NASCIO and VMware released “Application Modernization is an Imperative for State Governments,” a report that stressed application modernization, which it defined as “the transformation, improvement and migration of existing IT systems,” as critical to reducing technical debt.\n",
      "“How do you make decisions on addressing technical debt if you don't know the scope of that?” Robinson said.\n",
      "In Colorado, OIT faces yet another challenge: avoiding creating and accruing more technical debt while making changes.\n",
      "key: https://newatlas.com/space/news-near-and-far-the-year-in-space-2022/\n",
      "\t\tSummary: With beginnings, endings, and new discoveries, space was a busy place in 2022.\n",
      "James Webb Space Telescope completes deployment as mirror opensArtists depiction of the JWST showing the huge 5-layered sunshield NASA GSFC/CIL/Adriana Manrique GutierrezThe year began on an optimistic note as NASA's US$10-billion James Webb Space Telescope completed its final deployment without a mishap.\n",
      "Russia to walk away from International Space Station after 2024The International Space Station will lose Russian support after 2024 NASAIn a major upset to both space exploration and international cooperation, Roscosmos Chief Yury Borisov announced in a meeting in July with Russian President Vladimir Putin that Russia will formally withdraw from the International Space Station (ISS) after 2024, putting the future of the space lab in jeopardy.\n",
      "Pagan (STScI)Once in full operation, the James Webb Space Telescope snapped some incredible images and one turned out to be a doozy.\n",
      "The robotic craft touched down at NASA’s Kennedy Space Center in Florida after a record-breaking 908 days in orbit.\n",
      "key: https://www.govpilot.com/gis-mapping-software-geographic-information-system\n",
      "\t\tSummary: Property Level Detail & DataGeographic Information Systems are critical to providing accurate, actionable data.\n",
      "GovPilot's color-coded, GIS map data layers depict property-specific records such as tax assessment data, ownership information, districts and zones, and other details of interest, to all departments and residents.\n",
      "Departmental data and records are tied to a single property profile in GovPilot ensuring that data is easily accessible, up to date, and informative.\n",
      "Make your map available to the public simply by posting a hyperlink on your website.\n",
      "With GovPilot there is NO need to acquire a third-party GIS license.\n",
      "key: https://www.techrepublic.com/article/aws-vs-azure-industrial-iot/\n",
      "\t\tSummary: The Azure Industry 4.0 solutions cut through different product lines such as Azure IoT Hub, Azure IoT Central, Azure IoT Edge and Azure Digital Twins.\n",
      "The AWS IoT platform spans about 12 major IIoT offerings, such as AWS IoT Core, AWS IoT Device Management, AWS, IoT Greengrass and AWS IoT ExpressLink.\n",
      "Although Azure IoT edge consists of edge runtime, certified IoT edge hardware, cloud interface and edge modules, it still lacks the flexibility of AWS.\n",
      "Azure relies on Azure Sphere, Azure Defender and the OPC Vault microservice within its Azure IoT core to secure and maintain industrial assets.\n",
      "Choosing between Microsoft Azure and AWS IIoT platformsMicrosoft Azure and AWS are great IIoT solution providers with impressive offerings in the IIoT market.\n",
      "key: https://www.technology-in-business.net/quantum-computers-are-making-classical-ones-faster-heres-how/\n",
      "\t\tSummary: Quantum Computers are Making Classical Ones Faster, Here’s HowQuantum computing may be all the rage, but it turns out that the classic computers we use today may have some tricks up their sleeve.\n",
      "key: https://www.technology-in-business.net/scientists-newdiscovery-at-the-center-of-the-galaxy-just-shocked-the-entire-space-industry/\n",
      "\t\tSummary: Space TechnologyScientists NEW Discovery At The Center Of The Galaxy Just SHOCKED The Entire Space IndustryCredit Tech Revolution\n",
      "key: https://www.thedailybeast.com/this-new-variant-could-make-you-pay-for-skipping-the-booster\n",
      "\t\tSummary: It also may prove to be the variant that comes back to bite Americans who have failed to get their bivalent (or omicron-specific) booster shots.\n",
      "It is imperative for you to get your bivalent booster to maximize the probability that you won’t become seriously ill with XBB.1.5 COVID-19.\n",
      "There are several pieces of evidence from early epidemiological studies or studies in the laboratory that point to the importance of getting your bivalent booster.\n",
      "Although these studies need to be repeated specifically with XBB.1.5, the data could mean you have a better chance at fighting off the XBB.1.5 variant if you get the bivalent booster.\n",
      "But the bottom line is: Don’t wait—get your bivalent booster now if you haven’t so far.\n",
      "key: https://www.thedailybeast.com/princeton-student-edward-tian-built-gptzero-to-detect-ai-written-essays\n",
      "\t\tSummary: “I was expecting, at most, a few dozen people trying out the app,” Tian told The Daily Beast.\n",
      "For example, human writing tends to have sentences that vary in complexity.\n",
      "Tian would go on to use an essay by McPhee in The New Yorker as part of his demo for GPTZero:Despite building the tool, Tian isn’t anti-AI.\n",
      "Hell, he’s even used AI programs like CoPilot to “support much of my coding.”“I’m not opposed to using AI for writing when it makes sense,” he said.\n",
      "“ There are beautiful qualities of human written prose that computers can and should never co-opt.\n",
      "key: https://www.thedailybeast.com/cybersecurity-may-be-the-one-issue-that-unites-a-deeply-divided-congress\n",
      "\t\tSummary: LAS VEGAS, Nevada—Despite a divided Congress, an influential Senate Democrat says legislation addressing the technology “arms race” with China and issues related to social media could be passed in the current two-year term.\n",
      "The prospects for legislation tightening social media regulations are less clear, but could tie into the national security examination, he said, with the popular video-sharing app TikTok driving the conversation.\n",
      "Warner indicated he doesn’t favor such a broad-brush approach, but said that action to address the TikTok controversy is likely.\n",
      "” — Senator Mark Warner (D-VA)Warner lamented that Congress has not acted to shore up privacy protections and address other concerns related to social media.\n",
      "One possible exception, said Warner, would be legislation to increase protections for kids and address social media’s impact on their mental health.\n",
      "key: https://www.washingtonpost.com/technology/2023/01/07/ai-2023-predictions/\n",
      "\t\tSummary: ChatbotsLast year, chatbots including ChatGPT took the internet by storm with their ability to answer questions posed by humans with lifelike quality.\n",
      "This year, multiple AI experts said, people will probably see more of these public-facing products come out.\n",
      "“That’s their business plan,” Altman said of labs such as OpenAI.\n",
      "Still, any attempts to release products widely will run headlong into issues — namely that chatbots are still wrong, racist and sexist at times — and require new training methods.\n",
      "That would help avoid racism and sexism and be more accurate, he said.\n",
      "key: https://www.washingtonpost.com/technology/2022/12/28/ai-chatgpt-dalle-year-in-review/\n",
      "\t\tSummary: Text-to-image generatorsCraving a photo of a Dachsund puppy in space in the style of painted glass?\n",
      "Before, you might have needed to commission an artist to get that, but now simply type that request into a text-to-image generator, and out pops an AI generated photo from thin air of such high quality, even AI doubters conceded it’s impressive — though they still note their many concerns.\n",
      "Dall-E 2, created by OpenAI and named after painter Salvador Dali and Disney Pixar’s WALL-E, shook the internet after launching in July.\n",
      "In August, the start-up Stable Diffusion launched its own version, essentially an anti-DALL-E with fewer restrictions on how it was used.\n",
      "What these models do aren’t new, but how they did it was, experts said, causing the sharp increase in image quality.\n",
      "key: https://www.washingtonpost.com/technology/2022/06/17/plastic-eating-superworm-garbage-crisis/\n",
      "\t\tSummary: The article should have said plastic foam or foam; Styrofoam is a trademark for a construction material.\n",
      "A plump larva the length of a paper clip can survive on the material that makes plastic foam.\n",
      "The organism, commonly called a “superworm,” could transform the way waste managers dispose of one of the most common components in landfills, researchers said, potentially slowing a mounting garbage crisis that is exacerbating climate change.\n",
      "“You cannot really escape plastic anymore — plastic waste is everywhere,” said Christian Rinke, the study’s co-author.\n",
      "As the garbage crisis escalates, scientists across the world are trying to find bacteria and other living organisms that naturally dispose of plastic waste.\n",
      "key: https://www.washingtonpost.com/technology/2022/11/11/cop27-climate-change-solutions/\n",
      "\t\tSummary: Nuclear powerFor years, the idea of large nuclear power plants powering the world has drawn concern.\n",
      "Many worry about the dangers these reactors present to communities they’re near, as well as the radioactive waste they generate and high construction costs.\n",
      "“Nuclear energy as a clean energy source has a very important role to play to help us get to net zero faster,” he said in a statement.\n",
      "AdvertisementNuclear trade associations are at the conference, saying nuclear power is already the world’s second-largest source of low-carbon power, providing roughly 10 percent of the world’s electricity from roughly 440 reactors.\n",
      "“Twenty years ago, Belgium decided that nuclear was bad and they shut it down,” Rep. John Curtis (R-Utah) told The Washington Post.\n",
      "key: https://www.washingtonpost.com/technology/interactive/2023/nasa-sls-spacex-starship-rockets/?itid=mr_technology_3\n",
      "\t\tSummary: Skip3In the way they are manufactured, the way they’re financed and the way they’re supposed to work, these two ships represent starkly differing approaches to getting off the Earth.\n",
      "Skip9As with all NASA rockets before it, the SLS rocket stages are expended and then splashed into the ocean, never to be recovered.\n",
      "Skip15Skip16In both appearance and functionality, Starship, from Elon Musk’s venture SpaceX, is a sharp contrast to NASA’s tried-and-true approach.\n",
      "Story continues below advertisement Advertisement Story continues below advertisement AdvertisementSkip22The divergent approaches to space travel between NASA and SpaceX can be seen down to the engines powering the rockets.\n",
      "Skip28But perhaps the biggest innovation of the Raptor engines is how SpaceX plans to use them.\n",
      "key: https://www.washingtonpost.com/technology/interactive/2023/new-space-age/\n",
      "\t\tSummary: Big and powerful and full of fiery thrust, the Space Launch System rocket NASA wants to use to propel astronauts into moon orbit is a monster, taller than the Statue of Liberty.\n",
      "As is SpaceX’s Starship, which NASA plans to use to ferry the astronauts to the lunar surface and back.\n",
      "But those rockets represent only one element of the grand ambitions possessed by the United States, international space agencies and the many private companies that have set their sights on space over the past two decades.\n",
      "Space travel is booming, creating an energy around the exploration of our solar system that hasn’t been seen since the days of Apollo — and leading to no shortage of questions.\n",
      "What toll does space travel take on the human body?\n",
      "key: https://www.washingtonpost.com/politics/2023/01/09/what-speaker-mccarthy-means-silicon-valley/\n",
      "\t\tSummary: Choose your plan ArrowRight What Speaker McCarthy means for Silicon Valley Kevin McCarthy (R-Calif.) clinching the speakership in the House guarantees that tech companies like Facebook and Google will face added pressure over allegations of “censorship,” but it could spare them more aggressive regulation on issues like data privacy and competition.\n",
      "House Republicans have said they also plan to probe communications between tech companies and the Biden administrations.\n",
      "Advertisement“There needs to be a national-level regulation, not state-by-state on what we’re going to do about privacy,” McCarthy told The Wall Street Journal in 2019.\n",
      "McCarthy seemingly out on bipartisan antitrust billsMcCarthy has been critical of the bipartisan tech antitrust proposals advanced by the House Judiciary Committee last Congress, significantly dimming their prospects for passage.\n",
      "Some experts argue that limiting his ability to post on a social media platform would be a major online restriction imposed on a U.S. political candidate for office.\n",
      "key: https://www.washingtonpost.com/technology/2023/01/05/qualcomm-iridium-snapdragon-satellite-smartphones/\n",
      "\t\tSummary: This push into satellite communications — powered by a partnership with Iridium Communications, which operates a constellation of 66 satellites — isn’t a new concept.\n",
      "Qualcomm and Iridium’s vision is a little different: Any phone maker that buys the former’s premium chipsets for its devices can pay a little extra to connect to the latter’s satellites.\n",
      "Over time, Qualcomm aims to bake satellite connectivity into more-moderately priced chipsets and phones, but Amon would not say when.\n",
      "The costs involved, however, aren’t set in stone: Qualcomm’s Grilli said emergency messages “will not be very expensive,” if they cost anything at all.\n",
      "“We talked about phones, but there’s no reason it couldn’t be your laptop,” Amon said, before turning his attention to another crucial class of products.\n",
      "key: https://www.washingtonpost.com/climate-solutions/2023/01/09/ozone-layer-recovery-study-2023/\n",
      "\t\tSummary: Source: NASA Earth ObservationsThe scale for the thickness of the ozone layer ranges from 0 to 500 Dobson units.\n",
      "Source: NASA Earth ObservationsThe scale for the thickness of the ozone layer ranges from 0 to 500 Dobson units.\n",
      "Source: NASA Earth ObservationsThe scale for the thickness of the ozone layer ranges from 0 to 500 Dobson units.\n",
      "Ozone loss is most dramatic above the South Pole, with an ozone “hole” appearing there every spring.\n",
      "“The Antarctic ozone hole is the poster child of ozone depletion,” Newman said.\n",
      "key: https://www.wired.com/story/what-the-west-doesnt-know-about-chinas-silicon-valley/\n",
      "\t\tSummary: Out the window and amid the fields, Ning saw the campuses of China’s most prestigious research institutions, which had birthed China’s nuclear program and hydroelectric dams.\n",
      "Today that stretch of road is the heart of China’s technology industry, a busy neighborhood with a subway stop and glass towers housing Chinese and Western tech companies.\n",
      "The neighborhood’s transformation mirrors the dramatic changes to China’s economy and culture over the past four decades.\n",
      "In the West, coverage of China’s tech industry often focuses on how it is restricted or controlled by the government.\n",
      "Today, many are celebrated for their role in opening China’s economy and advancing its technology industry.\n",
      "key: https://www.wired.com/story/psychology-artificial-intelligence\n",
      "\t\tSummary: Machine learning, on the other hand, typically takes a different path: It sees reasoning as a categorization task with a fixed set of predetermined labels.\n",
      "Exploring these marvelous features of the evolved human brain will finally allow us to make machine learning smart.\n",
      "One feature of psychological AI is that it is explainable.\n",
      "As the case of flu predictions illustrates, robust and simple psychological algorithms can often give more accurate predictions than complex algorithms.\n",
      "Psychological AI opens up a new vision for explainable AI: Instead of trying to explain opaque complex systems, we can check first if psychological AI offers a transparent and equally accurate solution.\n",
      "key: https://www.wired.com/story/how-your-brain-distinguishes-memories-from-perceptions\n",
      "\t\tSummary: Memory and perception seem like entirely distinct experiences, and neuroscientists used to be confident that the brain produced them differently, too.\n",
      "But in the 1990s, neuroimaging studies revealed that parts of the brain that were thought to be active only during sensory perception are also active during the recall of memories.\n",
      "Her team’s work has identified at least one of the ways in which memories and perceptions of images are assembled differently at the neurological level.\n",
      "Then, as the participants perceived and remembered the locations of the patterns, the researchers recorded their brain activity.\n",
      "In effect, visual processing during perception is a matter of small crisp dots evolving into larger, blurrier, but more meaningful blobs.\n",
      "key: https://www.wired.com/story/gadget-lab-podcast-580/\n",
      "\t\tSummary: The lights will flash on and off in different patterns like the car is angry, don't drive red, and car, car is feeling mildly introspective.\n",
      "Julian Chokkattu: Because I saw the guy demoing it for me, and so many questions came into my head.\n",
      "And I saw him walk around the show floor, and he doubled his walking speed, so it worked.\n",
      "And I asked him why, and he said, well, he's living in Paris and he wants to get around fast.\n",
      "But it was definitely the funniest thing I saw so far.\n",
      "key: https://www.wired.com/story/platform-work-labor-economy-ai\n",
      "\t\tSummary: The European Union is expected to finalize the Platform Work Directive, its new legislation to regulate digital labor platforms, this month.\n",
      "Designed carefully, algorithmic management could reduce bias in hiring, evaluation, and promotion or improve employee well-being by detecting needs for training or support.\n",
      "The current regulatory situation regarding algorithmic management in the EU is complex.\n",
      "On the other hand, the welter of already existing law creates unnecessary complexity for organizations trying to use algorithmic management responsibly.\n",
      "Confusing matters further, the algorithmic management provisions of the new Platform Work Directive mean that platform workers, long underprotected by law, are likely to have more protections against intrusive monitoring and error-prone algorithmic management than traditional employees.\n",
      "key: https://www.wired.com/story/digital-warfare\n",
      "\t\tSummary: The war in Ukraine was a shock, not a surprise—it was a clear and present danger ever since the Russian invasion of Crimea in 2014.\n",
      "It was also not a surprise because the world watched Russia assemble its forces on Ukraine’s border for months.\n",
      "In 2023, digital technologies will transform confrontation and conflict, as transparency and precision will merge with advances in robotics, autonomy, connectivity, data in secure cloud, and AI.\n",
      "This combination will lead to armed forces that are no longer just people operating equipment but rapidly evolving teams of inhabited, uninhabited, and autonomous capability.\n",
      "The Digital Age will drive the most profound transformation in how states confront and conflict.\n",
      "key: https://www.wired.com/story/russia-turla-fsb-usb-infection\n",
      "\t\tSummary: Now, 15 years later, the same group appears to be trying a new twist on that trick: hijacking the USB infections of other hackers to piggyback on their infections and stealthily choose their spying targets.\n",
      "That hijacking technique appears designed to let Turla stay undetected, hiding inside other hackers’ footprints while combing through a vast collection of networks.\n",
      "“Because the malware already proliferated through USB, Turla can leverage that without exposing themselves.\n",
      "Looking at other Andromeda samples and their command-and-control domains, Mandiant saw that at least two more expired domains had been reregistered.\n",
      "In total, those domains connected to hundreds of Andromeda infections, all of which Turla could sort through to find subjects worthy of their spying.\n",
      "key: https://www.wired.com/story/amazon-investors-demand-answers-about-its-clouds-human-rights-record\n",
      "\t\tSummary: Some of its investors fear those contracts include projects that see the company’s technology contribute to human rights violations.\n",
      "Today nonprofit American Baptist Home Mission Societies filed a proposal asking Amazon shareholders to force the company to investigate possible human rights violations by government clients.\n",
      "The group is a member of Investor Advocates for Social Justice, which uses shareholder rights to campaign for changes to corporate governance.\n",
      "The resolution argues that companies should perform due diligence on the human rights implications of their clientele or supply chain, just as they might evaluate things like environmental impact or privacy.\n",
      "In 2020, a similar resolution received roughly 30 percent of shareholder votes; in 2021, a version won more than 40 percent of shareholder support.\n",
      "key: https://www.wired.com/story/3d-printing-tabletop-games-wargaming\n",
      "\t\tSummary: And 3D printing has begun to disrupt the economy of tabletop miniatures, as entrepreneurs try to democratize an expensive and somewhat monopolistic market.\n",
      "Has 3D Printing Changed the Game?\n",
      "3D printing isn’t new, but it’s much easier to get into now than it used to be.\n",
      "“We see a lot of misconceptions about the labor intensity of modern 3D printing,” Wilson admits.\n",
      "“People watch a viral video about how easy 3D printing is, and they get the impression that it comes down to loading a program and pushing a button.\n",
      "key: https://www.wired.com/story/2022-was-the-year-that-electric-vehicles-took-off/\n",
      "\t\tSummary: For years now, technologists have promised that the age of the electric vehicle cometh.\n",
      "After false starts in the early 20th century (when electrics, for a short time, accounted for a third of US vehicles), the 1970s (thanks, gas crisis), and the early 2000s (when two American engineers founded a company called Tesla Motors), electric vehicles are going mainstream.\n",
      "In the first half of 2022, 13 percent of worldwide passenger vehicle sales were battery electric, plug-in hybrids, or fuel cell vehicles, according to data from BloombergNEF.\n",
      "Only 7 percent of the passenger vehicles sold in the US in the first half of the year were zero-emission.\n",
      "Before the end of this decade, top global automakers have pledged to spend an astronomical $1.2 trillion to produce 54 million electric vehicles, according to a Reuters analysis.\n",
      "key: https://www.wired.com/2012/03/ff-nsadatacenter/\n",
      "\t\tSummary: Today Bluffdale is home to one of the nation's largest sects of polygamists, the Apostolic United Brethren, with upwards of 9,000 members.\n",
      "The NSA has become the largest, most covert, and potentially most intrusive intelligence agency ever.\n",
      "Under construction by contractors with top-secret clearances, the blandly named Utah Data Center is being built for the National Security Agency.\n",
      "But \"this is more than just a data center,\" says one senior intelligence official who until recently was involved with the program.\n",
      "The mammoth Bluffdale center will have another important and far more secret role that until now has gone unrevealed.\n",
      "key: https://www.wired.co.uk/article/encrochat-phone-police-hacking-encryption-drugs\n",
      "\t\tSummary: Every person whom the German criminal defense lawyer spoke to had been using the encrypted phone network EncroChat and was worried their devices had been hacked, potentially exposing crimes they may have committed.\n",
      "“Then I realized—oh my gosh—the flood is coming.”Months earlier, police across Europe, led by French and Dutch forces, revealed they had compromised the EncroChat network.\n",
      "Fast-forward two years, and thousands of EncroChat users across Europe—including in the UK, Germany, France, and the Netherlands—are in jail.\n",
      "We are defending the rights of accused people.”Hacking EncroChatAround 60,000 people were signed up to the EncroChat phone network, which was founded in 2016, when it was busted by cops.\n",
      "Police who hacked the phone network didn’t appear to break its encryption but instead compromised the EncroChat servers in Roubaix, France, and ultimately pushed malware to devices.\n",
      "key: https://www.wired.co.uk/article/mrna-medicine-technology\n",
      "\t\tSummary: The successful development of the first mRNA vaccines against Covid-19 in 2020 was an unprecedented achievement in the history of medicine.\n",
      "That progress allowed us to create effective mRNA vaccines that, when administered in small amounts to humans, elicit powerful immune responses.\n",
      "The potential of mRNA vaccines goes beyond the coronavirus.\n",
      "One of the beauties of mRNA technology is that it enables us to rapidly test hundreds of vaccine targets.\n",
      "This innovation could support decentralized and scalable vaccine production worldwide by leapfrogging toward automated, digitized, and scalable mRNA manufacturing capability.\n",
      "key: https://www.techradar.com/news/microsoft-now-wants-to-add-chatgpt-to-word-email\n",
      "\t\tSummary: Audio player loading…Microsoft is reportedly in discussions to bring OpenAI’s AI writer ChatGPT to Microsoft Office as part of an effort to modernise the office software suite.\n",
      "The news, courtesy of The Information (opens in new tab) via two insiders at Microsoft, comes after TechRadar Pro recently reported that the company is looking to bring OpenAI’s ChatGPT to its Bing search engine for web browsers.\n",
      "Plans to bring ChatGPT’s text-generation capabilities to “Word, PowerPoint, Outlook and other apps” follow another stalled attempt to implement AI tools that use OpenAI’s machine-learned language models into Office to generate emails and documents.\n",
      "It’s entirely possible that Microsoft may have big plans in mind for ChatGPT and other products driven by OpenAI’s GPT language model, but as yet, there’s no fixed estimate for when they might become a reality.\n",
      "There’s a reason why ChatGPT is currently marked as a “free research preview”, and peppered with warnings that it “may occasionally generate incorrect information”, “harmful instructions or biased content”.\n",
      "key: https://www.techradar.com/news/amds-rocky-ride-continues-as-ryzen-7600x-cpu-firmware-goes-seriously-wrong\n",
      "\t\tSummary: MSI & ASRock removed X670/B650 AGESA 1.0.0.4 (SMU 84.79.204) BIOS from the websites.\n",
      "pic.twitter.com/N8wnryyXggJanuary 7, 2023 See moreHere’s where it gets even thornier, because apparently the Ryzen 7600X chips which have been affected are those with dual CCDs (two chiplets, in other words).\n",
      "As of now, all these motherboard makers have now pulled the beta firmware from their download portals, so the good news is you can’t grab it any longer, anyway.\n",
      "For those who did install the beta firmware and hit trouble, the only recourse is to revert to the previous version.\n",
      "Hopefully, the problem pertaining to the Ryzen 7600X will be solved in the near future, and AMD can push out a revised AGESA 1.0.0.4 release.\n",
      "key: https://www.techradar.com/news/the-web3-industry-lost-billions-to-crypto-fraud-last-year\n",
      "\t\tSummary: Audio player loading…Businesses and individuals working in the Web3 industry lost almost $4 billion last year to fraud and cybercrime, a new report has shown.\n",
      "Web3 is the idea behind a possible next version of the internet, built on decentralized solutions, blockchain, and token-based economics.\n",
      "“Web3 is still a brand new world, full of unknown paths,” said Mitchell Amador, founder and CEO at Immunefi.\n",
      "That education should go beyond endpoint protection (opens in new tab), phishing and social engineering, into things like cryptocurrency wallets, private keys, and common DeFi (Decentralized Finance) applications.\n",
      "These are the best identity theft protection (opens in new tab) solutions right nowVia: VentureBeat (opens in new tab)\n",
      "key: https://www.techradar.com/news/adobe-is-almost-definitely-using-your-content-to-train-ai\n",
      "\t\tSummary: Social media users highlighted how the Photoshop developer uses content saved on its servers: it appears Adobe may be using it to train AI .\n",
      "Adobe content analysisThe online pushback began when Adobe added content analysis to its data collection permissions - forcing users to opt out of the controversial plan.\n",
      "In a circulated screenshot, the new option explains “Adobe may analyze your content using techniques such as machine learning to develop and improve our products and services.\n",
      "There, the company further explains:“Adobe primarily uses machine learning in Creative Cloud and Document Cloud to analyze your content.\n",
      "This includes Adobe Stock, Adobe Express , and Lightroom submissions, beta participation and improvement programs, and processing the structural elements of PDFs.\n",
      "key: https://www.techradar.com/news/microsoft-teams-could-soon-be-coming-to-a-massive-screen-near-you\n",
      "\t\tSummary: Audio player loading…Microsoft has partnered with Chinese electronics company Hisense on a new large-screen display designed specifically for use with its video conferencing platform.\n",
      "An update on Microsoft China’s news site (opens in new tab) announced that Microsoft Teams would be available on Hisense’s WR range of Android-powered touch panels, which are available in 65-, 75-, and 86-inch configurations.\n",
      "Users seeking the ultimate customizability may want to consider dedicated video bars, but Hisense’s WR displays are equipped with cameras and sound systems to provide an all-in-one solution for meeting rooms.\n",
      "Hisense WR: Microsoft TeamsThis is a move that sees the Chinese company move one step closer to expanding its business displays to a global audience, with intentions to provide its products in Europe, the Middle East, Africa, Asia Pacific, and the US.\n",
      "Using Teams on a Hisense display will be made possible by the HiTeams app, which promises a range of login types including authenticated client access and anonymous participation.\n",
      "key: https://www.springwise.com/innovation/computing-tech/the-first-fully-recyclable-computer-chip-substrate/\n",
      "\t\tSummary: Spotted: E-waste is a huge and growing problem.\n",
      "One common type of e-waste is computer-printed circuit boards (PCB), which are made from fibreglass.\n",
      "The only commercial method for recycling PCBs involves shredding and incinerating them to extract the precious metals.\n",
      "This is both inefficient and energy intensive and recovers only some of the precious metals.\n",
      "This allows the precious metals and components to be easily and safely recovered and the remaining solution can then be disposed of using standard domestic wastewater systems.\n",
      "key: https://www.npr.org/2023/01/09/1145040599/ppp-loan-forgiveness\n",
      "\t\tSummary: How the Paycheck Protection Program went from good intentions to a huge free-for-allEnlarge this image toggle caption Getty Images/Mark Harris for NPR Getty Images/Mark Harris for NPRWhen the Paycheck Protection Program launched during the pandemic shutdowns of spring 2020, it immediately became a chaotic free-for-all.\n",
      "Enlarge this image toggle caption Mandel Ngan/AFP via Getty Images Mandel Ngan/AFP via Getty ImagesCongress also expanded the ways the loan money could be spent.\n",
      "At that hearing, Mnuchin pledged that government officials would be stricter with PPP loan forgiveness than with loan approvals.\n",
      "But ultimately, Talerman said, \"I would still say that in terms of an awful lot of small businesses, PPP saved the day.\"\n",
      "A $45,000 PPP loan kept some of their workers on the payroll, but so far the loan remains unforgiven.\n",
      "key: https://www.npr.org/2023/01/09/1147549845/gptzero-ai-chatgpt-edward-tian-plagiarism\n",
      "\t\tSummary: His motivation to create the bot was to fight what he sees as an increase in AI plagiarism.\n",
      "How GPTZero worksTo determine whether an excerpt is written by a bot, GPTZero uses two indicators: \"perplexity\" and \"burstiness.\"\n",
      "But by designing an app that sheds some light on what separates human from AI, the tool helps work toward a core mission for Tian: bringing transparency to AI.\n",
      "The quest to curb AI plagiarismThe college senior isn't alone in the race to rein in AI plagiarism and forgery.\n",
      "The open-source AI community Hugging Face has put out a tool to detect whether text was created by GPT-2, an earlier version of the AI model used to make ChatGPT.\n",
      "key: https://www.npr.org/2023/01/08/1147757260/bolsonaro-supporters-storm-brazil-congress-lula\n",
      "\t\tSummary: Security forces regain control after Bolsonaro supporters storm Brazil's CongressEnlarge this image toggle caption Sergio Lima/AFP via Getty Images Sergio Lima/AFP via Getty ImagesSupporters of former Brazilian President Jair Bolsonaro stormed Congress and other buildings in the capital of Brasília on Sunday, calling for the military to take over Brazil's government.\n",
      "By evening, security forces had retaken control of the breached buildings, said Flávio Dino, the minister of justice and public security.\n",
      "Swarms of Bolsonaro supporters, known as \"Bolsonaristas,\" were seen charging past security barriers and clashing with police who appeared to be using pepper spray against them.\n",
      "Enlarge this image toggle caption Eraldo Peres/AP Eraldo Peres/APDino said the federal government sent reinforcements, in addition to the available forces he said were already at work.\n",
      "The former Brazilian president left the country for Florida late last month.\n",
      "key: https://www.npr.org/2023/01/07/1147452719/historic-house-speaker-showdown-highlighted-matters-of-race-and-representation\n",
      "\t\tSummary: Historic House speaker showdown highlighted matters of race and representationEnlarge this image toggle caption Chip Somodevilla/Getty Images Chip Somodevilla/Getty ImagesAs protracted voting for speaker of the House ground Congress to a standstill for multiple days this week, race and history permeated debate over who can best reflect the will of the American electorate on the Hill.\n",
      "Though the caucus struggled to unite behind California Rep. Kevin McCarthy in multiple votes and for nearly a week, he was ultimately elected House speaker early Saturday on the 15th round of voting.\n",
      "Earlier in the week, the deadlock saw Byron Donalds, a Black representative from Florida, emerge as a potential spoiler candidate.\n",
      "Amid the House speaker debates this week, Missouri Democrat Cori Bush pushed back on the idea of Donalds as a historic candidate for speaker.\n",
      "Regardless of the motivation underlying Donalds' nomination, his candidacy did little more than hamstring McCarthy's bid.\n",
      "key: https://www.npr.org/2023/01/08/1147733802/california-braces-for-more-storms-as-thousands-are-still-without-power\n",
      "\t\tSummary: The National Weather Service warned of a \"relentless parade of atmospheric rivers\" over the coming week, producing heavy rain and mountain snow.\n",
      "Atmospheric river storms are long plumes of moisture stretching out into the Pacific and are capable of dropping staggering amounts of rain and snow.\n",
      "The wet weather comes after days of rain in California from Pacific storms.\n",
      "A series of recent weather systems have knocked out power to thousands, flooded streets, battered the coastline and caused at least six deaths.\n",
      "High surf was expected through Tuesday, with large waves on west-facing beaches, the National Weather Service said.\n",
      "key: https://www.npr.org/2023/01/08/1147735477/seattles-schools-are-suing-tech-giants-for-harming-young-peoples-mental-health\n",
      "\t\tSummary: Seattle's schools are suing tech giants for harming young people's mental healthEnlarge this image toggle caption AP APSEATTLE — The public school district in Seattle has filed a novel lawsuit against the tech giants behind TikTok, Instagram, Facebook, YouTube and Snapchat, seeking to hold them accountable for the mental health crisis among youth.\n",
      "Seattle Public Schools filed the lawsuit Friday in U.S. District Court.\n",
      "The 91-page complaint says the social media companies have created a public nuisance by targeting their products to children.\n",
      "\"Defendants have successfully exploited the vulnerable brains of youth, hooking tens of millions of students across the country into positive feedback loops of excessive use and abuse of Defendants' social media platforms,\" the complaint said.\n",
      "She alleged that the platform prioritized profits over safety and hid its own research from investors and the public.\n",
      "key: https://www.npr.org/2022/12/27/1144390761/why-republican-elites-backed-trump-power-belonging-and-voter-pressure\n",
      "\t\tSummary: Why Republican elites backed Trump: power, belonging ... and voter pressureEnlarge this image toggle caption Hans Pennink/AP Hans Pennink/APIt can be easy to forget how many of Donald Trump's loudest allies once had nothing but insults for the man.\n",
      "A majority of Republican voters want someone else as the nominee in 2024.\n",
      "He ends up winning a really, really close race that just kind of got me hooked on politics.\n",
      "And I also was political director for Republican Voters Against Trump, which is a project aimed at getting Republicans to vote for Joe Biden in 2020.\n",
      "The animosity among Republican voters towards Democrats — and among many Democrats towards Republicans — is just huge.\n",
      "key: https://www.nextgov.com/analytics-data/2023/01/nasa-science-directorate-wants-help-prioritizing-what-digital-resources-it-should-open-source-first/381501/?oref=ng-skybox-hp\n",
      "\t\tSummary: These cookies are not used in a way that constitutes a “sale” of your data under the CCPA.\n",
      "These cookies are not used in a way that constitutes a “sale” of your data under the CCPA.\n",
      "These cookies are not used in a way that constitutes a “sale” of your data under the CCPA.\n",
      "You may opt out of our use of such cookies (and the associated “sale” of your Personal Information) by using this toggle switch.\n",
      "You may opt out of our use of such cookies (and the associated “sale” of your Personal Information) by using this toggle switch.\n",
      "key: https://www.nextgov.com/emerging-tech/2023/01/fda-set-issue-final-rule-classifying-vr-therapy-device-pain-relief/381504/?oref=ng-skybox-hp\n",
      "\t\tSummary: These cookies are not used in a way that constitutes a “sale” of your data under the CCPA.\n",
      "You can set your browser to block or alert you about these cookies, but some parts of the site will not work as intended if you do so.\n",
      "These cookies are not used in a way that constitutes a “sale” of your data under the CCPA.\n",
      "You may opt out of our use of such cookies (and the associated “sale” of your Personal Information) by using this toggle switch.\n",
      "Because we do not track you across different devices, browsers and GEMG properties, your selection will take effect only on this browser, this device and this website.\n",
      "key: https://www.nextgov.com/emerging-tech/2023/01/fcc-releases-proposed-rule-give-drones-more-spectrum-access/381513/?oref=ng-skybox-hp\n",
      "\t\tSummary: These cookies are not used in a way that constitutes a “sale” of your data under the CCPA.\n",
      "These cookies are not used in a way that constitutes a “sale” of your data under the CCPA.\n",
      "These cookies are not used in a way that constitutes a “sale” of your data under the CCPA.\n",
      "You may opt out of our use of such cookies (and the associated “sale” of your Personal Information) by using this toggle switch.\n",
      "You may opt out of our use of such cookies (and the associated “sale” of your Personal Information) by using this toggle switch.\n",
      "key: https://www.nextgov.com/emerging-tech/2023/01/air-force-wants-add-facial-recognition-automated-base-entrance/381591/\n",
      "\t\tSummary: These cookies are not used in a way that constitutes a “sale” of your data under the CCPA.\n",
      "These cookies are not used in a way that constitutes a “sale” of your data under the CCPA.\n",
      "These cookies are not used in a way that constitutes a “sale” of your data under the CCPA.\n",
      "You may opt out of our use of such cookies (and the associated “sale” of your Personal Information) by using this toggle switch.\n",
      "You may opt out of our use of such cookies (and the associated “sale” of your Personal Information) by using this toggle switch.\n",
      "key: https://www.nextgov.com/it-modernization/2023/01/defense-logistics-agency-shift-warehouse-management-commercial-software/381544/?oref=ng-home-top-story\n",
      "\t\tSummary: These cookies are not used in a way that constitutes a “sale” of your data under the CCPA.\n",
      "These cookies are not used in a way that constitutes a “sale” of your data under the CCPA.\n",
      "These cookies are not used in a way that constitutes a “sale” of your data under the CCPA.\n",
      "You may opt out of our use of such cookies (and the associated “sale” of your Personal Information) by using this toggle switch.\n",
      "You may opt out of our use of such cookies (and the associated “sale” of your Personal Information) by using this toggle switch.\n",
      "key: https://www.nextgov.com/emerging-tech/2023/01/state-department-creates-first-office-devoted-emerging-technology-diplomacy/381459/\n",
      "\t\tSummary: These cookies are not used in a way that constitutes a “sale” of your data under the CCPA.\n",
      "These cookies are not used in a way that constitutes a “sale” of your data under the CCPA.\n",
      "These cookies are not used in a way that constitutes a “sale” of your data under the CCPA.\n",
      "You may opt out of our use of such cookies (and the associated “sale” of your Personal Information) by using this toggle switch.\n",
      "You may opt out of our use of such cookies (and the associated “sale” of your Personal Information) by using this toggle switch.\n",
      "key: https://www.nextgov.com/technology-news/2023/01/biden-renominates-sohn-serve-5th-fcc-commissioner/381451/\n",
      "\t\tSummary: These cookies are not used in a way that constitutes a “sale” of your data under the CCPA.\n",
      "These cookies are not used in a way that constitutes a “sale” of your data under the CCPA.\n",
      "These cookies are not used in a way that constitutes a “sale” of your data under the CCPA.\n",
      "You may opt out of our use of such cookies (and the associated “sale” of your Personal Information) by using this toggle switch.\n",
      "You may opt out of our use of such cookies (and the associated “sale” of your Personal Information) by using this toggle switch.\n",
      "key: https://www.nextgov.com/cxo-briefing/2023/01/cdc-wants-real-time-data-covid-flu-vaccine-effectiveness/381390/\n",
      "\t\tSummary: These cookies are not used in a way that constitutes a “sale” of your data under the CCPA.\n",
      "These cookies are not used in a way that constitutes a “sale” of your data under the CCPA.\n",
      "These cookies are not used in a way that constitutes a “sale” of your data under the CCPA.\n",
      "You may opt out of our use of such cookies (and the associated “sale” of your Personal Information) by using this toggle switch.\n",
      "You may opt out of our use of such cookies (and the associated “sale” of your Personal Information) by using this toggle switch.\n",
      "key: https://www.nextgov.com/emerging-tech/2022/12/wireless-intelligence-community-horizon-official-says/381065/\n",
      "\t\tSummary: Some wireless devices—phones, tablets, or maybe even smart watches—could soon be welcome inside secure facilities, according to an intel official.\n",
      "“I think it's inevitable, in terms of the incorporation of wireless, into our community, into our facilities,” Douglas Cossa, the chief information officer for the Defense Intelligence Agency said Thursday.\n",
      "I think this is really just over the horizon where we're going to start incorporating this more as the norm as opposed to the exception,” Cossa said of allowing wireless tech into secure facilities.\n",
      "“I would love the scenario where we could just do that on the fly through a wireless type capability,” he said.\n",
      "The agency worked with the National Security Agency to get commercial devices built for classified systems, and to provide mobile phones, tablets, and laptops to employees who need them.\n",
      "key: https://www.nextgov.com/emerging-tech/2022/12/evs-building-emissions-among-bidens-sustainable-energy-priorities/380956/\n",
      "\t\tSummary: These cookies are not used in a way that constitutes a “sale” of your data under the CCPA.\n",
      "These cookies are not used in a way that constitutes a “sale” of your data under the CCPA.\n",
      "These cookies are not used in a way that constitutes a “sale” of your data under the CCPA.\n",
      "You may opt out of our use of such cookies (and the associated “sale” of your Personal Information) by using this toggle switch.\n",
      "You may opt out of our use of such cookies (and the associated “sale” of your Personal Information) by using this toggle switch.\n",
      "key: https://www.nextgov.com/cybersecurity/2022/12/federal-government-moving-memory-safety-cybersecurity/381275/\n",
      "\t\tSummary: These cookies are not used in a way that constitutes a “sale” of your data under the CCPA.\n",
      "These cookies are not used in a way that constitutes a “sale” of your data under the CCPA.\n",
      "These cookies are not used in a way that constitutes a “sale” of your data under the CCPA.\n",
      "You may opt out of our use of such cookies (and the associated “sale” of your Personal Information) by using this toggle switch.\n",
      "You may opt out of our use of such cookies (and the associated “sale” of your Personal Information) by using this toggle switch.\n",
      "key: https://www.nextgov.com/cxo-briefing/2022/12/ukraine-tech-chief-cloud-migration-saved-ukrainian-government-and-economy/380328/\n",
      "\t\tSummary: These cookies are not used in a way that constitutes a “sale” of your data under the CCPA.\n",
      "These cookies are not used in a way that constitutes a “sale” of your data under the CCPA.\n",
      "These cookies are not used in a way that constitutes a “sale” of your data under the CCPA.\n",
      "You may opt out of our use of such cookies (and the associated “sale” of your Personal Information) by using this toggle switch.\n",
      "You may opt out of our use of such cookies (and the associated “sale” of your Personal Information) by using this toggle switch.\n",
      "key: https://www.nextgov.com/technology-news/2022/11/va-has-plan-attract-workers-displaced-widespread-tech-industry-layoffs/380127/\n",
      "\t\tSummary: These cookies are not used in a way that constitutes a “sale” of your data under the CCPA.\n",
      "These cookies are not used in a way that constitutes a “sale” of your data under the CCPA.\n",
      "These cookies are not used in a way that constitutes a “sale” of your data under the CCPA.\n",
      "You may opt out of our use of such cookies (and the associated “sale” of your Personal Information) by using this toggle switch.\n",
      "You may opt out of our use of such cookies (and the associated “sale” of your Personal Information) by using this toggle switch.\n",
      "key: https://www.morningstar.com/articles/859045/a-tax-and-ira-guide-for-procrastinators\n",
      "\t\tSummary: Tax day is on Tuesday, April 17 this year, meaning there's precious little time left to make an IRA contribution for the 2017 tax year and submit those returns.\n",
      "We've pulled together a collection of recent content on tax and IRA matters to help make things a little easier.\n",
      "Kinnel's Favorite IRA PicksRuss Kinnel shares some core and noncore actively managed stock fund ideas for IRA contributions.\n",
      "Our Favorite Stock Picks for IRA ContributionsMorningstar's Dan Rohr says Compass Minerals, P&G, and Dominion Resources are good picks.\n",
      "What You Can Learn from Your 2017 Tax ReturnDespite the new tax laws, your recently completed tax documents yield valuable intelligence about your financial and investment life.\n",
      "key: https://www.morningstar.com/news/dow-jones/202301097392/sonnet-biotherapeutics-shares-up-8-on-roche-collaboration\n",
      "\t\tSummary: By Josh BeckermanShares of Sonnet BioTherapeutics Holdings Inc. were up 8% to $1.40 after it announced a clinical collaboration agreement with Roche Holding AG.\n",
      "In Sonnet's first combination clinical study, Sonnet's SON-1010 and Roche's atezolizumab will be evaluated in patients with platinum-resistant ovarian cancer.\n",
      "In October, Sonnet announced a collaboration agreement with Janssen Biotech Inc., which is part of Johnson & Johnson.\n",
      "It said SON-1010, SON-1210 and SON-1410 would be evaluated in combination with certain Janssen proprietary cell therapy assets.\n",
      "Write to Josh Beckerman at josh.beckerman@wsj.com(END) Dow Jones NewswiresJanuary 09, 2023 13:25 ET (18:25 GMT)Copyright (c) 2023 Dow Jones & Company, Inc.\n",
      "key: https://www.morningstar.com/articles/1131485/this-globe-trotting-smid-cap-fund-earns-an-upgrade-to-gold\n",
      "\t\tSummary: The pillar change resulted in a newly minted Morningstar Analyst Rating of Gold for its seven cheapest share classes and Silver for its pricier shares.\n",
      "With 18 portfolio managers at the helm, American Funds Smallcap World has a small army guiding its portfolio.\n",
      "The portfolio managers split responsibilities by overseeing their own $1 billion to $3 billion sleeves.\n",
      "The 18 portfolio managers each have at least 10 years of industry experience, and most have more than 20 years.\n",
      "These unexpected changes drove a Process Pillar downgrade to Average from Above Average and subsequent Morningstar Analyst Rating decline to Neutral from Silver.\n",
      "key: https://www.morningstar.com/articles/1129359/why-vanguard-total-international-stock-etf-has-an-advantage-in-2023-and-beyond\n",
      "\t\tSummary: Vanguard Total International Stock Index captures nearly all of the international stock market for a low fee.\n",
      "The final portfolio weights its holdings by market cap, which harnesses the market’s collective wisdom of each stock’s intrinsic value.\n",
      "But low fees and superior diversification put the fund in a position to expand its long-term advantage.\n",
      "Key Proprietary Morningstar Metrics for Vanguard Total International Stock ETFMorningstar Analyst Rating: GoldProcess Pillar: HighPeople Pillar: Above AverageParent Pillar: HighUncover top mutual fund and exchange-traded fund picks from a source investors trust.\n",
      "Morningstar Investor’s mutual fund and ETF ratings, analysis, and insights are all backed by our transparent, meticulous methodology.\n",
      "key: https://www.meritalk.com/articles/biden-signs-bill-to-punish-ip-theft/\n",
      "\t\tSummary: President Biden on Jan. 5 signed into law the Protecting American Intellectual Property Act that aims to prevent China-based corporations – and other foreign companies – from stealing U.S. intellectual property.\n",
      "Chris Van Hollen, D-Md., and Ben Sasse, R-Neb., introduced the legislation, which will mandate economic penalties on firms and individuals involved in stealing American intellectual property.\n",
      "With President Biden’s signature of our bill… those who seek to steal American technology are officially on notice,” he added.\n",
      "As for individuals, the president will impose property-blocking sanctions and must prohibit the individual’s entry into the United States.\n",
      "Van Hollen and Sasse first introduced the legislation in June 2020 and later reintroduced the bill in April 2021.\n",
      "key: https://www.meritalk.com/articles/ferc-undertaking-review-of-power-grid-security-reliability-standards/\n",
      "\t\tSummary: After gunfire damaged two electrical substations in Moore County, N.C., leaving 45,000 people without power in early December, a team of Federal energy sector regulators has taken action to conduct a review of electric grid security protocols.\n",
      "The Federal Energy Regulatory Commission (FERC) on Dec. 15 issued an order directing the North American Electric Reliability Corporation (NERC) to create a report detailing the effectiveness of current power grid security guidelines.\n",
      "Along with cybersecurity concerns, physical security vulnerabilities are central to critical infrastructure protection in the utility sector.\n",
      "Mark Hegerle, director of FERC’s Division of Operations and Planning Standards, talked about the importance of looking at power grid security protocols at an agency public meeting on Dec. 15.\n",
      "The order tasks NERC with looking into:The adequacy of applicability criteria set forth in the existing Physical Security Reliability Standard CIP-014-3 (Physical Security Reliability Standard);The required risk assessment set forth in the Physical Security Reliability Standard; andWhether a minimum level of physical security protections should be required for all bulk-power system transmission stations and substations and primary control centers.\n",
      "key: https://www.meritalk.com/articles/u-s-army-cio-raj-iyer-to-step-down/\n",
      "\t\tSummary: Dr. Raj Iyer, chief information officer (CIO) for the U.S. Army, plans to step down from his position in the coming weeks transitioning from the Department of Defense (DoD) to private industry, according to his LinkedIn post.\n",
      "Iyer was the first civilian to hold the CIO position in the Army’s 243-year history.\n",
      "During his tenure, Iyer spearheaded many projects that catapulted the Army’s technological abilities into the next generation.\n",
      "In addition, Iyer tackled the challenge of outlining some of the Army’s key zero trust objectives.\n",
      "In his role, Iyer led the Army in handling cybersecurity and zero trust challenges.\n",
      "key: https://www.meritalk.com/articles/house-republicans-prioritize-slashing-80b-irs-funding/\n",
      "\t\tSummary: A 2021 Congressional Budget Office report found the IRS would more than double its workforce under this multi-billion-dollar spending plan.\n",
      "In its 2021 report to Congress, the IRS said it had 33,000 fewer employees than it did a decade ago.\n",
      "The House Republicans’ planned bill would take aim at the agency’s plan to hire nearly 100,000 employees over the coming years.\n",
      "With the proposed legislation, House Republican leaders are attempting to keep a promise they made before 2022’s midterm elections: to make defunding the IRS a top priority.\n",
      "However, neither side of the aisle can proceed with their political agendas until a new Speaker of the House is decided.\n",
      "key: https://www.meritalk.com/study/ai-poised-to-help-federal-cyber-missions/\n",
      "\t\tSummary: AI Poised to Help Federal Cyber MissionsThe Federal cybersecurity landscape is perilous but also promising, with data pouring in and IT managers scrambling to ward off increasingly sophisticated cyberattacks.\n",
      "In fact, it’s estimated that over 90 percent of cyber data today is “left on the floor” and is never collected or analyzed.\n",
      "In this Special Report, we’ll examine how artificial intelligence (AI) can help Federal agencies, employing machine learning at exponential speeds to make sense of threat data and guard against threats.\n",
      "Download to understand:\n",
      "key: https://innovationmanagement.se/2020/03/24/coronavirus-crisis-only-heightens-the-need-for-innovation-and-co-creation/\n",
      "\t\tSummary: Coronavirus Crisis Only Heightens the Need for Innovation and Co-CreationThose of us that work in the innovation management sector need no convincing of the benefits that it can bring to businesses and government departments all over the world.\n",
      "One of those disruptions is taking place right now, across the world – coronavirus.\n",
      "Coronavirus CollaborationSome of the language used around coronavirus is already counter-intuitive to the idea of collaboration, innovation and co-creation.\n",
      "This has never been truer than it is right now during the coronavirus crisis.\n",
      "The innovation industry already understands the advantages that co-creation and innovation can bring – the coronavirus crisis has only heightened the need for more innovative approaches elsewhere.\n",
      "key: https://hbr.org/2019/11/what-companies-that-are-good-at-innovation-get-right\n",
      "\t\tSummary: My company, Innovation Leader, fielded a survey earlier this year in collaboration with KPMG LLP, to try to find out what sets successful innovators apart.\n",
      "Like all companies in the survey, the model companies told us that they are acutely aware of their company’s demand for near-term results.\n",
      "This confidence springs from how they envision and enact that innovation strategy over the long-term.\n",
      "At the model companies, innovation is a muscle that gets built up over the long haul.\n",
      "Unfortunately, at many companies, innovation is like a treadmill purchased in January: it represents an idealized future vision that is abandoned all too quickly.\n",
      "key: https://innovationmanagement.se/2019/11/06/how-can-you-use-gamification-to-boost-innovation/\n",
      "\t\tSummary: How Can You Use Gamification to Boost Innovation?\n",
      "A serious game based on innovation methodologies can be an extremely useful tool at different phrases of implementing innovation in a company.\n",
      "Gamification can help at different phases in the innovation processCompanies are becoming increasingly aware of the benefits of gamification.\n",
      "In short, a serious game based on innovation methodologies can be an extremely useful tool at different phrases of implementing innovation in a company.\n",
      "About the authorCEO and Founder Binnakle Innovation Games and co-organizer of Gamification DayDegree in Management and MBA from the Solvay Business School (Belgium).\n",
      "key: https://hbr.org/2019/08/what-people-hate-about-being-managed-by-algorithms-according-to-a-study-of-uber-drivers\n",
      "\t\tSummary: Together with Lior Zalmanson (Tel Aviv University) and Robert W. Gregory (University of Virginia), we conducted a multi-method study of Uber drivers in New York and London.\n",
      "We found that Uber drivers have three areas of consistent complaints about working “for” algorithms, concerns that we’ve also seen in other companies using algorithmic management:Constant surveillance.\n",
      "As soon as they log onto the Uber app, drivers are watched and scrutinized by the platform’s algorithms; the app tracks their GPS location, speed, and acceptance rate of customer requests.\n",
      "We believe this may be because they amplify Uber drivers’ negative feelings about constant surveillance with an additional layer of technology-mediated attention.\n",
      "While the app is learning a lot about them, Uber drivers find it frustrating how little they know about the app.\n",
      "key: https://www.digitaltonto.com/2019/is-artificial-intelligence-the-new-productivity-paradox/\n",
      "\t\tSummary: Is Artificial Intelligence The New Productivity Paradox?\n",
      "Economists found this turn of events so strange that they called it the productivity paradox to underline their confusion.\n",
      "At each juncture, experts would debate whether digital technology produced real value or if it was all merely a mirage.\n",
      "“One of the things that digital technology did was to focus companies on their customers,” Sutton continues.\n",
      "We’re Just Getting StartedOne of the most salient, but least discussed aspects of artificial intelligence is that it’s not an inherently digital technology.\n",
      "key: https://www.ibm.com/blogs/blockchain/2022/02/digital-transformation-sustainability-ibv/\n",
      "\t\tSummary: But what if digital business transformation could go hand in hand with sustainability transformation?\n",
      "As the study found, by integrating their sustainability and digital transformation efforts, a small group of “transformative trailblazers” has emerged.\n",
      "Executives cite mobile, Internet of Things (IoT), cloud technologies and AI as essential to achieving sustainability goals.\n",
      "By integrating their sustainability and digital transformation efforts, these firms are using sustainability to differentiate themselves in the marketplace and create business value.\n",
      "Those who understand that sustainability and business transformation go hand in hand are well positioned to become leaders within their industries.\n",
      "key: https://www.health.com/shingles-long-term-risk-heart-attack-stroke-6835403\n",
      "\t\tSummary: People who have had shingles may have an increased risk of heart attack or stroke in the long term.\n",
      "The availability of a safe and effective shingles vaccine can help to reduce the risk of shingles as well as any cardiovascular complications.\n",
      "Experts believe that this damage, often due to inflammation, is what increases a person’s risk for stroke or heart attack after having shingles.\n",
      "A live shingles vaccine, called Zostavax, is no longer available in the US as of 2020 since the Shingrix vaccine is both safer and more effective at preventing shingles.\n",
      "Cardiovascular disease deaths account for about 1 in 3 deaths in the US, according to the CDC.\n",
      "key: https://www.health.com/cdc-invasive-group-a-strep-infections-7091163\n",
      "\t\tSummary: The CDC is investigating a rise in invasive group A strep infections among children.\n",
      "Left untreated, invasive group A strep infections can lead to serious illnesses that require immediate medical attention.\n",
      "The Centers for Disease Control and Prevention is investigating an increase in invasive group A streptococcal (iGAS) infections among children, the agency announced last month.\n",
      "Invasive Group A Strep Infections, ExplainedBacteria called Streptococcus pyogenes—also known as group A Streptococcus or group A strep—can cause a wide range of conditions, including invasive and noninvasive disease.\n",
      "“If we can prevent major symptoms from influenza, we can reduce the risk we will see invasive group A strep infections as well,” said Dr. Flores.\n",
      "key: https://www.govpilot.com/blog/local-government-endangered-species-act-strategy\n",
      "\t\tSummary: Why Do Local Governments Have a Responsibility to Protect Local Species?\n",
      "How Loss of Endangered Species Effects Local GovernmentsThe loss of an endangered species can affect every aspect of government, from public health to agriculture to the economy.\n",
      "Endangered Species to be Concerned AboutLocal governments should devote their focus to the endangered species specific to their own area.\n",
      "Endangered Species FAQ’SHow can government technology help with managing endangered species?\n",
      "The Endangered Species Act is federal legislation that requires local governments to protect endangered species.\n",
      "key: https://www.govtech.com/biz/gov-tech-market-gains-steam-breaks-records-in-2021\n",
      "\t\tSummary: Adobe StockSPECIFIC PAIN POINTSThe market is going through a big change, crossing that chasm into the cloud and into software as a service in a big way.\n",
      "“The acquirers who’ve been active will continue to be active.”But buyers of gov tech, along with investors, should be on the lookout for a new class to rise, so to speak.\n",
      "And governments are responding to that demand by investing in digital solutions.”None of that means the ongoing growth in the gov tech market has every area perfectly covered.\n",
      "But a public agency — much like a startup — can only do so much without the right people.Security also stands as a prime concern for public agencies as the gov tech landscape expands and takes in more startups.\n",
      "“It is true that states have several mandatories and laws in place that can make doing business with state government challenging.\n",
      "key: https://www.govexec.com/management/2022/12/here-are-major-takeaways-17-trillion-omnibus-spending-bill/381162/?oref=ge-skybox-lander\n",
      "\t\tSummary: These cookies are not used in a way that constitutes a “sale” of your data under the CCPA.\n",
      "These cookies are not used in a way that constitutes a “sale” of your data under the CCPA.\n",
      "These cookies are not used in a way that constitutes a “sale” of your data under the CCPA.\n",
      "You may opt out of our use of such cookies (and the associated “sale” of your Personal Information) by using this toggle switch.\n",
      "You may opt out of our use of such cookies (and the associated “sale” of your Personal Information) by using this toggle switch.\n",
      "key: https://www.govexec.com/feature/scaling-federal-innovation/?oref=ge-skybox\n",
      "\t\tSummary: AWS offers a range of free programs and initiatives to help upskill the workforce, such as the AWS Skill Center and SkillBuilder.\n",
      "There are a number of notable examples to showcase how AWS is helping federal civilian agencies enable digital transformation and deliver on their missions.\n",
      "During the initial launch, each household in the U.S. was eligible to order four free test kits per address.\n",
      "About 60 million households placed orders for their free test kits in the first two weeks and 69 million in the first phase.\n",
      "The 1950 Census data website uses AWS Lambda, Amazon Simple Storage Service and Amazon CloudFront to provide capacity for millions of visitors.\n",
      "key: https://www.govexec.com/technology/2022/12/cms-subcontractor-breach-potentially-exposes-sensitive-data-254000-customers/381002/\n",
      "\t\tSummary: These cookies are not used in a way that constitutes a “sale” of your data under the CCPA.\n",
      "These cookies are not used in a way that constitutes a “sale” of your data under the CCPA.\n",
      "These cookies are not used in a way that constitutes a “sale” of your data under the CCPA.\n",
      "You may opt out of our use of such cookies (and the associated “sale” of your Personal Information) by using this toggle switch.\n",
      "You may opt out of our use of such cookies (and the associated “sale” of your Personal Information) by using this toggle switch.\n",
      "key: https://www.govexec.com/technology/2022/12/lawmakers-intro-bill-ban-tiktok-us/380820/\n",
      "\t\tSummary: These cookies are not used in a way that constitutes a “sale” of your data under the CCPA.\n",
      "These cookies are not used in a way that constitutes a “sale” of your data under the CCPA.\n",
      "These cookies are not used in a way that constitutes a “sale” of your data under the CCPA.\n",
      "You may opt out of our use of such cookies (and the associated “sale” of your Personal Information) by using this toggle switch.\n",
      "You may opt out of our use of such cookies (and the associated “sale” of your Personal Information) by using this toggle switch.\n",
      "key: https://www.govexec.com/technology/2022/12/improved-data-sharing-between-ssa-and-usda-could-streamline-benefits-delivery/380808/\n",
      "\t\tSummary: These cookies are not used in a way that constitutes a “sale” of your data under the CCPA.\n",
      "These cookies are not used in a way that constitutes a “sale” of your data under the CCPA.\n",
      "These cookies are not used in a way that constitutes a “sale” of your data under the CCPA.\n",
      "You may opt out of our use of such cookies (and the associated “sale” of your Personal Information) by using this toggle switch.\n",
      "You may opt out of our use of such cookies (and the associated “sale” of your Personal Information) by using this toggle switch.\n",
      "key: https://www.govexec.com/technology/2022/12/amazon-google-microsoft-oracle-awarded-9b-pentagon-cloud-contract/380621/\n",
      "\t\tSummary: The Pentagon on Wednesday announced the awardees of the Joint Warfighting Cloud Capability—or JWCC—contract, with Amazon Web Services, Google, Microsoft and Oracle each receiving an award.\n",
      "Last year, the Defense Department had named the four companies as contenders for the multi-cloud, multi-vendor contract.\n",
      "“We are proud to be selected as an approved cloud vendor for the JWCC contract,\" Karen Dahut, CEO of Google Public Sector, said in a statement.\n",
      "In late 2020, the CIA awarded its Commercial Cloud Enterprise, or C2E, contract to five companies: AWS, Microsoft, Google, Oracle and IBM.\n",
      "Last April, the National Security Agency re-awarded its $10 billion cloud contract codenamed “Wild and Stormy” to AWS following a protest from losing bidder Microsoft.\n",
      "key: https://www.govexec.com/technology/2022/12/tsa-wants-automate-id-verification-checkpoint-security/380515/\n",
      "\t\tSummary: These cookies are not used in a way that constitutes a “sale” of your data under the CCPA.\n",
      "These cookies are not used in a way that constitutes a “sale” of your data under the CCPA.\n",
      "These cookies are not used in a way that constitutes a “sale” of your data under the CCPA.\n",
      "You may opt out of our use of such cookies (and the associated “sale” of your Personal Information) by using this toggle switch.\n",
      "You may opt out of our use of such cookies (and the associated “sale” of your Personal Information) by using this toggle switch.\n",
      "key: https://www.govexec.com/technology/2022/11/move-digital-government-requires-more-just-technology/380277/\n",
      "\t\tSummary: The Beeck Center and the U.S. Digital Response are coordinating a new peer learning network for people working in digital government, the Digital Service Network.\n",
      "The DSN is a growing network that connects and supports digital service teams and professionals so government is responsive, open, and accessible to everyone.\n",
      "Processes and Systems“Technology is an enabler of digital, it is not an end in itself.” – Katherine BenjaminPeople underestimate the amount of organizational change needed to do digital work in government.\n",
      "Questions modern digital service teams have had to answer include:Are we legally allowed to do user research?\n",
      "Partnership principles from the Canadian Digital Service, Code for Canada, Code for America, 18F the U.S. Digital Service and others, were compiled and shared to help government digital services teams overcome these hurdles.\n",
      "key: https://www.route-fifty.com/sponsors/2023/01/put-yourself-your-constituents-shoes-using-analytics-map-constituent-journey/381462/\n",
      "\t\tSummary: Cookie Preferences Cookie ListDo Not Sell My Personal InformationWhen you visit our website, we store cookies on your browser to collect information.\n",
      "For more information about the First and Third Party Cookies used please follow this link.\n",
      "You may exercise your right to opt out of the sale of personal information by using this toggle switch.\n",
      "If you opt out we will not be able to offer you personalised ads and will not hand over your personal information to any third parties.\n",
      "They do not store directly personal information, but are based on uniquely identifying your browser and internet device.\n",
      "key: https://www.govexec.com/sponsors/2023/01/insights-platforms-scalable-foundation-data-driven-decision/381415/\n",
      "\t\tSummary: Cookie Preferences Cookie ListDo Not Sell My Personal InformationWhen you visit our website, we store cookies on your browser to collect information.\n",
      "For more information about the First and Third Party Cookies used please follow this link.\n",
      "You may exercise your right to opt out of the sale of personal information by using this toggle switch.\n",
      "If you opt out we will not be able to offer you personalised ads and will not hand over your personal information to any third parties.\n",
      "They do not store directly personal information, but are based on uniquely identifying your browser and internet device.\n",
      "key: https://www.govexec.com/oversight/2023/01/va-much-slower-setting-appointments-when-sending-vets-private-sector-care/381562/\n",
      "\t\tSummary: These cookies are not used in a way that constitutes a “sale” of your data under the CCPA.\n",
      "These cookies are not used in a way that constitutes a “sale” of your data under the CCPA.\n",
      "These cookies are not used in a way that constitutes a “sale” of your data under the CCPA.\n",
      "You may opt out of our use of such cookies (and the associated “sale” of your Personal Information) by using this toggle switch.\n",
      "You may opt out of our use of such cookies (and the associated “sale” of your Personal Information) by using this toggle switch.\n",
      "key: https://www.gartner.com/en/podcasts/thinkcast/these-emerging-technologies-propel-innovation-and-digital-transformation\n",
      "\t\tSummary: NFTs, cloud sustainability and autonomic systems each represent various stages of the hype cycle framework — from Innovation Trigger to the Trough of Disillusionment, and beyond.\n",
      "Why does Gartner expect those technologies will significantly affect business, society and people over the next two to 10 years?\n",
      "As organizations prepare for the next wave of digital transformation, leaders are also navigating talent shortages, ESG — environmental, social and governance challenges — and a rapidly shifting cybersecurity landscape.\n",
      "This episode features two segments that dive into both themes: First, Melissa Davis, a VP Analyst who advises Gartner clients on the use of customer analytics, will share details on a few of the Gartner 2022 Hype Cycle for Emerging Technologies that will drive massive transformation in the public and private sectors, and a whole lot of consumer attention.\n",
      "Dig Deeper:Discover: Gartner Conferences 2022-2023 CalendarWebinar: Gartner Hype Cycle for Emerging Technologies, 2022\n",
      "key: https://www.gartner.com/en/information-technology/customer-success-stories/digital-transformation-boosts-global-market-expansion\n",
      "\t\tSummary: Driven by the increasingly global economy, Hexing is on a journey of “going global.” With this journey comes the need to:1.\n",
      "Accelerate digital transformation, be more competent in creating inner value, improve management, consolidate core competitiveness and expand share in foreign markets2.\n",
      "Promote R&D and updates of products harnessing digital technology to boost product development and competitiveness3.\n",
      "Raise brand awareness, be among the top players in the global market through excellent products, and build its reputation as a national brand\n",
      "key: https://www.freecodecamp.org/news/synthetic-identity-theft/\n",
      "\t\tSummary: In fact, according to a figures published by Federal Reserve Bank of Boston in August of 2022, the losses from synthetic identity theft in the U.S. were estimated to be around $20 billion in 2020, rising from $5 billion five years agoBut what is synthetic identity theft?\n",
      "Two Examples of Synthetic ID Theft in the NewsThere have been many in the news recently that have highlighted the growing prevalence of synthetic identity theft.\n",
      "Some of the most commonly affected targets of synthetic identity theft include:ChildrenSeniorsNew immigrantsInmatesCollege studentsMilitary personnel deployed abroadHow Common is the 'Synthetic' Type of ID Theft?\n",
      "Developers should also take steps to protect themselves and their companies from synthetic identity theft.\n",
      "To protect yourself against synthetic identity theft as a consumer, it's important to:Regularly track and check your credit report.\n",
      "key: https://www.freecodecamp.org/news/how-to-become-a-better-web-developer/\n",
      "\t\tSummary: Become a better web developer (shahan)Web development is divided into three categories:Frontend developer — you code the frontend of a website and have direct a connection to the userBackend developer — you work behind the scenes to make sure the technology that powers the frontend runs smoothlyFull stack developer — you know both frontend and backend development🎏 How to Become a Better Web Developer in 2023Determine your areas of interestIf you want to become an expert in both front-end and back-end programming, your goal could be to become a full-stack web developer.\n",
      "An essential trait for any web developer is curiosity, as well as an open mind.\n",
      "Develop Discipline and Dedication to Your WorkA web developer should be productive, which requires dedication and discipline.\n",
      "🏁 ConclusionA web developer created each and every website and piece of software you use today.\n",
      "It’s a good idea to get in headfirst if you’re considering changing jobs and becoming a web developer right away.\n",
      "key: https://www.foxbusiness.com/economy/goldman-sachs-lay-off-3200-people-this-week\n",
      "\t\tSummary: Goldman Sachs is planning to lay off as many as 3,200 employees this week, a source familiar with the matter said, as Wall Street contends with an uncertain U.S. economy and volatile markets.\n",
      "This marks the latest sign that cuts are accelerating across Wall Street as dealmaking dries up.\n",
      "GOLDMAN SACHS PLANNING TO LAY OFF THOUSANDS OF EMPLOYEESInvestment banking revenues have plunged this year amid a slowdown in mergers and share offerings, an about-face from a blockbuster 2021 when bankers received big pay bumps and firms, like Goldman, ramped up hiring.\n",
      "Goldman Sachs declined to comment on the matter.\n",
      "The firm already laid off 500 employees in September as the economy continued to hammer the financial sector.\n",
      "key: https://www.foxbusiness.com/economy/jerome-powell-warns-feds-inflation-fight-could-spark-political-opposition\n",
      "\t\tSummary: Federal Reserve Chairman Jerome Powell on Tuesday stressed that central bank policymakers remain committed to wrestling high inflation under control, even though the methods to do so can prove to be politically unpopular.\n",
      "\"Price stability is the bedrock of a healthy economy and provides the public with immeasurable benefits over time,\" Powell said Tuesday in remarks prepared for delivery at a conference held by Sweden's central bank.\n",
      "\"But restoring price stability when inflation is high can require measures that are not popular in the short term as we raise interest rates to slow the economy.\"\n",
      "In his speech, Powell largely stuck to the topic of central bank independence and did not comment on where monetary policy may be headed in coming months.\n",
      "Policymakers last year voted to raise interest rates seven straight times to a range of 4.25% to 4.5%, well into restrictive territory.\n",
      "key: https://www.foxbusiness.com/markets/bed-bath-beyond-sales-sink-will-close-150-stores\n",
      "\t\tSummary: Bed Bath & Beyond reported a loss in the third quarter on Tuesday but made no mention of shutting down the business, following a week of rumors swirling around a possible bankruptcy.\n",
      "Net sales of $1.259 billion slipped 33%, primarily driven by a comparable sales decline of 32% and a 70% drop in customer traffic.\n",
      "Bed Bath & BeyondThe stock has lost 90% of its value over the past 12 months and is trading in the $1 range.\n",
      "Sue Gove, president and CEO of Bed Bath & Beyond, said in the release the retailer implemented a turnaround plan at the beginning of the third quarter, \"following a period when our merchandise and strategy had veered away.\"\n",
      "GET FOX BUSINESS ON THE GO BY CLICKING HERE\"We are implementing our plan expeditiously while managing our financial position in a changing landscape,\" she added.\n",
      "key: https://www.foxbusiness.com/lifestyle/mega-millions-jackpot-tops-1b-what-know-win\n",
      "\t\tSummary: The odds of winning the Mega Millions $1.1 billion jackpot Tuesday night may be slim to none – but what will you do in the rare chance your lucky numbers are drawn?\n",
      "Wealth management adviser Emily Irwin shared what you need to know if you strike gold.\n",
      "After no winning numbers were drawn Friday, the Mega Millions lottery soared to $1.1 billion, the fourth time in a little more than one year that a jackpot has exceeded $1 billion.\n",
      "After taxes, the cash prize is set to be an estimated $586.7 million, the third-largest pot in the game’s history.\n",
      "The only jackpots larger than Tuesday’s $1.1 billion are the record $1.537 billion won in South Carolina in 2018 and the $1.337 billion won in Illinois last July.\n",
      "key: https://www.foxbusiness.com/technology/musk-drops-hints-several-upcoming-twitter-enhancements\n",
      "\t\tSummary: Elon Musk turned to Twitter over the past few days to unveil a few new features expected to be rolled out as early as next week.\n",
      "Twitter is about to be enhanced with several features that are expected to improve the user interface of the social media application.\n",
      "Some of the enhancements include being able to swipe between recommended and followed tweets, create long form tweets, and bookmark tweets with the touch of a button.\n",
      "TWITTER TO BRING BACK SOME POLITICAL ADVERTISINGAccording to Musk, the 4,000-word tweets would appear like any other tweet in the timeline, giving users the ability to click to read more.\n",
      "GET FOX BUSINESS ON THE GO BY CLICKING HEREAs for long-form Tweets, Musk said they should be out in early February.\n",
      "key: https://www.foxbusiness.com/lifestyle/prince-harrys-spare-already-ranking-among-bestsellers\n",
      "\t\tSummary: Prince Harry’s memoir \"Spare\" appears to be raking in sales ahead of its upcoming release.\n",
      "On Monday afternoon, the Duke of Sussex’s tell-all book ranked first in the U.S. on Amazon’s bestsellers list for books.\n",
      "Barnes & Noble's \"B&N Top 100: Book Bestsellers\" also put \"Spare,\" slated for release Tuesday, at No.\n",
      "PRINCE HARRY, MEGHAN MARKLE'S DOCUSERIES HAS BOOK PUBLISHER ‘WORRIED’ MEMOIR SALES WILL SUFFER: ROYAL EXPERTPenguin Random House announced Tuesday as the global release date for Harry’s book back in October.\n",
      "Harry’s memoir about his life, which is priced at $36 in the U.S., is \"full of insight, revelation, self-examination, and hard-won wisdom about the eternal power of love over grief,\" according to the publisher.\n",
      "key: https://www.foxbusiness.com/entertainment/avatar-way-of-water-becomes-seventh-highest-grossing-film-all-time-1-7-billion-ticket-sales\n",
      "\t\tSummary: \"Avatar: The Way of Water\" is dominating the box office for a fourth consecutive weekend, earning more than $1.7 billion and taking the number seven spot as the highest-grossing movie of all time.\n",
      "Global ticket sales for the James Cameron -directed film have surpassed $1.7 billion, according to Deadline.\n",
      "The original \"Avatar\" film, released in 2009, became the highest-grossing movie in the history of cinema, with global ticket sales of $3.5 billion.\n",
      "The three-hour sci-fi blockbuster has officially overtaken films such as 2019's \"The Lion King\" and 2015's \"Jurassic World\" on the highest-grossing movie releases chart.\n",
      "Moreover, \"Way of Water\" is the most profitable movie since the start of the pandemic, which ravaged box-office attendance and sales.\n",
      "key: https://www.foxbusiness.com/technology/facebook-parent-company-meta-says-censoring-content-supports-pro-bolsonaro-raids\n",
      "\t\tSummary: Meta, the parent company of Facebook, said Monday that they will be taking down posts that support the raids of Brazilian government buildings by supporters of former President Jair Bolsonaro.\n",
      "\"We are also designating this as a violating event, which means we will remove content that supports or praises these actions,\" the statement continued.\n",
      "\"We are actively following the situation and will continue removing content that violates our policies.\n",
      "\"Brazil’s democratic institutions have our full support and the will of the Brazilian people must not be undermined.\n",
      "I look forward to continuing to work with President Lula.\"\n",
      "key: https://www.foxbusiness.com/media/portnoy-rips-ftx-founder-bankman-fried-scam-artist-blasts-crying-left-musk-doxxing-rule\n",
      "\t\tSummary: The outspoken and unapologetic Barstool Sports founder Dave Portnoy weighed in on disgraced FTX founder Sam Bankman-Fried’s downfall and the \"Twitter Files\" debate Friday, blasting the \"scam artist\" and \"crying left,\" respectively.\n",
      "The Barstool founder and president claimed he doesn’t understand how Bankman-Fried \"lost track of things,\" after Portnoy personally experienced a business dealing with him.\n",
      "It's a private company,\" the Barstool founder and president said.\n",
      "\"Emily Steel, that New York Times article, they were never going to say anything remotely nice about me.\n",
      "And I've come to learn that's part of this media business,\" Portnoy said.\n",
      "key: https://www.foxbusiness.com/economy/pandemic-learning-loss-could-cost-students-70000-lifetime-earnings\n",
      "\t\tSummary: Learning loss could shave $70,000 off the lifetime earnings of children who were in school during the pandemic, according to a new study by a Stanford economist.\n",
      "The sobering forecast is based on an analysis of the sharp declines in the scores of eighth-graders on national math tests taken between 2019 and 2022.\n",
      "\"The economic costs of the learning losses will swamp business cycle losses,\" said Dr. Hanushek.\n",
      "Previous disruptions offer some insight about what that loss could portend and indicate the learning losses suffered during the pandemic may be permanent.\n",
      "The findings follow similar income drops economists have studied connected to learning losses after natural disasters and political interruptions around the world.\n",
      "key: https://www.foxbusiness.com/technology/mit-researchers-creating-self-replicating-robots-intelligence\n",
      "\t\tSummary: Massachusetts Institute of Technology (MIT) researchers are building swarms of tiny robots that have a built-in intelligence, allowing them to build structures, vehicles, or even larger versions of themselves.\n",
      "\"When we’re building these structures, you have to build in intelligence,\" MIT Professor and CBA Director Neil Gershenfeld said in a statement.\n",
      "\"What emerged was the idea of structural electronics — of making voxels that transmit power and data as well as force.\"\n",
      "\"It could build a structure, or it could build another robot of the same size, or it could build a bigger robot,\" CBA doctoral student Amira Abdel-Rahman said in a statement.\n",
      "While the research is promising, it will likely be years before we see self-replicating robot swarms, according to Gershenfeld.\n",
      "key: https://www.foxbusiness.com/personal-finance/half-workers-dont-have-401k-retirement-savings\n",
      "\t\tSummary: If you’re struggling in the current economy, you can consider paying off high-interest debt with a personal loan at a lower interest rate.\n",
      "CREDIT CARD DEBT BURDENS NEARLY HALF OF AMERICANS, SURVEY SAYS: HERE’S HOW TO PAY YOURS DOWNInvesting in an IRADespite harsh market conditions and a lack of access to workplace retirement plans, there are many ways people can start saving for retirement.\n",
      "Visit Credible to compare loans from multiple lenders and find the interest rate that’s best for you.\n",
      "\"Someone facing a savings shortfall at retirement can’t go back and give themselves more time: Once lost, the opportunity to start saving early can never be regained.\"\n",
      "If financial obligations are preventing you from saving as much as you can for retirement, consider refinancing your mortgage to a lower interest rate.\n",
      "key: https://www.foxbusiness.com/politics/stuart-varney-theres-a-demand-for-a-new-generation-of-political-leaders\n",
      "\t\tSummary: During his latest \"My Take,\" \"Varney & Co.\" host Stuart Varney discussed California Gov.\n",
      "Ron DeSantis as potential 2024 presidential candidates, arguing there's \"a demand for a new generation of politicians.\"\n",
      "STUART VARNEY: In both parties, there’s a demand for a new generation of political leaders.\n",
      "DESANTIS LEADING HYPOTHETICAL 2024 PRESIDENTIAL PRIMARY RACE IN A DEEP-RED STATE TRUMP WON TWICEFor the Republicans, Florida Governor DeSantis is the front-runner.\n",
      "So have at it: Let’s see if America wanted the new generation of politicians to be Californian or Floridian!\n",
      "key: https://www.foxbusiness.com/lifestyle/serial-killer-john-wayne-gacys-clown-painting-sells-10k-spooky-auction\n",
      "\t\tSummary: Famed serial killer John Wayne Gacy's creepy clown painting sold for $10,000 during a spooky-themed auction on Halloween.\n",
      "The \"Dark Shadows\" auction, held by Material Culture on Live Auctioneers, ran all day on Halloween, with public exhibitions during the prior weekend.\n",
      "But Gacy’s creepy clown self-portrait, called \"Pogo the Clown,\" fetched one of the higher-end prices – not unusual for the murderer, who was executed by lethal injection in 1994 after being found guilty of killing 33 people.\n",
      "The painting was completed in 1985 while Gacy sat on death row, painted with oil on canvas board, and he signed and dated the piece.\n",
      "PRINT OF KING CHARLES' BALMORAL CASTLE PAINTING SELLS FOR $6,500: ‘EXCEEDED ITS ESTIMATE BY SO MUCH’He passed his time on death row by painting self-portraits of clowns, producing around 2,000 such paintings during his nearly 15 years on death row, according to the Crime Museum.\n",
      "key: https://www.foxbusiness.com/real-estate/us-suffering-second-biggest-home-price-correction-post-wwii-era\n",
      "\t\tSummary: The U.S. housing market is experiencing its second-biggest home price correction of the post-World War II era.\n",
      "He explained on \"Varney & Co.\" Friday that the \"shoe to drop\" would be if the nation starts to see a rise in unemployment, which could cause a \"leg down\" in the housing market.\n",
      "\"A couple of things are going to cause it to turn in the opposite direction, meaning home prices are going up.\n",
      "According to Fortune.com, housing prices in the United States in October 2022 are 38.1% above March 2020 levels.\n",
      "Roschelle predicts that the average home price will have to drop by 10% to 15% from its peak in 2022.\n",
      "key: https://www.foxbusiness.com/technology/nasa-awards-adnet-systems-468m-contract\n",
      "\t\tSummary: NASA has awarded Maryland firm ADNET Systems, Inc., a contract worth up to $468 million to provide research and development at Goddard Space Flight Center in Maryland.\n",
      "The five-year deal that begins April 1 marks the fourth consecutive time ADNET has won the Space and Earth Sciences Data Analysis-V (SESDA) contract from the agency.\n",
      "NASA said in an announcement that the contract is a small business set-aside under federal regulations, and the purpose is to provide an array of services to support Goddard's sciences and exploration directorate.\n",
      "GET FOX BUSINESS ON THE GO BY CLICKING HEREThe Bethesda, Maryland company's contract will involve more than 300 scientists, IT professionals and education outreach specialists, the company said.\n",
      "The federal contractor operates nationwide in agencies, including NASA, NOAA and DOT.\n",
      "key: https://lifestyle.si.com/fashion-beauty/look-cindy-kimberlys-glowy-and-rosy-ballerina-inspired-makeup\n",
      "\t\tSummary: Cindy Kimberly did just that when she posted a gorgeous ballerina-inspired makeup look on Instagram.\n",
      "She captioned the Jan. 16 post with a simple swan emoji, likely a reference to the Tchaikovsky-composed ballet, Swan Lake.\n",
      "The SI Swimsuit model spiced the glam up with a heavy amount of light pink blush and white and pink ombré eyeshadow.\n",
      "Fans and celebs chimed in to the comments to applaud the fun and flirty makeup and beg for a tutorial.\n",
      "Kimberly previously told SI Swimsuit that developing a self-care routine can help you feel grounded.\n"
     ]
    }
   ],
   "source": [
    "jsonfile = join(JSONPath, \"semanticSimArticlesTesting.json\")\n",
    "# read this in as an array\n",
    "\n",
    "with open(jsonfile, \"r\") as infile:\n",
    "    element = json.load(infile)\n",
    "for key in element.keys():\n",
    "    print (f\"key: {key}\")\n",
    "    print (f\"\\t\\tSummary: {element[key]['summary']}\")"
   ]
  },
  {
   "cell_type": "code",
   "execution_count": 39,
   "id": "f4b0ad78",
   "metadata": {},
   "outputs": [
    {
     "name": "stdout",
     "output_type": "stream",
     "text": [
      "The top 2 similar topics are [7, 9], and the similarities are [0.9988 0.9988]\n"
     ]
    }
   ],
   "source": [
    "test_query = element['https://datainnovation.org/2022/11/visualizing-changes-to-politicians-followers-on-twitter/']['summary']\n",
    "\n",
    "# Find topics\n",
    "num_of_topics = 2\n",
    "similar_topics, similarity = topic_model.find_topics(test_query, top_n=num_of_topics)\n",
    "\n",
    "# Print results\n",
    "print(f'The top {num_of_topics} similar topics are {similar_topics}, and the similarities are {np.round(similarity,4)}')"
   ]
  },
  {
   "cell_type": "code",
   "execution_count": 40,
   "id": "89de03c4",
   "metadata": {},
   "outputs": [
    {
     "name": "stdout",
     "output_type": "stream",
     "text": [
      "The top keywords for topic 7 are:\n",
      "[('vehicle', 0.0321154030764886), ('waste', 0.028993121723851923), ('nuclear', 0.028993121723851923), ('china', 0.026927958132339416), ('plastic', 0.024935639312814135)]\n",
      "The top keywords for topic 9 are:\n",
      "[('painting', 0.030278990594131448), ('encrochat', 0.030278990594131448), ('network', 0.02785519654593399), ('clown', 0.025144796402737347), ('new', 0.024531338166156744)]\n"
     ]
    }
   ],
   "source": [
    "# Print the top keywords for the top similar topics\n",
    "for i in range(num_of_topics):\n",
    "    print(f'The top keywords for topic {similar_topics[i]} are:')\n",
    "    print(topic_model.get_topic(similar_topics[i]))"
   ]
  },
  {
   "cell_type": "code",
   "execution_count": null,
   "id": "99189d2b",
   "metadata": {},
   "outputs": [],
   "source": [
    "# Heat Maps, Rankings, Barcharts"
   ]
  },
  {
   "cell_type": "code",
   "execution_count": null,
   "id": "96dec77c",
   "metadata": {},
   "outputs": [],
   "source": []
  }
 ],
 "metadata": {
  "kernelspec": {
   "display_name": "Python 3 (ipykernel)",
   "language": "python",
   "name": "python3"
  },
  "language_info": {
   "codemirror_mode": {
    "name": "ipython",
    "version": 3
   },
   "file_extension": ".py",
   "mimetype": "text/x-python",
   "name": "python",
   "nbconvert_exporter": "python",
   "pygments_lexer": "ipython3",
   "version": "3.8.8"
  }
 },
 "nbformat": 4,
 "nbformat_minor": 5
}
