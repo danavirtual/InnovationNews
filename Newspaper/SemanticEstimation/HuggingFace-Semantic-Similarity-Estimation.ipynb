{
 "cells": [
  {
   "cell_type": "markdown",
   "id": "8674a243",
   "metadata": {},
   "source": [
    "### HuggingFace Semantic Similarity Estimation\n",
    "What are we Doing? \n",
    "This is essentially a fact finding experiment. \n",
    "\n",
    "We want to estimate the possibility of using the current corpus as part of a model to evaluate potential future articles\n",
    "\n",
    "<div>\n",
    "   <img src=\"../../images/SemanticEstimation.png\" height=\"374\"; width=\"374\">\n",
    "</div>"
   ]
  },
  {
   "cell_type": "code",
   "execution_count": 1,
   "id": "ec60b663",
   "metadata": {
    "scrolled": true
   },
   "outputs": [
    {
     "name": "stderr",
     "output_type": "stream",
     "text": [
      "/opt/conda/lib/python3.8/site-packages/scipy/__init__.py:146: UserWarning: A NumPy version >=1.16.5 and <1.23.0 is required for this version of SciPy (detected version 1.23.3\n",
      "  warnings.warn(f\"A NumPy version >={np_minversion} and <{np_maxversion}\"\n"
     ]
    },
    {
     "name": "stdout",
     "output_type": "stream",
     "text": [
      "\n",
      "Cell imports done @ 2022-12-14 22:06:50\n"
     ]
    }
   ],
   "source": [
    "#!pip install sentence_transformers\n",
    "import torch\n",
    "\n",
    "import os, csv\n",
    "from csv import writer, DictWriter\n",
    "from os import listdir\n",
    "import os.path as osp\n",
    "from os.path import isfile, isdir, join\n",
    "\n",
    "import time\n",
    "import datetime\n",
    "from datetime import datetime as DT\n",
    "import json\n",
    "import random\n",
    "# setup widget import\n",
    "from ipywidgets import widgets,Layout\n",
    "from IPython.display import display\n",
    "\n",
    "import nltk\n",
    "# nltk.download('punkt')\n",
    "# nltk.download('brown')\n",
    "# Locals \n",
    "from pathlib import Path \n",
    "import os, sys \n",
    "import glob\n",
    "\n",
    "from IPython.display import Image\n",
    "from IPython.core.display import HTML \n",
    "from sentence_transformers import SentenceTransformer, util\n",
    "\n",
    "# nltk.download('punkt')\n",
    "###\n",
    "module_path = str(Path.cwd().parents[0] / \"\")\n",
    "if module_path not in sys.path:\n",
    "    sys.path.append(module_path)   \n",
    "from utils import *\n",
    "import random\n",
    "from timeit import default_timer as timer\n",
    "import time\n",
    "import datetime\n",
    "from datetime import datetime as DT\n",
    "from os import listdir\n",
    "import os.path as osp\n",
    "from os.path import isfile, join\n",
    "\n",
    "# setup widget import\n",
    "from ipywidgets import widgets,Layout\n",
    "from IPython.display import display\n",
    "\n",
    "import pandas as pd\n",
    "import numpy as np\n",
    "from dynamoDButils import *\n",
    "# regex\n",
    "import re\n",
    "p = re.compile('[a-z]+')\n",
    "p\n",
    "re.compile('[a-z]+')\n",
    "## LOCAL \n",
    "CSVPath = \"/home/deleidos/Notebooks/CSVData\"\n",
    "JSONPath = \"/home/deleidos/Notebooks/JSONData\"\n",
    "from APIutils import *\n",
    "\n",
    "###\n",
    "def complete(state=\"complete\"):\n",
    "    print(f\"\\nCell {state} @ {(datetime.datetime.fromtimestamp(time.time()).strftime('%Y-%m-%d %H:%M:%S'))}\")\n",
    "complete(state='imports done')\n"
   ]
  },
  {
   "cell_type": "code",
   "execution_count": 2,
   "id": "0e7dc09b",
   "metadata": {},
   "outputs": [
    {
     "name": "stdout",
     "output_type": "stream",
     "text": [
      "env : us-east-1\n",
      "\n",
      "\n",
      "connecting ...\n",
      "table dynamodb.Table(name='Articles-tfoo6wfq2zbxfdwl3z47nsgtrq-dev') status ACTIVE\n",
      "Table dynamodb.Table(name='Articles-tfoo6wfq2zbxfdwl3z47nsgtrq-dev') stats: Creation Time : 2022-09-13 02:11:28.285000+00:00\n",
      "\n",
      "Cell DB read @ 2022-12-14 22:06:52\n",
      "CPU times: user 72.2 ms, sys: 10.8 ms, total: 83 ms\n",
      "Wall time: 105 ms\n"
     ]
    }
   ],
   "source": [
    "%%time\n",
    "\n",
    "RESOURCE = 'dynamodb'\n",
    "TABLE = \"Articles-tfoo6wfq2zbxfdwl3z47nsgtrq-dev\"\n",
    "REGION = \"us-east-1\"\n",
    "\n",
    "os.environ['AWS_DEFAULT_REGION']= region\n",
    "print (f\"env : {os.getenv('AWS_DEFAULT_REGION')}\")\n",
    "print('\\n\\nconnecting ...')\n",
    "exists = table_exists(RESOURCE, REGION, TABLE)\n",
    "complete(state= \"DB read\")"
   ]
  },
  {
   "cell_type": "code",
   "execution_count": null,
   "id": "dedbe72d",
   "metadata": {},
   "outputs": [],
   "source": [
    "# schema = get_schema (RESOURCE,TABLE)\n",
    "# print (f\"Schema = {schema}\")"
   ]
  },
  {
   "cell_type": "code",
   "execution_count": 30,
   "id": "6443acf9",
   "metadata": {
    "scrolled": true
   },
   "outputs": [
    {
     "name": "stdout",
     "output_type": "stream",
     "text": [
      "page length : 5\n",
      "page length : 5\n",
      "page length : 5\n",
      "page length : 5\n",
      "page length : 5\n",
      "page length : 5\n",
      "page length : 5\n",
      "page length : 5\n",
      "page length : 5\n",
      "page length : 4\n",
      "extendedScanArticlesNoKey: Length: 6246 \n",
      "Resp length: 2\n",
      "\n",
      "Resp[6000] : {'summary': {'S': 'TCI\\'s stake represents 0.27% of outstanding Alphabet shares, according to Factset data, a position that the hedge fund has steadily accumulated since 2017.TCI noted that headcount has \"increased at an annual rate of 20% since 2017,\" the year that TCI first disclosed their Alphabet position.TCI argued for an increase in share buybacks and the establishment of an EBIT margin target for Google Services.Significantly, TCI argued that Google\\'s \"Other Bets\" category – their Moonshot division – demanded immediate attention, singling out self-driving vertical Waymo as a unit that failed to justify \"its excessive investment.\"Alphabet shares are down more than 30% year-to-date.'}, 'title': {'S': 'Alphabet must cut headcount and trim costs, activist investor TCI says'}}\n"
     ]
    }
   ],
   "source": [
    "resp = extendedScanArticlesNoKey(RESOURCE,TABLE,columns=\"title,summary\")\n",
    "print (f\"Resp length: {len(resp[0])}\", end=\"\\n\\n\")\n",
    "print (f\"Resp[6000] : {resp[6000]}\")"
   ]
  },
  {
   "cell_type": "code",
   "execution_count": 4,
   "id": "6594d046",
   "metadata": {
    "scrolled": false
   },
   "outputs": [
    {
     "name": "stdout",
     "output_type": "stream",
     "text": [
      "page length : 5\n",
      "page length : 5\n",
      "page length : 5\n",
      "page length : 5\n",
      "page length : 5\n",
      "page length : 5\n",
      "page length : 5\n",
      "page length : 5\n",
      "page length : 5\n",
      "page length : 4\n",
      "extendedScanArticles: Length: 6246 \n"
     ]
    }
   ],
   "source": [
    "resp = extendedScanArticlesWithKey(RESOURCE,TABLE, columns=\"title,summary\", keyword=\"url\")\n",
    "# print (f\"Resp[6126] : {resp[6126]}\")"
   ]
  },
  {
   "cell_type": "markdown",
   "id": "bfe89497",
   "metadata": {},
   "source": [
    "#### Notes:\n",
    "The format of each returned item resembles:\n",
    "\n",
    "    'summary': {'S': \n",
    "    \"Stock futures are trading up slightly Monday night as investors tried to shake the previous session's selloff.S&P 500 \n",
    "    futures were fractionally higher while Nasdaq-100 futures fell marginally.Monday's close marked a negative start to the \n",
    "    trading week.Market observers are still largely expecting a 50 basis point increase to interest rates at the Fed's \n",
    "    December meeting.Investors will look ahead to data Tuesday morning on international trade for insight into the strength \n",
    "    of the U.S. and global economy.\"}, \n",
    "    'url': {'S': 'https://www.cnbc.com/2022/12/05/stock-market-futures-open-to-close-news.html'}, \n",
    "    'title': {'S': 'Stock futures are up slightly as fears mount over upcoming interest rate hikes'}\n",
    "\n"
   ]
  },
  {
   "cell_type": "code",
   "execution_count": 5,
   "id": "6ee0c954",
   "metadata": {
    "scrolled": false
   },
   "outputs": [
    {
     "name": "stdout",
     "output_type": "stream",
     "text": [
      "URL: https://www.foxbusiness.com/technology/cisco-partners-microsoft-add-teams-meeting-devices\n",
      "Title: Cisco partners with Microsoft to add Teams to its meeting devices:\n",
      "Summary: Networking firm Cisco Systems Inc. will add Microsoft Corp.'s Teams messaging app to its meeting devices, the two firms said on Wednesday, offering users an alternative to its own Webex video conferencing app.Ticker Security Last Change Change % CSCO CISCO SYSTEMS INC. 39.27 -0.31 -0.78%Ticker Security Last Change Change % MSFT MICROSOFT CORP. 225.75 +0.34 +0.15%Cisco's Jeetu Patel, head of Security & Collaboration, said the company aims to be the hardware platform for a wide range of conferencing software platforms.MELINDA GATES OPENS UP ON ‘UNBELIEVABLY PAINFUL’ DIVORCE\"There's going to be times that people want to jump on a Microsoft Teams call, they want to jump on a Zoom call, they want to jump on a Google call.\"Ilya Bukshteyn, vice president of Microsoft Teams Calling and Devices, told Reuters the Teams Room software already runs on several other hardware devices and will be available on Cisco devices from the first quarter of next year.GET FOX BUSINESS ON THE GO BY CLICKING HEREMicrosoft made the announcement at its annual Ignite conference.\n",
      "\n",
      "URL: https://www.cnbc.com/2022/12/06/tim-cook-says-apple-will-use-chips-built-in-the-us-at-arizona-factory.html\n",
      "Title: Tim Cook says Apple will use chips built in the U.S. at Arizona factory:\n",
      "Summary: Apple CEO Tim Cook confirmed that Apple will buy U.S.-made microchips at an event in Arizona on Tuesday, where President Joe Biden also spoke.Cook said Apple would buy processors made in a new Arizona factory, according to a video from the event.The chip factories will be owned and operated by Taiwan Semiconductor Manufacturing Company, the biggest foundry company with over half of the global market share.TSMC produces the most advanced processors, including the chips in the latest iPhones, iPads and Macs.\"Apple had to buy all the advanced chips from overseas, now they're going to bring more of their supply chain home,\" Biden said.\n",
      "\n"
     ]
    }
   ],
   "source": [
    "for item in resp[:2]:  # print  first 10 articles \n",
    "    print (f\"URL: {item['url']['S']}\\nTitle: {item['title']['S']}:\\nSummary: {item['summary']['S']}\", end=\"\\n\\n\")\n",
    "# TODO:\n",
    "# clean up the return s/t it does not have stuff like urls or (money, per centage)"
   ]
  },
  {
   "cell_type": "markdown",
   "id": "7fb6885d",
   "metadata": {},
   "source": [
    "#####  Write the return items into a JSON  file s/t we can later read back in and use "
   ]
  },
  {
   "cell_type": "code",
   "execution_count": 6,
   "id": "19338ef7",
   "metadata": {},
   "outputs": [],
   "source": [
    "# Serializing json\n",
    "indx = 0\n",
    "jsndict = {}\n",
    "for item in resp:\n",
    "    jsndict[str(indx)]= {\n",
    "        \"url\" : item['url']['S'],\n",
    "        \"title\" : item['title']['S'],\n",
    "        \"summary\": item['summary']['S']\n",
    "    }\n",
    "    indx += 1\n",
    "    \n",
    "json_object = json.dumps(jsndict, indent=4)\n",
    "jsonfile = join(JSONPath, \"semanticSimArticles.json\")\n",
    "\n",
    "\n",
    "with open(jsonfile, \"w\") as outfile:\n",
    "     outfile.write(json_object)"
   ]
  },
  {
   "cell_type": "code",
   "execution_count": 7,
   "id": "73ecb4bc",
   "metadata": {},
   "outputs": [
    {
     "data": {
      "application/vnd.jupyter.widget-view+json": {
       "model_id": "bc25e703b90a4a1c90472ee54d296aad",
       "version_major": 2,
       "version_minor": 0
      },
      "text/plain": [
       "Select(description='Choose ID:', layout=Layout(height='256px', width='50%'), options=('2000CWE.json', 'Records…"
      ]
     },
     "metadata": {},
     "output_type": "display_data"
    }
   ],
   "source": [
    "jsonfiles = [f for f in listdir(JSONPath) if isfile(join(JSONPath, f))]\n",
    "jsonfiles.sort()\n",
    "jsonfiles = [x for x in jsonfiles if (os.path.splitext(x)[1][1:]).lower() == \"json\"]\n",
    "jsnWD = widgets.Select(\n",
    "    options=jsonfiles,\n",
    "    value=jsonfiles[0],\n",
    "    description='Choose ID:',\n",
    "    disabled=False,\n",
    "    button_style='success', # 'success', 'info', 'warning', 'danger' or ''\n",
    "        layout=Layout(width='50%', height='256px')\n",
    ")\n",
    "def on_change(change):\n",
    "    if change['type'] == 'change' and change['name'] == 'value':\n",
    "#         print (\"changed to %s\" % change['new'])\n",
    "        selection = change['new']\n",
    "\n",
    "jsnWD.observe(on_change)\n",
    "display(jsnWD)"
   ]
  },
  {
   "cell_type": "code",
   "execution_count": 8,
   "id": "32cdf2aa",
   "metadata": {},
   "outputs": [
    {
     "name": "stdout",
     "output_type": "stream",
     "text": [
      "jsnf='semanticSimArticles.json' \n"
     ]
    }
   ],
   "source": [
    "jsnf = jsnWD.value\n",
    "print (f\"{jsnf=} \")"
   ]
  },
  {
   "cell_type": "code",
   "execution_count": 9,
   "id": "32b40ca3",
   "metadata": {},
   "outputs": [],
   "source": [
    "jsnfile = osp.join (JSONPath,jsnf)\n",
    "df = pd.read_json(jsnfile)\n",
    "xposedf = df.transpose() # pivot the matrix"
   ]
  },
  {
   "cell_type": "code",
   "execution_count": 10,
   "id": "2eb1ef76",
   "metadata": {},
   "outputs": [
    {
     "data": {
      "text/html": [
       "<div>\n",
       "<style scoped>\n",
       "    .dataframe tbody tr th:only-of-type {\n",
       "        vertical-align: middle;\n",
       "    }\n",
       "\n",
       "    .dataframe tbody tr th {\n",
       "        vertical-align: top;\n",
       "    }\n",
       "\n",
       "    .dataframe thead th {\n",
       "        text-align: right;\n",
       "    }\n",
       "</style>\n",
       "<table border=\"1\" class=\"dataframe\">\n",
       "  <thead>\n",
       "    <tr style=\"text-align: right;\">\n",
       "      <th></th>\n",
       "      <th>url</th>\n",
       "      <th>title</th>\n",
       "      <th>summary</th>\n",
       "    </tr>\n",
       "  </thead>\n",
       "  <tbody>\n",
       "    <tr>\n",
       "      <th>0</th>\n",
       "      <td>https://www.foxbusiness.com/technology/cisco-p...</td>\n",
       "      <td>Cisco partners with Microsoft to add Teams to ...</td>\n",
       "      <td>Networking firm Cisco Systems Inc. will add Mi...</td>\n",
       "    </tr>\n",
       "    <tr>\n",
       "      <th>1</th>\n",
       "      <td>https://www.cnbc.com/2022/12/06/tim-cook-says-...</td>\n",
       "      <td>Tim Cook says Apple will use chips built in th...</td>\n",
       "      <td>Apple CEO Tim Cook confirmed that Apple will b...</td>\n",
       "    </tr>\n",
       "    <tr>\n",
       "      <th>2</th>\n",
       "      <td>https://abcnews.go.com/International/wireStory...</td>\n",
       "      <td>NATO allies vow to back Moldova, Georgia, and ...</td>\n",
       "      <td>NATO Secretary-General Jens Stoltenberg said a...</td>\n",
       "    </tr>\n",
       "    <tr>\n",
       "      <th>3</th>\n",
       "      <td>https://www.digitaltrends.com/mobile/apple-iph...</td>\n",
       "      <td>Your iPhone may be collecting more personal da...</td>\n",
       "      <td>It’s widely believed that iPhones are among th...</td>\n",
       "    </tr>\n",
       "    <tr>\n",
       "      <th>4</th>\n",
       "      <td>https://www.cnbc.com/2022/10/05/stocks-making-...</td>\n",
       "      <td>Stocks making the biggest moves in the premark...</td>\n",
       "      <td>Tesla CEO Elon Musk speaks during the official...</td>\n",
       "    </tr>\n",
       "    <tr>\n",
       "      <th>...</th>\n",
       "      <td>...</td>\n",
       "      <td>...</td>\n",
       "      <td>...</td>\n",
       "    </tr>\n",
       "    <tr>\n",
       "      <th>6241</th>\n",
       "      <td>https://governmentciomedia.com/federal-agencie...</td>\n",
       "      <td>Federal Agencies Implementing New Approaches t...</td>\n",
       "      <td>Modernizing approaches to software security le...</td>\n",
       "    </tr>\n",
       "    <tr>\n",
       "      <th>6242</th>\n",
       "      <td>https://governmenttechnologyinsider.com/transi...</td>\n",
       "      <td>Transitioning to Enhanced Networks: Part 4 of ...</td>\n",
       "      <td>Previously on Future Healthcare Today, our col...</td>\n",
       "    </tr>\n",
       "    <tr>\n",
       "      <th>6243</th>\n",
       "      <td>https://www.cbsnews.com/news/weight-loss-gadge...</td>\n",
       "      <td>A new era of weight-loss gadgets is here — but...</td>\n",
       "      <td>I felt a special kind of awe, then panic, watc...</td>\n",
       "    </tr>\n",
       "    <tr>\n",
       "      <th>6244</th>\n",
       "      <td>https://www.cnbc.com/2022/10/11/wall-street-is...</td>\n",
       "      <td>Wall Street is bullish on some corners of tech...</td>\n",
       "      <td>Tech stocks have been in a funk for much of th...</td>\n",
       "    </tr>\n",
       "    <tr>\n",
       "      <th>6245</th>\n",
       "      <td>https://blog.executivebiz.com/2022/10/executiv...</td>\n",
       "      <td>Executive Spotlight: Michael Shrader, VP of In...</td>\n",
       "      <td>Michael Shrader , vice president of Intelligen...</td>\n",
       "    </tr>\n",
       "  </tbody>\n",
       "</table>\n",
       "<p>6246 rows × 3 columns</p>\n",
       "</div>"
      ],
      "text/plain": [
       "                                                    url  \\\n",
       "0     https://www.foxbusiness.com/technology/cisco-p...   \n",
       "1     https://www.cnbc.com/2022/12/06/tim-cook-says-...   \n",
       "2     https://abcnews.go.com/International/wireStory...   \n",
       "3     https://www.digitaltrends.com/mobile/apple-iph...   \n",
       "4     https://www.cnbc.com/2022/10/05/stocks-making-...   \n",
       "...                                                 ...   \n",
       "6241  https://governmentciomedia.com/federal-agencie...   \n",
       "6242  https://governmenttechnologyinsider.com/transi...   \n",
       "6243  https://www.cbsnews.com/news/weight-loss-gadge...   \n",
       "6244  https://www.cnbc.com/2022/10/11/wall-street-is...   \n",
       "6245  https://blog.executivebiz.com/2022/10/executiv...   \n",
       "\n",
       "                                                  title  \\\n",
       "0     Cisco partners with Microsoft to add Teams to ...   \n",
       "1     Tim Cook says Apple will use chips built in th...   \n",
       "2     NATO allies vow to back Moldova, Georgia, and ...   \n",
       "3     Your iPhone may be collecting more personal da...   \n",
       "4     Stocks making the biggest moves in the premark...   \n",
       "...                                                 ...   \n",
       "6241  Federal Agencies Implementing New Approaches t...   \n",
       "6242  Transitioning to Enhanced Networks: Part 4 of ...   \n",
       "6243  A new era of weight-loss gadgets is here — but...   \n",
       "6244  Wall Street is bullish on some corners of tech...   \n",
       "6245  Executive Spotlight: Michael Shrader, VP of In...   \n",
       "\n",
       "                                                summary  \n",
       "0     Networking firm Cisco Systems Inc. will add Mi...  \n",
       "1     Apple CEO Tim Cook confirmed that Apple will b...  \n",
       "2     NATO Secretary-General Jens Stoltenberg said a...  \n",
       "3     It’s widely believed that iPhones are among th...  \n",
       "4     Tesla CEO Elon Musk speaks during the official...  \n",
       "...                                                 ...  \n",
       "6241  Modernizing approaches to software security le...  \n",
       "6242  Previously on Future Healthcare Today, our col...  \n",
       "6243  I felt a special kind of awe, then panic, watc...  \n",
       "6244  Tech stocks have been in a funk for much of th...  \n",
       "6245  Michael Shrader , vice president of Intelligen...  \n",
       "\n",
       "[6246 rows x 3 columns]"
      ]
     },
     "execution_count": 10,
     "metadata": {},
     "output_type": "execute_result"
    }
   ],
   "source": [
    "xposedf"
   ]
  },
  {
   "cell_type": "code",
   "execution_count": 11,
   "id": "2c76ec08",
   "metadata": {},
   "outputs": [],
   "source": [
    "summaries = xposedf.summary.to_list()\n",
    "# summaries[0:10]"
   ]
  },
  {
   "cell_type": "code",
   "execution_count": 12,
   "id": "d050fe7f",
   "metadata": {},
   "outputs": [
    {
     "name": "stdout",
     "output_type": "stream",
     "text": [
      "\n",
      "Cell SentenceTransformer @ 2022-12-14 22:07:51\n",
      "CPU times: user 357 ms, sys: 101 ms, total: 459 ms\n",
      "Wall time: 457 ms\n"
     ]
    }
   ],
   "source": [
    "%%time\n",
    "model = SentenceTransformer('all-MiniLM-L6-v2')\n",
    "complete(state=\"SentenceTransformer\")"
   ]
  },
  {
   "cell_type": "code",
   "execution_count": 13,
   "id": "c8d0a811",
   "metadata": {},
   "outputs": [
    {
     "name": "stdout",
     "output_type": "stream",
     "text": [
      "\n",
      "Cell model.encode @ 2022-12-14 22:08:18\n",
      "CPU times: user 21.2 s, sys: 7.09 s, total: 28.3 s\n",
      "Wall time: 23.1 s\n"
     ]
    }
   ],
   "source": [
    "%%time\n",
    "corpus = summaries\n",
    "corpus_embeddings = model.encode(corpus, convert_to_tensor=True)\n",
    "complete(state=\"model.encode\")"
   ]
  },
  {
   "cell_type": "code",
   "execution_count": 14,
   "id": "38c20dc1",
   "metadata": {},
   "outputs": [
    {
     "name": "stdout",
     "output_type": "stream",
     "text": [
      "with_articles: True\n",
      "pops: ['https://abcnews.go.com/Technology', 'https://ai.googleblog.com/', 'https://arstechnica.com/gadgets/', 'https://blog.executivebiz.com/category/government-technology/', 'https://blogs.cisco.com/innovation', 'https://datainnovation.org/category/blog/', 'https://executivegov.com/category/technology/', 'https://fcw.com', 'https://federalnewsnetwork.com', 'https://federalnewsnetwork.com/category/technology-main/cloud-computing/', 'https://federalnewsnetwork.com/category/technology-main/cybersecurity/', 'https://federalnewsnetwork.com/category/technology-main/it-modernization/', 'https://gcn.com/', 'https://governmentciomedia.com', 'https://governmenttechnologyinsider.com/category/digital-transformation/', 'https://hbr.org/topic/subject/innovation', 'https://innotechtoday.com/', 'https://insideoutside.io/innovation-newsletter/', 'https://interestingengineering.com/innovation', 'https://mashable.com', 'https://newatlas.com/', 'https://news.mit.edu/topic/innovation', 'https://nextgov.com', 'https://nocamels.com/', 'https://ourpublicservice.org/our-solutions/innovation-and-technology-modernization/', 'https://research.ibm.com/blog', 'https://spectrum.ieee.org/search/?q=Innovation', 'https://techreport.com/category/innovation/', 'https://thenextweb.com/', 'https://venturebeat.com/category/ai/', 'https://venturebeat.com/category/cloud/', 'https://venturebeat.com/tag/machine-learning/', 'https://washingtontimes.com', 'https://www.accenture.com/us-en/blogs/technology-innovation', 'https://www.aljazeera.com', 'https://www.apple.com', 'https://www.businessinsider.com', 'https://www.cbsnews.com', 'https://www.cnbc.com', 'https://www.cnn.com/specials/tech/innovate', 'https://www.digitaltrends.com', 'https://www.discovermagazine.com/technology', 'https://www.discovery.com/technology', 'https://www.engadget.com', 'https://www.ennomotive.com/technology-blog', 'https://www.eurekanetwork.org/blog/listing', 'https://www.fastcompany.com', 'https://www.federaltimes.com/thought-leadership/', 'https://www.foxbusiness.com', 'https://www.freecodecamp.org/news/', 'https://www.gartner.com/smarterwithgartner', 'https://www.govexec.com/technology/?oref=ge-nav', 'https://www.govpilot.com/blog', 'https://www.health.com', 'https://www.ibm.com/blogs/blockchain/', 'https://www.ideaconnection.com/innovation-articles/', 'https://www.macworld.com', 'https://www.meritalk.com/', 'https://www.morningstar.com', 'https://www.nextgov.com/', 'https://www.npr.org', 'https://www.reuters.com', 'https://www.springwise.com/', 'https://www.techdigest.tv/category/augmented-reali', 'https://www.techdigest.tv/category/drones', 'https://www.techdigest.tv/category/internet-of-thi', 'https://www.technology-in-business.net/', 'https://www.techradar.com', 'https://www.techrepublic.com/', 'https://www.techspot.com', 'https://www.thedailybeast.com/category/innovation', 'https://www.theverge.com', 'https://www.ukri.org/councils/innovate-uk/blog/page/2/', 'https://www.washingtonpost.com/technology/innovations/?itid=nb_technology_innovations', 'https://www.wired.com'],\n",
      "\n",
      "len: 75\n"
     ]
    }
   ],
   "source": [
    "jsonfile = \"popular.json\"\n",
    "jsonfile2= \"popular-with-articles4.json\" ## updated 2022.08.02 to brinmg in line with the evovling implementation over on EMR\n",
    "\n",
    "popsdict = fetchPopularList(jsondata=JSONPath, jsonfile=jsonfile, jsonfile2=jsonfile2, witharticles=True)\n",
    "\n",
    "pops = popsdict['Popular_Articles']\n",
    "print(f'pops: {pops},\\n\\nlen: {len(pops)}')"
   ]
  },
  {
   "cell_type": "code",
   "execution_count": 15,
   "id": "48e828d8",
   "metadata": {},
   "outputs": [
    {
     "data": {
      "application/vnd.jupyter.widget-view+json": {
       "model_id": "c5981a46c6cc4cae896b68d7c033ffe6",
       "version_major": 2,
       "version_minor": 0
      },
      "text/plain": [
       "Select(description='Choose ID:', layout=Layout(height='256px', width='50%'), options=('https://abcnews.go.com/…"
      ]
     },
     "metadata": {},
     "output_type": "display_data"
    }
   ],
   "source": [
    "idsWD = widgets.Select(\n",
    "    options=pops,\n",
    "    value=pops[0],\n",
    "    description='Choose ID:',\n",
    "    disabled=False,\n",
    "    button_style='success', # 'success', 'info', 'warning', 'danger' or ''\n",
    "        layout=Layout(width='50%', height='256px')\n",
    ")\n",
    "def on_change(change):\n",
    "    if change['type'] == 'change' and change['name'] == 'value':\n",
    "#         print (\"changed to %s\" % change['new'])\n",
    "        selection = change['new']\n",
    "\n",
    "idsWD.observe(on_change)\n",
    "display(idsWD)"
   ]
  },
  {
   "cell_type": "code",
   "execution_count": 16,
   "id": "4b5815a8",
   "metadata": {},
   "outputs": [
    {
     "data": {
      "text/plain": [
       "'https://executivegov.com/category/technology/'"
      ]
     },
     "execution_count": 16,
     "metadata": {},
     "output_type": "execute_result"
    }
   ],
   "source": [
    "news = idsWD.value\n",
    "news"
   ]
  },
  {
   "cell_type": "code",
   "execution_count": 17,
   "id": "f4b5946a",
   "metadata": {},
   "outputs": [
    {
     "name": "stdout",
     "output_type": "stream",
     "text": [
      "_paper.articles available: 116\n",
      "random selection : 40\n",
      "_paper.category_urls number == 3\n",
      "_paper category #  https://executivegov.com/category/technology/\n",
      "_paper category #  https://www.executivegov.com\n",
      "_paper category #  https://executivegov.com\n",
      "CPU times: user 218 ms, sys: 20.3 ms, total: 238 ms\n",
      "Wall time: 1.96 s\n"
     ]
    }
   ],
   "source": [
    "%%time\n",
    "newOnly = False\n",
    "_paper = newspaper.build(news\n",
    "        , memoize_articles=newOnly) # TRUE will only crawl deltas\n",
    "articles = []\n",
    "categories = []\n",
    "if _paper.articles:\n",
    "    print (f\"_paper.articles available: {len(_paper.articles)}\")\n",
    "    randomselection = random.randint(0, len(_paper.articles)-1)\n",
    "    print(f\"random selection : {randomselection}\")\n",
    "    for article in _paper.articles:\n",
    "#         print(f\"_paper article url == {article.url}\")\n",
    "        articles.append(article)\n",
    "else:\n",
    "    print(f\"NO _paper articles\")\n",
    "    \n",
    "    \n",
    "categoryurls = _paper.category_urls()\n",
    "if categoryurls:\n",
    "    print (f\"_paper.category_urls number == {len(categoryurls)}\")\n",
    "    for category in categoryurls:\n",
    "        print(f\"_paper category #  {category}\")\n",
    "        categories.append(category)\n",
    "else:\n",
    "    print (f\"NO _paper.category_urls\")"
   ]
  },
  {
   "cell_type": "code",
   "execution_count": 19,
   "id": "02f59853",
   "metadata": {},
   "outputs": [],
   "source": [
    "def get_titles(articles):\n",
    "    titles = []\n",
    "    progress_bar = widgets.IntProgress(min=0, max=len(articles), description=\"Extracting\")\n",
    "    display(progress_bar)\n",
    "\n",
    "    for a in articles:\n",
    "        an_article = Article(url=a.url)\n",
    "        try:\n",
    "            an_article.download()\n",
    "    #         an_article.throw_if_not_downloaded_verbose()\n",
    "            an_article.parse()\n",
    "            an_article.nlp()\n",
    "            title = an_article.title.strip()\n",
    "            titles.append(title)\n",
    "        except:\n",
    "            print (f\"Unable to dl article from {a.url}\")\n",
    "            titles.append(\"NO Article\")\n",
    "        progress_bar.value += 1\n",
    "    progress_bar.bar_style = \"success\"\n",
    "    progress_bar.close()\n",
    "    return titles"
   ]
  },
  {
   "cell_type": "code",
   "execution_count": 20,
   "id": "c8d21431",
   "metadata": {},
   "outputs": [
    {
     "data": {
      "application/vnd.jupyter.widget-view+json": {
       "model_id": "",
       "version_major": 2,
       "version_minor": 0
      },
      "text/plain": [
       "IntProgress(value=0, description='Extracting', max=116)"
      ]
     },
     "metadata": {},
     "output_type": "display_data"
    },
    {
     "name": "stdout",
     "output_type": "stream",
     "text": [
      "Unable to dl article from http://www.executivegov.com/category/news/\n",
      "CPU times: user 18.3 s, sys: 136 ms, total: 18.5 s\n",
      "Wall time: 1min 39s\n"
     ]
    }
   ],
   "source": [
    "%%time\n",
    "titles = get_titles(articles)\n",
    "# titles"
   ]
  },
  {
   "cell_type": "code",
   "execution_count": 21,
   "id": "f00ec00d",
   "metadata": {},
   "outputs": [
    {
     "data": {
      "application/vnd.jupyter.widget-view+json": {
       "model_id": "31ecdc38f6444ded8e3fe14bc71960ad",
       "version_major": 2,
       "version_minor": 0
      },
      "text/plain": [
       "Select(description='Choose title:', layout=Layout(height='256px', width='50%'), options=('Executive Gov', 'Law…"
      ]
     },
     "metadata": {},
     "output_type": "display_data"
    }
   ],
   "source": [
    "###\n",
    "titlesWD = widgets.Select(\n",
    "    options=titles,\n",
    "    value=titles[0],\n",
    "    description='Choose title:',\n",
    "    disabled=False,\n",
    "    button_style='success',\n",
    "    layout=Layout(width='50%', height='256px')# 'success', 'info', 'warning', 'danger' or ''\n",
    ")\n",
    "def on_change(change):\n",
    "    if change['type'] == 'change' and change['name'] == 'value':\n",
    "#         print (\"changed to %s\" % change['new'])\n",
    "        selection = change['new']\n",
    "\n",
    "titlesWD.observe(on_change)\n",
    "display(titlesWD)"
   ]
  },
  {
   "cell_type": "code",
   "execution_count": 22,
   "id": "f0a4cbe7",
   "metadata": {},
   "outputs": [
    {
     "name": "stdout",
     "output_type": "stream",
     "text": [
      "title: titlesWD.value='DOD Announces Integration of FAPIIS With System for Award Management'. index = 2\n"
     ]
    }
   ],
   "source": [
    "print (f\"title: {titlesWD.value=}. index = {titlesWD.index}\")"
   ]
  },
  {
   "cell_type": "code",
   "execution_count": 23,
   "id": "cef49aea",
   "metadata": {},
   "outputs": [
    {
     "name": "stdout",
     "output_type": "stream",
     "text": [
      "title: DOD Announces Integration of FAPIIS With System for Award Management. index = 2\n",
      "article.url: https://executivegov.com/2022/12/dod-announces-integration-of-fapiis-with-system-for-award-management/ \n"
     ]
    }
   ],
   "source": [
    "title = \"\"\n",
    "summary = \"\"\n",
    "keywords = []\n",
    "top_image = \"\"\n",
    "authors = []\n",
    "url = \"\"\n",
    "if _paper.articles:\n",
    "#     print (f\"_paper.articles available: {len(_paper.articles)}\")\n",
    "    print (f\"title: {titlesWD.value}. index = {titlesWD.index}\")\n",
    "    a = articles[titlesWD.index]\n",
    "    print(f\"article.url: {a.url} \")\n",
    "    an_article = Article(url=a.url)\n",
    "    an_article.download()\n",
    "    an_article.throw_if_not_downloaded_verbose()\n",
    "    an_article.parse()\n",
    "    an_article.nlp()\n",
    "\n",
    "    title = an_article.title.strip()\n",
    "    summary = an_article.summary\n",
    "    keywords = an_article.keywords\n",
    "    authors = an_article.authors\n",
    "    top_image = an_article.top_image\n",
    "    url = a.url\n",
    "\n",
    "#     print(f\"Images    : {an_article.images}\" )\n",
    "#     print(f\"Movies    : {an_article.movies}\" )\n",
    "#     print(f\"Text      : {an_article.text}\" )\n",
    "else:\n",
    "    print(f\"NO _paper articles\")"
   ]
  },
  {
   "cell_type": "code",
   "execution_count": 24,
   "id": "bd5c1e0c",
   "metadata": {},
   "outputs": [
    {
     "name": "stdout",
     "output_type": "stream",
     "text": [
      "article.url: https://executivegov.com/2022/12/dod-announces-integration-of-fapiis-with-system-for-award-management/ \n",
      "summary: The office of the undersecretary for acquisition and sustainment at the Department of Defense has released a memorandum announcing the integration of the Federal Awardee Performance and Integrity Information System with the System for Award Management as part of the ongoing modernization of the Integrated Award Environment.\n",
      "The General Services Administration’s Federal Acquisition Service oversees IAE, which unifies and manages the federal awards process for the government acquisition workforce and business partners and seeks to modernize the award experience through the use of innovative platforms.\n",
      "“Users can download a report from SAM showing the entity’s basic identification information as well as the entity’s R/Q information.\n",
      "Additionally, R/Q and proceedings data is available via a new Entity Management application program interface (API) at https://open.gsa.gov/api/entity-api/,” the memo reads.\n",
      "According to the document, government employees will continue to encode non-responsibility determination and other required data into FAPIIS through the input module the Contractor Performance Assessment Reporting System.\n"
     ]
    }
   ],
   "source": [
    "# Chose the title and url selected above site and incorporate that to test queries and see whether the article scores in scope \n",
    "site = url\n",
    "# TODO \n",
    "# (1).get all articles for the site\n",
    "# (2). add articles to use as queries \n",
    "# (3). score each article\n",
    "\n",
    "print(f\"article.url: {site} \")\n",
    "an_article = Article(url=site)\n",
    "an_article.download()\n",
    "an_article.throw_if_not_downloaded_verbose()\n",
    "an_article.parse()\n",
    "an_article.nlp()\n",
    "\n",
    "title = an_article.title.strip()\n",
    "summary = an_article.summary\n",
    "keywords = an_article.keywords\n",
    "authors = an_article.authors\n",
    "top_image = an_article.top_image\n",
    "\n",
    "queries = []\n",
    "# print(f\"title: {title}\")\n",
    "print(f\"summary: {summary}\")\n",
    "# print(f\"keywords: {keywords}\")\n",
    "# print(f\"top_image: {top_image}\")\n",
    "queries.append(summary)"
   ]
  },
  {
   "cell_type": "code",
   "execution_count": 25,
   "id": "2b75c1fe",
   "metadata": {},
   "outputs": [
    {
     "name": "stdout",
     "output_type": "stream",
     "text": [
      "\n",
      "\n",
      "======================\n",
      "\n",
      "\n",
      "Query: The office of the undersecretary for acquisition and sustainment at the Department of Defense has released a memorandum announcing the integration of the Federal Awardee Performance and Integrity Information System with the System for Award Management as part of the ongoing modernization of the Integrated Award Environment.\n",
      "The General Services Administration’s Federal Acquisition Service oversees IAE, which unifies and manages the federal awards process for the government acquisition workforce and business partners and seeks to modernize the award experience through the use of innovative platforms.\n",
      "“Users can download a report from SAM showing the entity’s basic identification information as well as the entity’s R/Q information.\n",
      "Additionally, R/Q and proceedings data is available via a new Entity Management application program interface (API) at https://open.gsa.gov/api/entity-api/,” the memo reads.\n",
      "According to the document, government employees will continue to encode non-responsibility determination and other required data into FAPIIS through the input module the Contractor Performance Assessment Reporting System.\n",
      "\n",
      "Top 5 most similar sentences in corpus:\n",
      "CGI Federal becomes the first company to offer financial management services and solutions under the FM QSMO central marketplace model. CGI Federal will provide shared services to multiple agencies’ core financial systems across the federal government. It's not clear how much funding CGI's contract will entail, as it was awarded through GSA's Multiple Award Schedule, giving the company the ability to pursue future awards. A company spokesperson did say however that with all options exercised, the period of performance could run through 2036. The portfolio of Treasury Centralized Services could include capabilities like vendor electronic invoicing, federal funds payment/disbursement, federal government-wide accounting and financial reporting,Federal funds investment and others. The Office of Management and Budget established the QS MOs in 2019 as a way to provide modernized information technology services and centralize some of the federalGovernment’s largest scale functions. The Treasury Departmentto set up theQSMO through its fiscal 2022 budget request. The company will offer software packages for “grant accounting services, core financial system agency solution operations and maintenance support, strategic planning and investment business case development and financial management organizational change management.”“We are proud to help clients across theFederal enterprise benefit from flexible options when it comes to planning financial system modernizations, sustaining current operations and leveraging financial management expertise,” said Kenyon Wells; a senior vice president in CGI Federal’S Consulting, Applications, Solutions, and Technology practice. (Score: 0.5135)\n",
      "ICF has landed two contracts from the Department of Health and Human Services’ Centers for Medicare and Medicaid Services to aid in the center’s digital modernization endeavors.The two task orders follow ICF’s win of a previous Department of Health and Human Services award for providing the Substance Abuse and Mental Health Services Administration with digital modernization services .Prior to the acquisition by ICF, SemanticBits was awarded two contracts, both of which are ongoing, by CMS last year.Under the first award, SemanticBits is currently developing the End Stage Renal Disease Quality Reporting System Portal .Under the second award, which falls under the CMS Quality Improvement Organization program, the company is supporting the enhancement of Medicare services’ effectiveness, efficiency, economy and quality . (Score: 0.5012)\n",
      "Commercial off-the-shelf software-as-a-service offerings provide government agencies the capability to automate the process of managing policy and regulatory compliance for charge card programs, according to Paperless Innovations .“COTS SaaS solutions like Actus Procurement Compliance Automation utilizes machine learning and AI to reinforce ‘right actions’ and capture ‘right data’ that can’t otherwise be guaranteed with policies requiring training and without safeguards on manual procedures,” said Mike Tocci , president of Paperless Innovations.The Actus distributor noted that agencies are looking to commercially available SaaS platforms as one way to supplement internal control policies and training initiatives associated with government purchase cards such as the General Services Administration’s SmartPay.In August, the GSA issued guidance for federal personnel to comply with standard requirements and adopt best practices in maintaining payment card safeguards and internal controls.Paperless Innovations added that the use of automated technology to collect purchase card data can help agencies address compliance requirements in the Office of Management and Budget’s Circular A-123. (Score: 0.4980)\n",
      "CGI Federal becomes the first company to offer financial management services and solutions under the FM QSMO central marketplace model. It's not clear how much funding CGI's contract will entail, as it was awarded through GSA's Multiple Award Schedule, giving the company the ability to pursue future awards. A company spokesperson did say however that with all options exercised, the period of performance could run through 2036. The Office of Management and Budget established the QS MOs in 2019 as a way to provide modernized information technology services and centralize some of the federal government’s largest scale functions. The Treasury Departmentto set up theQSMO through its fiscal 2022 budget request. The portfolio of Treasury Centralized Services could include capabilities like vendor electronic invoicing, federal funds payment/disbursement, federal government-wide accounting and financial reporting,Federal funds investment and others. The company will offer software packages for “grant accounting services, core financial systems agency solution operations and maintenance support, strategic planning and investment business case development and financial management organizational change management.”“We are proud to help clients across the federal enterprise benefit from flexible options when it comes to planning financial system modernizations, sustaining current operations and leveraging financial management expertise,” said Kenyon Wells; a senior vice president in CGI Federal's Consulting, Applications, Solutions, and Technology practice. (Score: 0.4909)\n",
      "Three companies have won spots on a one-year, $72.8 million contract to help the U.S. Air Force obtain ground and aircraft support equipment.Cherokee Nation’s aerospace and defense business, Ciqima Federal Services and S&K Federal Services will offer sourcing, acquisition and delivery services through the multiple-award set-aside contract, the Department of Defense said Friday.USAF is obligating $85,693 in fiscal 2021 procurement funds at the time of the award, which resulted from a competitive process initiated on the SAM website, and the service branch expects the work to conclude by Nov. 3, 2023. (Score: 0.4802)\n",
      "\n",
      "Highest Score: 0.5135\n",
      "CPU times: user 18.2 ms, sys: 4.44 ms, total: 22.7 ms\n",
      "Wall time: 18.2 ms\n"
     ]
    }
   ],
   "source": [
    "%%time\n",
    "# Find the closest 5 sentences of the corpus for each query sentence based on cosine similarity\n",
    "top_k = min(5, len(corpus))\n",
    "for query in queries[:10]:\n",
    "    query_embedding = model.encode(query, convert_to_tensor=True)\n",
    "\n",
    "    # We use cosine-similarity and torch.topk to find the highest 5 scores\n",
    "    cos_scores = util.cos_sim(query_embedding, corpus_embeddings)[0]\n",
    "    top_results = torch.topk(cos_scores, k=top_k)\n",
    "\n",
    "    print(\"\\n\\n======================\\n\\n\")\n",
    "    print(\"Query:\", query)\n",
    "    print(\"\\nTop 5 most similar sentences in corpus:\")\n",
    "\n",
    "    top_score = 0\n",
    "    \n",
    "    for score, idx in zip(top_results[0], top_results[1]):\n",
    "        print(corpus[idx], \"(Score: {:.4f})\".format(score))\n",
    "        \n",
    "        if score >= top_score:\n",
    "            top_score = score\n",
    "            \n",
    "print(\"\\nHighest Score: {:.4f}\".format(top_score))"
   ]
  },
  {
   "cell_type": "code",
   "execution_count": 26,
   "id": "df3672fa",
   "metadata": {},
   "outputs": [
    {
     "name": "stdout",
     "output_type": "stream",
     "text": [
      "results: {'https://executivegov.com/2022/12/dod-announces-integration-of-fapiis-with-system-for-award-management/': {'summary': 'The office of the undersecretary for acquisition and sustainment at the Department of Defense has released a memorandum announcing the integration of the Federal Awardee Performance and Integrity Information System with the System for Award Management as part of the ongoing modernization of the Integrated Award Environment.\\nThe General Services Administration’s Federal Acquisition Service oversees IAE, which unifies and manages the federal awards process for the government acquisition workforce and business partners and seeks to modernize the award experience through the use of innovative platforms.\\n“Users can download a report from SAM showing the entity’s basic identification information as well as the entity’s R/Q information.\\nAdditionally, R/Q and proceedings data is available via a new Entity Management application program interface (API) at https://open.gsa.gov/api/entity-api/,” the memo reads.\\nAccording to the document, government employees will continue to encode non-responsibility determination and other required data into FAPIIS through the input module the Contractor Performance Assessment Reporting System.', 'scores': {'HF1': {'corpusindex': '5932', 'score': '0.5135', 'corpusURL': 'https://fcw.com/it-modernization/2022/11/treasury-selects-commercial-vendor-financial-shared-services-market/380239/', 'corpusSummary': \"CGI Federal becomes the first company to offer financial management services and solutions under the FM QSMO central marketplace model. CGI Federal will provide shared services to multiple agencies’ core financial systems across the federal government. It's not clear how much funding CGI's contract will entail, as it was awarded through GSA's Multiple Award Schedule, giving the company the ability to pursue future awards. A company spokesperson did say however that with all options exercised, the period of performance could run through 2036. The portfolio of Treasury Centralized Services could include capabilities like vendor electronic invoicing, federal funds payment/disbursement, federal government-wide accounting and financial reporting,Federal funds investment and others. The Office of Management and Budget established the QS MOs in 2019 as a way to provide modernized\\xa0information technology services and centralize some of the federalGovernment’s largest scale functions. The Treasury Departmentto set up theQSMO through its fiscal 2022 budget request. The company will offer software packages for “grant accounting services, core financial system agency solution operations and maintenance support, strategic planning and investment business case development and financial management organizational change management.”“We are proud to help clients across theFederal enterprise benefit from flexible options when it comes to planning financial system modernizations, sustaining current operations and leveraging financial management expertise,” said Kenyon Wells; a senior vice president in CGI Federal’S Consulting, Applications, Solutions, and Technology practice.\"}, 'HF2': {'corpusindex': '2165', 'score': '0.5012', 'corpusURL': 'https://executivegov.com/2022/12/icf-wins-two-cms-contracts-for-digital-modernization-services-mark-lee-quoted/', 'corpusSummary': 'ICF has landed two contracts from the Department of Health and Human Services’ Centers for Medicare and Medicaid Services to aid in the center’s digital modernization endeavors.The two task orders follow ICF’s win of a previous Department of Health and Human Services award for providing the Substance Abuse and Mental Health Services Administration with digital modernization services .Prior to the acquisition by ICF, SemanticBits was awarded two contracts, both of which are ongoing, by CMS last year.Under the first award, SemanticBits is currently developing the End Stage Renal Disease Quality Reporting System Portal .Under the second award, which falls under the CMS Quality Improvement Organization program, the company is supporting the enhancement of Medicare services’ effectiveness, efficiency, economy and quality .'}, 'HF3': {'corpusindex': '2597', 'score': '0.498', 'corpusURL': 'https://blog.executivebiz.com/2022/12/paperless-innovations-saas-platform-for-procurement-compliance-automation/', 'corpusSummary': 'Commercial off-the-shelf software-as-a-service offerings provide government agencies the capability to automate the process of managing policy and regulatory compliance for charge card programs, according to Paperless Innovations .“COTS SaaS solutions like Actus Procurement Compliance Automation utilizes machine learning and AI to reinforce ‘right actions’ and capture ‘right data’ that can’t otherwise be guaranteed with policies requiring training and without safeguards on manual procedures,” said Mike Tocci , president of Paperless Innovations.The Actus distributor noted that agencies are looking to commercially available SaaS platforms as one way to supplement internal control policies and training initiatives associated with government purchase cards such as the General Services Administration’s SmartPay.In August, the GSA issued guidance for federal personnel to comply with standard requirements and adopt best practices in maintaining payment card safeguards and internal controls.Paperless Innovations added that the use of automated technology to collect purchase card data can help agencies address compliance requirements in the Office of Management and Budget’s Circular A-123.'}, 'HF4': {'corpusindex': '691', 'score': '0.4909', 'corpusURL': 'https://www.nextgov.com/it-modernization/2022/11/treasury-selects-commercial-vendor-financial-shared-services-market/380252/?oref=ng-skybox-insights-lander', 'corpusSummary': \"CGI Federal becomes the first company to offer financial management services and solutions under the FM QSMO central marketplace model. It's not clear how much funding CGI's contract will entail, as it was awarded through GSA's Multiple Award Schedule, giving the company the ability to pursue future awards. A company spokesperson did say however that with all options exercised, the period of performance could run through 2036. The Office of Management and Budget established the QS MOs in 2019 as a way to provide modernized\\xa0information technology services and centralize some of the federal government’s largest scale functions. The Treasury Departmentto set up theQSMO through its fiscal 2022 budget request. The portfolio of Treasury Centralized Services could include capabilities like vendor electronic invoicing, federal funds payment/disbursement, federal government-wide accounting and financial reporting,Federal funds investment and others. The company will offer software packages for “grant accounting services, core financial systems agency solution operations and maintenance support, strategic planning and investment business case development and financial management organizational change management.”“We are proud to help clients across the federal enterprise benefit from flexible options when it comes to planning financial system modernizations, sustaining current operations and leveraging financial management expertise,” said Kenyon Wells; a senior vice president in CGI Federal's Consulting, Applications, Solutions, and Technology practice.\"}, 'HF5': {'corpusindex': '4055', 'score': '0.4802', 'corpusURL': 'https://www.govconwire.com/2022/11/usaf-picks-3-companies-for-73m-aircraft-support-equipment-supply-contract/', 'corpusSummary': 'Three companies have won spots on a one-year, $72.8 million contract to help the U.S. Air Force obtain ground and aircraft support equipment.Cherokee Nation’s aerospace and defense business, Ciqima Federal Services and S&K Federal Services will offer sourcing, acquisition and delivery services through the multiple-award set-aside contract, the Department of Defense said Friday.USAF is obligating $85,693 in fiscal 2021 procurement funds at the time of the award, which resulted from a competitive process initiated on the SAM website, and the service branch expects the work to conclude by Nov. 3, 2023.'}}}}\n",
      "\n",
      "Cell done @ 2022-12-14 22:50:44\n"
     ]
    }
   ],
   "source": [
    "# here we want to record the score by adding the following columns to a dataframe:\n",
    "# url, title, summary, 5 X (idx, corpus[idx], _score}\n",
    "ddf = pd.DataFrame()\n",
    "# newdf.iloc[[2434]]\n",
    "\n",
    "#Make a list of tuples with your data and then create a DataFrame with it:\n",
    "\n",
    "jsndict = {}\n",
    "jsndict[site] =  {\"summary\" : summary}\n",
    "entries = {\"scores\" : {}}\n",
    "\n",
    "# print (f\"top_results.type:  {type(top_results)}\")\n",
    "top_r = torch.topk(cos_scores, k=top_k)\n",
    "scores = top_results[0].cpu().data.numpy()\n",
    "indices = top_results[1].cpu().data.numpy()\n",
    "# print(f\"scores {scores}\")\n",
    "# print(f\"indices {indices}\", end=\"\\n\\n\")\n",
    "elt = 0\n",
    "for score, idx in zip(scores, indices):\n",
    "    score = round(score, 4) # move to cpu memory\n",
    "#     print( f\"Index: {type(idx)}:{idx=}: {corpus[idx]=}\\nScore:{type(score)}: {score=}\", end=\"\\n\\n\")\n",
    "    entry = {\n",
    "        \"corpusindex\" : str(idx),\n",
    "        \"score\" : str(score),\n",
    "        \"corpusURL\" : xposedf.iloc[idx].url,\n",
    "        \"corpusSummary\" : xposedf.iloc[idx].summary,\n",
    "    }\n",
    "    elt += 1\n",
    "    entries['scores'].update({'HF'+str(elt) : entry})\n",
    "    \n",
    "jsndict[site].update(entries)\n",
    "\n",
    "    \n",
    "\n",
    "print (f\"results: {jsndict}\")\n",
    "\n",
    "complete(state=\"done\")"
   ]
  },
  {
   "cell_type": "markdown",
   "id": "62b77f32",
   "metadata": {},
   "source": [
    "#### Results Dictionary\n",
    "A typical results dictionary should resemble\n",
    "\n",
    "    {\n",
    "          \"https://datainnovation.org/2022/11/visualizing-changes-to-politicians-followers-on-twitter/\": {\n",
    "                \"summary\": \"The Economist has created ...\",\n",
    "                \"scores\": {\n",
    "                      \"HF1\": {\n",
    "                            \"corpusindex\": \"5197\",\n",
    "                            \"score\": \"0.5627\",\n",
    "                            \"corpusURL\": \"https://newslink.reuters.com/lifestyle/sports/nba-roundup-thunder-rally-4th-stun-mavs-ot-2022-10-30/\",\n",
    "                            \"corpusSummary\": \"Musk has been deluged...\"\n",
    "                      },\n",
    "                      \"HF2\": {\n",
    "                            \"corpusindex\": \"2982\",\n",
    "                            \"score\": \"0.5556\",\n",
    "                            \"corpusURL\": \"https://www.aljazeera.com/news/2022/10/28/106\",\n",
    "                            \"corpusSummary\": \"Former US President...\"\n",
    "                      },\n",
    "                      \"HF3\": {\n",
    "                            \"corpusindex\": \"3678\",\n",
    "                            \"score\": \"0.5153\",\n",
    "                            \"corpusURL\": \"https://www.cnbc.com/2022/11/11/how-to-use-mastodon-i-tried-to-app-heres-what-you-need-to-know.html\",\n",
    "                            \"corpusSummary\": \"It has been reported that ...\"\n",
    "                      },\n",
    "                      \"HF4\": {\n",
    "                            \"corpusindex\": \"5997\",\n",
    "                            \"score\": \"0.5132\",\n",
    "                            \"corpusURL\": \"https://www.washingtonpost.com/business/2022/10/17/kanye-west-parler-acquisition/\",\n",
    "                            \"corpusSummary\": \"On Oct. 17, Kanye West, legally known as Ye, ...\"\n",
    "                      },\n",
    "                      \"HF5\": {\n",
    "                            \"corpusindex\": \"1779\",\n",
    "                            \"score\": \"0.4939\",\n",
    "                            \"corpusURL\": \"https://www.washingtonpost.com/technology/2022/09/27/meta-takes-down-china-operation/\",\n",
    "                            \"corpusSummary\": \"In the network Meta took down,...\"\n",
    "                      }\n",
    "                }\n",
    "          }\n",
    "    }\n",
    "We can pick apart the dictionary with a few selections, as shown below:\n",
    "\n",
    "    >>> results['https://datainnovation.org/2022/11/visualizing-changes-to-politicians-followers-on-twitter/']\n",
    "    \n",
    "    \n",
    "\t\"https://datainnovation.org/2022/11/visualizing-changes-to-politicians-followers-on-twitter/\": {\n",
    "\t\t\"summary\": \"The Economist ...\",\n",
    "\t\t\"scores\": {\n",
    "\t\t\t\"HF1\": {\n",
    "\t\t\t\t\"corpusindex\": \"5197\",\n",
    "\t\t\t\t\"score\": \"0.5627\",\n",
    "\t\t\t\t\"corpusURL\": \"https://newslink.reuters.com/lifestyle/sports/nba-roundup-thunder-rally-4th-stun-mavs-ot-2022-10-30/\",\n",
    "\t\t\t\t\"corpusSummary\": \"Musk has been deluged ...\"\n",
    "\t\t\t},\n",
    "\t\t\t\"HF2\": {\n",
    "\t\t\t\t\"corpusindex\": \"2982\",\n",
    "\t\t\t\t\"score\": \"0.5556\",\n",
    "\t\t\t\t\"corpusURL\": \"https://www.aljazeera.com/news/2022/10/28/106\",\n",
    "\t\t\t\t\"corpusSummary\": \"Former ...\"\n",
    "\t\t\t},\n",
    "\t\t\t\"HF3\": {\n",
    "\t\t\t\t\"corpusindex\": \"3678\",\n",
    "\t\t\t\t\"score\": \"0.5153\",\n",
    "\t\t\t\t\"corpusURL\": \"https://www.cnbc.com/2022/11/11/how-to-use-mastodon-i-tried-to-app-heres-what-you-need-to-know.html\",\n",
    "\t\t\t\t\"corpusSummary\": \"It has been reported ...\"\n",
    "\t\t\t},\n",
    "\t\t\t\"HF4\": {\n",
    "\t\t\t\t\"corpusindex\": \"5997\",\n",
    "\t\t\t\t\"score\": \"0.5132\",\n",
    "\t\t\t\t\"corpusURL\": \"https://www.washingtonpost.com/business/2022/10/17/kanye-west-parler-acquisition/\",\n",
    "\t\t\t\t\"corpusSummary\": \"On Oct. 17, ...\"\n",
    "\t\t\t},\n",
    "\t\t\t\"HF5\": {\n",
    "\t\t\t\t\"corpusindex\": \"1779\",\n",
    "\t\t\t\t\"score\": \"0.4939\",\n",
    "\t\t\t\t\"corpusURL\": \"https://www.washingtonpost.com/technology/2022/09/27/meta-takes-down-china-operation/\",\n",
    "\t\t\t\t\"corpusSummary\": \"In the network Meta took down,...\"\n",
    "\t\t\t}\n",
    "\t\t}\n",
    "\t  }\n",
    "    }\n",
    "    \n",
    " To get at a specific score, one could do:\n",
    " \n",
    "     >>>  jsndict['https://datainnovation.org/2022/11/visualizing-changes-to-politicians-followers-on-twitter/']['scores']['HF1']['score']\n",
    "     '0.5627'\n",
    "\n",
    "\n",
    "And so on"
   ]
  },
  {
   "cell_type": "code",
   "execution_count": 27,
   "id": "046382e7",
   "metadata": {},
   "outputs": [
    {
     "name": "stdout",
     "output_type": "stream",
     "text": [
      "7\n"
     ]
    }
   ],
   "source": [
    "jsonfile = join(JSONPath, \"semanticSimArticlesTesting.json\")\n",
    "# read this in as an array\n",
    "element = {}\n",
    "try:\n",
    "    with open(jsonfile, \"r\") as infile:\n",
    "        element = json.load(infile)\n",
    "except FileNotFoundError as e:\n",
    "    print (f\"Error : {e}. Creating a new list\")\n",
    "    \n",
    "\n",
    "element.update(jsndict)\n",
    "\n",
    "print (len(element.keys()))\n",
    "json_object = json.dumps(element, indent=4)\n",
    "\n",
    "with open(jsonfile, \"w\") as outfile:\n",
    "     outfile.write(json_object)\n"
   ]
  },
  {
   "cell_type": "code",
   "execution_count": 28,
   "id": "1f0b56d0",
   "metadata": {},
   "outputs": [
    {
     "name": "stdout",
     "output_type": "stream",
     "text": [
      "True\n"
     ]
    }
   ],
   "source": [
    "# How to find a query after we have written it\n",
    "# For example to run a competing BERTopic evaluation against an existing query\n",
    "\n",
    "if query in jsndict[site]['summary']:\n",
    "        print (True)"
   ]
  },
  {
   "cell_type": "code",
   "execution_count": 29,
   "id": "1e8cd522",
   "metadata": {},
   "outputs": [
    {
     "name": "stdout",
     "output_type": "stream",
     "text": [
      "key: https://datainnovation.org/2022/11/visualizing-changes-to-politicians-followers-on-twitter/\n",
      "\t\tHigh score: 0.5627\n",
      "key: https://venturebeat.com/ai/stability-ai-looks-to-aws-cloud-to-power-the-next-generation-of-generative-ai/\n",
      "\t\tHigh score: 0.9986\n",
      "key: https://venturebeat.com/ai/openai-ceo-admits-chatgpt-risks-what-now-the-ai-beat/\n",
      "\t\tHigh score: 0.5767\n",
      "key: https://venturebeat.com/ai/generative-ai-may-be-the-magic-potion-small-marketing-agencies-have-been-waiting-for/\n",
      "\t\tHigh score: 0.7521\n",
      "key: https://www.businessinsider.com/moderna-ceo-interview-on-mrnas-future-in-cancer-care-2022-12\n",
      "\t\tHigh score: 0.5688\n",
      "key: https://www.digitaltrends.com/space/astronaut-spots-spacexs-starbase-facility-from-space/\n",
      "\t\tHigh score: 0.5394\n",
      "key: https://executivegov.com/2022/12/dod-announces-integration-of-fapiis-with-system-for-award-management/\n",
      "\t\tHigh score: 0.5135\n"
     ]
    }
   ],
   "source": [
    "# How to get the keys (i.e., the URLs) from the persistent file\n",
    "with open(jsonfile, \"r\") as infile:\n",
    "    element = json.load(infile)\n",
    "for key in element.keys():\n",
    "    print (f\"key: {key}\")\n",
    "    print (f\"\\t\\tHigh score: {element[key]['scores']['HF1']['score']}\")"
   ]
  },
  {
   "cell_type": "code",
   "execution_count": null,
   "id": "da6e04fb",
   "metadata": {
    "scrolled": false
   },
   "outputs": [],
   "source": [
    "### Extra credit bonus: How do we do against something that is already in the newsfeed?\n",
    "##  Extra extra (for Anna):\n",
    "#      break out these next several lines and implemen them in APIutils.py\n",
    "\n",
    "site = \"https://www.washingtonpost.com/politics/2022/12/06/covid-vaccine-mandate-military-members-might-be-next-one-fall/\"\n",
    "###\n",
    "def getQueries(site):\n",
    "    print(f\"article.url: {site} \")\n",
    "    an_article = Article(url=site)\n",
    "    an_article.download()\n",
    "    an_article.throw_if_not_downloaded_verbose()\n",
    "    an_article.parse()\n",
    "    an_article.nlp()\n",
    "\n",
    "    title = an_article.title.strip()\n",
    "    summary = an_article.summary\n",
    "    keywords = an_article.keywords\n",
    "    authors = an_article.authors\n",
    "    top_image = an_article.top_image\n",
    "\n",
    "    queries = []\n",
    "    # print(f\"title: {title}\")\n",
    "    print(f\"summary: {summary}\")\n",
    "    # print(f\"keywords: {keywords}\")\n",
    "    # print(f\"top_image: {top_image}\")\n",
    "    queries.append(summary)\n",
    "    return queries\n",
    "\n",
    "\n",
    "###\n",
    "\n",
    "\n",
    "# Find the closest 5 sentences of the corpus for each query sentence based on cosine similarity\n",
    "\n",
    "def scoreArticle(corpus, query):\n",
    "    top_k = min(5, len(corpus))\n",
    "    for query in queries[:10]:\n",
    "        query_embedding = model.encode(query, convert_to_tensor=True)\n",
    "\n",
    "        # We use cosine-similarity and torch.topk to find the highest 5 scores\n",
    "        cos_scores = util.cos_sim(query_embedding, corpus_embeddings)[0]\n",
    "        top_results = torch.topk(cos_scores, k=top_k)\n",
    "\n",
    "        print(\"\\n\\n======================\\n\\n\")\n",
    "        print(\"Query:\", query)\n",
    "        print(\"\\nTop 5 most similar sentences in corpus:\")\n",
    "\n",
    "        top_score = 0\n",
    "\n",
    "        for score, idx in zip(top_results[0], top_results[1]):\n",
    "            print(corpus[idx], \"(Score: {:.4f})\".format(score), \"\\n\\n\")\n",
    "\n",
    "            if score >= top_score:\n",
    "                top_score = score\n",
    "\n",
    "    print(\"\\nHighest Score: {:.4f}\".format(top_score))\n",
    "    return zip(top_results[0], top_results[1])"
   ]
  },
  {
   "cell_type": "code",
   "execution_count": null,
   "id": "f34c6329",
   "metadata": {},
   "outputs": [],
   "source": [
    "queries = getQueries(site)\n",
    "\n",
    "zipresults = scoreArticle(corpus, query)"
   ]
  },
  {
   "cell_type": "code",
   "execution_count": null,
   "id": "18779871",
   "metadata": {},
   "outputs": [],
   "source": [
    "## demonstrate we can read the JSON file into a Pandas DataFrame"
   ]
  }
 ],
 "metadata": {
  "kernelspec": {
   "display_name": "Python 3 (ipykernel)",
   "language": "python",
   "name": "python3"
  },
  "language_info": {
   "codemirror_mode": {
    "name": "ipython",
    "version": 3
   },
   "file_extension": ".py",
   "mimetype": "text/x-python",
   "name": "python",
   "nbconvert_exporter": "python",
   "pygments_lexer": "ipython3",
   "version": "3.8.8"
  },
  "vscode": {
   "interpreter": {
    "hash": "31f2aee4e71d21fbe5cf8b01ff0e069b9275f58929596ceb00d14d90e3e16cd6"
   }
  }
 },
 "nbformat": 4,
 "nbformat_minor": 5
}
