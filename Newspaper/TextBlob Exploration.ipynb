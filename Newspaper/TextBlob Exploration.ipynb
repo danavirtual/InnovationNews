{
 "cells": [
  {
   "cell_type": "code",
   "execution_count": 1,
   "id": "692d9d90",
   "metadata": {},
   "outputs": [],
   "source": [
    "from textblob import TextBlob\n",
    "import nltk\n",
    "from nltk.corpus import wordnet\n",
    "from textblob import Word\n",
    "from utils import *"
   ]
  },
  {
   "cell_type": "markdown",
   "id": "3fc5bcfe",
   "metadata": {},
   "source": [
    "### Some experimentation\n",
    "\n",
    "See [Source Article](https://python.plainenglish.io/textblob-a-package-every-python-programmer-should-know-da1f42bf4b5e)\n",
    "\n",
    "###### First a spell corrector"
   ]
  },
  {
   "cell_type": "code",
   "execution_count": 2,
   "id": "73a3de02",
   "metadata": {},
   "outputs": [
    {
     "name": "stdout",
     "output_type": "stream",
     "text": [
      "Spelling is hard\n"
     ]
    }
   ],
   "source": [
    "blob = TextBlob(\"Spellling is hardd\")\n",
    "blob_corrected  = blob.correct()\n",
    "print(blob_corrected.string)"
   ]
  },
  {
   "cell_type": "markdown",
   "id": "3760fffb",
   "metadata": {},
   "source": [
    "#### Tokenization\n",
    "Since TextBlob is built on top of NLTK, sometimes we must import resources from NLTK before using it. In this case, we must download a resource called “punkt.”"
   ]
  },
  {
   "cell_type": "code",
   "execution_count": 3,
   "id": "21f46673",
   "metadata": {},
   "outputs": [
    {
     "name": "stdout",
     "output_type": "stream",
     "text": [
      "['TextBlob', 'is', 'built', 'on', 'top', 'of', 'NLTK', 'It', 'makes', 'it', 'easy', 'to', 'perform', 'common', 'NLP', 'tasks']\n",
      "[Sentence(\"TextBlob is built on top of NLTK.\"), Sentence(\"It makes it easy to perform common NLP tasks.\")]\n"
     ]
    },
    {
     "name": "stderr",
     "output_type": "stream",
     "text": [
      "[nltk_data] Downloading package punkt to /home/deleidos/nltk_data...\n",
      "[nltk_data]   Package punkt is already up-to-date!\n"
     ]
    }
   ],
   "source": [
    "nltk.download('punkt')\n",
    "blob = TextBlob(\"TextBlob is built on top of NLTK. It makes it easy to perform common NLP tasks. \")\n",
    "print(blob.words)\n",
    "print(blob.sentences)"
   ]
  },
  {
   "cell_type": "markdown",
   "id": "2f3e7ebd",
   "metadata": {},
   "source": [
    "### WordNet\n",
    "Use a popular lexical database with many applications called WordNet with TextBlob. This allows you to find other words that are related to a given word. For example, you can use WordNet to produce synonyms for a word. Or, as shown below, produced definitions for a given word."
   ]
  },
  {
   "cell_type": "code",
   "execution_count": 4,
   "id": "5105a68c",
   "metadata": {},
   "outputs": [
    {
     "name": "stderr",
     "output_type": "stream",
     "text": [
      "[nltk_data] Downloading package wordnet to /home/deleidos/nltk_data...\n",
      "[nltk_data]   Package wordnet is already up-to-date!\n"
     ]
    },
    {
     "name": "stdout",
     "output_type": "stream",
     "text": [
      "['a creation (a new device or process) resulting from study and experimentation', 'the creation of something in the mind', 'the act of starting something for the first time; introducing something new']\n"
     ]
    }
   ],
   "source": [
    "nltk.download('wordnet')\n",
    "nlp_word = Word(\"innovation\")\n",
    "print(nlp_word.definitions)"
   ]
  },
  {
   "cell_type": "markdown",
   "id": "02ce91d0",
   "metadata": {},
   "source": [
    "### What terms are considered synonyms for innovation terms"
   ]
  },
  {
   "cell_type": "code",
   "execution_count": 5,
   "id": "1a656084",
   "metadata": {
    "scrolled": false
   },
   "outputs": [
    {
     "name": "stdout",
     "output_type": "stream",
     "text": [
      "[Synset('invention.n.02'), Synset('invention.n.01'), Synset('initiation.n.02')]\n",
      "[Synset('invention.n.01'), Synset('invention.n.02'), Synset('invention.n.03')]\n",
      "synonyms : ['invention', 'innovation', 'invention', 'innovation', 'excogitation', 'conception', 'design', 'initiation', 'founding', 'foundation', 'institution', 'origination', 'creation', 'innovation', 'introduction', 'instauration']\n",
      "antonyms : []\n",
      "synonyms : ['leading_edge']\n",
      "antonyms : []\n"
     ]
    }
   ],
   "source": [
    "syns = wordnet.synsets(\"innovation\")\n",
    "print(syns)\n",
    "syns = wordnet.synsets(\"invention\")\n",
    "print(syns)\n",
    "\n",
    "synonyms, antonyms = findSynonyms(\"innovation\")\n",
    "print (f\"synonyms : {synonyms}\")\n",
    "print (f\"antonyms : {antonyms}\")\n",
    "\n",
    "synonyms, antonyms = findSynonyms(\"leading_edge\")\n",
    "print (f\"synonyms : {synonyms}\")\n",
    "print (f\"antonyms : {antonyms}\")"
   ]
  },
  {
   "cell_type": "code",
   "execution_count": 8,
   "id": "179cd879",
   "metadata": {},
   "outputs": [
    {
     "name": "stdout",
     "output_type": "stream",
     "text": [
      "(['person', 'individual', 'someone', 'somebody', 'mortal', 'soul', 'person', 'person'], [])\n"
     ]
    }
   ],
   "source": [
    "print(findSynonyms(\"person\"))"
   ]
  },
  {
   "cell_type": "code",
   "execution_count": null,
   "id": "52273563",
   "metadata": {},
   "outputs": [],
   "source": []
  }
 ],
 "metadata": {
  "kernelspec": {
   "display_name": "Python 3 (ipykernel)",
   "language": "python",
   "name": "python3"
  },
  "language_info": {
   "codemirror_mode": {
    "name": "ipython",
    "version": 3
   },
   "file_extension": ".py",
   "mimetype": "text/x-python",
   "name": "python",
   "nbconvert_exporter": "python",
   "pygments_lexer": "ipython3",
   "version": "3.8.8"
  }
 },
 "nbformat": 4,
 "nbformat_minor": 5
}
