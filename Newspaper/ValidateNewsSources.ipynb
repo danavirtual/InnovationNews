{
 "cells": [
  {
   "cell_type": "code",
   "execution_count": 1,
   "id": "594a6dc2",
   "metadata": {},
   "outputs": [],
   "source": [
    "import os, csv\n",
    "from csv import writer, DictWriter\n",
    "from os import listdir\n",
    "import os.path as osp\n",
    "from os.path import isfile, isdir, join\n",
    "\n",
    "import newspaper\n",
    "from newspaper import Config, Article, Source\n",
    "from newspaper.article import ArticleException as aeN\n",
    "import time\n",
    "import datetime\n",
    "from datetime import datetime as DT\n",
    "import json\n",
    "# setup widget import\n",
    "from ipywidgets import widgets\n",
    "from IPython.display import display\n",
    "\n",
    "import nltk\n",
    "# nltk.download('punkt')\n",
    "# Locals \n",
    "from utils import *"
   ]
  },
  {
   "cell_type": "code",
   "execution_count": 2,
   "id": "dbdbfde7",
   "metadata": {},
   "outputs": [
    {
     "name": "stdout",
     "output_type": "stream",
     "text": [
      " Using JSON from popular-with-articles3.json\n",
      "57\n"
     ]
    }
   ],
   "source": [
    "popsdict = fetchPopularList(override='popular-with-articles3.json', witharticles=True)\n",
    "pops = popsdict['Popular_Articles']\n",
    "print (len(pops))"
   ]
  },
  {
   "cell_type": "code",
   "execution_count": 3,
   "id": "38d14dc0",
   "metadata": {},
   "outputs": [],
   "source": [
    "def validateSources(pops):\n",
    "    titles = []\n",
    "    progress_bar = widgets.IntProgress(min=0, max=len(pops), description=\"Extracting\")\n",
    "    display(progress_bar)\n",
    "\n",
    "    for url in pops:\n",
    "        print(validateSource(url))\n",
    "        progress_bar.value += 1\n",
    "    \n",
    "    progress_bar.bar_style = \"success\"\n",
    "    progress_bar.close()\n"
   ]
  },
  {
   "cell_type": "code",
   "execution_count": 4,
   "id": "339cc552",
   "metadata": {
    "scrolled": false
   },
   "outputs": [
    {
     "data": {
      "application/vnd.jupyter.widget-view+json": {
       "model_id": "",
       "version_major": 2,
       "version_minor": 0
      },
      "text/plain": [
       "IntProgress(value=0, description='Extracting', max=57)"
      ]
     },
     "metadata": {},
     "output_type": "display_data"
    },
    {
     "name": "stdout",
     "output_type": "stream",
     "text": [
      "News URL: https://abcnews.go.com/Technology Success 200. Articles available: 195\n",
      "News URL: https://ai.googleblog.com/ Success 200. Articles available: 11\n",
      "News URL: https://arstechnica.com/gadgets/ Success 200. Articles available: 457\n",
      "News URL: https://blogs.cisco.com/innovation Success 200. Articles available: 24\n",
      "News URL: https://www.cnn.com/specials/tech/innovate Success 200. Articles available: 732\n",
      "News URL: https://www.discovermagazine.com/technology Success 200. Articles available: 89\n",
      "News URL: https://www.discovery.com/technology Success 200. Articles available: 61\n",
      "News URL: https://federalnewsnetwork.com/category/technology-main/cybersecurity/ Success 200. Articles available: 51\n",
      "News URL: https://federalnewsnetwork.com/category/technology-main/cloud-computing/ Success 200. Articles available: 51\n",
      "News URL: https://federalnewsnetwork.com/category/technology-main/it-modernization/ Success 200. Articles available: 51\n",
      "News URL: https://governmenttechnologyinsider.com/category/digital-transformation/ Success 200. Articles available: 34\n",
      "News URL: https://insideoutside.io/innovation-newsletter/ Success 200. Articles available: 4\n",
      "News URL: https://interestingengineering.com/innovation Success 200. Articles available: 6\n",
      "News URL: https://mashable.com Success 200. Articles available: 168\n",
      "News URL: https://about.fb.com/news/ Success 200. Articles available: 23\n",
      "News URL: https://research.ibm.com/blog Success 200. Articles available: 11\n",
      "News URL: https://spectrum.ieee.org/search/?q=Innovation Success 200. Articles available: 60\n",
      "News URL: https://www.techdigest.tv/category/internet-of-thi Success 200. Articles available: 474\n",
      "News URL: https://www.techdigest.tv/category/drones Success 200. Articles available: 474\n",
      "News URL: https://www.techdigest.tv/category/augmented-reali Success 200. Articles available: 474\n",
      "News URL: https://techreport.com/category/innovation/ Success 200. Articles available: 47\n",
      "News URL: https://www.thedailybeast.com/category/innovation Success 200. Articles available: 60\n",
      "News URL: https://venturebeat.com/category/cloud/ Success 200. Articles available: 181\n",
      "News URL: https://venturebeat.com/tag/machine-learning/ Success 200. Articles available: 181\n",
      "News URL: https://venturebeat.com/category/ai/ Success 200. Articles available: 181\n",
      "News URL: https://www.washingtonpost.com/technology/innovations/?itid=nb_technology_innovations Success 200. Articles available: 164\n",
      "News URL: https://washingtontimes.com Success 200. Articles available: 551\n",
      "News URL: https://www.aljazeera.com Success 200. Articles available: 159\n",
      "News URL: https://www.apple.com Success 200. Articles available: 37\n",
      "News URL: https://www.businessinsider.com Success 200. Articles available: 814\n",
      "News URL: https://www.cbsnews.com Success 200. Articles available: 251\n",
      "News URL: https://www.cnbc.com Success 200. Articles available: 1218\n",
      "News URL: https://www.digitaltrends.com Success 200. Articles available: 68\n",
      "News URL: https://www.economist.com Success 200. Articles available: 304\n",
      "News URL: https://www.engadget.com Success 200. Articles available: 163\n",
      "News URL: https://www.fastcompany.com FAIL! May not be a valid site. or other error == 403\n",
      "News URL: https://www.foxbusiness.com Success 200. Articles available: 221\n",
      "News URL: https://www.freecodecamp.org/news/ Success 200. Articles available: 102\n",
      "News URL: https://www.ft.com Success 200. Articles available: 130\n",
      "News URL: https://www.govpilot.com/blog Success 200. Articles available: 9\n",
      "News URL: https://www.health.com Success 200. Articles available: 14\n",
      "News URL: https://www.ibm.com/blogs/blockchain/ Success 200. Articles available: 9\n",
      "News URL: https://www.ideaconnection.com/innovation-articles/ Success 200. Articles available: 99\n",
      "News URL: https://www.macworld.com Success 200. Articles available: 39\n",
      "News URL: https://www.marketwatch.com Success 200. Articles available: 226\n",
      "News URL: https://www.morningstar.com Success 200. Articles available: 180\n",
      "News URL: https://www.newscientist.com Success 200. Articles available: 118\n",
      "News URL: https://www.nextgov.com/ Success 200. Articles available: 148\n",
      "News URL: https://www.npr.org Success 200. Articles available: 134\n",
      "News URL: https://www.reuters.com Success 200. Articles available: 182\n",
      "News URL: https://www.technologyreview.com Success 200. Articles available: 30\n",
      "News URL: https://www.techradar.com Success 200. Articles available: 64\n",
      "News URL: https://www.techrepublic.com/ Success 200. Articles available: 64\n",
      "News URL: https://www.techspot.com Success 200. Articles available: 302\n",
      "News URL: https://www.theverge.com Success 200. Articles available: 20\n",
      "News URL: https://www.wired.com Success 200. Articles available: 288\n",
      "News URL: https://www.lastweekinaws.com/blog/ FAIL! May not be a valid site. or other error == 403\n",
      "PARTIALLY DONE!\n",
      "\n"
     ]
    },
    {
     "data": {
      "application/vnd.jupyter.widget-view+json": {
       "model_id": "",
       "version_major": 2,
       "version_minor": 0
      },
      "text/plain": [
       "IntProgress(value=0, description='Extracting', max=0)"
      ]
     },
     "metadata": {},
     "output_type": "display_data"
    },
    {
     "name": "stdout",
     "output_type": "stream",
     "text": [
      "DONE DONE!\n"
     ]
    }
   ],
   "source": [
    "validateSources(pops[0:100])\n",
    "print ('PARTIALLY DONE!', end=\"\\n\\n\")\n",
    "\n",
    "validateSources(pops[100:])\n",
    "print ('DONE DONE!')\n"
   ]
  },
  {
   "cell_type": "code",
   "execution_count": 5,
   "id": "99e9c5ae",
   "metadata": {},
   "outputs": [
    {
     "name": "stdout",
     "output_type": "stream",
     "text": [
      "News URL: https://money.cnn.com/2016/09/23/news/economy/white-working-class-economy/index.html Success 200. Articles available: 11\n"
     ]
    }
   ],
   "source": [
    "### test a random URL\n",
    "\n",
    "# url = \"https://www.fda.gov/about-fda/innovation-fda/innovation-news\"\n",
    "# url = \"https://www.irs.gov/a-closer-look\"\n",
    "# url = \"https://www.futurist.com/blog\"\n",
    "# url = \"https://ourpublicservice.org/our-solutions/innovation-and-technology-modernization/innovation/\"\n",
    "# url = \"https://ourpublicservice.org/\"\n",
    "# url = \"https://medium.com/\"\n",
    "# url = \"https://federalnewsnetwork.com\"\n",
    "# print(validateSource(url))\n",
    "# url = \"https://governmentciomedia.com\"\n",
    "# print(validateSource(url))\n",
    "# url = \"https://fcw.com\"\n",
    "# print(validateSource(url))\n",
    "# url = \"https://nextgov.com\"\n",
    "# print(validateSource(url))\n",
    "# url = \"https://www.lastweekinaws.com/blog/?_categories=aws\"\n",
    "url = \"https://money.cnn.com/2016/09/23/news/economy/white-working-class-economy/index.html\"\n",
    "print(validateSource(url))"
   ]
  },
  {
   "cell_type": "code",
   "execution_count": null,
   "id": "a691bb33",
   "metadata": {},
   "outputs": [],
   "source": [
    "import random\n",
    "randset = random.sample(pops, 10) "
   ]
  },
  {
   "cell_type": "code",
   "execution_count": null,
   "id": "d72010da",
   "metadata": {},
   "outputs": [],
   "source": [
    "# additional 'interesting validations'\n",
    "## Check a specific site versus keywords\n"
   ]
  },
  {
   "cell_type": "code",
   "execution_count": 10,
   "id": "70a88505",
   "metadata": {},
   "outputs": [
    {
     "name": "stdout",
     "output_type": "stream",
     "text": [
      "article.url: https://money.cnn.com/2016/09/23/news/economy/white-working-class-economy/index.html \n",
      "publish date: 2016-09-23 00:00:00\n",
      "title: The economy stinks, but I'm doing OK, say working class whites\n",
      "summary: Those are some of the reasons why working class whites feel the economy is headed in the wrong direction.\n",
      "Nearly two-thirds of working class whites say they are satisfied with their own personal financial situation.\n",
      "Related: Working class whites blame Washington, but still want more government helpHis four daughters will have to deal with all of this.\n",
      "Working class whites were less likely to get a boost in pay than their college educated peers.\n",
      "White, Working Class & Worried is a CNN partnership with the Kaiser Family Foundation - an extensive survey of white, working class Americans and voters who form a backbone of the support for Donald Trump.\n",
      "keywords: ['class', 'whites', 'economic', 'feel', 'security', 'working', 'ok', 'im', 'economy', 'doing', 'say', 'state', 'stinks', 'white', 'survey']\n",
      "top_image: https://i2.cdn.turner.com/money/dam/assets/160921150447-white-working-class-economy-780x439.jpg\n"
     ]
    }
   ],
   "source": [
    "# site = 'https://www.independent.co.uk/arts-entertainment/music/news/gulsen-bayraktar-colakoglu-arrested-turkey-b2153305.html'\n",
    "site = \"https://money.cnn.com/2016/09/23/news/economy/white-working-class-economy/index.html\"\n",
    "title = \"\"\n",
    "summary = \"\"\n",
    "keywords = []\n",
    "top_image = \"\"\n",
    "authors = []\n",
    "url = \"\"\n",
    "publish_date = \"\"\n",
    "an_article = Article(url=site)\n",
    "an_article.download()\n",
    "an_article.throw_if_not_downloaded_verbose()\n",
    "an_article.parse()\n",
    "an_article.nlp()\n",
    "print(f\"article.url: {site} \")\n",
    "print(f\"publish date: {an_article.publish_date}\")\n",
    "\n",
    "title = an_article.title.strip()\n",
    "summary = an_article.summary\n",
    "keywords = an_article.keywords\n",
    "authors = an_article.authors\n",
    "top_image = an_article.top_image\n",
    "\n",
    "print(f\"title: {title}\")\n",
    "print(f\"summary: {summary}\")\n",
    "print(f\"keywords: {keywords}\")\n",
    "print(f\"top_image: {top_image}\")\n"
   ]
  },
  {
   "cell_type": "code",
   "execution_count": null,
   "id": "f0f0f33c",
   "metadata": {},
   "outputs": [],
   "source": [
    "TOPICS_TABLE_NAME  = \"InnovationBlog_Article_Topics\"\n",
    "ARTICLES_TABLE_NAME= \"innovation-articles\"\n",
    "from APIutils import *\n",
    "\n",
    "# can we open a connection to the data base?\n",
    "ddb = getDBConnection()\n",
    "\n",
    "## test evaluate versus terms\n",
    "cumulativestrength = 0\n",
    "for keyword in keywords:\n",
    "    strength = evaluateAgainstKeyTerms(keyword)\n",
    "    if strength:\n",
    "        print(f\"term: {keyword} term strength: {strength}\")\n",
    "        cumulativestrength += 1\n",
    "print(f\"Title     : {title} Cumulative Strength: {cumulativestrength}\" )\n",
    "\n",
    "if cumulativestrength:\n",
    "    # it is possible that other terms in keywords might be 'undiscovered' indicative words as well\n",
    "    print(f\"Possible other keywords that might controbute?: {keywords}\" )\n"
   ]
  },
  {
   "cell_type": "code",
   "execution_count": null,
   "id": "76f1a0ff",
   "metadata": {},
   "outputs": [],
   "source": []
  }
 ],
 "metadata": {
  "kernelspec": {
   "display_name": "Python 3 (ipykernel)",
   "language": "python",
   "name": "python3"
  },
  "language_info": {
   "codemirror_mode": {
    "name": "ipython",
    "version": 3
   },
   "file_extension": ".py",
   "mimetype": "text/x-python",
   "name": "python",
   "nbconvert_exporter": "python",
   "pygments_lexer": "ipython3",
   "version": "3.8.8"
  }
 },
 "nbformat": 4,
 "nbformat_minor": 5
}
